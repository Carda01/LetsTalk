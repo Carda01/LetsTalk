{
 "cells": [
  {
   "cell_type": "code",
   "id": "initial_id",
   "metadata": {
    "collapsed": true,
    "ExecuteTime": {
     "end_time": "2025-03-24T14:17:48.776289Z",
     "start_time": "2025-03-24T14:17:48.532443Z"
    }
   },
   "source": [
    "import pyspark\n",
    "from delta import *\n",
    "\n",
    "builder = pyspark.sql.SparkSession.builder.appName(\"MyApp\") \\\n",
    "    .config(\"spark.sql.extensions\", \"io.delta.sql.DeltaSparkSessionExtension\") \\\n",
    "    .config(\"spark.sql.catalog.spark_catalog\", \"org.apache.spark.sql.delta.catalog.DeltaCatalog\")\n",
    "\n",
    "spark = configure_spark_with_delta_pip(builder).getOrCreate()\n"
   ],
   "outputs": [],
   "execution_count": 2
  },
  {
   "metadata": {
    "ExecuteTime": {
     "end_time": "2025-03-23T16:37:58.448015Z",
     "start_time": "2025-03-23T16:37:58.359473Z"
    }
   },
   "cell_type": "code",
   "source": [
    "data = spark.range(0, 5)\n",
    "\n",
    "data.write.format(\"delta\").save(\"data/delta-table\")"
   ],
   "id": "d1d6079e5bff62d3",
   "outputs": [
    {
     "ename": "AnalysisException",
     "evalue": "[DELTA_PATH_EXISTS] Cannot write to already existent path file:/Users/alfio/projects/upc/BDMP1/data/delta-table without setting OVERWRITE = 'true'.",
     "output_type": "error",
     "traceback": [
      "\u001B[0;31m---------------------------------------------------------------------------\u001B[0m",
      "\u001B[0;31mAnalysisException\u001B[0m                         Traceback (most recent call last)",
      "Cell \u001B[0;32mIn[22], line 3\u001B[0m\n\u001B[1;32m      1\u001B[0m data \u001B[38;5;241m=\u001B[39m spark\u001B[38;5;241m.\u001B[39mrange(\u001B[38;5;241m0\u001B[39m, \u001B[38;5;241m5\u001B[39m)\n\u001B[0;32m----> 3\u001B[0m \u001B[43mdata\u001B[49m\u001B[38;5;241;43m.\u001B[39;49m\u001B[43mwrite\u001B[49m\u001B[38;5;241;43m.\u001B[39;49m\u001B[43mformat\u001B[49m\u001B[43m(\u001B[49m\u001B[38;5;124;43m\"\u001B[39;49m\u001B[38;5;124;43mdelta\u001B[39;49m\u001B[38;5;124;43m\"\u001B[39;49m\u001B[43m)\u001B[49m\u001B[38;5;241;43m.\u001B[39;49m\u001B[43msave\u001B[49m\u001B[43m(\u001B[49m\u001B[38;5;124;43m\"\u001B[39;49m\u001B[38;5;124;43mdata/delta-table\u001B[39;49m\u001B[38;5;124;43m\"\u001B[39;49m\u001B[43m)\u001B[49m\n",
      "File \u001B[0;32m~/python_venv/general/lib/python3.13/site-packages/pyspark/sql/readwriter.py:1463\u001B[0m, in \u001B[0;36mDataFrameWriter.save\u001B[0;34m(self, path, format, mode, partitionBy, **options)\u001B[0m\n\u001B[1;32m   1461\u001B[0m     \u001B[38;5;28mself\u001B[39m\u001B[38;5;241m.\u001B[39m_jwrite\u001B[38;5;241m.\u001B[39msave()\n\u001B[1;32m   1462\u001B[0m \u001B[38;5;28;01melse\u001B[39;00m:\n\u001B[0;32m-> 1463\u001B[0m     \u001B[38;5;28;43mself\u001B[39;49m\u001B[38;5;241;43m.\u001B[39;49m\u001B[43m_jwrite\u001B[49m\u001B[38;5;241;43m.\u001B[39;49m\u001B[43msave\u001B[49m\u001B[43m(\u001B[49m\u001B[43mpath\u001B[49m\u001B[43m)\u001B[49m\n",
      "File \u001B[0;32m~/python_venv/general/lib/python3.13/site-packages/py4j/java_gateway.py:1322\u001B[0m, in \u001B[0;36mJavaMember.__call__\u001B[0;34m(self, *args)\u001B[0m\n\u001B[1;32m   1316\u001B[0m command \u001B[38;5;241m=\u001B[39m proto\u001B[38;5;241m.\u001B[39mCALL_COMMAND_NAME \u001B[38;5;241m+\u001B[39m\\\n\u001B[1;32m   1317\u001B[0m     \u001B[38;5;28mself\u001B[39m\u001B[38;5;241m.\u001B[39mcommand_header \u001B[38;5;241m+\u001B[39m\\\n\u001B[1;32m   1318\u001B[0m     args_command \u001B[38;5;241m+\u001B[39m\\\n\u001B[1;32m   1319\u001B[0m     proto\u001B[38;5;241m.\u001B[39mEND_COMMAND_PART\n\u001B[1;32m   1321\u001B[0m answer \u001B[38;5;241m=\u001B[39m \u001B[38;5;28mself\u001B[39m\u001B[38;5;241m.\u001B[39mgateway_client\u001B[38;5;241m.\u001B[39msend_command(command)\n\u001B[0;32m-> 1322\u001B[0m return_value \u001B[38;5;241m=\u001B[39m \u001B[43mget_return_value\u001B[49m\u001B[43m(\u001B[49m\n\u001B[1;32m   1323\u001B[0m \u001B[43m    \u001B[49m\u001B[43manswer\u001B[49m\u001B[43m,\u001B[49m\u001B[43m \u001B[49m\u001B[38;5;28;43mself\u001B[39;49m\u001B[38;5;241;43m.\u001B[39;49m\u001B[43mgateway_client\u001B[49m\u001B[43m,\u001B[49m\u001B[43m \u001B[49m\u001B[38;5;28;43mself\u001B[39;49m\u001B[38;5;241;43m.\u001B[39;49m\u001B[43mtarget_id\u001B[49m\u001B[43m,\u001B[49m\u001B[43m \u001B[49m\u001B[38;5;28;43mself\u001B[39;49m\u001B[38;5;241;43m.\u001B[39;49m\u001B[43mname\u001B[49m\u001B[43m)\u001B[49m\n\u001B[1;32m   1325\u001B[0m \u001B[38;5;28;01mfor\u001B[39;00m temp_arg \u001B[38;5;129;01min\u001B[39;00m temp_args:\n\u001B[1;32m   1326\u001B[0m     \u001B[38;5;28;01mif\u001B[39;00m \u001B[38;5;28mhasattr\u001B[39m(temp_arg, \u001B[38;5;124m\"\u001B[39m\u001B[38;5;124m_detach\u001B[39m\u001B[38;5;124m\"\u001B[39m):\n",
      "File \u001B[0;32m~/python_venv/general/lib/python3.13/site-packages/pyspark/errors/exceptions/captured.py:185\u001B[0m, in \u001B[0;36mcapture_sql_exception.<locals>.deco\u001B[0;34m(*a, **kw)\u001B[0m\n\u001B[1;32m    181\u001B[0m converted \u001B[38;5;241m=\u001B[39m convert_exception(e\u001B[38;5;241m.\u001B[39mjava_exception)\n\u001B[1;32m    182\u001B[0m \u001B[38;5;28;01mif\u001B[39;00m \u001B[38;5;129;01mnot\u001B[39;00m \u001B[38;5;28misinstance\u001B[39m(converted, UnknownException):\n\u001B[1;32m    183\u001B[0m     \u001B[38;5;66;03m# Hide where the exception came from that shows a non-Pythonic\u001B[39;00m\n\u001B[1;32m    184\u001B[0m     \u001B[38;5;66;03m# JVM exception message.\u001B[39;00m\n\u001B[0;32m--> 185\u001B[0m     \u001B[38;5;28;01mraise\u001B[39;00m converted \u001B[38;5;28;01mfrom\u001B[39;00m\u001B[38;5;250m \u001B[39m\u001B[38;5;28;01mNone\u001B[39;00m\n\u001B[1;32m    186\u001B[0m \u001B[38;5;28;01melse\u001B[39;00m:\n\u001B[1;32m    187\u001B[0m     \u001B[38;5;28;01mraise\u001B[39;00m\n",
      "\u001B[0;31mAnalysisException\u001B[0m: [DELTA_PATH_EXISTS] Cannot write to already existent path file:/Users/alfio/projects/upc/BDMP1/data/delta-table without setting OVERWRITE = 'true'."
     ]
    }
   ],
   "execution_count": 22
  },
  {
   "metadata": {
    "ExecuteTime": {
     "end_time": "2025-03-24T14:19:16.401970Z",
     "start_time": "2025-03-24T14:19:16.393261Z"
    }
   },
   "cell_type": "code",
   "source": [
    "df = spark.read.format(\"delta\").load(\"data/delta-table\")\n",
    "df.show()"
   ],
   "id": "b83a0e10fbca9033",
   "outputs": [],
   "execution_count": 6
  },
  {
   "metadata": {
    "ExecuteTime": {
     "end_time": "2025-03-24T14:33:30.463360Z",
     "start_time": "2025-03-24T14:33:30.411686Z"
    }
   },
   "cell_type": "code",
   "source": "data = spark.read.option(\"multiline\",\"true\").json('data.json')",
   "id": "8de9921db6b8a92d",
   "outputs": [],
   "execution_count": 31
  },
  {
   "metadata": {
    "ExecuteTime": {
     "end_time": "2025-03-24T14:25:15.148068Z",
     "start_time": "2025-03-24T14:25:15.099591Z"
    }
   },
   "cell_type": "code",
   "source": "data.select(\"articles\").show()",
   "id": "6dd1926c4768f4fb",
   "outputs": [
    {
     "name": "stdout",
     "output_type": "stream",
     "text": [
      "+--------------------+\n",
      "|            articles|\n",
      "+--------------------+\n",
      "|[{Eric Todisco, A...|\n",
      "+--------------------+\n",
      "\n"
     ]
    }
   ],
   "execution_count": 23
  },
  {
   "metadata": {
    "ExecuteTime": {
     "end_time": "2025-03-24T14:21:34.186299Z",
     "start_time": "2025-03-24T14:21:33.418932Z"
    }
   },
   "cell_type": "code",
   "source": [
    "data.write.format(\"delta\").save(\"data/delta-json\")\n",
    "deltaT = DeltaTable.forPath(spark, \"data/delta-json\")\n"
   ],
   "id": "70dc1c92c4dae47",
   "outputs": [],
   "execution_count": 11
  },
  {
   "metadata": {
    "ExecuteTime": {
     "end_time": "2025-03-24T14:24:08.307830Z",
     "start_time": "2025-03-24T14:24:08.302372Z"
    }
   },
   "cell_type": "code",
   "source": "",
   "id": "ef5654ea4472392f",
   "outputs": [
    {
     "ename": "TypeError",
     "evalue": "'DeltaTable' object is not subscriptable",
     "output_type": "error",
     "traceback": [
      "\u001B[0;31m---------------------------------------------------------------------------\u001B[0m",
      "\u001B[0;31mTypeError\u001B[0m                                 Traceback (most recent call last)",
      "Cell \u001B[0;32mIn[17], line 1\u001B[0m\n\u001B[0;32m----> 1\u001B[0m \u001B[43mdeltaT\u001B[49m\u001B[43m[\u001B[49m\u001B[38;5;124;43m'\u001B[39;49m\u001B[38;5;124;43marticles\u001B[39;49m\u001B[38;5;124;43m'\u001B[39;49m\u001B[43m]\u001B[49m\n",
      "\u001B[0;31mTypeError\u001B[0m: 'DeltaTable' object is not subscriptable"
     ]
    }
   ],
   "execution_count": 17
  },
  {
   "metadata": {
    "ExecuteTime": {
     "end_time": "2025-03-23T17:20:20.475055Z",
     "start_time": "2025-03-23T17:20:20.009611Z"
    }
   },
   "cell_type": "code",
   "source": [
    "data = spark.range(10, 20)\n",
    "data.write.format(\"delta\").mode(\"overwrite\").save(\"data/delta-table\")"
   ],
   "id": "eaa90167529d62e4",
   "outputs": [],
   "execution_count": 55
  },
  {
   "metadata": {
    "ExecuteTime": {
     "end_time": "2025-03-23T17:20:39.284670Z",
     "start_time": "2025-03-23T17:20:37.295892Z"
    }
   },
   "cell_type": "code",
   "source": [
    "from delta.tables import *\n",
    "from pyspark.sql.functions import *\n",
    "\n",
    "deltaTable = DeltaTable.forPath(spark, \"data/delta-table\")\n",
    "\n",
    "# Update every even value by adding 100 to it\n",
    "deltaTable.update(\n",
    "  condition = expr(\"id % 2 == 0\"),\n",
    "  set = { \"id\": expr(\"id + 100\") })\n",
    "\n",
    "# Delete every even value\n",
    "deltaTable.delete(condition = expr(\"id % 2 == 0\"))\n",
    "\n",
    "# Upsert (merge) new data\n",
    "newData = spark.range(0, 20)\n",
    "\n",
    "deltaTable.alias(\"oldData\") \\\n",
    "  .merge(\n",
    "    newData.alias(\"newData\"),\n",
    "    \"oldData.id = newData.id\") \\\n",
    "  .whenMatchedUpdate(set = { \"id\": col(\"newData.id\") }) \\\n",
    "  .whenNotMatchedInsert(values = { \"id\": col(\"newData.id\") }) \\\n",
    "  .execute()\n",
    "\n",
    "deltaTable.toDF().show()\n"
   ],
   "id": "5904c01d958d847c",
   "outputs": [
    {
     "name": "stdout",
     "output_type": "stream",
     "text": [
      "+---+\n",
      "| id|\n",
      "+---+\n",
      "|  0|\n",
      "|  1|\n",
      "|  2|\n",
      "|  3|\n",
      "|  4|\n",
      "|  5|\n",
      "|  6|\n",
      "|  7|\n",
      "|  8|\n",
      "|  9|\n",
      "| 10|\n",
      "| 11|\n",
      "| 12|\n",
      "| 13|\n",
      "| 14|\n",
      "| 15|\n",
      "| 16|\n",
      "| 17|\n",
      "| 18|\n",
      "| 19|\n",
      "+---+\n",
      "\n"
     ]
    }
   ],
   "execution_count": 56
  },
  {
   "metadata": {
    "ExecuteTime": {
     "end_time": "2025-03-23T17:21:11.877822Z",
     "start_time": "2025-03-23T17:21:11.799712Z"
    }
   },
   "cell_type": "code",
   "source": [
    "df = spark.read.format(\"delta\") \\\n",
    "  .option(\"versionAsOf\", 3)\\\n",
    "  .load(\"data/delta-table\")\n",
    "\n",
    "df.show()"
   ],
   "id": "90124d59764e30a9",
   "outputs": [
    {
     "name": "stdout",
     "output_type": "stream",
     "text": [
      "+---+\n",
      "| id|\n",
      "+---+\n",
      "|  0|\n",
      "|  1|\n",
      "|  2|\n",
      "|  3|\n",
      "|  4|\n",
      "|  5|\n",
      "|  6|\n",
      "|  7|\n",
      "|  8|\n",
      "|  9|\n",
      "| 10|\n",
      "| 11|\n",
      "| 12|\n",
      "| 13|\n",
      "| 14|\n",
      "| 15|\n",
      "| 16|\n",
      "| 17|\n",
      "| 18|\n",
      "| 19|\n",
      "+---+\n",
      "\n"
     ]
    }
   ],
   "execution_count": 61
  },
  {
   "metadata": {
    "ExecuteTime": {
     "end_time": "2025-03-23T16:42:55.617342Z",
     "start_time": "2025-03-23T16:42:55.603456Z"
    }
   },
   "cell_type": "code",
   "source": [
    "streamingDf = spark.readStream.format(\"rate\").load()\n",
    "\n",
    "stream = streamingDf \\\n",
    "  .selectExpr(\"value as id\") \\\n",
    "  .writeStream.format(\"delta\") \\\n",
    "  .option(\"checkpointLocation\", \"data/checkpoint\") \\\n",
    "  .start(\"/data/delta-table\")\n"
   ],
   "id": "7377da344de58c16",
   "outputs": [
    {
     "name": "stderr",
     "output_type": "stream",
     "text": [
      "25/03/23 17:42:55 WARN ResolveWriteToStream: spark.sql.adaptive.enabled is not supported in streaming DataFrames/Datasets and will be disabled.\n"
     ]
    }
   ],
   "execution_count": 40
  },
  {
   "metadata": {
    "ExecuteTime": {
     "end_time": "2025-03-23T16:43:58.235914Z",
     "start_time": "2025-03-23T16:43:58.233275Z"
    }
   },
   "cell_type": "code",
   "source": "stream.stop()",
   "id": "91f4d056e555da58",
   "outputs": [],
   "execution_count": 45
  },
  {
   "metadata": {
    "ExecuteTime": {
     "end_time": "2025-03-23T16:45:14.538861Z",
     "start_time": "2025-03-23T16:45:14.487199Z"
    }
   },
   "cell_type": "code",
   "source": [
    "data = DeltaTable.forPath(spark, \"data/delta-table\").toDF()\n",
    "\n",
    "data."
   ],
   "id": "fb9e6688af843e7b",
   "outputs": [
    {
     "data": {
      "text/plain": [
       "60"
      ]
     },
     "execution_count": 51,
     "metadata": {},
     "output_type": "execute_result"
    }
   ],
   "execution_count": 51
  },
  {
   "metadata": {
    "ExecuteTime": {
     "end_time": "2025-03-23T17:04:09.699441Z",
     "start_time": "2025-03-23T17:04:09.253502Z"
    }
   },
   "cell_type": "code",
   "source": [
    "df = spark.read.format(\"delta\").load(\"data/delta_tables/api_data\")\n",
    "df.show()"
   ],
   "id": "8a84e7601bf5a1a5",
   "outputs": [
    {
     "name": "stdout",
     "output_type": "stream",
     "text": [
      "+----------+---+---------+-----+\n",
      "|      date| id|     name|value|\n",
      "+----------+---+---------+-----+\n",
      "|2025-03-23|  1|Product A|  100|\n",
      "|2025-03-23|  2|Product B|  200|\n",
      "|2025-03-23|  3|Product C|  300|\n",
      "+----------+---+---------+-----+\n",
      "\n"
     ]
    }
   ],
   "execution_count": 54
  },
  {
   "metadata": {
    "ExecuteTime": {
     "end_time": "2025-03-24T14:46:07.262823Z",
     "start_time": "2025-03-24T14:46:07.215081Z"
    }
   },
   "cell_type": "code",
   "source": [
    "from newsapi import NewsApiClient\n",
    "from dotenv import load_dotenv\n",
    "import os\n",
    "load_dotenv()\n",
    "api_key = os.getenv(\"NEWS_API\")\n",
    "newsapi = NewsApiClient(api_key)"
   ],
   "id": "cde61a99e49c416a",
   "outputs": [],
   "execution_count": 36
  },
  {
   "metadata": {
    "ExecuteTime": {
     "end_time": "2025-03-24T14:48:37.981706Z",
     "start_time": "2025-03-24T14:48:34.137832Z"
    }
   },
   "cell_type": "code",
   "source": [
    "CATEGORIES = ['entertainment', 'technology', 'sports']\n",
    "for category in CATEGORIES:\n",
    "    print(category)\n",
    "    top_headlines = newsapi.get_top_headlines(page_size=100,\n",
    "                                              category=category,\n",
    "                                              language='en')\n",
    "    if top_headlines['status'] == 'ok' and top_headlines['totalResults'] > 0:\n",
    "        spark.createDataFrame(top_headlines['articles']).write.format(\"delta\").save(f\"data/delta-{category}\")"
   ],
   "id": "87cf8fbecee328aa",
   "outputs": [
    {
     "name": "stdout",
     "output_type": "stream",
     "text": [
      "entertainment\n",
      "technology\n",
      "sports\n"
     ]
    },
    {
     "name": "stderr",
     "output_type": "stream",
     "text": [
      "25/03/24 15:48:37 WARN MemoryManager: Total allocation exceeds 95.00% (1,020,054,720 bytes) of heap memory\n",
      "Scaling row group sizes to 95.00% for 8 writers\n",
      "25/03/24 15:48:37 WARN MemoryManager: Total allocation exceeds 95.00% (1,020,054,720 bytes) of heap memory\n",
      "Scaling row group sizes to 84.44% for 9 writers\n",
      "25/03/24 15:48:37 WARN MemoryManager: Total allocation exceeds 95.00% (1,020,054,720 bytes) of heap memory\n",
      "Scaling row group sizes to 95.00% for 8 writers\n"
     ]
    }
   ],
   "execution_count": 39
  },
  {
   "metadata": {
    "ExecuteTime": {
     "end_time": "2025-03-24T14:12:44.215975Z",
     "start_time": "2025-03-24T14:12:44.212915Z"
    }
   },
   "cell_type": "code",
   "source": [
    "import json\n",
    "with open('data.json', 'w') as f:\n",
    "    json.dump(top_headlines, f)"
   ],
   "id": "60012df5d7596f7",
   "outputs": [],
   "execution_count": 81
  },
  {
   "metadata": {
    "ExecuteTime": {
     "end_time": "2025-03-24T18:41:33.695147Z",
     "start_time": "2025-03-24T18:41:33.134378Z"
    }
   },
   "cell_type": "code",
   "source": [
    "deltaT = DeltaTable.forPath(spark, \"data/delta-sports\")\n",
    "deltaT.toDF().sort('publishedAt', ascending=False).show()"
   ],
   "id": "4a0498d0cde4c282",
   "outputs": [
    {
     "name": "stdout",
     "output_type": "stream",
     "text": [
      "+--------------------+--------------------+--------------------+--------------------+--------------------+--------------------+--------------------+--------------------+\n",
      "|              author|             content|         description|         publishedAt|              source|               title|                 url|          urlToImage|\n",
      "+--------------------+--------------------+--------------------+--------------------+--------------------+--------------------+--------------------+--------------------+\n",
      "|           Ben Morse|Oscar Piastri won...|Oscar Piastri won...|2025-03-23T13:17:00Z|{name -> CNN, id ...|Oscar Piastri win...|https://www.cnn.c...|https://media.cnn...|\n",
      "|    Harrison Goodman|A look at the key...|A look at the key...|2025-03-23T13:06:00Z|{name -> New York...|Breaking down bes...|https://nypost.co...|https://nypost.co...|\n",
      "|         Steve Serby|                NULL|RJ Luis Jr. showe...|2025-03-23T12:23:00Z|{name -> New York...|RJ Luis Jr. devas...|https://nypost.co...|https://nypost.co...|\n",
      "|       Filip Cleeren|Ferrari drivers C...|Leclerc, Hamilton...|2025-03-23T11:34:41Z|{name -> Motorspo...|Ferrari's Leclerc...|https://www.motor...|https://cdn-4.mot...|\n",
      "|       Andy Hamilton|Penn State grabbe...|One year after br...|2025-03-23T07:36:35Z|{name -> Flowrest...|Penn State Breaks...|https://www.flowr...|https://d2779tscn...|\n",
      "|       Andy Hamilton|Wyatt Hendrickson...|Oklahoma State's ...|2025-03-23T06:54:36Z|{name -> Flowrest...|Wyatt Hendrickson...|https://www.flowr...|https://d2779tscn...|\n",
      "|Western Michigan ...|ST. PAUL, Minn. A...|<strong>ST. PAUL,...|2025-03-23T05:50:08Z|{name -> Wmubronc...|Broncos Claim Fir...|https://wmubronco...|https://wmubronco...|\n",
      "|           Dan Woike|Lakers star LeBro...|Luka Doncic finis...|2025-03-23T05:09:07Z|{name -> Yahoo En...|LeBron James retu...|https://sports.ya...|https://media.zen...|\n",
      "|    MMA Junkie Staff|Yoel Romero had a...|Yoel Romero had a...|2025-03-23T05:00:00Z|{name -> USA Toda...|Yoel Romero chops...|https://mmajunkie...|https://mmajunkie...|\n",
      "|          Kyle Boone|FINAL: (10) Arkan...|The Big Ten final...|2025-03-23T04:43:00Z|{name -> CBS Spor...|2025 March Madnes...|https://www.cbssp...|https://sportshub...|\n",
      "|       Patrick Brown|On winning the se...|The Tennessee bas...|2025-03-23T04:30:00Z|{name -> 247Sport...|Everything Tony V...|https://247sports...|https://s3media.2...|\n",
      "|      Mike Coppinger|Sebastian Fundora...|Sebastian Fundora...|2025-03-23T03:36:00Z|{name -> ESPN, id...|Fundora retains t...|https://www.espn....|https://a3.espncd...|\n",
      "|                NULL|Molly McCann was ...|Molly McCann's re...|2025-03-23T02:54:21Z|{name -> Bloody E...|Molly McCann reti...|https://bloodyelb...|https://bloodyelb...|\n",
      "|     Dylan Burkhardt|Almost exactly on...|Almost exactly on...|2025-03-23T02:18:04Z|{name -> UM Hoops...|NCAA 2025: Michig...|https://umhoops.c...|https://cdn.umhoo...|\n",
      "|Mary Margaret Olohan|College wrestling...|College wrestling...|2025-03-23T02:08:29Z|{name -> The Dail...|College Wrestling...|https://www.daily...|https://dw-wp-pro...|\n",
      "|                    |The 68-team NCAA ...|Our experts have ...|2025-03-23T02:00:00Z|{name -> CBS Spor...|2025 NCAA Tournam...|https://www.cbssp...|https://sportshub...|\n",
      "|                NULL|BIRMINGHAM, Ala. ...|Gymnastics Wins 2...|2025-03-23T01:54:53Z|{name -> LSUSport...|Gymnastics Wins 2...|https://lsusports...|https://storage.g...|\n",
      "|         R. R. Ellis|The 2025 NCAA Wre...|Wyatt Hendrickson...|2025-03-23T01:07:30Z|{name -> Flowrest...|NCAA Wrestling Ch...|https://www.flowr...|https://d2779tscn...|\n",
      "|Nick Daschel | Th...|                NULL|Despite losing to...|2025-03-23T00:22:00Z|{name -> OregonLi...|Oregon State shed...|https://www.orego...|https://www.orego...|\n",
      "|         Kyle Newman|Nolan Jones is he...|The Rockies trade...|2025-03-23T00:01:47Z|{name -> The Denv...|Rockies trade Nol...|https://www.denve...|https://www.denve...|\n",
      "+--------------------+--------------------+--------------------+--------------------+--------------------+--------------------+--------------------+--------------------+\n",
      "only showing top 20 rows\n",
      "\n"
     ]
    }
   ],
   "execution_count": 47
  }
 ],
 "metadata": {
  "kernelspec": {
   "display_name": "Python 3",
   "language": "python",
   "name": "python3"
  },
  "language_info": {
   "codemirror_mode": {
    "name": "ipython",
    "version": 2
   },
   "file_extension": ".py",
   "mimetype": "text/x-python",
   "name": "python",
   "nbconvert_exporter": "python",
   "pygments_lexer": "ipython2",
   "version": "2.7.6"
  }
 },
 "nbformat": 4,
 "nbformat_minor": 5
}
