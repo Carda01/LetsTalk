{
 "cells": [
  {
   "metadata": {
    "ExecuteTime": {
     "end_time": "2025-05-31T09:25:29.317405Z",
     "start_time": "2025-05-31T09:25:29.108377Z"
    }
   },
   "cell_type": "code",
   "source": [
    "from pinecone import Pinecone\n",
    "from dags.lib.IncrementalLoader import IncrementalLoader\n",
    "from dags.lib.PineconeManager import PineconeManager\n",
    "import pyspark\n",
    "from delta import *\n",
    "from pyspark.sql.functions import col, lit, max as spark_max, length, row_number, explode, unix_timestamp, from_unixtime, date_format, to_timestamp, concat, expr\n",
    "\n",
    "import os\n",
    "\n",
    "from dotenv import load_dotenv\n",
    "load_dotenv()"
   ],
   "id": "112646cf3d6c4c73",
   "outputs": [
    {
     "data": {
      "text/plain": [
       "True"
      ]
     },
     "execution_count": 1,
     "metadata": {},
     "output_type": "execute_result"
    }
   ],
   "execution_count": 1
  },
  {
   "metadata": {
    "ExecuteTime": {
     "end_time": "2025-05-31T09:25:31.369664Z",
     "start_time": "2025-05-31T09:25:29.384995Z"
    }
   },
   "cell_type": "code",
   "source": [
    "def create_spark_session():\n",
    "    conf = (\n",
    "        pyspark.conf.SparkConf()\n",
    "        .setAppName(\"LetsTalk\")\n",
    "        .set(\n",
    "            \"spark.sql.catalog.spark_catalog\",\n",
    "            \"org.apache.spark.sql.delta.catalog.DeltaCatalog\",\n",
    "        )\n",
    "        .set(\"spark.sql.extensions\", \"io.delta.sql.DeltaSparkSessionExtension\")\n",
    "        .set(\"spark.hadoop.fs.gs.impl\", \"com.google.cloud.hadoop.fs.gcs.GoogleHadoopFileSystem\")\n",
    "        .set(\"spark.hadoop.google.cloud.auth.service.account.enable\", \"true\")\n",
    "        .set(\"spark.hadoop.google.cloud.auth.service.account.json.keyfile\", \"/Users/alfio/projects/upc/BDMP2/docker/gcs.json\")\n",
    "        .set(\"spark.sql.shuffle.partitions\", \"4\")\n",
    "        .set(\"spark.jars\", \"../docker/gcs-connector-hadoop.jar\")\n",
    "        .setMaster(\n",
    "            \"local[*]\"\n",
    "        )\n",
    "    )\n",
    "\n",
    "    builder = pyspark.sql.SparkSession.builder.appName(\"LetsTalk\").config(conf=conf)\n",
    "    spark = configure_spark_with_delta_pip(builder).getOrCreate()\n",
    "    return spark\n",
    "\n",
    "spark = create_spark_session()\n",
    "spark.conf.set('spark.sql.repl.eagerEval.enabled', True)\n",
    "absolute_path_to_landing = '/Users/alfio/projects/upc/BDMP2/data/letstalk_trusted_zone_bdma'\n",
    "absolute_path_to_cloud = 'gs://letstalk_trusted_zone_bdma'"
   ],
   "id": "2b06b59165ad3dd6",
   "outputs": [
    {
     "name": "stdout",
     "output_type": "stream",
     "text": [
      ":: loading settings :: url = jar:file:/Users/alfio/python_venv/general/lib/python3.13/site-packages/pyspark/jars/ivy-2.5.1.jar!/org/apache/ivy/core/settings/ivysettings.xml\n"
     ]
    },
    {
     "name": "stderr",
     "output_type": "stream",
     "text": [
      "Ivy Default Cache set to: /Users/alfio/.ivy2/cache\n",
      "The jars for the packages stored in: /Users/alfio/.ivy2/jars\n",
      "io.delta#delta-spark_2.12 added as a dependency\n",
      ":: resolving dependencies :: org.apache.spark#spark-submit-parent-b8a0ce5e-d677-48d2-80ff-cbc039cb3172;1.0\n",
      "\tconfs: [default]\n",
      "\tfound io.delta#delta-spark_2.12;3.3.0 in central\n",
      "\tfound io.delta#delta-storage;3.3.0 in central\n",
      "\tfound org.antlr#antlr4-runtime;4.9.3 in central\n",
      ":: resolution report :: resolve 75ms :: artifacts dl 2ms\n",
      "\t:: modules in use:\n",
      "\tio.delta#delta-spark_2.12;3.3.0 from central in [default]\n",
      "\tio.delta#delta-storage;3.3.0 from central in [default]\n",
      "\torg.antlr#antlr4-runtime;4.9.3 from central in [default]\n",
      "\t---------------------------------------------------------------------\n",
      "\t|                  |            modules            ||   artifacts   |\n",
      "\t|       conf       | number| search|dwnlded|evicted|| number|dwnlded|\n",
      "\t---------------------------------------------------------------------\n",
      "\t|      default     |   3   |   0   |   0   |   0   ||   3   |   0   |\n",
      "\t---------------------------------------------------------------------\n",
      ":: retrieving :: org.apache.spark#spark-submit-parent-b8a0ce5e-d677-48d2-80ff-cbc039cb3172\n",
      "\tconfs: [default]\n",
      "\t0 artifacts copied, 3 already retrieved (0kB/1ms)\n",
      "25/05/31 11:25:30 WARN NativeCodeLoader: Unable to load native-hadoop library for your platform... using builtin-java classes where applicable\n",
      "Setting default log level to \"WARN\".\n",
      "To adjust logging level use sc.setLogLevel(newLevel). For SparkR, use setLogLevel(newLevel).\n"
     ]
    }
   ],
   "execution_count": 2
  },
  {
   "metadata": {
    "ExecuteTime": {
     "end_time": "2025-05-30T18:32:12.187123Z",
     "start_time": "2025-05-29T17:07:38.397038Z"
    }
   },
   "cell_type": "code",
   "source": [
    "table_subpath = 'delta_tmdb/movies'\n",
    "loader = IncrementalLoader(spark, absolute_path_to_landing, table_subpath)\n",
    "matches = loader.get_new_data()\n",
    "matches.head(5)\n"
   ],
   "id": "ff02c6591c8db2e2",
   "outputs": [
    {
     "name": "stderr",
     "output_type": "stream",
     "text": [
      "25/05/29 19:07:40 WARN SparkStringUtils: Truncated the string representation of a plan since it was too large. This behavior can be adjusted by setting 'spark.sql.debug.maxToStringFields'.\n",
      "                                                                                \r"
     ]
    },
    {
     "name": "stdout",
     "output_type": "stream",
     "text": [
      "INFO:dags.lib.pt_utils:CDF not available — doing full load\n"
     ]
    },
    {
     "data": {
      "text/plain": [
       "[Row(fixture_id=1196675, status_long='not started', league=368, fixture_date='2025-04-19T10:00:00+00:00', period_first=None, period_second=None, referee=None, status_elapsed=None, status_extra=None, timestamp='2025-04-19T12:00:00+02', venue_id='jalan_besar_stadium', team_away_id=4203, team_home_id=4208, goals_away=None, goals_home=None),\n",
       " Row(fixture_id=1196676, status_long='first half', league=368, fixture_date='2025-04-19T12:15:00+00:00', period_first='2025-04-19T14:15:00+02', period_second=None, referee=None, status_elapsed=1, status_extra=None, timestamp='2025-04-19T14:15:00+02', venue_id='stadium_sultan_hassanal_bolkiah', team_away_id=4200, team_home_id=4202, goals_away=0, goals_home=0),\n",
       " Row(fixture_id=1196676, status_long='not started', league=368, fixture_date='2025-04-19T12:15:00+00:00', period_first=None, period_second=None, referee=None, status_elapsed=None, status_extra=None, timestamp='2025-04-19T14:15:00+02', venue_id='stadium_sultan_hassanal_bolkiah', team_away_id=4200, team_home_id=4202, goals_away=None, goals_home=None),\n",
       " Row(fixture_id=1196679, status_long='match finished', league=368, fixture_date='2025-04-25T11:45:00+00:00', period_first='2025-04-25T13:45:00+02', period_second='2025-04-25T14:45:00+02', referee=None, status_elapsed=90, status_extra=None, timestamp='2025-04-25T13:45:00+02', venue_id='town_square_at_our_tampines_hub', team_away_id=4204, team_home_id=4200, goals_away=2, goals_home=0),\n",
       " Row(fixture_id=1196679, status_long='not started', league=368, fixture_date='2025-04-25T11:45:00+00:00', period_first=None, period_second=None, referee=None, status_elapsed=None, status_extra=None, timestamp='2025-04-25T13:45:00+02', venue_id='town_square_at_our_tampines_hub', team_away_id=4204, team_home_id=4200, goals_away=None, goals_home=None)]"
      ]
     },
     "execution_count": 4,
     "metadata": {},
     "output_type": "execute_result"
    }
   ],
   "execution_count": 4
  },
  {
   "metadata": {
    "ExecuteTime": {
     "end_time": "2025-05-31T09:57:03.842797Z",
     "start_time": "2025-05-31T09:57:03.192251Z"
    }
   },
   "cell_type": "code",
   "source": [
    "absolute_path_to_landing = absolute_path_to_cloud\n",
    "tmdb_path = os.path.join(absolute_path_to_landing, 'delta_tmdb')\n",
    "movie = spark.read.format(\"delta\").load(os.path.join(tmdb_path, \"movie\"))\n",
    "genre = spark.read.format(\"delta\").load(os.path.join(tmdb_path, \"genre\"))\n",
    "movie_genre = spark.read.format(\"delta\").load(os.path.join(tmdb_path, \"movie_genre\")).select(\"film_id\", \"genre_id\")"
   ],
   "id": "7597e6643a27d4f4",
   "outputs": [],
   "execution_count": 29
  },
  {
   "metadata": {
    "ExecuteTime": {
     "end_time": "2025-05-31T10:01:11.026283Z",
     "start_time": "2025-05-31T10:01:10.985517Z"
    }
   },
   "cell_type": "code",
   "source": [
    "from pyspark.sql.functions import concat_ws, collect_list\n",
    "movie_genres_compacted = movie_genre.join(genre, on=(movie_genre.genre_id == genre.genre_id)).groupby(\"film_id\").agg(concat_ws(\n",
    "            \", \",\n",
    "            collect_list(\"genre\")\n",
    "        ).alias(\"genres\") ).withColumnRenamed(\"film_id\", \"join_film_id\")\n",
    "\n",
    "enriched_movie = movie.join(movie_genres_compacted, on=(movie.film_id == movie_genres_compacted.join_film_id)) \\\n",
    "    .drop(\"popularity\", \"join_film_id\") \\\n",
    "    .withColumn(\"text_to_embed\", concat(col('title'), lit(\" \"), col('overview'), lit(\" \"), col('genres')))\n"
   ],
   "id": "b2ec84907b6ebac4",
   "outputs": [],
   "execution_count": 32
  },
  {
   "metadata": {
    "ExecuteTime": {
     "end_time": "2025-05-31T10:01:27.702937Z",
     "start_time": "2025-05-31T10:01:27.692521Z"
    }
   },
   "cell_type": "code",
   "source": [
    "from dags.lib.PineconeManager import prepare_data\n",
    "data, reg = prepare_data(enriched_movie, \"film_id\", \"ingestion_time\", [\"text_to_embed\"])"
   ],
   "id": "a5a728c6a0e0b144",
   "outputs": [],
   "execution_count": 33
  },
  {
   "metadata": {
    "ExecuteTime": {
     "end_time": "2025-05-31T10:22:47.352128Z",
     "start_time": "2025-05-31T10:22:46.503471Z"
    }
   },
   "cell_type": "code",
   "source": "data.filter(col(\"ingestion_time\").isNull())",
   "id": "93312c2ada0bef01",
   "outputs": [
    {
     "data": {
      "text/plain": [
       "+---+-----+--------------+-----------------+--------+------------+-------+------+-------+-----+------------+----------+------+-------------+\n",
       "|_id|title|original_title|original_language|overview|release_date|revenue|budget|runtime|adult|vote_average|vote_count|genres|text_to_embed|\n",
       "+---+-----+--------------+-----------------+--------+------------+-------+------+-------+-----+------------+----------+------+-------------+\n",
       "+---+-----+--------------+-----------------+--------+------------+-------+------+-------+-----+------------+----------+------+-------------+"
      ],
      "text/html": [
       "<table border='1'>\n",
       "<tr><th>_id</th><th>title</th><th>original_title</th><th>original_language</th><th>overview</th><th>release_date</th><th>revenue</th><th>budget</th><th>runtime</th><th>adult</th><th>vote_average</th><th>vote_count</th><th>genres</th><th>text_to_embed</th></tr>\n",
       "</table>\n"
      ]
     },
     "execution_count": 38,
     "metadata": {},
     "output_type": "execute_result"
    }
   ],
   "execution_count": 38
  },
  {
   "metadata": {
    "ExecuteTime": {
     "end_time": "2025-05-31T10:39:38.915897Z",
     "start_time": "2025-05-31T10:38:51.258569Z"
    }
   },
   "cell_type": "code",
   "source": "data.count()",
   "id": "90d67e48711f4f33",
   "outputs": [
    {
     "name": "stderr",
     "output_type": "stream",
     "text": [
      "                                                                                \r"
     ]
    },
    {
     "data": {
      "text/plain": [
       "138529"
      ]
     },
     "execution_count": 39,
     "metadata": {},
     "output_type": "execute_result"
    }
   ],
   "execution_count": 39
  },
  {
   "metadata": {
    "ExecuteTime": {
     "end_time": "2025-05-30T18:32:12.187963Z",
     "start_time": "2025-05-29T18:21:10.622992Z"
    }
   },
   "cell_type": "code",
   "source": [
    "pinecone_key = os.getenv('PINECONE_API')\n",
    "index_name = \"letstalkvector\"\n",
    "namespace = \"letstalk-ns\"\n",
    "\n",
    "pi = PineconeManager(index_name, namespace, pinecone_key)\n"
   ],
   "id": "3fb1278594fd8f0c",
   "outputs": [
    {
     "name": "stderr",
     "output_type": "stream",
     "text": [
      "/Users/alfio/python_venv/general/lib/python3.13/site-packages/tqdm/auto.py:21: TqdmWarning: IProgress not found. Please update jupyter and ipywidgets. See https://ipywidgets.readthedocs.io/en/stable/user_install.html\n",
      "  from .autonotebook import tqdm as notebook_tqdm\n"
     ]
    }
   ],
   "execution_count": 3
  },
  {
   "metadata": {
    "ExecuteTime": {
     "end_time": "2025-05-30T18:32:12.188056Z",
     "start_time": "2025-05-29T18:22:03.338728Z"
    }
   },
   "cell_type": "code",
   "source": "pi.query(\"italy\", 10)",
   "id": "a030161c45b0d854",
   "outputs": [
    {
     "data": {
      "text/plain": [
       "{'result': {'hits': [{'_id': 'https://www.autoevolution.com/news/bmw-flexes-all-new-m2-cs-before-concorso-d-eleganza-villa-d-este-2025-ducktail-incoming-251877.html',\n",
       "                      '_score': 0.2705961763858795,\n",
       "                      'fields': {'author': 'Benny Kirk',\n",
       "                                 'content': 'on the pristine and scenic shores '\n",
       "                                            'of lake como in north italy  the '\n",
       "                                            'concorso d eleganza villa d este '\n",
       "                                            'is one of the country s premiere '\n",
       "                                            'concours d elegance events  it '\n",
       "                                            'was also the first of its kind to '\n",
       "                                            't         chars',\n",
       "                                 'description': 'on the pristine and scenic '\n",
       "                                                'shores of lake como in north '\n",
       "                                                'italy  the concorso d '\n",
       "                                                'eleganza villa d este will '\n",
       "                                                'soon unveil the all new m  cs',\n",
       "                                 'source': 'autoevolution',\n",
       "                                 'text_to_embed': 'on the pristine and scenic '\n",
       "                                                  'shores of lake como in '\n",
       "                                                  'north italy  the concorso d '\n",
       "                                                  'eleganza villa d este is '\n",
       "                                                  'one of the country s '\n",
       "                                                  'premiere concours d '\n",
       "                                                  'elegance events  it was '\n",
       "                                                  'also the first of its kind '\n",
       "                                                  'to t         chars',\n",
       "                                 'title': 'bmw flexes all new m  cs before '\n",
       "                                          'concorso d eleganza villa d '\n",
       "                                          'este       ducktail incoming   '\n",
       "                                          'autoevolution',\n",
       "                                 'urlToImage': 'https://s1.cdn.autoevolution.com/images/news/bmw-flexes-all-new-m2-cs-before-concorso-d-eleganza-villa-d-este-2025-ducktail-incoming-251877_1.jpg'}},\n",
       "                     {'_id': 'https://www.si.com/soccer/lake-como-1907-serie-a-rise-sports-disneyland-fabregas',\n",
       "                      '_score': 0.2483496367931366,\n",
       "                      'fields': {'author': 'Andrew Gastelum',\n",
       "                                 'content': 'on the shores of lake como  where '\n",
       "                                            'legends ebb  fables flow \\r\\n'\n",
       "                                            'in the eventide of world war ii  '\n",
       "                                            'benito mussolini was captured by '\n",
       "                                            'italian resistance fighters in '\n",
       "                                            'the lakeside village of dongo as '\n",
       "                                            'he fled           chars',\n",
       "                                 'description': 'celebrity fans  match tickets '\n",
       "                                                'with vip boat tours  this is '\n",
       "                                                'como       where innovative '\n",
       "                                                'owners strive to create a '\n",
       "                                                'premier soccer destination',\n",
       "                                 'source': 'sports-illustrated',\n",
       "                                 'text_to_embed': 'on the shores of lake como  '\n",
       "                                                  'where legends ebb  fables '\n",
       "                                                  'flow \\r\\n'\n",
       "                                                  'in the eventide of world '\n",
       "                                                  'war ii  benito mussolini '\n",
       "                                                  'was captured by italian '\n",
       "                                                  'resistance fighters in the '\n",
       "                                                  'lakeside village of dongo '\n",
       "                                                  'as he fled           chars',\n",
       "                                 'title': 'lake como s serie a rise has its '\n",
       "                                          'club dreaming of becoming a sports '\n",
       "                                          'disneyland   sports illustrated',\n",
       "                                 'urlToImage': 'https://images2.minutemediacdn.com/image/upload/c_crop,x_607,y_0,w_1999,h_1999/c_fill,w_1440,ar_1440:810,f_auto,q_auto,g_auto/images/voltaxMediaLibrary/mmsport/si/01jvwneh450z20byyn97.jpg'}},\n",
       "                     {'_id': 'https://defector.com/the-stage-is-set-for-a-wild-serie-a-finale',\n",
       "                      '_score': 0.21102793514728546,\n",
       "                      'fields': {'content': 'across europe s so called top '\n",
       "                                            'five men s leaguesthe premier '\n",
       "                                            'league  la liga  serie a  '\n",
       "                                            'ligue    and the bundesligathere '\n",
       "                                            'is little intrigue left in the '\n",
       "                                            'season  germany and france both '\n",
       "                                            'wrapped up their          chars',\n",
       "                                 'description': 'across europe s so called top '\n",
       "                                                'five men s leagues the '\n",
       "                                                'premier league  la liga  '\n",
       "                                                'serie a  ligue    and the '\n",
       "                                                'bundesliga there is little '\n",
       "                                                'intrigue left in the season  '\n",
       "                                                'germany and france both '\n",
       "                                                'wrapped up their    match '\n",
       "                                                'leagues this past weekend  '\n",
       "                                                'crowning familiar cham',\n",
       "                                 'source': 'defector.com',\n",
       "                                 'text_to_embed': 'across europe s so called '\n",
       "                                                  'top five men s leaguesthe '\n",
       "                                                  'premier league  la liga  '\n",
       "                                                  'serie a  ligue    and the '\n",
       "                                                  'bundesligathere is little '\n",
       "                                                  'intrigue left in the '\n",
       "                                                  'season  germany and france '\n",
       "                                                  'both wrapped up '\n",
       "                                                  'their          chars',\n",
       "                                 'title': 'the stage is set for a wild serie a '\n",
       "                                          'finale   defector',\n",
       "                                 'urlToImage': 'https://lede-admin.defector.com/wp-content/uploads/sites/28/2025/05/GettyImages-2215774342.jpg'}},\n",
       "                     {'_id': 'https://www.dw.com/en/pope-welcomes-tennis-star-sinner-to-vatican/a-72544328',\n",
       "                      '_score': 0.20584936439990997,\n",
       "                      'fields': {'author': 'Jon Shelton',\n",
       "                                 'content': 'beyond the buzz around newly '\n",
       "                                            'elected pope leo xiv s possible '\n",
       "                                            'course for the catholic church '\n",
       "                                            'moving forward and the novelty of '\n",
       "                                            'his being an american  native to '\n",
       "                                            'both north and south   the '\n",
       "                                            'pontiff is ge         chars',\n",
       "                                 'description': 'pope leo xiv was gifted a '\n",
       "                                                'tennis racket by world number '\n",
       "                                                'one player jannik sinner on '\n",
       "                                                'wednesday  sinner offered to '\n",
       "                                                'volley with the pontiff  who '\n",
       "                                                'declined saying   we might '\n",
       "                                                'break something',\n",
       "                                 'source': 'dw-(english)',\n",
       "                                 'text_to_embed': 'beyond the buzz around '\n",
       "                                                  'newly elected pope leo xiv '\n",
       "                                                  's possible course for the '\n",
       "                                                  'catholic church moving '\n",
       "                                                  'forward and the novelty of '\n",
       "                                                  'his being an american  '\n",
       "                                                  'native to both north and '\n",
       "                                                  'south   the pontiff is '\n",
       "                                                  'ge         chars',\n",
       "                                 'title': 'pope welcomes tennis star sinner to '\n",
       "                                          'vatican   dw',\n",
       "                                 'urlToImage': 'https://static.dw.com/image/72542782_6.jpg'}},\n",
       "                     {'_id': 'https://www.dw.com/en/pope-welcomes-sinner-to-vatican/a-72544328',\n",
       "                      '_score': 0.20584936439990997,\n",
       "                      'fields': {'author': 'Jon Shelton',\n",
       "                                 'content': 'beyond the buzz around newly '\n",
       "                                            'elected pope leo xiv s possible '\n",
       "                                            'course for the catholic church '\n",
       "                                            'moving forward and the novelty of '\n",
       "                                            'his being an american  native to '\n",
       "                                            'both north and south   the '\n",
       "                                            'pontiff is ge         chars',\n",
       "                                 'description': 'pope leo xiv was gifted a '\n",
       "                                                'tennis racket by world number '\n",
       "                                                'one player jannik sinner on '\n",
       "                                                'wednesday  sinner offered to '\n",
       "                                                'volley with the pontiff  who '\n",
       "                                                'declined saying   we might '\n",
       "                                                'break something',\n",
       "                                 'source': 'dw-(english)',\n",
       "                                 'text_to_embed': 'beyond the buzz around '\n",
       "                                                  'newly elected pope leo xiv '\n",
       "                                                  's possible course for the '\n",
       "                                                  'catholic church moving '\n",
       "                                                  'forward and the novelty of '\n",
       "                                                  'his being an american  '\n",
       "                                                  'native to both north and '\n",
       "                                                  'south   the pontiff is '\n",
       "                                                  'ge         chars',\n",
       "                                 'title': 'pope welcomes sinner to vatican   '\n",
       "                                          'dw',\n",
       "                                 'urlToImage': 'https://static.dw.com/image/72542782_6.jpg'}},\n",
       "                     {'_id': 'https://variety.com/2025/tv/filming-locations/emily-in-paris-season-5-filming-in-rome-may-1236371462/',\n",
       "                      '_score': 0.1712132841348648,\n",
       "                      'fields': {'author': 'Elsa Keslassy',\n",
       "                                 'content': 'lily collins  emily cooper will '\n",
       "                                            'be living the dolce vita in rome '\n",
       "                                            'with her italian beau marcello in '\n",
       "                                            'the much anticipated fifth season '\n",
       "                                            'of netflix s  emily in paris   or '\n",
       "                                            'at least some of it  the new '\n",
       "                                            'sea         chars',\n",
       "                                 'description': 'lily collins  emily cooper '\n",
       "                                                'will be living the dolce vita '\n",
       "                                                'in rome in the much '\n",
       "                                                'anticipated fifth season of '\n",
       "                                                'netflix s  emily in paris',\n",
       "                                 'source': 'variety',\n",
       "                                 'text_to_embed': 'lily collins  emily cooper '\n",
       "                                                  'will be living the dolce '\n",
       "                                                  'vita in rome with her '\n",
       "                                                  'italian beau marcello in '\n",
       "                                                  'the much anticipated fifth '\n",
       "                                                  'season of netflix s  emily '\n",
       "                                                  'in paris   or at least some '\n",
       "                                                  'of it  the new sea         '\n",
       "                                                  'chars',\n",
       "                                 'title': 'emily in paris  season   to start '\n",
       "                                          'filming in rome in may   variety',\n",
       "                                 'urlToImage': 'https://variety.com/wp-content/uploads/2025/04/AAAAQRY44OC9a5MeYgebU7bTuStkj8PaSLsLfaiBOsCVXowacr00zShwNCPsSLa5QxVU7qeaVMvmupa8yMzlbhZALwxy4nZ1iFcKUqjuk9xzbyS5cwzBSYktoosqu4b9hA5qKS8tBMHDwXasPQWhmmni7b6qMNo.jpg?w=1000&h=563&crop=1'}},\n",
       "                     {'_id': 'https://www.formula1.com/en/latest/article/its-race-week-5-storylines-were-excited-about-ahead-of-the-2025-emilia.4GF4njJsmwvrEs1egRCnbr',\n",
       "                      '_score': 0.16106709837913513,\n",
       "                      'fields': {'author': 'F1',\n",
       "                                 'content': 'with another driver evaluation '\n",
       "                                            'currently scheduled for between '\n",
       "                                            'the races in austria and great '\n",
       "                                            'britain  the situation does mean '\n",
       "                                            'the pressure stays on colapinto '\n",
       "                                            'to prove himself a better choice '\n",
       "                                            'behind          chars',\n",
       "                                 'description': 'two sprints and four regular '\n",
       "                                                'grand prix weekends are out '\n",
       "                                                'of the way  and it s finally '\n",
       "                                                'time to get the european '\n",
       "                                                'season started with formula   '\n",
       "                                                's second triple header of the '\n",
       "                                                'year  there are no shortage '\n",
       "                                                'of talking points after '\n",
       "                                                'driver changes and team '\n",
       "                                                'principal de',\n",
       "                                 'source': 'formula-1',\n",
       "                                 'text_to_embed': 'with another driver '\n",
       "                                                  'evaluation currently '\n",
       "                                                  'scheduled for between the '\n",
       "                                                  'races in austria and great '\n",
       "                                                  'britain  the situation does '\n",
       "                                                  'mean the pressure stays on '\n",
       "                                                  'colapinto to prove himself '\n",
       "                                                  'a better choice '\n",
       "                                                  'behind          chars',\n",
       "                                 'title': 'it s race week    storylines we re '\n",
       "                                          'excited about at imola   formula',\n",
       "                                 'urlToImage': 'https://media.formula1.com/image/upload/f_auto/q_auto/v1747047711/fom-website/2025/Miscellaneous/imola-race-week-header.png'}},\n",
       "                     {'_id': 'https://www.france24.com/en/slideshow/20250504-the-week-in-pictures-kim-kardashian-jewel-thieves-go-on-trial-in-paris-spain-s-blackout-and-trump-marks-100-days',\n",
       "                      '_score': 0.15297457575798035,\n",
       "                      'fields': {'author': 'https://www.facebook.com/FRANCE24.English',\n",
       "                                 'description': 'in this week in pictures  a '\n",
       "                                                'group of elderly thieves goes '\n",
       "                                                'on trial in paris for robbing '\n",
       "                                                'american celebrity kim '\n",
       "                                                'kardashian of     million in '\n",
       "                                                'jewels in       mark carney '\n",
       "                                                'retains power in canada  us '\n",
       "                                                'president',\n",
       "                                 'source': 'france-24-english',\n",
       "                                 'text_to_embed': 'the week in pictures  kim '\n",
       "                                                  'kardashian jewel thieves go '\n",
       "                                                  'on trial in paris  spain s '\n",
       "                                                  'blackout and trump '\n",
       "                                                  'marks     days   france',\n",
       "                                 'title': 'the week in pictures  kim '\n",
       "                                          'kardashian jewel thieves go on '\n",
       "                                          'trial in paris  spain s blackout '\n",
       "                                          'and trump marks     days   france',\n",
       "                                 'urlToImage': 'https://s.france24.com/media/display/1e043b70-2822-11f0-9da1-005056a90284/w:1280/p:16x9/000_43U24UV.jpg'}},\n",
       "                     {'_id': 'https://www.post-gazette.com/sports/jason-mackey/2025/04/27/nfl-draft-steelers-derrick-harmon-kaleb-johnson-jack-sawyer/stories/202504260039',\n",
       "                      '_score': 0.14996375143527985,\n",
       "                      'fields': {'author': 'Jason Mackey',\n",
       "                                 'content': 'menu',\n",
       "                                 'description': 'the steelers seemed to target '\n",
       "                                                'a specific type of high '\n",
       "                                                'character player throughout '\n",
       "                                                'the      nfl draft',\n",
       "                                 'source': 'pittsburgh-post-gazette',\n",
       "                                 'text_to_embed': 'menu',\n",
       "                                 'title': 'jason mackey  steelers clearly had '\n",
       "                                          'a type in this year s nfl draft   '\n",
       "                                          'pittsburgh post gazette',\n",
       "                                 'urlToImage': 'https://9b16f79ca967fd0708d1-2713572fef44aa49ec323e813b06d2d9.ssl.cf2.rackcdn.com/1140x_a10-7_cTC/CFP-Cotton-Bowl-Football-16-1745703505.jpg'}},\n",
       "                     {'_id': 'https://www.post-gazette.com/sports/jason-mackey/2025/05/26/mlb-pirates-bubba-chandler-paul-skenes/stories/202505260035',\n",
       "                      '_score': 0.14996375143527985,\n",
       "                      'fields': {'author': 'Jason Mackey',\n",
       "                                 'content': 'menu',\n",
       "                                 'description': 'the reasons for not promoting '\n",
       "                                                'bubba chandler at this point '\n",
       "                                                'are hard to understand  let s '\n",
       "                                                'hope it doesn t involve paul '\n",
       "                                                'skenes  success',\n",
       "                                 'source': 'pittsburgh-post-gazette',\n",
       "                                 'text_to_embed': 'menu',\n",
       "                                 'title': 'jason mackey  i hope paul skenes  '\n",
       "                                          'success didn t cause pirates to '\n",
       "                                          'change plans for bubba chandler   '\n",
       "                                          'pittsburgh post gazette',\n",
       "                                 'urlToImage': 'https://9b16f79ca967fd0708d1-2713572fef44aa49ec323e813b06d2d9.ssl.cf2.rackcdn.com/1140x_a10-7_cTC/02232025LSPiratesTwins-43-1748274284.jpg'}}]},\n",
       " 'usage': {'embed_total_tokens': 5, 'read_units': 6}}"
      ]
     },
     "execution_count": 6,
     "metadata": {},
     "output_type": "execute_result"
    }
   ],
   "execution_count": 6
  },
  {
   "metadata": {
    "ExecuteTime": {
     "end_time": "2025-05-30T18:32:12.188488Z",
     "start_time": "2025-05-29T18:32:14.374745Z"
    }
   },
   "cell_type": "code",
   "source": "pi.reset_index()",
   "id": "bedebde7d4188580",
   "outputs": [],
   "execution_count": 8
  },
  {
   "metadata": {
    "ExecuteTime": {
     "end_time": "2025-05-30T18:32:12.188566Z",
     "start_time": "2025-05-29T18:32:38.124459Z"
    }
   },
   "cell_type": "code",
   "source": "pi.print_stats()",
   "id": "ae97c56ca86781e5",
   "outputs": [
    {
     "name": "stdout",
     "output_type": "stream",
     "text": [
      "{'dimension': 1024,\n",
      " 'index_fullness': 0.0,\n",
      " 'metric': 'cosine',\n",
      " 'namespaces': {},\n",
      " 'total_vector_count': 0,\n",
      " 'vector_type': 'dense'}\n"
     ]
    }
   ],
   "execution_count": 9
  },
  {
   "metadata": {
    "ExecuteTime": {
     "end_time": "2025-05-30T18:32:12.188637Z",
     "start_time": "2025-05-29T17:57:24.342805Z"
    }
   },
   "cell_type": "code",
   "source": [
    "func = pi.get_pinecone_loader()\n",
    "data.rdd.foreachPartition(func)"
   ],
   "id": "bd213b9c9ce92391",
   "outputs": [
    {
     "name": "stderr",
     "output_type": "stream",
     "text": [
      "                                                                                \r"
     ]
    }
   ],
   "execution_count": 9
  },
  {
   "metadata": {
    "ExecuteTime": {
     "end_time": "2025-05-30T18:32:12.188704Z",
     "start_time": "2025-05-28T15:09:33.500180Z"
    }
   },
   "cell_type": "code",
   "outputs": [],
   "execution_count": 8,
   "source": [
    "pinecone_api_key = os.getenv('PINECONE_API')\n",
    "pc = Pinecone(api_key=pinecone_api_key)\n",
    "\n",
    "index_name = \"letstalkvector\"\n",
    "if not pc.has_index(index_name):\n",
    "    pc.create_index_for_model(\n",
    "        name=index_name,\n",
    "        cloud=\"gcp\",\n",
    "        region=\"europe-west4\",\n",
    "        embed={\n",
    "            \"model\":\"llama-text-embed-v2\",\n",
    "            \"field_map\":{\"text\": \"text_to_embed\"}\n",
    "        }\n",
    "    )"
   ],
   "id": "af02180332fa01a5"
  }
 ],
 "metadata": {
  "kernelspec": {
   "display_name": "Python 3",
   "language": "python",
   "name": "python3"
  },
  "language_info": {
   "codemirror_mode": {
    "name": "ipython",
    "version": 2
   },
   "file_extension": ".py",
   "mimetype": "text/x-python",
   "name": "python",
   "nbconvert_exporter": "python",
   "pygments_lexer": "ipython2",
   "version": "2.7.6"
  }
 },
 "nbformat": 4,
 "nbformat_minor": 5
}
