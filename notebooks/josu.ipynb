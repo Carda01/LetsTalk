{
 "cells": [
  {
   "cell_type": "code",
   "execution_count": 1,
   "id": "e743debb",
   "metadata": {},
   "outputs": [],
   "source": [
    "from pyspark.sql.types import IntegerType\n",
    "%load_ext autoreload\n",
    "%autoreload 2\n",
    "\n",
    "import pyspark\n",
    "from delta import *\n",
    "\n",
    "import sys\n",
    "\n",
    "sys.path.append(\"..\")  # Adjust path if needed\n",
    "from dags.lib.IncrementalLoader import IncrementalLoader\n",
    "from dags.lib.Processer import *\n",
    "\n",
    "from pyspark.sql.functions import col, lit, max as spark_max, length, row_number, explode\n",
    "\n",
    "def create_spark_local_session():\n",
    "    builder = pyspark.sql.SparkSession.builder.appName(\"LetsTalk\") \\\n",
    "        .config(\"spark.sql.extensions\", \"io.delta.sql.DeltaSparkSessionExtension\") \\\n",
    "        .config(\"spark.sql.catalog.spark_catalog\", \"org.apache.spark.sql.delta.catalog.DeltaCatalog\")\n",
    "\n",
    "    spark = configure_spark_with_delta_pip(builder).getOrCreate()\n",
    "    return spark\n",
    "\n"
   ]
  },
  {
   "cell_type": "code",
   "execution_count": 2,
   "id": "41fd6ae4",
   "metadata": {},
   "outputs": [],
   "source": [
    "spark = create_spark_local_session()\n",
    "spark.conf.set('spark.sql.repl.eagerEval.enabled', True)\n",
    "#delta_news_tmdb = \"../data/delta_tmbd\"\n",
    "#delta_tmdb = \"../data/delta_news/entertainment\""
   ]
  },
  {
   "cell_type": "code",
   "execution_count": 75,
   "id": "b0a61945",
   "metadata": {},
   "outputs": [
    {
     "name": "stdout",
     "output_type": "stream",
     "text": [
      "CDF not available — doing full load\n",
      "+-----+--------------------+------------------+-------+-----------------+--------------------+--------------------+----------+--------------------+------------+--------------------+-----+------------+----------+--------------------+----------+----------+\n",
      "|adult|       backdrop_path|         genre_ids|     id|original_language|      original_title|            overview|popularity|         poster_path|release_date|               title|video|vote_average|vote_count|      ingestion_time|begin_date|  end_date|\n",
      "+-----+--------------------+------------------+-------+-----------------+--------------------+--------------------+----------+--------------------+------------+--------------------+-----+------------+----------+--------------------+----------+----------+\n",
      "|false|/op3qmNhvwEvyT7UF...|      [28, 14, 12]| 324544|               en|   In the Lost Lands|A queen sends the...|  307.5934|/twy1IVJFgaZWA21S...|  2025-02-27|   In the Lost Lands|false|       6.325|       295|2025-04-29 19:07:...|2025-04-30|2025-05-21|\n",
      "|false|/bFmziv84NfEVEGTK...|[28, 80, 9648, 53]|1180906|               en|         Desert Dawn|A newly appointed...|  249.1097|/S21BfLrJSD9njucB...|  2025-05-15|         Desert Dawn|false|         0.0|         0|2025-04-29 19:07:...|2025-04-30|2025-05-21|\n",
      "|false|/oUgVgGaNqV9Y0Zdy...|          [27, 53]|1233413|               en|             Sinners|Trying to leave t...|  244.6365|/fWPgbnt2LSqkQ6cd...|  2025-04-16|             Sinners|false|         7.6|       437|2025-04-29 19:07:...|2025-04-30|2025-05-21|\n",
      "|false|/r4X2xRrWleVgx0ka...|          [27, 53]|1083968|               en|              Locked|When Eddie breaks...|  152.2937|/hhkiqXpfpufwxVrd...|  2025-03-20|              Locked|false|       6.144|        87|2025-04-29 19:07:...|2025-04-30|2025-05-21|\n",
      "|false|/rdxdvXQGqCj2Vb7S...|      [80, 53, 28]| 870028|               en|    The Accountant 2|When an old acqua...|  132.3857|/ieYaJz2nzs4wcqpW...|  2025-04-23|    The Accountant 2|false|         7.3|        70|2025-04-29 19:07:...|2025-04-30|2025-05-21|\n",
      "|false|/3lEV4CoKoeT2cZ4f...|        [27, 9648]|1244944|               en|The Woman in the ...|In the aftermath ...|  124.5127|/n0WS2TsNcS6dtaZK...|  2025-03-27|The Woman in the ...|false|       6.128|       109|2025-04-29 19:07:...|2025-04-30|2025-05-21|\n",
      "|false|/rthMuZfFv4fqEU4J...|      [28, 12, 18]| 986056|               en|       Thunderbolts*|After finding the...|   96.7716|/hqcexYHbiTBfDIdD...|  2025-04-30|       Thunderbolts*|false|         7.5|        11|2025-04-29 19:07:...|2025-04-30|2025-05-21|\n",
      "|false|/3xKJ0nyUTlySmMBC...|        [27, 9648]|1232546|               en|          Until Dawn|One year after he...|   86.2759|/6O9nkcmZBymDXtxO...|  2025-04-23|          Until Dawn|false|         6.4|        74|2025-04-29 19:07:...|2025-04-30|2025-05-21|\n",
      "|false|/2TtpJq1PbeQ36E5F...|          [28, 53]|1125899|               en|             Cleaner|When a group of r...|   85.1847|/mwzDApMZAGeYCEVj...|  2025-02-19|             Cleaner|false|         6.6|       233|2025-04-29 19:07:...|2025-04-30|2025-05-21|\n",
      "|false|/hwlyY7LJdEFbCPaG...|          [28, 53]|1126166|               en|         Flight Risk|A U.S. Marshal es...|   78.4526|/q0bCG4NX32iIEsRF...|  2025-01-22|         Flight Risk|false|         6.1|       662|2025-04-29 19:07:...|2025-04-30|2025-05-21|\n",
      "+-----+--------------------+------------------+-------+-----------------+--------------------+--------------------+----------+--------------------+------------+--------------------+-----+------------+----------+--------------------+----------+----------+\n",
      "only showing top 10 rows\n",
      "\n",
      "None\n"
     ]
    }
   ],
   "source": [
    "absolute_path_to_landing = r'C:\\Users\\josub\\Desktop\\BDMA\\Barcelona\\Big_Data_Management\\SmallProject\\LetsTalk\\data\\letstalk_landing_zone_bdma'\n",
    "table_subpaths = [r'delta_tmdb\\database\\movie',r'delta_tmdb\\now_playing',r'delta_tmdb\\trending',r'delta_tmdb\\upcoming']\n",
    "i=3\n",
    "loader = IncrementalLoader(spark, absolute_path_to_landing, table_subpaths[i])\n",
    "df = loader.get_new_data()\n",
    "print(df.show(10))"
   ]
  },
  {
   "cell_type": "code",
   "execution_count": 86,
   "id": "d1190947",
   "metadata": {},
   "outputs": [
    {
     "name": "stderr",
     "output_type": "stream",
     "text": [
      "INFO:root:Removed 0 simple duplicate(s)\n"
     ]
    },
    {
     "data": {
      "text/html": [
       "<table border='1'>\n",
       "<tr><th>adult</th><th>backdrop_path</th><th>genre_ids</th><th>film_id</th><th>original_language</th><th>title</th><th>overview</th><th>popularity</th><th>poster_path</th><th>release_date</th><th>delete</th><th>video</th><th>vote_average</th><th>vote_count</th><th>ingestion_time</th><th>begin_date</th><th>end_date</th><th>id</th><th>budget</th><th>revenue</th><th>runtime</th></tr>\n",
       "<tr><td>false</td><td>/eDBZN0TbWkxoAB0q...</td><td>[27, 14, 35, 12]</td><td>1153714</td><td>en</td><td>Death of a Unicorn</td><td>a father and daug...</td><td>290.5672</td><td>/lXR32JepFwD1UHkp...</td><td>2025-03-27</td><td>Death of a Unicorn</td><td>false</td><td>6.253</td><td>146</td><td>2025-05-05 23:08:...</td><td>2025-05-07</td><td>2025-05-28</td><td>1</td><td>0</td><td>0</td><td>0</td></tr>\n",
       "<tr><td>false</td><td>/op3qmNhvwEvyT7UF...</td><td>[28, 14, 12]</td><td>324544</td><td>en</td><td>In the Lost Lands</td><td>a queen sends the...</td><td>265.4894</td><td>/dDlfjR7gllmr8HTe...</td><td>2025-02-27</td><td>In the Lost Lands</td><td>false</td><td>6.345</td><td>330</td><td>2025-05-05 23:08:...</td><td>2025-05-07</td><td>2025-05-28</td><td>2</td><td>0</td><td>0</td><td>0</td></tr>\n",
       "<tr><td>false</td><td>/12tEzU0bNYKIjXXE...</td><td>[37]</td><td>710258</td><td>en</td><td>Rust</td><td>infamous outlaw h...</td><td>210.9704</td><td>/tbJ3RkA2s6X5qrBz...</td><td>2025-05-01</td><td>Rust</td><td>false</td><td>6.8</td><td>17</td><td>2025-05-05 23:08:...</td><td>2025-05-07</td><td>2025-05-28</td><td>3</td><td>0</td><td>0</td><td>0</td></tr>\n",
       "<tr><td>false</td><td>/nAxGnGHOsfzufThz...</td><td>[27, 10402, 53]</td><td>1233413</td><td>en</td><td>Sinners</td><td>trying to leave t...</td><td>202.7984</td><td>/jYfMTSiFFK7ffbY2...</td><td>2025-04-16</td><td>Sinners</td><td>false</td><td>7.615</td><td>553</td><td>2025-05-05 23:08:...</td><td>2025-05-07</td><td>2025-05-28</td><td>4</td><td>0</td><td>0</td><td>0</td></tr>\n",
       "<tr><td>false</td><td>/bFmziv84NfEVEGTK...</td><td>[28, 80, 9648, 53]</td><td>1180906</td><td>en</td><td>Desert Dawn</td><td>a newly appointed...</td><td>189.4444</td><td>/S21BfLrJSD9njucB...</td><td>2025-05-15</td><td>Desert Dawn</td><td>false</td><td>0.0</td><td>0</td><td>2025-05-05 23:08:...</td><td>2025-05-07</td><td>2025-05-28</td><td>5</td><td>0</td><td>0</td><td>0</td></tr>\n",
       "<tr><td>false</td><td>/rdxdvXQGqCj2Vb7S...</td><td>[80, 53, 28]</td><td>870028</td><td>en</td><td>The Accountant&sup2;</td><td>when an old acqua...</td><td>108.5178</td><td>/kMDUS7VmFhb2coRf...</td><td>2025-04-23</td><td>The Accountant&sup2;</td><td>false</td><td>7.2</td><td>114</td><td>2025-05-05 23:08:...</td><td>2025-05-07</td><td>2025-05-28</td><td>6</td><td>0</td><td>0</td><td>0</td></tr>\n",
       "<tr><td>false</td><td>/3lEV4CoKoeT2cZ4f...</td><td>[27, 9648, 53]</td><td>1244944</td><td>en</td><td>The Woman in the ...</td><td>in the aftermath ...</td><td>80.6427</td><td>/n0WS2TsNcS6dtaZK...</td><td>2025-03-27</td><td>The Woman in the ...</td><td>false</td><td>6.2</td><td>131</td><td>2025-05-05 23:08:...</td><td>2025-05-07</td><td>2025-05-28</td><td>7</td><td>0</td><td>0</td><td>0</td></tr>\n",
       "<tr><td>false</td><td>/kXxriYfAWtMJNHGH...</td><td>[53, 878]</td><td>650033</td><td>ru</td><td>Свободное падение</td><td>in the near futur...</td><td>77.5824</td><td>/tB66c6dnu9dG60mt...</td><td>2025-05-14</td><td>Free Fall</td><td>false</td><td>0.0</td><td>0</td><td>2025-05-05 23:08:...</td><td>2025-05-07</td><td>2025-05-28</td><td>8</td><td>0</td><td>0</td><td>0</td></tr>\n",
       "<tr><td>false</td><td>/hwlyY7LJdEFbCPaG...</td><td>[28, 53]</td><td>1126166</td><td>en</td><td>Flight Risk</td><td>a u s  marshal es...</td><td>71.673</td><td>/q0bCG4NX32iIEsRF...</td><td>2025-01-22</td><td>Flight Risk</td><td>false</td><td>6.118</td><td>671</td><td>2025-05-05 23:08:...</td><td>2025-05-07</td><td>2025-05-28</td><td>9</td><td>0</td><td>0</td><td>0</td></tr>\n",
       "<tr><td>false</td><td>/3xKJ0nyUTlySmMBC...</td><td>[27, 9648]</td><td>1232546</td><td>en</td><td>Until Dawn</td><td>one year after he...</td><td>70.4967</td><td>/6O9nkcmZBymDXtxO...</td><td>2025-04-23</td><td>Until Dawn</td><td>false</td><td>6.5</td><td>125</td><td>2025-05-05 23:08:...</td><td>2025-05-07</td><td>2025-05-28</td><td>10</td><td>0</td><td>0</td><td>0</td></tr>\n",
       "<tr><td>false</td><td>/r4X2xRrWleVgx0ka...</td><td>[27, 53]</td><td>1083968</td><td>en</td><td>Locked</td><td>when eddie breaks...</td><td>65.7194</td><td>/hhkiqXpfpufwxVrd...</td><td>2025-03-20</td><td>Locked</td><td>false</td><td>6.285</td><td>100</td><td>2025-05-05 23:08:...</td><td>2025-05-07</td><td>2025-05-28</td><td>11</td><td>0</td><td>0</td><td>0</td></tr>\n",
       "<tr><td>false</td><td>/jl2YIADk391yc6Qj...</td><td>[16, 18, 35]</td><td>1064486</td><td>en</td><td>Memoir of a Snail</td><td>forcibly separate...</td><td>56.915</td><td>/57AgZv1ITeBLShiN...</td><td>2024-10-17</td><td>Memoir of a Snail</td><td>false</td><td>8.024</td><td>464</td><td>2025-05-05 23:08:...</td><td>2025-05-07</td><td>2025-05-28</td><td>12</td><td>0</td><td>0</td><td>0</td></tr>\n",
       "<tr><td>false</td><td>/7ONMDhnErvpkKvkZ...</td><td>[28, 12, 53]</td><td>575265</td><td>en</td><td>Mission: Impossib...</td><td>ethan hunt and th...</td><td>53.8733</td><td>/z53D72EAOxGRqdr7...</td><td>2025-05-17</td><td>Mission: Impossib...</td><td>false</td><td>0.0</td><td>0</td><td>2025-05-05 23:08:...</td><td>2025-05-07</td><td>2025-05-28</td><td>13</td><td>0</td><td>0</td><td>0</td></tr>\n",
       "<tr><td>false</td><td>/pD5Z6YglDNcRhcrC...</td><td>[36, 10402, 18]</td><td>279</td><td>en</td><td>Amadeus</td><td>disciplined itali...</td><td>52.3049</td><td>/1n5VUlCqgmVax1ad...</td><td>1984-09-19</td><td>Amadeus</td><td>false</td><td>8.0</td><td>4394</td><td>2025-05-05 23:08:...</td><td>2025-05-07</td><td>2025-05-28</td><td>14</td><td>0</td><td>0</td><td>0</td></tr>\n",
       "<tr><td>false</td><td>/jbLt5FDu5vflepQl...</td><td>[27, 9648]</td><td>574475</td><td>en</td><td>Final Destination...</td><td>plagued by a viol...</td><td>52.2423</td><td>/cAoktVUBhGyULRox...</td><td>2025-05-09</td><td>Final Destination...</td><td>false</td><td>6.0</td><td>2</td><td>2025-05-05 23:08:...</td><td>2025-05-07</td><td>2025-05-28</td><td>15</td><td>0</td><td>0</td><td>0</td></tr>\n",
       "<tr><td>false</td><td>/wmqpE7p2dUCEgCno...</td><td>[27, 14, 53, 9648...</td><td>1353117</td><td>en</td><td>Home Sweet Home: ...</td><td>when a city is ov...</td><td>48.3805</td><td>/9rCBCm9cyI4JfLEh...</td><td>2025-03-20</td><td>Home Sweet Home: ...</td><td>false</td><td>6.402</td><td>56</td><td>2025-05-05 23:08:...</td><td>2025-05-07</td><td>2025-05-28</td><td>16</td><td>0</td><td>0</td><td>0</td></tr>\n",
       "<tr><td>false</td><td>/9OO6I25MHhCDd0Xw...</td><td>[28, 18]</td><td>1261050</td><td>da</td><td>De lydl&oslash;se</td><td>in       a group ...</td><td>37.2945</td><td>/7NLY1jNwtZX1yVzw...</td><td>2024-10-31</td><td>The Quiet Ones</td><td>false</td><td>5.83</td><td>44</td><td>2025-05-05 23:08:...</td><td>2025-05-07</td><td>2025-05-28</td><td>17</td><td>0</td><td>0</td><td>0</td></tr>\n",
       "<tr><td>false</td><td>/3ExQ28MVRaBbJFI2...</td><td>[28, 35, 53]</td><td>1212855</td><td>en</td><td>Fight or Flight</td><td>a mercenary takes...</td><td>36.2194</td><td>/x4nWnfgJvL045rcU...</td><td>2025-04-03</td><td>Fight or Flight</td><td>false</td><td>5.708</td><td>65</td><td>2025-05-05 23:08:...</td><td>2025-05-07</td><td>2025-05-28</td><td>18</td><td>0</td><td>0</td><td>0</td></tr>\n",
       "<tr><td>false</td><td>/xkjWiRQtrenqGRWO...</td><td>[27]</td><td>1388366</td><td>en</td><td>Popeye the Slayer...</td><td>a curious group o...</td><td>34.748</td><td>/nVwu3mN7hr1yF467...</td><td>2025-03-21</td><td>Popeye the Slayer...</td><td>false</td><td>5.967</td><td>92</td><td>2025-05-05 23:08:...</td><td>2025-05-07</td><td>2025-05-28</td><td>19</td><td>0</td><td>0</td><td>0</td></tr>\n",
       "<tr><td>false</td><td>/fuL0NvVCG7YYjhxk...</td><td>[18]</td><td>1086497</td><td>en</td><td>The Penguin Lessons</td><td>in       as argen...</td><td>32.882</td><td>/hZ7rDX01j86x8O1E...</td><td>2025-03-27</td><td>The Penguin Lessons</td><td>false</td><td>7.06</td><td>25</td><td>2025-05-05 23:08:...</td><td>2025-05-07</td><td>2025-05-28</td><td>20</td><td>0</td><td>0</td><td>0</td></tr>\n",
       "</table>\n",
       "only showing top 20 rows\n"
      ],
      "text/plain": [
       "+-----+--------------------+--------------------+-------+-----------------+--------------------+--------------------+----------+--------------------+------------+--------------------+-----+------------+----------+--------------------+----------+----------+---+------+-------+-------+\n",
       "|adult|       backdrop_path|           genre_ids|film_id|original_language|               title|            overview|popularity|         poster_path|release_date|              delete|video|vote_average|vote_count|      ingestion_time|begin_date|  end_date| id|budget|revenue|runtime|\n",
       "+-----+--------------------+--------------------+-------+-----------------+--------------------+--------------------+----------+--------------------+------------+--------------------+-----+------------+----------+--------------------+----------+----------+---+------+-------+-------+\n",
       "|false|/eDBZN0TbWkxoAB0q...|    [27, 14, 35, 12]|1153714|               en|  Death of a Unicorn|a father and daug...|  290.5672|/lXR32JepFwD1UHkp...|  2025-03-27|  Death of a Unicorn|false|       6.253|       146|2025-05-05 23:08:...|2025-05-07|2025-05-28|  1|     0|      0|      0|\n",
       "|false|/op3qmNhvwEvyT7UF...|        [28, 14, 12]| 324544|               en|   In the Lost Lands|a queen sends the...|  265.4894|/dDlfjR7gllmr8HTe...|  2025-02-27|   In the Lost Lands|false|       6.345|       330|2025-05-05 23:08:...|2025-05-07|2025-05-28|  2|     0|      0|      0|\n",
       "|false|/12tEzU0bNYKIjXXE...|                [37]| 710258|               en|                Rust|infamous outlaw h...|  210.9704|/tbJ3RkA2s6X5qrBz...|  2025-05-01|                Rust|false|         6.8|        17|2025-05-05 23:08:...|2025-05-07|2025-05-28|  3|     0|      0|      0|\n",
       "|false|/nAxGnGHOsfzufThz...|     [27, 10402, 53]|1233413|               en|             Sinners|trying to leave t...|  202.7984|/jYfMTSiFFK7ffbY2...|  2025-04-16|             Sinners|false|       7.615|       553|2025-05-05 23:08:...|2025-05-07|2025-05-28|  4|     0|      0|      0|\n",
       "|false|/bFmziv84NfEVEGTK...|  [28, 80, 9648, 53]|1180906|               en|         Desert Dawn|a newly appointed...|  189.4444|/S21BfLrJSD9njucB...|  2025-05-15|         Desert Dawn|false|         0.0|         0|2025-05-05 23:08:...|2025-05-07|2025-05-28|  5|     0|      0|      0|\n",
       "|false|/rdxdvXQGqCj2Vb7S...|        [80, 53, 28]| 870028|               en|     The Accountant²|when an old acqua...|  108.5178|/kMDUS7VmFhb2coRf...|  2025-04-23|     The Accountant²|false|         7.2|       114|2025-05-05 23:08:...|2025-05-07|2025-05-28|  6|     0|      0|      0|\n",
       "|false|/3lEV4CoKoeT2cZ4f...|      [27, 9648, 53]|1244944|               en|The Woman in the ...|in the aftermath ...|   80.6427|/n0WS2TsNcS6dtaZK...|  2025-03-27|The Woman in the ...|false|         6.2|       131|2025-05-05 23:08:...|2025-05-07|2025-05-28|  7|     0|      0|      0|\n",
       "|false|/kXxriYfAWtMJNHGH...|           [53, 878]| 650033|               ru|   Свободное падение|in the near futur...|   77.5824|/tB66c6dnu9dG60mt...|  2025-05-14|           Free Fall|false|         0.0|         0|2025-05-05 23:08:...|2025-05-07|2025-05-28|  8|     0|      0|      0|\n",
       "|false|/hwlyY7LJdEFbCPaG...|            [28, 53]|1126166|               en|         Flight Risk|a u s  marshal es...|    71.673|/q0bCG4NX32iIEsRF...|  2025-01-22|         Flight Risk|false|       6.118|       671|2025-05-05 23:08:...|2025-05-07|2025-05-28|  9|     0|      0|      0|\n",
       "|false|/3xKJ0nyUTlySmMBC...|          [27, 9648]|1232546|               en|          Until Dawn|one year after he...|   70.4967|/6O9nkcmZBymDXtxO...|  2025-04-23|          Until Dawn|false|         6.5|       125|2025-05-05 23:08:...|2025-05-07|2025-05-28| 10|     0|      0|      0|\n",
       "|false|/r4X2xRrWleVgx0ka...|            [27, 53]|1083968|               en|              Locked|when eddie breaks...|   65.7194|/hhkiqXpfpufwxVrd...|  2025-03-20|              Locked|false|       6.285|       100|2025-05-05 23:08:...|2025-05-07|2025-05-28| 11|     0|      0|      0|\n",
       "|false|/jl2YIADk391yc6Qj...|        [16, 18, 35]|1064486|               en|   Memoir of a Snail|forcibly separate...|    56.915|/57AgZv1ITeBLShiN...|  2024-10-17|   Memoir of a Snail|false|       8.024|       464|2025-05-05 23:08:...|2025-05-07|2025-05-28| 12|     0|      0|      0|\n",
       "|false|/7ONMDhnErvpkKvkZ...|        [28, 12, 53]| 575265|               en|Mission: Impossib...|ethan hunt and th...|   53.8733|/z53D72EAOxGRqdr7...|  2025-05-17|Mission: Impossib...|false|         0.0|         0|2025-05-05 23:08:...|2025-05-07|2025-05-28| 13|     0|      0|      0|\n",
       "|false|/pD5Z6YglDNcRhcrC...|     [36, 10402, 18]|    279|               en|             Amadeus|disciplined itali...|   52.3049|/1n5VUlCqgmVax1ad...|  1984-09-19|             Amadeus|false|         8.0|      4394|2025-05-05 23:08:...|2025-05-07|2025-05-28| 14|     0|      0|      0|\n",
       "|false|/jbLt5FDu5vflepQl...|          [27, 9648]| 574475|               en|Final Destination...|plagued by a viol...|   52.2423|/cAoktVUBhGyULRox...|  2025-05-09|Final Destination...|false|         6.0|         2|2025-05-05 23:08:...|2025-05-07|2025-05-28| 15|     0|      0|      0|\n",
       "|false|/wmqpE7p2dUCEgCno...|[27, 14, 53, 9648...|1353117|               en|Home Sweet Home: ...|when a city is ov...|   48.3805|/9rCBCm9cyI4JfLEh...|  2025-03-20|Home Sweet Home: ...|false|       6.402|        56|2025-05-05 23:08:...|2025-05-07|2025-05-28| 16|     0|      0|      0|\n",
       "|false|/9OO6I25MHhCDd0Xw...|            [28, 18]|1261050|               da|          De lydløse|in       a group ...|   37.2945|/7NLY1jNwtZX1yVzw...|  2024-10-31|      The Quiet Ones|false|        5.83|        44|2025-05-05 23:08:...|2025-05-07|2025-05-28| 17|     0|      0|      0|\n",
       "|false|/3ExQ28MVRaBbJFI2...|        [28, 35, 53]|1212855|               en|     Fight or Flight|a mercenary takes...|   36.2194|/x4nWnfgJvL045rcU...|  2025-04-03|     Fight or Flight|false|       5.708|        65|2025-05-05 23:08:...|2025-05-07|2025-05-28| 18|     0|      0|      0|\n",
       "|false|/xkjWiRQtrenqGRWO...|                [27]|1388366|               en|Popeye the Slayer...|a curious group o...|    34.748|/nVwu3mN7hr1yF467...|  2025-03-21|Popeye the Slayer...|false|       5.967|        92|2025-05-05 23:08:...|2025-05-07|2025-05-28| 19|     0|      0|      0|\n",
       "|false|/fuL0NvVCG7YYjhxk...|                [18]|1086497|               en| The Penguin Lessons|in       as argen...|    32.882|/hZ7rDX01j86x8O1E...|  2025-03-27| The Penguin Lessons|false|        7.06|        25|2025-05-05 23:08:...|2025-05-07|2025-05-28| 20|     0|      0|      0|\n",
       "+-----+--------------------+--------------------+-------+-----------------+--------------------+--------------------+----------+--------------------+------------+--------------------+-----+------------+----------+--------------------+----------+----------+---+------+-------+-------+\n",
       "only showing top 20 rows"
      ]
     },
     "execution_count": 86,
     "metadata": {},
     "output_type": "execute_result"
    }
   ],
   "source": [
    "processor = TMDBProcessor(spark, df)\n",
    "processor.ensure_schema()\n",
    "processor.remove_clear_duplicates()\n",
    "processor.normalize_text(['overview'])\n",
    "\n",
    "processor.df\n",
    "\n",
    "#processor.normalize_text(['title', 'description', 'content'])\n",
    "#processor.order_by('publishedAt', ascending=False)\n"
   ]
  },
  {
   "cell_type": "code",
   "execution_count": 82,
   "id": "21c36f29",
   "metadata": {},
   "outputs": [
    {
     "name": "stdout",
     "output_type": "stream",
     "text": [
      "+--------------------+\n",
      "|               title|\n",
      "+--------------------+\n",
      "|     the accountant |\n",
      "|  death of a unicorn|\n",
      "|          de lydl se|\n",
      "|                rust|\n",
      "|             amadeus|\n",
      "|                    |\n",
      "| the penguin lessons|\n",
      "|         flight risk|\n",
      "|          until dawn|\n",
      "|                    |\n",
      "|final destination...|\n",
      "|   in the lost lands|\n",
      "|   memoir of a snail|\n",
      "|         last breath|\n",
      "|     the last supper|\n",
      "|                opus|\n",
      "|popeye the slayer...|\n",
      "|           black bag|\n",
      "|                    |\n",
      "|       thunderbolts |\n",
      "+--------------------+\n",
      "only showing top 20 rows\n",
      "\n"
     ]
    }
   ],
   "source": [
    "value = processor.df.select(\"title\")\n",
    "print(value)"
   ]
  },
  {
   "cell_type": "code",
   "execution_count": 84,
   "id": "4cd2ebd5",
   "metadata": {},
   "outputs": [
    {
     "name": "stdout",
     "output_type": "stream",
     "text": [
      "+--------+-------+---+-----------------+--------------------+------------+-------+------+-------+-----+----------+------------+----------+--------------------+----------+----------+\n",
      "|   title|film_id| id|original_language|            overview|release_date|revenue|budget|runtime|adult|popularity|vote_average|vote_count|      ingestion_time|begin_date|  end_date|\n",
      "+--------+-------+---+-----------------+--------------------+------------+-------+------+-------+-----+----------+------------+----------+--------------------+----------+----------+\n",
      "|베테랑 2| 995926| 29|               ko|the veteran detec...|  2024-09-13|      0|     0|      0|false|   55.4906|       6.955|        55|2025-04-17 16:59:...|2025-04-23|2025-05-14|\n",
      "+--------+-------+---+-----------------+--------------------+------------+-------+------+-------+-----+----------+------------+----------+--------------------+----------+----------+\n",
      "\n"
     ]
    }
   ],
   "source": [
    "action_rows = processor.df.filter(F.col(\"id\") == \"29\")\n",
    "\n",
    "# Show them\n",
    "action_rows.show()"
   ]
  }
 ],
 "metadata": {
  "kernelspec": {
   "display_name": "spark311",
   "language": "python",
   "name": "python3"
  },
  "language_info": {
   "codemirror_mode": {
    "name": "ipython",
    "version": 3
   },
   "file_extension": ".py",
   "mimetype": "text/x-python",
   "name": "python",
   "nbconvert_exporter": "python",
   "pygments_lexer": "ipython3",
   "version": "3.11.11"
  }
 },
 "nbformat": 4,
 "nbformat_minor": 5
}
