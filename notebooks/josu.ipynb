{
 "cells": [
  {
   "cell_type": "code",
   "execution_count": 3,
   "id": "e743debb",
   "metadata": {},
   "outputs": [
    {
     "name": "stdout",
     "output_type": "stream",
     "text": [
      "The autoreload extension is already loaded. To reload it, use:\n",
      "  %reload_ext autoreload\n"
     ]
    }
   ],
   "source": [
    "from pyspark.sql.types import IntegerType\n",
    "%load_ext autoreload\n",
    "%autoreload 2\n",
    "\n",
    "import pyspark\n",
    "from delta import *\n",
    "\n",
    "import sys\n",
    "\n",
    "sys.path.append(\"..\")  # Adjust path if needed\n",
    "from dags.lib.IncrementalLoader import IncrementalLoader\n",
    "from dags.lib.Processer import *\n",
    "\n",
    "from pyspark.sql.functions import col, lit, max as spark_max, length, row_number, explode\n",
    "\n",
    "def create_spark_local_session():\n",
    "    builder = pyspark.sql.SparkSession.builder.appName(\"LetsTalk\") \\\n",
    "        .config(\"spark.sql.extensions\", \"io.delta.sql.DeltaSparkSessionExtension\") \\\n",
    "        .config(\"spark.sql.catalog.spark_catalog\", \"org.apache.spark.sql.delta.catalog.DeltaCatalog\")\n",
    "\n",
    "    spark = configure_spark_with_delta_pip(builder).getOrCreate()\n",
    "    return spark\n",
    "\n"
   ]
  },
  {
   "cell_type": "code",
   "execution_count": 17,
   "id": "41fd6ae4",
   "metadata": {},
   "outputs": [],
   "source": [
    "spark = create_spark_local_session()\n",
    "spark.conf.set('spark.sql.repl.eagerEval.enabled', True)\n",
    "delta_sports = \"../data/delta_sports/leagues/part-00000-0ee262ed-d010-4d83-912f-c464a7d3249d-c000.snappy.parquet\"\n",
    "delta_tmdb = \"../data/delta_tmdb/trending/part-00000-2e2f77c7-c3dc-440a-80ff-bc0fb3811041-c000.snappy.parquet\""
   ]
  },
  {
   "cell_type": "code",
   "execution_count": 15,
   "id": "15d19d53",
   "metadata": {},
   "outputs": [],
   "source": [
    "def read_parquet(spark, path):\n",
    "    df = spark.read.parquet(path)\n",
    "    df.show(5)\n",
    "    return df"
   ]
  },
  {
   "cell_type": "code",
   "execution_count": 18,
   "id": "1287b41f",
   "metadata": {},
   "outputs": [
    {
     "name": "stdout",
     "output_type": "stream",
     "text": [
      "+-----+--------------------+-------------+-------+----------+-----------------+--------------------+--------------------+----------+--------------------+------------+--------------------+-----+------------+----------+--------------------+\n",
      "|adult|       backdrop_path|    genre_ids|     id|media_type|original_language|      original_title|            overview|popularity|         poster_path|release_date|               title|video|vote_average|vote_count|      ingestion_time|\n",
      "+-----+--------------------+-------------+-------+----------+-----------------+--------------------+--------------------+----------+--------------------+------------+--------------------+-----+------------+----------+--------------------+\n",
      "|false|/fTrQsdMS2MUw00Rn...| [28, 80, 53]|1197306|     movie|               en|       A Working Man|Levon Cade left b...| 1086.1895|/xUkUZ8eOnrOnnJAf...|  2025-03-26|       A Working Man|false|       6.324|       387|2025-04-23 08:47:...|\n",
      "|false|/nAxGnGHOsfzufThz...| [27, 28, 53]|1233413|     movie|               en|             Sinners|Trying to leave t...|  266.5366|/fWPgbnt2LSqkQ6cd...|  2025-04-16|             Sinners|false|         7.4|       247|2025-04-23 08:47:...|\n",
      "|false|/jhL4eTpccoZSVehh...|[28, 53, 878]| 822119|     movie|               en|Captain America: ...|After meeting wit...|  376.8807|/pzIddUEMWhWzfvLI...|  2025-02-12|Captain America: ...|false|       6.142|      1589|2025-04-23 08:47:...|\n",
      "|false|/4mM7m9L3XlPLq4vN...| [53, 80, 18]|1371202|     movie|               nl|            iHostage|When a gunman ent...|   99.0353|/h87bgIhs4keL005C...|  2025-04-18|            iHostage|false|       6.087|        75|2025-04-23 08:47:...|\n",
      "|false|/hNA73rnG4PjSwgoj...|[878, 35, 12]| 696506|     movie|               en|           Mickey 17|Unlikely hero Mic...|  129.3073|/edKpE9B5qN3e559O...|  2025-02-28|           Mickey 17|false|       6.904|      1690|2025-04-23 08:47:...|\n",
      "+-----+--------------------+-------------+-------+----------+-----------------+--------------------+--------------------+----------+--------------------+------------+--------------------+-----+------------+----------+--------------------+\n",
      "only showing top 5 rows\n",
      "\n"
     ]
    }
   ],
   "source": [
    "df=read_parquet(spark, delta_tmdb)"
   ]
  }
 ],
 "metadata": {
  "kernelspec": {
   "display_name": "base",
   "language": "python",
   "name": "python3"
  },
  "language_info": {
   "codemirror_mode": {
    "name": "ipython",
    "version": 3
   },
   "file_extension": ".py",
   "mimetype": "text/x-python",
   "name": "python",
   "nbconvert_exporter": "python",
   "pygments_lexer": "ipython3",
   "version": "3.12.7"
  }
 },
 "nbformat": 4,
 "nbformat_minor": 5
}
