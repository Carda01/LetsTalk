{
 "cells": [
  {
   "cell_type": "code",
   "id": "initial_id",
   "metadata": {
    "collapsed": true,
    "ExecuteTime": {
     "end_time": "2025-05-02T16:04:31.522846Z",
     "start_time": "2025-05-02T16:04:31.443451Z"
    }
   },
   "source": [
    "%load_ext autoreload\n",
    "%autoreload 2\n",
    "\n",
    "import pyspark\n",
    "from delta import *\n",
    "from dags.lib.IncrementalLoader import IncrementalLoader\n",
    "from dags.lib.Processer import *"
   ],
   "outputs": [],
   "execution_count": 1
  },
  {
   "metadata": {
    "ExecuteTime": {
     "end_time": "2025-05-02T16:04:33.329721Z",
     "start_time": "2025-05-02T16:04:33.174284Z"
    }
   },
   "cell_type": "code",
   "source": [
    "def create_spark_session():\n",
    "    conf = (\n",
    "        pyspark.conf.SparkConf()\n",
    "        .setAppName(\"LetsTalk\")\n",
    "        .set(\n",
    "            \"spark.sql.catalog.spark_catalog\",\n",
    "            \"org.apache.spark.sql.delta.catalog.DeltaCatalog\",\n",
    "        )\n",
    "        .set(\"spark.sql.extensions\", \"io.delta.sql.DeltaSparkSessionExtension\")\n",
    "        .set(\"spark.hadoop.fs.gs.impl\", \"com.google.cloud.hadoop.fs.gcs.GoogleHadoopFileSystem\")\n",
    "        .set(\"spark.hadoop.google.cloud.auth.service.account.enable\", \"true\")\n",
    "        .set(\"spark.hadoop.google.cloud.auth.service.account.json.keyfile\", \"/Users/alfio/projects/upc/BDMP2/gcs.json\")\n",
    "        .set(\"spark.sql.shuffle.partitions\", \"4\")\n",
    "        .set(\"spark.jars\", \"../jars/gcs-connector-hadoop3-latest.jar\")\n",
    "        .setMaster(\n",
    "            \"local[*]\"\n",
    "        )\n",
    "    )\n",
    "\n",
    "    builder = pyspark.sql.SparkSession.builder.appName(\"LetsTalk\").config(conf=conf)\n",
    "    spark = configure_spark_with_delta_pip(builder).getOrCreate()\n",
    "    return spark\n",
    "\n"
   ],
   "id": "a0fed999dd78466a",
   "outputs": [],
   "execution_count": 2
  },
  {
   "metadata": {
    "ExecuteTime": {
     "end_time": "2025-05-02T16:04:35.869069Z",
     "start_time": "2025-05-02T16:04:34.183018Z"
    }
   },
   "cell_type": "code",
   "source": [
    "spark = create_spark_session()\n",
    "spark.conf.set('spark.sql.repl.eagerEval.enabled', True)"
   ],
   "id": "314d425a93c6dfe7",
   "outputs": [
    {
     "name": "stdout",
     "output_type": "stream",
     "text": [
      ":: loading settings :: url = jar:file:/Users/alfio/python_venv/general/lib/python3.13/site-packages/pyspark/jars/ivy-2.5.1.jar!/org/apache/ivy/core/settings/ivysettings.xml\n"
     ]
    },
    {
     "name": "stderr",
     "output_type": "stream",
     "text": [
      "Ivy Default Cache set to: /Users/alfio/.ivy2/cache\n",
      "The jars for the packages stored in: /Users/alfio/.ivy2/jars\n",
      "io.delta#delta-spark_2.12 added as a dependency\n",
      ":: resolving dependencies :: org.apache.spark#spark-submit-parent-4a4f0c4a-0d0c-4201-ac6c-19756581a39d;1.0\n",
      "\tconfs: [default]\n",
      "\tfound io.delta#delta-spark_2.12;3.3.0 in central\n",
      "\tfound io.delta#delta-storage;3.3.0 in central\n",
      "\tfound org.antlr#antlr4-runtime;4.9.3 in central\n",
      ":: resolution report :: resolve 71ms :: artifacts dl 3ms\n",
      "\t:: modules in use:\n",
      "\tio.delta#delta-spark_2.12;3.3.0 from central in [default]\n",
      "\tio.delta#delta-storage;3.3.0 from central in [default]\n",
      "\torg.antlr#antlr4-runtime;4.9.3 from central in [default]\n",
      "\t---------------------------------------------------------------------\n",
      "\t|                  |            modules            ||   artifacts   |\n",
      "\t|       conf       | number| search|dwnlded|evicted|| number|dwnlded|\n",
      "\t---------------------------------------------------------------------\n",
      "\t|      default     |   3   |   0   |   0   |   0   ||   3   |   0   |\n",
      "\t---------------------------------------------------------------------\n",
      ":: retrieving :: org.apache.spark#spark-submit-parent-4a4f0c4a-0d0c-4201-ac6c-19756581a39d\n",
      "\tconfs: [default]\n",
      "\t0 artifacts copied, 3 already retrieved (0kB/3ms)\n",
      "25/05/02 18:04:35 WARN NativeCodeLoader: Unable to load native-hadoop library for your platform... using builtin-java classes where applicable\n",
      "Setting default log level to \"WARN\".\n",
      "To adjust logging level use sc.setLogLevel(newLevel). For SparkR, use setLogLevel(newLevel).\n"
     ]
    }
   ],
   "execution_count": 3
  },
  {
   "metadata": {
    "ExecuteTime": {
     "end_time": "2025-05-02T16:04:41.898255Z",
     "start_time": "2025-05-02T16:04:36.902753Z"
    }
   },
   "cell_type": "code",
   "source": [
    "loader = IncrementalLoader(spark, '/Users/alfio/projects/upc/BDMP2/data/letstalk_landing_zone_bdma', 'delta_news/sports')\n",
    "df = loader.get_new_data()"
   ],
   "id": "48958801fe4d1ecd",
   "outputs": [
    {
     "name": "stderr",
     "output_type": "stream",
     "text": [
      "25/05/02 18:04:38 WARN SparkStringUtils: Truncated the string representation of a plan since it was too large. This behavior can be adjusted by setting 'spark.sql.debug.maxToStringFields'.\n"
     ]
    },
    {
     "name": "stdout",
     "output_type": "stream",
     "text": [
      "CDF not available — doing full load\n"
     ]
    },
    {
     "name": "stderr",
     "output_type": "stream",
     "text": [
      "25/05/02 18:04:41 WARN DeltaHistoryManager: Found Delta commit 1 with a timestamp 1745921639653 which is greater than the next commit timestamp 1745921639219.\n",
      "25/05/02 18:04:41 WARN DeltaHistoryManager: Found Delta commit 2 with a timestamp 1745921639654 which is greater than the next commit timestamp 1745921639603.\n",
      "25/05/02 18:04:41 WARN DeltaHistoryManager: Found Delta commit 3 with a timestamp 1745921639655 which is greater than the next commit timestamp 1745921639603.\n",
      "25/05/02 18:04:41 WARN DeltaHistoryManager: Found Delta commit 4 with a timestamp 1745921639656 which is greater than the next commit timestamp 1745921639653.\n",
      "25/05/02 18:04:41 WARN DeltaHistoryManager: Found Delta commit 5 with a timestamp 1745921639657 which is greater than the next commit timestamp 1745921639445.\n",
      "25/05/02 18:04:41 WARN DeltaHistoryManager: Found Delta commit 6 with a timestamp 1745921639658 which is greater than the next commit timestamp 1745921639603.\n",
      "25/05/02 18:04:41 WARN DeltaHistoryManager: Found Delta commit 9 with a timestamp 1745921639965 which is greater than the next commit timestamp 1745921639856.\n",
      "25/05/02 18:04:41 WARN DeltaHistoryManager: Found Delta commit 11 with a timestamp 1745921640038 which is greater than the next commit timestamp 1745921639863.\n"
     ]
    }
   ],
   "execution_count": 4
  },
  {
   "metadata": {
    "ExecuteTime": {
     "end_time": "2025-05-02T16:05:25.844329Z",
     "start_time": "2025-05-02T16:05:25.804469Z"
    }
   },
   "cell_type": "code",
   "source": "processor = NewsProcessor(spark, df)",
   "id": "eff4df97460bd4d8",
   "outputs": [],
   "execution_count": 10
  },
  {
   "metadata": {
    "ExecuteTime": {
     "end_time": "2025-05-02T16:05:27.018147Z",
     "start_time": "2025-05-02T16:05:26.550067Z"
    }
   },
   "cell_type": "code",
   "source": [
    "processor.remove_clear_duplicates()\n",
    "processor.name_to_id()\n",
    "processor.remove_hidden_duplicates(['url'])\n",
    "processor.ensure_schema()"
   ],
   "id": "8aa9bbdbf1e22dcd",
   "outputs": [
    {
     "name": "stdout",
     "output_type": "stream",
     "text": [
      "Removed 46 simple duplicate(s)\n",
      "Removed 1 hidden duplicate(s)\n"
     ]
    }
   ],
   "execution_count": 11
  },
  {
   "metadata": {
    "ExecuteTime": {
     "end_time": "2025-05-02T16:05:42.679639Z",
     "start_time": "2025-05-02T16:05:42.368051Z"
    }
   },
   "cell_type": "code",
   "source": "processor.df",
   "id": "a11295a8d33147ff",
   "outputs": [
    {
     "data": {
      "text/plain": [
       "+--------------------+--------------------+--------------------+--------------------+-------------------+--------------------+--------------------+--------------------+\n",
       "|                 url|              author|             content|         description|        publishedAt|              source|               title|          urlToImage|\n",
       "+--------------------+--------------------+--------------------+--------------------+-------------------+--------------------+--------------------+--------------------+\n",
       "|http://deadline.c...|      Dominic Patten|Both lawyers for ...|The ESPN host say...|2025-04-23 03:32:00|{deadline, Deadline}|Shannon Sharpe Ad...|https://deadline....|\n",
       "|http://deadline.c...|   Natalie Oganesyan|With a hometown v...|With a hometown v...|2025-04-27 05:05:00|{deadline, Deadline}|Wrexham Promoted ...|https://deadline....|\n",
       "|http://pitcherlis...|        Nick Pollack|Welcome to the SP...|Nick Pollack revi...|2025-04-16 09:35:04|{pitcherlist.com,...|Fantasy Baseball ...|https://pitcherli...|\n",
       "|http://www.hollyw...|         Alex Weprin|ESPNFirst Take ho...|Smith said on his...|2025-04-26 01:58:33|{hollywood-report...|Stephen A. Smith ...|https://www.holly...|\n",
       "|https://247sports...|Chris Hummer and ...|To read this full...|After the 2025 co...|2025-04-17 16:37:30|{247sports, 247Sp...|Transfer portal i...|https://s3media.2...|\n",
       "|https://247sports...|Chris Hummer and ...|The 2025 college ...|From updates on t...|2025-04-15 17:05:24|{247sports, 247Sp...|Transfer portal's...|https://s3media.2...|\n",
       "|https://247sports...|          Kipp Adams|The 2025 NFL Draf...|The Dawgs once ag...|2025-04-28 01:28:13|{247sports, 247Sp...|Two Georgia footb...|https://s3media.2...|\n",
       "|https://247sports...|          Adam Smith|UNC is losing its...|Were profiling th...|2025-04-16 05:00:37|{247sports, 247Sp...|UNC Football Tran...|https://s3media.2...|\n",
       "|https://247sports...|       Patrick Brown|The offseason for...|GoVols247 puts a ...|2025-04-22 23:11:15|{247sports, 247Sp...|X’s and O’s: Brea...|https://s3media.2...|\n",
       "|https://247sports...|       Brad Crawford|The 2025 NFL Draf...|Several allconfer...|2025-04-27 16:03:45|{247sports, 247Sp...|2025 NFL Draft's ...|https://s3media.2...|\n",
       "|https://247sports...|        Grant Hughes|Hummer: \"He only ...|Updated informati...|2025-04-17 02:54:14|{247sports, 247Sp...|College football ...|https://s3media.2...|\n",
       "|https://247sports...|      Andrew Freeman|With the start of...|Bear Report write...|2025-04-23 15:04:15|{247sports, 247Sp...|Chicago Bears 202...|https://s3media.2...|\n",
       "|https://247sports...|           Brad Ward|Pick 67. Tre Harr...|Cleveland Browns ...|2025-04-17 13:05:09|{247sports, 247Sp...|OBR Daily Browns ...|https://s3media.2...|\n",
       "|https://6abc.com/...|        Walter Perez|PHILADELPHIA (WPV...|News of the Eagle...|2025-04-21 23:01:01|  {wpvi-tv, WPVI-TV}|A.J. Brown's stol...|https://cdn.abcot...|\n",
       "|https://about.nik...|                NULL|How do you make t...|Breaking4: Faith ...|2025-04-23 15:59:50|{nike.com, Nike.com}|Nike Announces Br...|https://media.abo...|\n",
       "|https://andscape....|      Justin Tinsley|Travis Hunter, th...|Travis Hunter, th...|2025-04-23 22:01:35|{andscape.com, An...|Travis Hunter ear...|https://andscape....|\n",
       "|https://apnews.co...|         Aaron Beard|SAN ANTONIO (AP) ...|Duke star Cooper ...|2025-04-04 19:01:00|{associated-press...|Duke freshman sta...|https://dims.apne...|\n",
       "|https://apnews.co...|       John Marshall|Bruce Pearl has t...|Bruce Pearl of Au...|2025-04-04 18:02:00|{associated-press...|Auburn's Pearl an...|https://dims.apne...|\n",
       "|https://apnews.co...|         Aaron Beard|Duke star Cooper ...|Duke star Cooper ...|2025-04-21 19:54:00|{associated-press...|Duke freshman Coo...|https://dims.apne...|\n",
       "|https://apnews.co...|        Tim Reynolds|MIAMI (AP) Ja Mor...|Ja Morant showed ...|2025-04-04 18:06:00|{associated-press...|NBA fines Grizzli...|https://dims.apne...|\n",
       "+--------------------+--------------------+--------------------+--------------------+-------------------+--------------------+--------------------+--------------------+\n",
       "only showing top 20 rows"
      ],
      "text/html": [
       "<table border='1'>\n",
       "<tr><th>url</th><th>author</th><th>content</th><th>description</th><th>publishedAt</th><th>source</th><th>title</th><th>urlToImage</th></tr>\n",
       "<tr><td>http://deadline.c...</td><td>Dominic Patten</td><td>Both lawyers for ...</td><td>The ESPN host say...</td><td>2025-04-23 03:32:00</td><td>{deadline, Deadline}</td><td>Shannon Sharpe Ad...</td><td>https://deadline....</td></tr>\n",
       "<tr><td>http://deadline.c...</td><td>Natalie Oganesyan</td><td>With a hometown v...</td><td>With a hometown v...</td><td>2025-04-27 05:05:00</td><td>{deadline, Deadline}</td><td>Wrexham Promoted ...</td><td>https://deadline....</td></tr>\n",
       "<tr><td>http://pitcherlis...</td><td>Nick Pollack</td><td>Welcome to the SP...</td><td>Nick Pollack revi...</td><td>2025-04-16 09:35:04</td><td>{pitcherlist.com,...</td><td>Fantasy Baseball ...</td><td>https://pitcherli...</td></tr>\n",
       "<tr><td>http://www.hollyw...</td><td>Alex Weprin</td><td>ESPNFirst Take ho...</td><td>Smith said on his...</td><td>2025-04-26 01:58:33</td><td>{hollywood-report...</td><td>Stephen A. Smith ...</td><td>https://www.holly...</td></tr>\n",
       "<tr><td>https://247sports...</td><td>Chris Hummer and ...</td><td>To read this full...</td><td>After the 2025 co...</td><td>2025-04-17 16:37:30</td><td>{247sports, 247Sp...</td><td>Transfer portal i...</td><td>https://s3media.2...</td></tr>\n",
       "<tr><td>https://247sports...</td><td>Chris Hummer and ...</td><td>The 2025 college ...</td><td>From updates on t...</td><td>2025-04-15 17:05:24</td><td>{247sports, 247Sp...</td><td>Transfer portal's...</td><td>https://s3media.2...</td></tr>\n",
       "<tr><td>https://247sports...</td><td>Kipp Adams</td><td>The 2025 NFL Draf...</td><td>The Dawgs once ag...</td><td>2025-04-28 01:28:13</td><td>{247sports, 247Sp...</td><td>Two Georgia footb...</td><td>https://s3media.2...</td></tr>\n",
       "<tr><td>https://247sports...</td><td>Adam Smith</td><td>UNC is losing its...</td><td>Were profiling th...</td><td>2025-04-16 05:00:37</td><td>{247sports, 247Sp...</td><td>UNC Football Tran...</td><td>https://s3media.2...</td></tr>\n",
       "<tr><td>https://247sports...</td><td>Patrick Brown</td><td>The offseason for...</td><td>GoVols247 puts a ...</td><td>2025-04-22 23:11:15</td><td>{247sports, 247Sp...</td><td>X&rsquo;s and O&rsquo;s: Brea...</td><td>https://s3media.2...</td></tr>\n",
       "<tr><td>https://247sports...</td><td>Brad Crawford</td><td>The 2025 NFL Draf...</td><td>Several allconfer...</td><td>2025-04-27 16:03:45</td><td>{247sports, 247Sp...</td><td>2025 NFL Draft's ...</td><td>https://s3media.2...</td></tr>\n",
       "<tr><td>https://247sports...</td><td>Grant Hughes</td><td>Hummer: &quot;He only ...</td><td>Updated informati...</td><td>2025-04-17 02:54:14</td><td>{247sports, 247Sp...</td><td>College football ...</td><td>https://s3media.2...</td></tr>\n",
       "<tr><td>https://247sports...</td><td>Andrew Freeman</td><td>With the start of...</td><td>Bear Report write...</td><td>2025-04-23 15:04:15</td><td>{247sports, 247Sp...</td><td>Chicago Bears 202...</td><td>https://s3media.2...</td></tr>\n",
       "<tr><td>https://247sports...</td><td>Brad Ward</td><td>Pick 67. Tre Harr...</td><td>Cleveland Browns ...</td><td>2025-04-17 13:05:09</td><td>{247sports, 247Sp...</td><td>OBR Daily Browns ...</td><td>https://s3media.2...</td></tr>\n",
       "<tr><td>https://6abc.com/...</td><td>Walter Perez</td><td>PHILADELPHIA (WPV...</td><td>News of the Eagle...</td><td>2025-04-21 23:01:01</td><td>{wpvi-tv, WPVI-TV}</td><td>A.J. Brown's stol...</td><td>https://cdn.abcot...</td></tr>\n",
       "<tr><td>https://about.nik...</td><td>NULL</td><td>How do you make t...</td><td>Breaking4: Faith ...</td><td>2025-04-23 15:59:50</td><td>{nike.com, Nike.com}</td><td>Nike Announces Br...</td><td>https://media.abo...</td></tr>\n",
       "<tr><td>https://andscape....</td><td>Justin Tinsley</td><td>Travis Hunter, th...</td><td>Travis Hunter, th...</td><td>2025-04-23 22:01:35</td><td>{andscape.com, An...</td><td>Travis Hunter ear...</td><td>https://andscape....</td></tr>\n",
       "<tr><td>https://apnews.co...</td><td>Aaron Beard</td><td>SAN ANTONIO (AP) ...</td><td>Duke star Cooper ...</td><td>2025-04-04 19:01:00</td><td>{associated-press...</td><td>Duke freshman sta...</td><td>https://dims.apne...</td></tr>\n",
       "<tr><td>https://apnews.co...</td><td>John Marshall</td><td>Bruce Pearl has t...</td><td>Bruce Pearl of Au...</td><td>2025-04-04 18:02:00</td><td>{associated-press...</td><td>Auburn's Pearl an...</td><td>https://dims.apne...</td></tr>\n",
       "<tr><td>https://apnews.co...</td><td>Aaron Beard</td><td>Duke star Cooper ...</td><td>Duke star Cooper ...</td><td>2025-04-21 19:54:00</td><td>{associated-press...</td><td>Duke freshman Coo...</td><td>https://dims.apne...</td></tr>\n",
       "<tr><td>https://apnews.co...</td><td>Tim Reynolds</td><td>MIAMI (AP) Ja Mor...</td><td>Ja Morant showed ...</td><td>2025-04-04 18:06:00</td><td>{associated-press...</td><td>NBA fines Grizzli...</td><td>https://dims.apne...</td></tr>\n",
       "</table>\n",
       "only showing top 20 rows\n"
      ]
     },
     "execution_count": 13,
     "metadata": {},
     "output_type": "execute_result"
    }
   ],
   "execution_count": 13
  }
 ],
 "metadata": {
  "kernelspec": {
   "display_name": "Python 3",
   "language": "python",
   "name": "python3"
  },
  "language_info": {
   "codemirror_mode": {
    "name": "ipython",
    "version": 2
   },
   "file_extension": ".py",
   "mimetype": "text/x-python",
   "name": "python",
   "nbconvert_exporter": "python",
   "pygments_lexer": "ipython2",
   "version": "2.7.6"
  }
 },
 "nbformat": 4,
 "nbformat_minor": 5
}
