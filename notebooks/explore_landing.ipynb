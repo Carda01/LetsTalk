{
 "cells": [
  {
   "cell_type": "code",
   "id": "initial_id",
   "metadata": {
    "collapsed": true,
    "ExecuteTime": {
     "end_time": "2025-04-29T10:25:11.108859Z",
     "start_time": "2025-04-29T10:25:11.047844Z"
    }
   },
   "source": [
    "import pyspark\n",
    "from pyspark.sql.functions import current_timestamp\n",
    "from delta import *"
   ],
   "outputs": [],
   "execution_count": 1
  },
  {
   "metadata": {
    "ExecuteTime": {
     "end_time": "2025-04-29T10:25:11.116088Z",
     "start_time": "2025-04-29T10:25:11.114112Z"
    }
   },
   "cell_type": "code",
   "source": [
    "def create_spark_session():\n",
    "    conf = (\n",
    "        pyspark.conf.SparkConf()\n",
    "        .setAppName(\"LetsTalk\")\n",
    "        .set(\n",
    "            \"spark.sql.catalog.spark_catalog\",\n",
    "            \"org.apache.spark.sql.delta.catalog.DeltaCatalog\",\n",
    "        )\n",
    "        .set(\"spark.sql.extensions\", \"io.delta.sql.DeltaSparkSessionExtension\")\n",
    "        .set(\"spark.hadoop.fs.gs.impl\", \"com.google.cloud.hadoop.fs.gcs.GoogleHadoopFileSystem\")\n",
    "        .set(\"spark.hadoop.google.cloud.auth.service.account.enable\", \"true\")\n",
    "        .set(\"spark.hadoop.google.cloud.auth.service.account.json.keyfile\", \"/Users/alfio/projects/upc/LetsTalkBDM/gcs.json\")\n",
    "        .set(\"spark.sql.shuffle.partitions\", \"4\")\n",
    "        .set(\"spark.jars\", \"../jars/gcs-connector-hadoop3-latest.jar\")\n",
    "        .setMaster(\n",
    "            \"local[*]\"\n",
    "        )\n",
    "    )\n",
    "\n",
    "    builder = pyspark.sql.SparkSession.builder.appName(\"LetsTalk\").config(conf=conf)\n",
    "    spark = configure_spark_with_delta_pip(builder).getOrCreate()\n",
    "    return spark\n",
    "\n"
   ],
   "id": "a0fed999dd78466a",
   "outputs": [],
   "execution_count": 2
  },
  {
   "metadata": {
    "ExecuteTime": {
     "end_time": "2025-04-29T10:58:23.740175Z",
     "start_time": "2025-04-29T10:58:23.712821Z"
    }
   },
   "cell_type": "code",
   "source": [
    "spark = create_spark_session()\n",
    "spark.conf.set('spark.sql.repl.eagerEval.enabled', True)"
   ],
   "id": "314d425a93c6dfe7",
   "outputs": [],
   "execution_count": 11
  },
  {
   "metadata": {
    "ExecuteTime": {
     "end_time": "2025-04-29T12:11:12.906006Z",
     "start_time": "2025-04-29T12:11:12.880277Z"
    }
   },
   "cell_type": "code",
   "source": [
    "deltane = DeltaTable.forPath(spark, \"../data/letstalk_landing_zone_bdma/delta_news/entertainment\")\n",
    "dfne = deltane.toDF()"
   ],
   "id": "16a0124018012ce5",
   "outputs": [],
   "execution_count": 26
  },
  {
   "metadata": {
    "ExecuteTime": {
     "end_time": "2025-04-29T12:24:29.012846Z",
     "start_time": "2025-04-29T12:24:28.803673Z"
    }
   },
   "cell_type": "code",
   "source": [
    "print(dfne.count())\n",
    "print(dfne.dropDuplicates().count())"
   ],
   "id": "47af411f91a66b59",
   "outputs": [
    {
     "name": "stdout",
     "output_type": "stream",
     "text": [
      "422\n",
      "386\n"
     ]
    }
   ],
   "execution_count": 43
  },
  {
   "metadata": {
    "ExecuteTime": {
     "end_time": "2025-04-29T11:02:31.248063Z",
     "start_time": "2025-04-29T11:02:31.110880Z"
    }
   },
   "cell_type": "code",
   "source": "dfne.groupBy('publishedAt').count().orderBy('count', ascending=False).show()",
   "id": "fcb0ac2df2bcacd5",
   "outputs": [
    {
     "name": "stdout",
     "output_type": "stream",
     "text": [
      "+--------------------+-----+\n",
      "|         publishedAt|count|\n",
      "+--------------------+-----+\n",
      "|2025-04-25T02:00:00Z|    3|\n",
      "|2025-04-22T00:45:04Z|    3|\n",
      "|2025-04-25T20:38:00Z|    2|\n",
      "|2025-04-25T23:01:39Z|    2|\n",
      "|2025-04-26T01:01:00Z|    2|\n",
      "|2025-04-17T02:47:45Z|    2|\n",
      "|2025-04-16T14:00:00Z|    2|\n",
      "|2025-04-25T20:57:06Z|    2|\n",
      "|2025-04-17T07:01:36Z|    2|\n",
      "|2025-04-24T20:31:40Z|    2|\n",
      "|2025-04-17T04:01:00Z|    2|\n",
      "|2025-04-25T02:58:00Z|    2|\n",
      "|2025-04-17T02:29:12Z|    2|\n",
      "|2025-04-25T22:30:00Z|    2|\n",
      "|2025-04-23T13:00:00Z|    2|\n",
      "|2025-04-26T00:17:00Z|    2|\n",
      "|2025-04-16T19:00:00Z|    2|\n",
      "|2025-04-22T00:55:31Z|    2|\n",
      "|2025-04-27T11:00:00Z|    2|\n",
      "|2025-04-22T00:02:58Z|    2|\n",
      "+--------------------+-----+\n",
      "only showing top 20 rows\n",
      "\n"
     ]
    }
   ],
   "execution_count": 16
  },
  {
   "metadata": {
    "ExecuteTime": {
     "end_time": "2025-04-29T11:47:07.065186Z",
     "start_time": "2025-04-29T11:47:07.055990Z"
    }
   },
   "cell_type": "code",
   "source": [
    "deltatu = DeltaTable.forPath(spark, \"../data/letstalk_landing_zone_bdma/delta_tmdb/upcoming\")\n",
    "dftu = deltatu.toDF()"
   ],
   "id": "b4beb5a6bc965c9c",
   "outputs": [],
   "execution_count": 19
  },
  {
   "metadata": {
    "ExecuteTime": {
     "end_time": "2025-04-29T11:47:55.775637Z",
     "start_time": "2025-04-29T11:47:55.672917Z"
    }
   },
   "cell_type": "code",
   "source": "dftu.groupby('id').count().orderBy('count', ascending=False).show()",
   "id": "fc2ab4db476d655f",
   "outputs": [
    {
     "name": "stdout",
     "output_type": "stream",
     "text": [
      "+-------+-----+\n",
      "|     id|count|\n",
      "+-------+-----+\n",
      "|1244944|    3|\n",
      "|1126166|    3|\n",
      "|1064486|    3|\n",
      "| 995926|    3|\n",
      "|1233575|    3|\n",
      "|1212855|    3|\n",
      "|1226406|    3|\n",
      "|1241436|    3|\n",
      "| 324544|    3|\n",
      "|1353117|    3|\n",
      "|1388366|    3|\n",
      "|1380415|    2|\n",
      "| 970450|    2|\n",
      "| 575265|    2|\n",
      "| 986056|    2|\n",
      "|1181107|    2|\n",
      "|1233413|    2|\n",
      "|1232546|    2|\n",
      "|1249289|    1|\n",
      "|1249213|    1|\n",
      "+-------+-----+\n",
      "only showing top 20 rows\n",
      "\n"
     ]
    }
   ],
   "execution_count": 23
  },
  {
   "metadata": {
    "ExecuteTime": {
     "end_time": "2025-04-29T11:49:49.053619Z",
     "start_time": "2025-04-29T11:49:48.853633Z"
    }
   },
   "cell_type": "code",
   "source": "dftu.filter(dftu.id == 1244944)",
   "id": "8850a9322ff614c",
   "outputs": [
    {
     "data": {
      "text/plain": [
       "+-----+--------------------+----------+-------+-----------------+--------------------+--------------------+----------+--------------------+------------+--------------------+-----+------------+----------+--------------------+----------+----------+\n",
       "|adult|       backdrop_path| genre_ids|     id|original_language|      original_title|            overview|popularity|         poster_path|release_date|               title|video|vote_average|vote_count|      ingestion_time|begin_date|  end_date|\n",
       "+-----+--------------------+----------+-------+-----------------+--------------------+--------------------+----------+--------------------+------------+--------------------+-----+------------+----------+--------------------+----------+----------+\n",
       "|false|/3lEV4CoKoeT2cZ4f...|[27, 9648]|1244944|               en|The Woman in the ...|In the aftermath ...|  172.9102|/n0WS2TsNcS6dtaZK...|  2025-03-27|The Woman in the ...|false|        6.27|        37|2025-04-17 16:59:...|2025-04-23|2025-05-14|\n",
       "|false|/3lEV4CoKoeT2cZ4f...|[27, 9648]|1244944|               en|The Woman in the ...|In the aftermath ...|  157.7558|/n0WS2TsNcS6dtaZK...|  2025-03-27|The Woman in the ...|false|         6.0|        97|2025-04-27 12:53:...|2025-04-30|2025-05-21|\n",
       "|false|/3lEV4CoKoeT2cZ4f...|[27, 9648]|1244944|               en|The Woman in the ...|In the aftermath ...|  262.5169|/n0WS2TsNcS6dtaZK...|  2025-03-27|The Woman in the ...|false|         6.0|        89|2025-04-23 08:47:...|2025-04-30|2025-05-21|\n",
       "+-----+--------------------+----------+-------+-----------------+--------------------+--------------------+----------+--------------------+------------+--------------------+-----+------------+----------+--------------------+----------+----------+"
      ],
      "text/html": [
       "<table border='1'>\n",
       "<tr><th>adult</th><th>backdrop_path</th><th>genre_ids</th><th>id</th><th>original_language</th><th>original_title</th><th>overview</th><th>popularity</th><th>poster_path</th><th>release_date</th><th>title</th><th>video</th><th>vote_average</th><th>vote_count</th><th>ingestion_time</th><th>begin_date</th><th>end_date</th></tr>\n",
       "<tr><td>false</td><td>/3lEV4CoKoeT2cZ4f...</td><td>[27, 9648]</td><td>1244944</td><td>en</td><td>The Woman in the ...</td><td>In the aftermath ...</td><td>172.9102</td><td>/n0WS2TsNcS6dtaZK...</td><td>2025-03-27</td><td>The Woman in the ...</td><td>false</td><td>6.27</td><td>37</td><td>2025-04-17 16:59:...</td><td>2025-04-23</td><td>2025-05-14</td></tr>\n",
       "<tr><td>false</td><td>/3lEV4CoKoeT2cZ4f...</td><td>[27, 9648]</td><td>1244944</td><td>en</td><td>The Woman in the ...</td><td>In the aftermath ...</td><td>157.7558</td><td>/n0WS2TsNcS6dtaZK...</td><td>2025-03-27</td><td>The Woman in the ...</td><td>false</td><td>6.0</td><td>97</td><td>2025-04-27 12:53:...</td><td>2025-04-30</td><td>2025-05-21</td></tr>\n",
       "<tr><td>false</td><td>/3lEV4CoKoeT2cZ4f...</td><td>[27, 9648]</td><td>1244944</td><td>en</td><td>The Woman in the ...</td><td>In the aftermath ...</td><td>262.5169</td><td>/n0WS2TsNcS6dtaZK...</td><td>2025-03-27</td><td>The Woman in the ...</td><td>false</td><td>6.0</td><td>89</td><td>2025-04-23 08:47:...</td><td>2025-04-30</td><td>2025-05-21</td></tr>\n",
       "</table>\n"
      ]
     },
     "execution_count": 24,
     "metadata": {},
     "output_type": "execute_result"
    }
   ],
   "execution_count": 24
  }
 ],
 "metadata": {
  "kernelspec": {
   "display_name": "Python 3",
   "language": "python",
   "name": "python3"
  },
  "language_info": {
   "codemirror_mode": {
    "name": "ipython",
    "version": 2
   },
   "file_extension": ".py",
   "mimetype": "text/x-python",
   "name": "python",
   "nbconvert_exporter": "python",
   "pygments_lexer": "ipython2",
   "version": "2.7.6"
  }
 },
 "nbformat": 4,
 "nbformat_minor": 5
}
