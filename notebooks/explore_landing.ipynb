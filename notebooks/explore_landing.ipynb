{
 "cells": [
  {
   "cell_type": "code",
   "id": "initial_id",
   "metadata": {
    "collapsed": true,
    "ExecuteTime": {
     "end_time": "2025-05-31T09:45:28.983225Z",
     "start_time": "2025-05-31T09:45:28.884090Z"
    }
   },
   "source": [
    "from pyspark.sql.types import *\n",
    "%load_ext autoreload\n",
    "%autoreload 2\n",
    "\n",
    "import pyspark, os, sys\n",
    "from delta import *\n",
    "from dags.lib.IncrementalLoader import IncrementalLoader\n",
    "from dags.lib.Processer import *\n",
    "from pyspark.sql.functions import col, lit, max as spark_max, length, row_number, explode, unix_timestamp, from_unixtime"
   ],
   "outputs": [
    {
     "ename": "ModuleNotFoundError",
     "evalue": "No module named 'lib'",
     "output_type": "error",
     "traceback": [
      "\u001B[0;31m---------------------------------------------------------------------------\u001B[0m",
      "\u001B[0;31mModuleNotFoundError\u001B[0m                       Traceback (most recent call last)",
      "Cell \u001B[0;32mIn[2], line 7\u001B[0m\n\u001B[1;32m      5\u001B[0m \u001B[38;5;28;01mimport\u001B[39;00m\u001B[38;5;250m \u001B[39m\u001B[38;5;21;01mpyspark\u001B[39;00m\u001B[38;5;241m,\u001B[39m\u001B[38;5;250m \u001B[39m\u001B[38;5;21;01mos\u001B[39;00m\u001B[38;5;241m,\u001B[39m\u001B[38;5;250m \u001B[39m\u001B[38;5;21;01msys\u001B[39;00m\n\u001B[1;32m      6\u001B[0m \u001B[38;5;28;01mfrom\u001B[39;00m\u001B[38;5;250m \u001B[39m\u001B[38;5;21;01mdelta\u001B[39;00m\u001B[38;5;250m \u001B[39m\u001B[38;5;28;01mimport\u001B[39;00m \u001B[38;5;241m*\u001B[39m\n\u001B[0;32m----> 7\u001B[0m \u001B[38;5;28;01mfrom\u001B[39;00m\u001B[38;5;250m \u001B[39m\u001B[38;5;21;01mdags\u001B[39;00m\u001B[38;5;21;01m.\u001B[39;00m\u001B[38;5;21;01mlib\u001B[39;00m\u001B[38;5;21;01m.\u001B[39;00m\u001B[38;5;21;01mIncrementalLoader\u001B[39;00m\u001B[38;5;250m \u001B[39m\u001B[38;5;28;01mimport\u001B[39;00m IncrementalLoader\n\u001B[1;32m      8\u001B[0m \u001B[38;5;28;01mfrom\u001B[39;00m\u001B[38;5;250m \u001B[39m\u001B[38;5;21;01mdags\u001B[39;00m\u001B[38;5;21;01m.\u001B[39;00m\u001B[38;5;21;01mlib\u001B[39;00m\u001B[38;5;21;01m.\u001B[39;00m\u001B[38;5;21;01mProcesser\u001B[39;00m\u001B[38;5;250m \u001B[39m\u001B[38;5;28;01mimport\u001B[39;00m \u001B[38;5;241m*\u001B[39m\n\u001B[1;32m      9\u001B[0m \u001B[38;5;28;01mfrom\u001B[39;00m\u001B[38;5;250m \u001B[39m\u001B[38;5;21;01mpyspark\u001B[39;00m\u001B[38;5;21;01m.\u001B[39;00m\u001B[38;5;21;01msql\u001B[39;00m\u001B[38;5;21;01m.\u001B[39;00m\u001B[38;5;21;01mfunctions\u001B[39;00m\u001B[38;5;250m \u001B[39m\u001B[38;5;28;01mimport\u001B[39;00m col, lit, \u001B[38;5;28mmax\u001B[39m \u001B[38;5;28;01mas\u001B[39;00m spark_max, length, row_number, explode, unix_timestamp, from_unixtime\n",
      "File \u001B[0;32m~/projects/upc/BDMP2/dags/lib/IncrementalLoader.py:6\u001B[0m\n\u001B[1;32m      4\u001B[0m \u001B[38;5;28;01mimport\u001B[39;00m\u001B[38;5;250m \u001B[39m\u001B[38;5;21;01mos\u001B[39;00m\n\u001B[1;32m      5\u001B[0m \u001B[38;5;28;01mfrom\u001B[39;00m\u001B[38;5;250m \u001B[39m\u001B[38;5;21;01mdelta\u001B[39;00m\u001B[38;5;250m \u001B[39m\u001B[38;5;28;01mimport\u001B[39;00m \u001B[38;5;241m*\u001B[39m\n\u001B[0;32m----> 6\u001B[0m \u001B[38;5;28;01mfrom\u001B[39;00m\u001B[38;5;250m \u001B[39m\u001B[38;5;21;01mlib\u001B[39;00m\u001B[38;5;21;01m.\u001B[39;00m\u001B[38;5;21;01mpt_utils\u001B[39;00m\u001B[38;5;250m \u001B[39m\u001B[38;5;28;01mimport\u001B[39;00m get_logger, gcs_path_exists\n\u001B[1;32m      8\u001B[0m logging \u001B[38;5;241m=\u001B[39m get_logger()\n\u001B[1;32m     11\u001B[0m \u001B[38;5;28;01mdef\u001B[39;00m\u001B[38;5;250m \u001B[39m\u001B[38;5;21mget_control_table_schema\u001B[39m():\n",
      "\u001B[0;31mModuleNotFoundError\u001B[0m: No module named 'lib'"
     ]
    }
   ],
   "execution_count": 2
  },
  {
   "metadata": {
    "ExecuteTime": {
     "end_time": "2025-05-31T09:45:29.881327Z",
     "start_time": "2025-05-31T09:45:29.873089Z"
    }
   },
   "cell_type": "code",
   "source": [
    "def create_spark_session():\n",
    "    conf = (\n",
    "        pyspark.conf.SparkConf()\n",
    "        .setAppName(\"LetsTalk\")\n",
    "        .set(\n",
    "            \"spark.sql.catalog.spark_catalog\",\n",
    "            \"org.apache.spark.sql.delta.catalog.DeltaCatalog\",\n",
    "        )\n",
    "        .set(\"spark.sql.extensions\", \"io.delta.sql.DeltaSparkSessionExtension\")\n",
    "        .set(\"spark.hadoop.fs.gs.impl\", \"com.google.cloud.hadoop.fs.gcs.GoogleHadoopFileSystem\")\n",
    "        .set(\"spark.hadoop.google.cloud.auth.service.account.enable\", \"true\")\n",
    "        .set(\"spark.hadoop.google.cloud.auth.service.account.json.keyfile\", \"/Users/alfio/projects/upc/BDMP2/docker/gcs.json\")\n",
    "        .set(\"spark.sql.shuffle.partitions\", \"4\")\n",
    "        .set(\"spark.jars\", \"../docker/gcs-connector-hadoop.jar\")\n",
    "        .setMaster(\n",
    "            \"local[*]\"\n",
    "        )\n",
    "    )\n",
    "\n",
    "    builder = pyspark.sql.SparkSession.builder.appName(\"LetsTalk\").config(conf=conf)\n",
    "    spark = configure_spark_with_delta_pip(builder).getOrCreate()\n",
    "    return spark"
   ],
   "id": "a0fed999dd78466a",
   "outputs": [],
   "execution_count": 3
  },
  {
   "metadata": {
    "ExecuteTime": {
     "end_time": "2025-05-31T09:45:45.794654Z",
     "start_time": "2025-05-31T09:45:43.903441Z"
    }
   },
   "cell_type": "code",
   "source": [
    "spark = create_spark_session()\n",
    "spark.conf.set('spark.sql.repl.eagerEval.enabled', True)\n",
    "absolute_path_to_landing = '/Users/alfio/projects/upc/BDMP2/data/letstalk_landing_zone_bdma'\n",
    "absolute_path_to_trusted = '/Users/alfio/projects/upc/BDMP2/data/letstalk_trusted_zone_bdma'\n"
   ],
   "id": "314d425a93c6dfe7",
   "outputs": [
    {
     "name": "stdout",
     "output_type": "stream",
     "text": [
      ":: loading settings :: url = jar:file:/Users/alfio/python_venv/general/lib/python3.13/site-packages/pyspark/jars/ivy-2.5.1.jar!/org/apache/ivy/core/settings/ivysettings.xml\n"
     ]
    },
    {
     "name": "stderr",
     "output_type": "stream",
     "text": [
      "Ivy Default Cache set to: /Users/alfio/.ivy2/cache\n",
      "The jars for the packages stored in: /Users/alfio/.ivy2/jars\n",
      "io.delta#delta-spark_2.12 added as a dependency\n",
      ":: resolving dependencies :: org.apache.spark#spark-submit-parent-6bc098b8-7ec2-4ec2-8d4a-6021c5e25fd0;1.0\n",
      "\tconfs: [default]\n",
      "\tfound io.delta#delta-spark_2.12;3.3.0 in central\n",
      "\tfound io.delta#delta-storage;3.3.0 in central\n",
      "\tfound org.antlr#antlr4-runtime;4.9.3 in central\n",
      ":: resolution report :: resolve 73ms :: artifacts dl 3ms\n",
      "\t:: modules in use:\n",
      "\tio.delta#delta-spark_2.12;3.3.0 from central in [default]\n",
      "\tio.delta#delta-storage;3.3.0 from central in [default]\n",
      "\torg.antlr#antlr4-runtime;4.9.3 from central in [default]\n",
      "\t---------------------------------------------------------------------\n",
      "\t|                  |            modules            ||   artifacts   |\n",
      "\t|       conf       | number| search|dwnlded|evicted|| number|dwnlded|\n",
      "\t---------------------------------------------------------------------\n",
      "\t|      default     |   3   |   0   |   0   |   0   ||   3   |   0   |\n",
      "\t---------------------------------------------------------------------\n",
      ":: retrieving :: org.apache.spark#spark-submit-parent-6bc098b8-7ec2-4ec2-8d4a-6021c5e25fd0\n",
      "\tconfs: [default]\n",
      "\t0 artifacts copied, 3 already retrieved (0kB/2ms)\n",
      "25/05/31 11:45:44 WARN NativeCodeLoader: Unable to load native-hadoop library for your platform... using builtin-java classes where applicable\n",
      "Setting default log level to \"WARN\".\n",
      "To adjust logging level use sc.setLogLevel(newLevel). For SparkR, use setLogLevel(newLevel).\n",
      "25/05/31 11:45:45 WARN Utils: Service 'SparkUI' could not bind on port 4040. Attempting port 4041.\n"
     ]
    }
   ],
   "execution_count": 5
  },
  {
   "metadata": {
    "ExecuteTime": {
     "end_time": "2025-05-30T16:21:55.395888Z",
     "start_time": "2025-05-30T16:21:50.266046Z"
    }
   },
   "cell_type": "code",
   "source": [
    "table_subpath = f'delta_tmdb/now_playing'\n",
    "\n",
    "loader = IncrementalLoader(spark, absolute_path_to_landing, table_subpath)\n",
    "df = loader.get_new_data()\n"
   ],
   "id": "1b0d264abe9e5705",
   "outputs": [
    {
     "name": "stderr",
     "output_type": "stream",
     "text": [
      "25/05/30 18:21:52 WARN SparkStringUtils: Truncated the string representation of a plan since it was too large. This behavior can be adjusted by setting 'spark.sql.debug.maxToStringFields'.\n",
      "                                                                                \r"
     ]
    },
    {
     "name": "stdout",
     "output_type": "stream",
     "text": [
      "INFO:dags.lib.pt_utils:CDF not available — doing full load\n"
     ]
    }
   ],
   "execution_count": 8
  },
  {
   "metadata": {
    "ExecuteTime": {
     "end_time": "2025-05-30T16:46:06.546335Z",
     "start_time": "2025-05-30T16:46:06.229305Z"
    }
   },
   "cell_type": "code",
   "source": [
    "processor= TMDBProcessor(spark, df)\n",
    "\n",
    "processor.ensure_schema()\n",
    "processor.normalize_text(['overview', 'title', 'original_title'])\n",
    "processor.ensure_schema_movie_genres()\n",
    "table_subpath = \"delta_tmdb\\\\now_playing\"\n",
    "processor.type_dump(absolute_path_to_trusted, table_subpath)\n"
   ],
   "id": "8818775c3e3e1e18",
   "outputs": [
    {
     "name": "stdout",
     "output_type": "stream",
     "text": [
      "/Users/alfio/projects/upc/BDMP2/data/letstalk_trusted_zone_bdma/now_playing\n",
      "+-------+\n",
      "|film_id|\n",
      "+-------+\n",
      "| 324544|\n",
      "| 950387|\n",
      "|1197306|\n",
      "|1045938|\n",
      "|1195506|\n",
      "|1293286|\n",
      "| 822119|\n",
      "|1125899|\n",
      "|1229730|\n",
      "|1244944|\n",
      "|1353117|\n",
      "| 696506|\n",
      "|1373723|\n",
      "|1261050|\n",
      "|1282980|\n",
      "|1087891|\n",
      "|1212855|\n",
      "|1126166|\n",
      "|1297763|\n",
      "| 447273|\n",
      "+-------+\n",
      "only showing top 20 rows\n",
      "\n"
     ]
    }
   ],
   "execution_count": 27
  },
  {
   "metadata": {
    "ExecuteTime": {
     "end_time": "2025-05-31T09:45:59.812876Z",
     "start_time": "2025-05-31T09:45:59.699133Z"
    }
   },
   "cell_type": "code",
   "source": "df = spark.read.format(\"delta\").load(\"gs://letstalk_landing_zone_bdma/control_table\")",
   "id": "919ab95efa9de8d1",
   "outputs": [],
   "execution_count": 8
  },
  {
   "metadata": {
    "ExecuteTime": {
     "end_time": "2025-05-31T09:45:59.696454Z",
     "start_time": "2025-05-31T09:45:56.399242Z"
    }
   },
   "cell_type": "code",
   "source": [
    "df = df.filter(~df.source_table.startswith(\"delta_tmdb\"))\n",
    "df.write.format(\"delta\").mode(\"overwrite\").save(\"gs://letstalk_landing_zone_bdma/control_table\")"
   ],
   "id": "f75d09c66af43428",
   "outputs": [
    {
     "name": "stderr",
     "output_type": "stream",
     "text": [
      "                                                                                \r"
     ]
    }
   ],
   "execution_count": 7
  },
  {
   "metadata": {
    "ExecuteTime": {
     "end_time": "2025-05-31T09:46:02.822874Z",
     "start_time": "2025-05-31T09:46:01.440663Z"
    }
   },
   "cell_type": "code",
   "source": "df",
   "id": "ad1c36e169079981",
   "outputs": [
    {
     "data": {
      "text/plain": [
       "+--------------------+----------------------+--------------------+\n",
       "|        source_table|last_processed_version|         last_run_ts|\n",
       "+--------------------+----------------------+--------------------+\n",
       "|delta_news/entert...|                    42|2025-05-30 17:33:...|\n",
       "|delta_news/techno...|                    42|2025-05-30 17:34:...|\n",
       "|delta_sports/matches|                    61|2025-05-29 19:16:...|\n",
       "|delta_sports/leagues|                    86|2025-05-29 19:16:...|\n",
       "|   delta_news/sports|                    42|2025-05-30 17:34:...|\n",
       "+--------------------+----------------------+--------------------+"
      ],
      "text/html": [
       "<table border='1'>\n",
       "<tr><th>source_table</th><th>last_processed_version</th><th>last_run_ts</th></tr>\n",
       "<tr><td>delta_news/entert...</td><td>42</td><td>2025-05-30 17:33:...</td></tr>\n",
       "<tr><td>delta_news/techno...</td><td>42</td><td>2025-05-30 17:34:...</td></tr>\n",
       "<tr><td>delta_sports/matches</td><td>61</td><td>2025-05-29 19:16:...</td></tr>\n",
       "<tr><td>delta_sports/leagues</td><td>86</td><td>2025-05-29 19:16:...</td></tr>\n",
       "<tr><td>delta_news/sports</td><td>42</td><td>2025-05-30 17:34:...</td></tr>\n",
       "</table>\n"
      ]
     },
     "execution_count": 9,
     "metadata": {},
     "output_type": "execute_result"
    }
   ],
   "execution_count": 9
  },
  {
   "metadata": {
    "ExecuteTime": {
     "end_time": "2025-05-29T16:38:08.341965Z",
     "start_time": "2025-05-29T16:38:08.000737Z"
    }
   },
   "cell_type": "code",
   "source": [
    "processor.df\n",
    "processor.movie_genre_df"
   ],
   "id": "a777ce4105bb2ae2",
   "outputs": [
    {
     "data": {
      "text/plain": [
       "[Row(teams=Row(away=Row(id=18814, logo='https://media.api-sports.io/football/teams/18814.png', name='Minnesota United II', winner=True), home=Row(id=4102, logo='https://media.api-sports.io/football/teams/4102.png', name='Colorado Rapids II', winner=False)))]"
      ]
     },
     "execution_count": 17,
     "metadata": {},
     "output_type": "execute_result"
    }
   ],
   "execution_count": 17
  },
  {
   "metadata": {
    "ExecuteTime": {
     "end_time": "2025-05-22T13:50:09.376673Z",
     "start_time": "2025-05-22T13:50:09.109510Z"
    }
   },
   "cell_type": "code",
   "source": [
    "sproc.teams.groupBy('team_id').count().filter('count>1')\n",
    "sproc.venues.groupBy('venue_id').count().filter('count>1')\n"
   ],
   "id": "1e08baa4da202344",
   "outputs": [
    {
     "data": {
      "text/plain": [
       "+--------+-----+\n",
       "|venue_id|count|\n",
       "+--------+-----+\n",
       "+--------+-----+"
      ],
      "text/html": [
       "<table border='1'>\n",
       "<tr><th>venue_id</th><th>count</th></tr>\n",
       "</table>\n"
      ]
     },
     "execution_count": 20,
     "metadata": {},
     "output_type": "execute_result"
    }
   ],
   "execution_count": 20
  },
  {
   "metadata": {
    "ExecuteTime": {
     "end_time": "2025-05-22T13:51:14.446590Z",
     "start_time": "2025-05-22T13:51:09.648122Z"
    }
   },
   "cell_type": "code",
   "source": [
    "sproc.merge_with_trusted(\"../data/letstalk_trusted_zone_bdma\", 'delta_sports', ['fixture_id', 'status_long'])\n",
    "loader.update_control_table()"
   ],
   "id": "3647ba76903b939d",
   "outputs": [
    {
     "name": "stdout",
     "output_type": "stream",
     "text": [
      "INFO:dags.lib.pt_utils:Saving unique records from overlapping ones\n"
     ]
    },
    {
     "name": "stderr",
     "output_type": "stream",
     "text": [
      "--- Logging error ---\n",
      "Traceback (most recent call last):\n",
      "  File \"/opt/homebrew/Cellar/python@3.13/3.13.3/Frameworks/Python.framework/Versions/3.13/lib/python3.13/logging/__init__.py\", line 1150, in emit\n",
      "    msg = self.format(record)\n",
      "  File \"/opt/homebrew/Cellar/python@3.13/3.13.3/Frameworks/Python.framework/Versions/3.13/lib/python3.13/logging/__init__.py\", line 998, in format\n",
      "    return fmt.format(record)\n",
      "           ~~~~~~~~~~^^^^^^^^\n",
      "  File \"/opt/homebrew/Cellar/python@3.13/3.13.3/Frameworks/Python.framework/Versions/3.13/lib/python3.13/logging/__init__.py\", line 711, in format\n",
      "    record.message = record.getMessage()\n",
      "                     ~~~~~~~~~~~~~~~~~^^\n",
      "  File \"/opt/homebrew/Cellar/python@3.13/3.13.3/Frameworks/Python.framework/Versions/3.13/lib/python3.13/logging/__init__.py\", line 400, in getMessage\n",
      "    msg = msg % self.args\n",
      "          ~~~~^~~~~~~~~~~\n",
      "TypeError: not all arguments converted during string formatting\n",
      "Call stack:\n",
      "  File \"<frozen runpy>\", line 198, in _run_module_as_main\n",
      "  File \"<frozen runpy>\", line 88, in _run_code\n",
      "  File \"/Users/alfio/python_venv/general/lib/python3.13/site-packages/ipykernel_launcher.py\", line 18, in <module>\n",
      "    app.launch_new_instance()\n",
      "  File \"/Users/alfio/python_venv/general/lib/python3.13/site-packages/traitlets/config/application.py\", line 1075, in launch_instance\n",
      "    app.start()\n",
      "  File \"/Users/alfio/python_venv/general/lib/python3.13/site-packages/ipykernel/kernelapp.py\", line 739, in start\n",
      "    self.io_loop.start()\n",
      "  File \"/Users/alfio/python_venv/general/lib/python3.13/site-packages/tornado/platform/asyncio.py\", line 205, in start\n",
      "    self.asyncio_loop.run_forever()\n",
      "  File \"/opt/homebrew/Cellar/python@3.13/3.13.3/Frameworks/Python.framework/Versions/3.13/lib/python3.13/asyncio/base_events.py\", line 677, in run_forever\n",
      "    self._run_once()\n",
      "  File \"/opt/homebrew/Cellar/python@3.13/3.13.3/Frameworks/Python.framework/Versions/3.13/lib/python3.13/asyncio/base_events.py\", line 2034, in _run_once\n",
      "    handle._run()\n",
      "  File \"/opt/homebrew/Cellar/python@3.13/3.13.3/Frameworks/Python.framework/Versions/3.13/lib/python3.13/asyncio/events.py\", line 89, in _run\n",
      "    self._context.run(self._callback, *self._args)\n",
      "  File \"/Users/alfio/python_venv/general/lib/python3.13/site-packages/ipykernel/kernelbase.py\", line 545, in dispatch_queue\n",
      "    await self.process_one()\n",
      "  File \"/Users/alfio/python_venv/general/lib/python3.13/site-packages/ipykernel/kernelbase.py\", line 534, in process_one\n",
      "    await dispatch(*args)\n",
      "  File \"/Users/alfio/python_venv/general/lib/python3.13/site-packages/ipykernel/kernelbase.py\", line 437, in dispatch_shell\n",
      "    await result\n",
      "  File \"/Users/alfio/python_venv/general/lib/python3.13/site-packages/ipykernel/ipkernel.py\", line 362, in execute_request\n",
      "    await super().execute_request(stream, ident, parent)\n",
      "  File \"/Users/alfio/python_venv/general/lib/python3.13/site-packages/ipykernel/kernelbase.py\", line 778, in execute_request\n",
      "    reply_content = await reply_content\n",
      "  File \"/Users/alfio/python_venv/general/lib/python3.13/site-packages/ipykernel/ipkernel.py\", line 449, in do_execute\n",
      "    res = shell.run_cell(\n",
      "  File \"/Users/alfio/python_venv/general/lib/python3.13/site-packages/ipykernel/zmqshell.py\", line 549, in run_cell\n",
      "    return super().run_cell(*args, **kwargs)\n",
      "  File \"/Users/alfio/python_venv/general/lib/python3.13/site-packages/IPython/core/interactiveshell.py\", line 3077, in run_cell\n",
      "    result = self._run_cell(\n",
      "  File \"/Users/alfio/python_venv/general/lib/python3.13/site-packages/IPython/core/interactiveshell.py\", line 3132, in _run_cell\n",
      "    result = runner(coro)\n",
      "  File \"/Users/alfio/python_venv/general/lib/python3.13/site-packages/IPython/core/async_helpers.py\", line 128, in _pseudo_sync_runner\n",
      "    coro.send(None)\n",
      "  File \"/Users/alfio/python_venv/general/lib/python3.13/site-packages/IPython/core/interactiveshell.py\", line 3336, in run_cell_async\n",
      "    has_raised = await self.run_ast_nodes(code_ast.body, cell_name,\n",
      "  File \"/Users/alfio/python_venv/general/lib/python3.13/site-packages/IPython/core/interactiveshell.py\", line 3519, in run_ast_nodes\n",
      "    if await self.run_code(code, result, async_=asy):\n",
      "  File \"/Users/alfio/python_venv/general/lib/python3.13/site-packages/IPython/core/interactiveshell.py\", line 3579, in run_code\n",
      "    exec(code_obj, self.user_global_ns, self.user_ns)\n",
      "  File \"/var/folders/dl/rt87twcn1nn7kt4mqdkr_wvc0000gn/T/ipykernel_34993/1920806416.py\", line 1, in <module>\n",
      "    sproc.merge_with_trusted(\"../data/letstalk_trusted_zone_bdma\", 'delta_sports', ['fixture_id', 'status_long'])\n",
      "  File \"/Users/alfio/projects/upc/BDMP2/dags/lib/Processer.py\", line 186, in merge_with_trusted\n",
      "    basic_merge_with_trusted(self.teams, self.spark, bucket_path, os.path.join(table_path, 'teams'), ['team_id'], self.is_gcs_enabled)\n",
      "  File \"/Users/alfio/projects/upc/BDMP2/dags/lib/Processer.py\", line 26, in basic_merge_with_trusted\n",
      "    if path_exists(bucket_path, table_path, is_gcs_enabled):\n",
      "  File \"/Users/alfio/projects/upc/BDMP2/dags/lib/Processer.py\", line 20, in path_exists\n",
      "    logging.info(f\"does path {path} exists: {does_path_exists}\", does_path_exists)\n",
      "Message: 'does path ../data/letstalk_trusted_zone_bdma/delta_sports/teams exists: True'\n",
      "Arguments: (True,)\n"
     ]
    },
    {
     "name": "stdout",
     "output_type": "stream",
     "text": [
      "INFO:dags.lib.pt_utils:Added new 0 unique records to table at path ../data/letstalk_trusted_zone_bdma/delta_sports/teams\n",
      "INFO:dags.lib.pt_utils:Saving unique records from overlapping ones\n"
     ]
    },
    {
     "name": "stderr",
     "output_type": "stream",
     "text": [
      "--- Logging error ---\n",
      "Traceback (most recent call last):\n",
      "  File \"/opt/homebrew/Cellar/python@3.13/3.13.3/Frameworks/Python.framework/Versions/3.13/lib/python3.13/logging/__init__.py\", line 1150, in emit\n",
      "    msg = self.format(record)\n",
      "  File \"/opt/homebrew/Cellar/python@3.13/3.13.3/Frameworks/Python.framework/Versions/3.13/lib/python3.13/logging/__init__.py\", line 998, in format\n",
      "    return fmt.format(record)\n",
      "           ~~~~~~~~~~^^^^^^^^\n",
      "  File \"/opt/homebrew/Cellar/python@3.13/3.13.3/Frameworks/Python.framework/Versions/3.13/lib/python3.13/logging/__init__.py\", line 711, in format\n",
      "    record.message = record.getMessage()\n",
      "                     ~~~~~~~~~~~~~~~~~^^\n",
      "  File \"/opt/homebrew/Cellar/python@3.13/3.13.3/Frameworks/Python.framework/Versions/3.13/lib/python3.13/logging/__init__.py\", line 400, in getMessage\n",
      "    msg = msg % self.args\n",
      "          ~~~~^~~~~~~~~~~\n",
      "TypeError: not all arguments converted during string formatting\n",
      "Call stack:\n",
      "  File \"<frozen runpy>\", line 198, in _run_module_as_main\n",
      "  File \"<frozen runpy>\", line 88, in _run_code\n",
      "  File \"/Users/alfio/python_venv/general/lib/python3.13/site-packages/ipykernel_launcher.py\", line 18, in <module>\n",
      "    app.launch_new_instance()\n",
      "  File \"/Users/alfio/python_venv/general/lib/python3.13/site-packages/traitlets/config/application.py\", line 1075, in launch_instance\n",
      "    app.start()\n",
      "  File \"/Users/alfio/python_venv/general/lib/python3.13/site-packages/ipykernel/kernelapp.py\", line 739, in start\n",
      "    self.io_loop.start()\n",
      "  File \"/Users/alfio/python_venv/general/lib/python3.13/site-packages/tornado/platform/asyncio.py\", line 205, in start\n",
      "    self.asyncio_loop.run_forever()\n",
      "  File \"/opt/homebrew/Cellar/python@3.13/3.13.3/Frameworks/Python.framework/Versions/3.13/lib/python3.13/asyncio/base_events.py\", line 677, in run_forever\n",
      "    self._run_once()\n",
      "  File \"/opt/homebrew/Cellar/python@3.13/3.13.3/Frameworks/Python.framework/Versions/3.13/lib/python3.13/asyncio/base_events.py\", line 2034, in _run_once\n",
      "    handle._run()\n",
      "  File \"/opt/homebrew/Cellar/python@3.13/3.13.3/Frameworks/Python.framework/Versions/3.13/lib/python3.13/asyncio/events.py\", line 89, in _run\n",
      "    self._context.run(self._callback, *self._args)\n",
      "  File \"/Users/alfio/python_venv/general/lib/python3.13/site-packages/ipykernel/kernelbase.py\", line 545, in dispatch_queue\n",
      "    await self.process_one()\n",
      "  File \"/Users/alfio/python_venv/general/lib/python3.13/site-packages/ipykernel/kernelbase.py\", line 534, in process_one\n",
      "    await dispatch(*args)\n",
      "  File \"/Users/alfio/python_venv/general/lib/python3.13/site-packages/ipykernel/kernelbase.py\", line 437, in dispatch_shell\n",
      "    await result\n",
      "  File \"/Users/alfio/python_venv/general/lib/python3.13/site-packages/ipykernel/ipkernel.py\", line 362, in execute_request\n",
      "    await super().execute_request(stream, ident, parent)\n",
      "  File \"/Users/alfio/python_venv/general/lib/python3.13/site-packages/ipykernel/kernelbase.py\", line 778, in execute_request\n",
      "    reply_content = await reply_content\n",
      "  File \"/Users/alfio/python_venv/general/lib/python3.13/site-packages/ipykernel/ipkernel.py\", line 449, in do_execute\n",
      "    res = shell.run_cell(\n",
      "  File \"/Users/alfio/python_venv/general/lib/python3.13/site-packages/ipykernel/zmqshell.py\", line 549, in run_cell\n",
      "    return super().run_cell(*args, **kwargs)\n",
      "  File \"/Users/alfio/python_venv/general/lib/python3.13/site-packages/IPython/core/interactiveshell.py\", line 3077, in run_cell\n",
      "    result = self._run_cell(\n",
      "  File \"/Users/alfio/python_venv/general/lib/python3.13/site-packages/IPython/core/interactiveshell.py\", line 3132, in _run_cell\n",
      "    result = runner(coro)\n",
      "  File \"/Users/alfio/python_venv/general/lib/python3.13/site-packages/IPython/core/async_helpers.py\", line 128, in _pseudo_sync_runner\n",
      "    coro.send(None)\n",
      "  File \"/Users/alfio/python_venv/general/lib/python3.13/site-packages/IPython/core/interactiveshell.py\", line 3336, in run_cell_async\n",
      "    has_raised = await self.run_ast_nodes(code_ast.body, cell_name,\n",
      "  File \"/Users/alfio/python_venv/general/lib/python3.13/site-packages/IPython/core/interactiveshell.py\", line 3519, in run_ast_nodes\n",
      "    if await self.run_code(code, result, async_=asy):\n",
      "  File \"/Users/alfio/python_venv/general/lib/python3.13/site-packages/IPython/core/interactiveshell.py\", line 3579, in run_code\n",
      "    exec(code_obj, self.user_global_ns, self.user_ns)\n",
      "  File \"/var/folders/dl/rt87twcn1nn7kt4mqdkr_wvc0000gn/T/ipykernel_34993/1920806416.py\", line 1, in <module>\n",
      "    sproc.merge_with_trusted(\"../data/letstalk_trusted_zone_bdma\", 'delta_sports', ['fixture_id', 'status_long'])\n",
      "  File \"/Users/alfio/projects/upc/BDMP2/dags/lib/Processer.py\", line 187, in merge_with_trusted\n",
      "    basic_merge_with_trusted(self.venues, self.spark, bucket_path, os.path.join(table_path, 'venues'), ['venue_id'], self.is_gcs_enabled)\n",
      "  File \"/Users/alfio/projects/upc/BDMP2/dags/lib/Processer.py\", line 26, in basic_merge_with_trusted\n",
      "    if path_exists(bucket_path, table_path, is_gcs_enabled):\n",
      "  File \"/Users/alfio/projects/upc/BDMP2/dags/lib/Processer.py\", line 20, in path_exists\n",
      "    logging.info(f\"does path {path} exists: {does_path_exists}\", does_path_exists)\n",
      "Message: 'does path ../data/letstalk_trusted_zone_bdma/delta_sports/venues exists: True'\n",
      "Arguments: (True,)\n"
     ]
    },
    {
     "name": "stdout",
     "output_type": "stream",
     "text": [
      "INFO:dags.lib.pt_utils:Added new 0 unique records to table at path ../data/letstalk_trusted_zone_bdma/delta_sports/venues\n"
     ]
    },
    {
     "name": "stderr",
     "output_type": "stream",
     "text": [
      "--- Logging error ---\n",
      "Traceback (most recent call last):\n",
      "  File \"/opt/homebrew/Cellar/python@3.13/3.13.3/Frameworks/Python.framework/Versions/3.13/lib/python3.13/logging/__init__.py\", line 1150, in emit\n",
      "    msg = self.format(record)\n",
      "  File \"/opt/homebrew/Cellar/python@3.13/3.13.3/Frameworks/Python.framework/Versions/3.13/lib/python3.13/logging/__init__.py\", line 998, in format\n",
      "    return fmt.format(record)\n",
      "           ~~~~~~~~~~^^^^^^^^\n",
      "  File \"/opt/homebrew/Cellar/python@3.13/3.13.3/Frameworks/Python.framework/Versions/3.13/lib/python3.13/logging/__init__.py\", line 711, in format\n",
      "    record.message = record.getMessage()\n",
      "                     ~~~~~~~~~~~~~~~~~^^\n",
      "  File \"/opt/homebrew/Cellar/python@3.13/3.13.3/Frameworks/Python.framework/Versions/3.13/lib/python3.13/logging/__init__.py\", line 400, in getMessage\n",
      "    msg = msg % self.args\n",
      "          ~~~~^~~~~~~~~~~\n",
      "TypeError: not all arguments converted during string formatting\n",
      "Call stack:\n",
      "  File \"<frozen runpy>\", line 198, in _run_module_as_main\n",
      "  File \"<frozen runpy>\", line 88, in _run_code\n",
      "  File \"/Users/alfio/python_venv/general/lib/python3.13/site-packages/ipykernel_launcher.py\", line 18, in <module>\n",
      "    app.launch_new_instance()\n",
      "  File \"/Users/alfio/python_venv/general/lib/python3.13/site-packages/traitlets/config/application.py\", line 1075, in launch_instance\n",
      "    app.start()\n",
      "  File \"/Users/alfio/python_venv/general/lib/python3.13/site-packages/ipykernel/kernelapp.py\", line 739, in start\n",
      "    self.io_loop.start()\n",
      "  File \"/Users/alfio/python_venv/general/lib/python3.13/site-packages/tornado/platform/asyncio.py\", line 205, in start\n",
      "    self.asyncio_loop.run_forever()\n",
      "  File \"/opt/homebrew/Cellar/python@3.13/3.13.3/Frameworks/Python.framework/Versions/3.13/lib/python3.13/asyncio/base_events.py\", line 677, in run_forever\n",
      "    self._run_once()\n",
      "  File \"/opt/homebrew/Cellar/python@3.13/3.13.3/Frameworks/Python.framework/Versions/3.13/lib/python3.13/asyncio/base_events.py\", line 2034, in _run_once\n",
      "    handle._run()\n",
      "  File \"/opt/homebrew/Cellar/python@3.13/3.13.3/Frameworks/Python.framework/Versions/3.13/lib/python3.13/asyncio/events.py\", line 89, in _run\n",
      "    self._context.run(self._callback, *self._args)\n",
      "  File \"/Users/alfio/python_venv/general/lib/python3.13/site-packages/ipykernel/kernelbase.py\", line 545, in dispatch_queue\n",
      "    await self.process_one()\n",
      "  File \"/Users/alfio/python_venv/general/lib/python3.13/site-packages/ipykernel/kernelbase.py\", line 534, in process_one\n",
      "    await dispatch(*args)\n",
      "  File \"/Users/alfio/python_venv/general/lib/python3.13/site-packages/ipykernel/kernelbase.py\", line 437, in dispatch_shell\n",
      "    await result\n",
      "  File \"/Users/alfio/python_venv/general/lib/python3.13/site-packages/ipykernel/ipkernel.py\", line 362, in execute_request\n",
      "    await super().execute_request(stream, ident, parent)\n",
      "  File \"/Users/alfio/python_venv/general/lib/python3.13/site-packages/ipykernel/kernelbase.py\", line 778, in execute_request\n",
      "    reply_content = await reply_content\n",
      "  File \"/Users/alfio/python_venv/general/lib/python3.13/site-packages/ipykernel/ipkernel.py\", line 449, in do_execute\n",
      "    res = shell.run_cell(\n",
      "  File \"/Users/alfio/python_venv/general/lib/python3.13/site-packages/ipykernel/zmqshell.py\", line 549, in run_cell\n",
      "    return super().run_cell(*args, **kwargs)\n",
      "  File \"/Users/alfio/python_venv/general/lib/python3.13/site-packages/IPython/core/interactiveshell.py\", line 3077, in run_cell\n",
      "    result = self._run_cell(\n",
      "  File \"/Users/alfio/python_venv/general/lib/python3.13/site-packages/IPython/core/interactiveshell.py\", line 3132, in _run_cell\n",
      "    result = runner(coro)\n",
      "  File \"/Users/alfio/python_venv/general/lib/python3.13/site-packages/IPython/core/async_helpers.py\", line 128, in _pseudo_sync_runner\n",
      "    coro.send(None)\n",
      "  File \"/Users/alfio/python_venv/general/lib/python3.13/site-packages/IPython/core/interactiveshell.py\", line 3336, in run_cell_async\n",
      "    has_raised = await self.run_ast_nodes(code_ast.body, cell_name,\n",
      "  File \"/Users/alfio/python_venv/general/lib/python3.13/site-packages/IPython/core/interactiveshell.py\", line 3519, in run_ast_nodes\n",
      "    if await self.run_code(code, result, async_=asy):\n",
      "  File \"/Users/alfio/python_venv/general/lib/python3.13/site-packages/IPython/core/interactiveshell.py\", line 3579, in run_code\n",
      "    exec(code_obj, self.user_global_ns, self.user_ns)\n",
      "  File \"/var/folders/dl/rt87twcn1nn7kt4mqdkr_wvc0000gn/T/ipykernel_34993/1920806416.py\", line 1, in <module>\n",
      "    sproc.merge_with_trusted(\"../data/letstalk_trusted_zone_bdma\", 'delta_sports', ['fixture_id', 'status_long'])\n",
      "  File \"/Users/alfio/projects/upc/BDMP2/dags/lib/Processer.py\", line 192, in merge_with_trusted\n",
      "    if path_exists(bucket_path, table_path, self.is_gcs_enabled):\n",
      "  File \"/Users/alfio/projects/upc/BDMP2/dags/lib/Processer.py\", line 20, in path_exists\n",
      "    logging.info(f\"does path {path} exists: {does_path_exists}\", does_path_exists)\n",
      "Message: 'does path ../data/letstalk_trusted_zone_bdma/delta_sports/matches exists: True'\n",
      "Arguments: (True,)\n"
     ]
    },
    {
     "name": "stdout",
     "output_type": "stream",
     "text": [
      "INFO:dags.lib.pt_utils:Saving unique records from overlapping ones\n",
      "INFO:dags.lib.pt_utils:Added new 0 unique records\n",
      "INFO:dags.lib.pt_utils:Appending non overlapping records\n",
      "INFO:dags.lib.pt_utils:Adding new 0 records\n"
     ]
    }
   ],
   "execution_count": 22
  },
  {
   "metadata": {},
   "cell_type": "code",
   "outputs": [],
   "execution_count": null,
   "source": [
    "full_distinct_df = sproc.df.distinct()\n",
    "print(full_distinct_df.count())\n",
    "\n",
    "partial_distinct_df = sproc.df.select('fixture_id', 'status_long').distinct()\n",
    "print(partial_distinct_df.count())\n"
   ],
   "id": "ab03aef8e8130a0e"
  },
  {
   "metadata": {},
   "cell_type": "code",
   "outputs": [],
   "execution_count": null,
   "source": "sproc.merge_with_trusted(\"../data/letstalk_trusted_zone_bdma\", 'delta_sports', ['fixture_id', 'status_long'])\n",
   "id": "8ec43c47f8e8735c"
  },
  {
   "metadata": {},
   "cell_type": "code",
   "outputs": [],
   "execution_count": null,
   "source": "sproc.merge_with_trusted(\"../data/letstalk_trusted_zone_bdma\", 'delta_sports', ['fixture_id', 'status_long'])\n",
   "id": "5bbb9ddc381c9c54"
  }
 ],
 "metadata": {
  "kernelspec": {
   "display_name": "Python 3",
   "language": "python",
   "name": "python3"
  },
  "language_info": {
   "codemirror_mode": {
    "name": "ipython",
    "version": 2
   },
   "file_extension": ".py",
   "mimetype": "text/x-python",
   "name": "python",
   "nbconvert_exporter": "python",
   "pygments_lexer": "ipython2",
   "version": "2.7.6"
  }
 },
 "nbformat": 4,
 "nbformat_minor": 5
}
