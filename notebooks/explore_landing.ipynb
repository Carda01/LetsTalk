{
 "cells": [
  {
   "cell_type": "code",
   "id": "initial_id",
   "metadata": {
    "collapsed": true,
    "ExecuteTime": {
     "end_time": "2025-05-29T16:33:19.049911Z",
     "start_time": "2025-05-29T16:33:18.760857Z"
    }
   },
   "source": [
    "from pyspark.sql.types import *\n",
    "%load_ext autoreload\n",
    "%autoreload 2\n",
    "\n",
    "import pyspark, os, sys\n",
    "from delta import *\n",
    "from dags.lib.IncrementalLoader import IncrementalLoader\n",
    "from dags.lib.Processer import *\n",
    "from pyspark.sql.functions import col, lit, max as spark_max, length, row_number, explode, unix_timestamp, from_unixtime"
   ],
   "outputs": [
    {
     "name": "stdout",
     "output_type": "stream",
     "text": [
      "The autoreload extension is already loaded. To reload it, use:\n",
      "  %reload_ext autoreload\n"
     ]
    }
   ],
   "execution_count": 2
  },
  {
   "metadata": {
    "ExecuteTime": {
     "end_time": "2025-05-29T16:33:21.103387Z",
     "start_time": "2025-05-29T16:33:21.095397Z"
    }
   },
   "cell_type": "code",
   "source": [
    "def create_spark_session():\n",
    "    conf = (\n",
    "        pyspark.conf.SparkConf()\n",
    "        .setAppName(\"LetsTalk\")\n",
    "        .set(\n",
    "            \"spark.sql.catalog.spark_catalog\",\n",
    "            \"org.apache.spark.sql.delta.catalog.DeltaCatalog\",\n",
    "        )\n",
    "        .set(\"spark.sql.extensions\", \"io.delta.sql.DeltaSparkSessionExtension\")\n",
    "        .set(\"spark.hadoop.fs.gs.impl\", \"com.google.cloud.hadoop.fs.gcs.GoogleHadoopFileSystem\")\n",
    "        .set(\"spark.hadoop.google.cloud.auth.service.account.enable\", \"true\")\n",
    "        .set(\"spark.hadoop.google.cloud.auth.service.account.json.keyfile\", \"/Users/alfio/projects/upc/BDMP2/docker/gcs.json\")\n",
    "        .set(\"spark.sql.shuffle.partitions\", \"4\")\n",
    "        .set(\"spark.jars\", \"../docker/gcs-connector-hadoop.jar\")\n",
    "        .setMaster(\n",
    "            \"local[*]\"\n",
    "        )\n",
    "    )\n",
    "\n",
    "    builder = pyspark.sql.SparkSession.builder.appName(\"LetsTalk\").config(conf=conf)\n",
    "    spark = configure_spark_with_delta_pip(builder).getOrCreate()\n",
    "    return spark\n",
    "\n"
   ],
   "id": "a0fed999dd78466a",
   "outputs": [],
   "execution_count": 3
  },
  {
   "metadata": {
    "ExecuteTime": {
     "end_time": "2025-05-29T16:33:37.196571Z",
     "start_time": "2025-05-29T16:33:35.216423Z"
    }
   },
   "cell_type": "code",
   "source": [
    "spark = create_spark_session()\n",
    "spark.conf.set('spark.sql.repl.eagerEval.enabled', True)\n",
    "absolute_path_to_landing = '/Users/alfio/projects/upc/BDMP2/data/letstalk_landing_zone_bdma'"
   ],
   "id": "314d425a93c6dfe7",
   "outputs": [
    {
     "name": "stdout",
     "output_type": "stream",
     "text": [
      ":: loading settings :: url = jar:file:/Users/alfio/python_venv/general/lib/python3.13/site-packages/pyspark/jars/ivy-2.5.1.jar!/org/apache/ivy/core/settings/ivysettings.xml\n"
     ]
    },
    {
     "name": "stderr",
     "output_type": "stream",
     "text": [
      "Ivy Default Cache set to: /Users/alfio/.ivy2/cache\n",
      "The jars for the packages stored in: /Users/alfio/.ivy2/jars\n",
      "io.delta#delta-spark_2.12 added as a dependency\n",
      ":: resolving dependencies :: org.apache.spark#spark-submit-parent-0665a6b0-59ad-4342-b0ee-347f87bc462c;1.0\n",
      "\tconfs: [default]\n",
      "\tfound io.delta#delta-spark_2.12;3.3.0 in central\n",
      "\tfound io.delta#delta-storage;3.3.0 in central\n",
      "\tfound org.antlr#antlr4-runtime;4.9.3 in central\n",
      ":: resolution report :: resolve 75ms :: artifacts dl 2ms\n",
      "\t:: modules in use:\n",
      "\tio.delta#delta-spark_2.12;3.3.0 from central in [default]\n",
      "\tio.delta#delta-storage;3.3.0 from central in [default]\n",
      "\torg.antlr#antlr4-runtime;4.9.3 from central in [default]\n",
      "\t---------------------------------------------------------------------\n",
      "\t|                  |            modules            ||   artifacts   |\n",
      "\t|       conf       | number| search|dwnlded|evicted|| number|dwnlded|\n",
      "\t---------------------------------------------------------------------\n",
      "\t|      default     |   3   |   0   |   0   |   0   ||   3   |   0   |\n",
      "\t---------------------------------------------------------------------\n",
      ":: retrieving :: org.apache.spark#spark-submit-parent-0665a6b0-59ad-4342-b0ee-347f87bc462c\n",
      "\tconfs: [default]\n",
      "\t0 artifacts copied, 3 already retrieved (0kB/2ms)\n",
      "25/05/29 18:33:36 WARN NativeCodeLoader: Unable to load native-hadoop library for your platform... using builtin-java classes where applicable\n",
      "Setting default log level to \"WARN\".\n",
      "To adjust logging level use sc.setLogLevel(newLevel). For SparkR, use setLogLevel(newLevel).\n",
      "25/05/29 18:33:36 WARN Utils: Service 'SparkUI' could not bind on port 4040. Attempting port 4041.\n"
     ]
    }
   ],
   "execution_count": 4
  },
  {
   "metadata": {
    "ExecuteTime": {
     "end_time": "2025-05-29T16:33:52.446092Z",
     "start_time": "2025-05-29T16:33:51.751786Z"
    }
   },
   "cell_type": "code",
   "source": "df = spark.read.format(\"delta\").load(absolute_path_to_landing + \"/delta_sports/matches\")",
   "id": "1b0d264abe9e5705",
   "outputs": [],
   "execution_count": 5
  },
  {
   "metadata": {
    "ExecuteTime": {
     "end_time": "2025-05-29T16:34:09.538473Z",
     "start_time": "2025-05-29T16:34:05.152920Z"
    }
   },
   "cell_type": "code",
   "source": "df",
   "id": "8818775c3e3e1e18",
   "outputs": [
    {
     "name": "stderr",
     "output_type": "stream",
     "text": [
      "25/05/29 18:34:06 WARN SparkStringUtils: Truncated the string representation of a plan since it was too large. This behavior can be adjusted by setting 'spark.sql.debug.maxToStringFields'.\n",
      "                                                                                \r"
     ]
    },
    {
     "data": {
      "text/plain": [
       "+--------------------+------------+--------------------+--------------------+--------------------+\n",
       "|             fixture|       goals|              league|               score|               teams|\n",
       "+--------------------+------------+--------------------+--------------------+--------------------+\n",
       "|{2025-04-25T00:00...|      {2, 0}|{USA, https://med...|{{NULL, NULL}, {2...|{{18814, https://...|\n",
       "|{2025-04-25T00:00...|      {1, 1}|{Ecuador, https:/...|{{NULL, NULL}, {1...|{{1159, https://m...|\n",
       "|{2025-04-25T00:00...|      {0, 1}|{World, NULL, 13,...|{{NULL, NULL}, {0...|{{1137, https://m...|\n",
       "|{2025-04-25T00:00...|      {0, 2}|{Mexico, https://...|{{NULL, NULL}, {0...|{{2299, https://m...|\n",
       "|{2025-04-25T00:30...|      {2, 2}|{World, NULL, 13,...|{{NULL, NULL}, {2...|{{2546, https://m...|\n",
       "|{2025-04-25T00:30...|      {1, 2}|{World, NULL, 11,...|{{NULL, NULL}, {1...|{{135, https://me...|\n",
       "|{2025-04-25T00:30...|      {2, 2}|{World, NULL, 11,...|{{NULL, NULL}, {2...|{{2562, https://m...|\n",
       "|{2025-04-25T00:35...|      {1, 2}|{Brazil, https://...|{{NULL, NULL}, {1...|{{134, https://me...|\n",
       "|{2025-04-25T01:00...|{NULL, NULL}|{Barbados, https:...|{{NULL, NULL}, {N...|{{8406, https://m...|\n",
       "|{2025-04-25T01:00...|      {0, 2}|{Mexico, https://...|{{NULL, NULL}, {0...|{{14870, https://...|\n",
       "|{2025-04-25T02:00...|      {0, 2}|{Guatemala, https...|{{NULL, NULL}, {0...|{{3657, https://m...|\n",
       "|{2025-04-25T02:00...|      {2, 2}|{New-Zealand, htt...|{{NULL, NULL}, {2...|{{20661, https://...|\n",
       "|{2025-04-25T02:00...|{NULL, NULL}|{New-Zealand, htt...|{{NULL, NULL}, {N...|{{20667, https://...|\n",
       "|{2025-04-25T02:00...|      {1, 3}|{World, NULL, 11,...|{{NULL, NULL}, {1...|{{442, https://me...|\n",
       "|{2025-04-25T02:00...|{NULL, NULL}|{New-Zealand, htt...|{{NULL, NULL}, {N...|{{24308, https://...|\n",
       "|{2025-04-25T02:00...|{NULL, NULL}|{New-Zealand, htt...|{{NULL, NULL}, {N...|{{17051, https://...|\n",
       "|{2025-04-25T02:00...|{NULL, NULL}|{New-Zealand, htt...|{{NULL, NULL}, {N...|{{24302, https://...|\n",
       "|{2025-04-25T02:00...|{NULL, NULL}|{New-Zealand, htt...|{{NULL, NULL}, {N...|{{24303, https://...|\n",
       "|{2025-04-25T02:00...|{NULL, NULL}|{New-Zealand, htt...|{{NULL, NULL}, {N...|{{24254, https://...|\n",
       "|{2025-04-25T02:00...|{NULL, NULL}|{New-Zealand, htt...|{{NULL, NULL}, {N...|{{24242, https://...|\n",
       "+--------------------+------------+--------------------+--------------------+--------------------+\n",
       "only showing top 20 rows"
      ],
      "text/html": [
       "<table border='1'>\n",
       "<tr><th>fixture</th><th>goals</th><th>league</th><th>score</th><th>teams</th></tr>\n",
       "<tr><td>{2025-04-25T00:00...</td><td>{2, 0}</td><td>{USA, https://med...</td><td>{{NULL, NULL}, {2...</td><td>{{18814, https://...</td></tr>\n",
       "<tr><td>{2025-04-25T00:00...</td><td>{1, 1}</td><td>{Ecuador, https:/...</td><td>{{NULL, NULL}, {1...</td><td>{{1159, https://m...</td></tr>\n",
       "<tr><td>{2025-04-25T00:00...</td><td>{0, 1}</td><td>{World, NULL, 13,...</td><td>{{NULL, NULL}, {0...</td><td>{{1137, https://m...</td></tr>\n",
       "<tr><td>{2025-04-25T00:00...</td><td>{0, 2}</td><td>{Mexico, https://...</td><td>{{NULL, NULL}, {0...</td><td>{{2299, https://m...</td></tr>\n",
       "<tr><td>{2025-04-25T00:30...</td><td>{2, 2}</td><td>{World, NULL, 13,...</td><td>{{NULL, NULL}, {2...</td><td>{{2546, https://m...</td></tr>\n",
       "<tr><td>{2025-04-25T00:30...</td><td>{1, 2}</td><td>{World, NULL, 11,...</td><td>{{NULL, NULL}, {1...</td><td>{{135, https://me...</td></tr>\n",
       "<tr><td>{2025-04-25T00:30...</td><td>{2, 2}</td><td>{World, NULL, 11,...</td><td>{{NULL, NULL}, {2...</td><td>{{2562, https://m...</td></tr>\n",
       "<tr><td>{2025-04-25T00:35...</td><td>{1, 2}</td><td>{Brazil, https://...</td><td>{{NULL, NULL}, {1...</td><td>{{134, https://me...</td></tr>\n",
       "<tr><td>{2025-04-25T01:00...</td><td>{NULL, NULL}</td><td>{Barbados, https:...</td><td>{{NULL, NULL}, {N...</td><td>{{8406, https://m...</td></tr>\n",
       "<tr><td>{2025-04-25T01:00...</td><td>{0, 2}</td><td>{Mexico, https://...</td><td>{{NULL, NULL}, {0...</td><td>{{14870, https://...</td></tr>\n",
       "<tr><td>{2025-04-25T02:00...</td><td>{0, 2}</td><td>{Guatemala, https...</td><td>{{NULL, NULL}, {0...</td><td>{{3657, https://m...</td></tr>\n",
       "<tr><td>{2025-04-25T02:00...</td><td>{2, 2}</td><td>{New-Zealand, htt...</td><td>{{NULL, NULL}, {2...</td><td>{{20661, https://...</td></tr>\n",
       "<tr><td>{2025-04-25T02:00...</td><td>{NULL, NULL}</td><td>{New-Zealand, htt...</td><td>{{NULL, NULL}, {N...</td><td>{{20667, https://...</td></tr>\n",
       "<tr><td>{2025-04-25T02:00...</td><td>{1, 3}</td><td>{World, NULL, 11,...</td><td>{{NULL, NULL}, {1...</td><td>{{442, https://me...</td></tr>\n",
       "<tr><td>{2025-04-25T02:00...</td><td>{NULL, NULL}</td><td>{New-Zealand, htt...</td><td>{{NULL, NULL}, {N...</td><td>{{24308, https://...</td></tr>\n",
       "<tr><td>{2025-04-25T02:00...</td><td>{NULL, NULL}</td><td>{New-Zealand, htt...</td><td>{{NULL, NULL}, {N...</td><td>{{17051, https://...</td></tr>\n",
       "<tr><td>{2025-04-25T02:00...</td><td>{NULL, NULL}</td><td>{New-Zealand, htt...</td><td>{{NULL, NULL}, {N...</td><td>{{24302, https://...</td></tr>\n",
       "<tr><td>{2025-04-25T02:00...</td><td>{NULL, NULL}</td><td>{New-Zealand, htt...</td><td>{{NULL, NULL}, {N...</td><td>{{24303, https://...</td></tr>\n",
       "<tr><td>{2025-04-25T02:00...</td><td>{NULL, NULL}</td><td>{New-Zealand, htt...</td><td>{{NULL, NULL}, {N...</td><td>{{24254, https://...</td></tr>\n",
       "<tr><td>{2025-04-25T02:00...</td><td>{NULL, NULL}</td><td>{New-Zealand, htt...</td><td>{{NULL, NULL}, {N...</td><td>{{24242, https://...</td></tr>\n",
       "</table>\n",
       "only showing top 20 rows\n"
      ]
     },
     "execution_count": 6,
     "metadata": {},
     "output_type": "execute_result"
    }
   ],
   "execution_count": 6
  },
  {
   "metadata": {
    "ExecuteTime": {
     "end_time": "2025-05-22T13:51:20.360671Z",
     "start_time": "2025-05-22T13:51:19.945145Z"
    }
   },
   "cell_type": "code",
   "source": [
    "table_subpath = 'delta_sports/matches'\n",
    "loader = IncrementalLoader(spark, absolute_path_to_landing, table_subpath)\n",
    "df = loader.get_new_data()\n",
    "df.head(5)"
   ],
   "id": "919ab95efa9de8d1",
   "outputs": [
    {
     "name": "stdout",
     "output_type": "stream",
     "text": [
      "INFO:dags.lib.pt_utils:Using CDF from version 13\n"
     ]
    },
    {
     "name": "stderr",
     "output_type": "stream",
     "text": [
      "25/05/22 15:51:20 WARN DeltaHistoryManager: Found Delta commit 0 with a timestamp 1745921644516 which is greater than the next commit timestamp 1745921644042.\n",
      "25/05/22 15:51:20 WARN DeltaHistoryManager: Found Delta commit 1 with a timestamp 1745921644517 which is greater than the next commit timestamp 1745921643917.\n",
      "25/05/22 15:51:20 WARN DeltaHistoryManager: Found Delta commit 2 with a timestamp 1745921644518 which is greater than the next commit timestamp 1745921642587.\n",
      "25/05/22 15:51:20 WARN DeltaHistoryManager: Found Delta commit 3 with a timestamp 1745921644519 which is greater than the next commit timestamp 1745921644158.\n",
      "25/05/22 15:51:20 WARN DeltaHistoryManager: Found Delta commit 4 with a timestamp 1745921644520 which is greater than the next commit timestamp 1745921642587.\n",
      "25/05/22 15:51:20 WARN DeltaHistoryManager: Found Delta commit 5 with a timestamp 1745921644521 which is greater than the next commit timestamp 1745921642590.\n",
      "25/05/22 15:51:20 WARN DeltaHistoryManager: Found Delta commit 7 with a timestamp 1745921645204 which is greater than the next commit timestamp 1745921644679.\n",
      "25/05/22 15:51:20 WARN DeltaHistoryManager: Found Delta commit 8 with a timestamp 1745921645205 which is greater than the next commit timestamp 1745921645069.\n",
      "25/05/22 15:51:20 WARN DeltaHistoryManager: Found Delta commit 9 with a timestamp 1745921645206 which is greater than the next commit timestamp 1745921644428.\n",
      "25/05/22 15:51:20 WARN DeltaHistoryManager: Found Delta commit 10 with a timestamp 1745921645207 which is greater than the next commit timestamp 1745921644545.\n",
      "25/05/22 15:51:20 WARN DeltaHistoryManager: Found Delta commit 0 with a timestamp 1745921644516 which is greater than the next commit timestamp 1745921644042.\n",
      "25/05/22 15:51:20 WARN DeltaHistoryManager: Found Delta commit 1 with a timestamp 1745921644517 which is greater than the next commit timestamp 1745921643917.\n",
      "25/05/22 15:51:20 WARN DeltaHistoryManager: Found Delta commit 2 with a timestamp 1745921644518 which is greater than the next commit timestamp 1745921642587.\n",
      "25/05/22 15:51:20 WARN DeltaHistoryManager: Found Delta commit 3 with a timestamp 1745921644519 which is greater than the next commit timestamp 1745921644158.\n",
      "25/05/22 15:51:20 WARN DeltaHistoryManager: Found Delta commit 4 with a timestamp 1745921644520 which is greater than the next commit timestamp 1745921642587.\n",
      "25/05/22 15:51:20 WARN DeltaHistoryManager: Found Delta commit 5 with a timestamp 1745921644521 which is greater than the next commit timestamp 1745921642590.\n",
      "25/05/22 15:51:20 WARN DeltaHistoryManager: Found Delta commit 7 with a timestamp 1745921645204 which is greater than the next commit timestamp 1745921644679.\n",
      "25/05/22 15:51:20 WARN DeltaHistoryManager: Found Delta commit 8 with a timestamp 1745921645205 which is greater than the next commit timestamp 1745921645069.\n",
      "25/05/22 15:51:20 WARN DeltaHistoryManager: Found Delta commit 9 with a timestamp 1745921645206 which is greater than the next commit timestamp 1745921644428.\n",
      "25/05/22 15:51:20 WARN DeltaHistoryManager: Found Delta commit 10 with a timestamp 1745921645207 which is greater than the next commit timestamp 1745921644545.\n"
     ]
    },
    {
     "data": {
      "text/plain": [
       "[]"
      ]
     },
     "execution_count": 23,
     "metadata": {},
     "output_type": "execute_result"
    }
   ],
   "execution_count": 23
  },
  {
   "metadata": {
    "ExecuteTime": {
     "end_time": "2025-05-29T16:38:10.883180Z",
     "start_time": "2025-05-29T16:38:09.988221Z"
    }
   },
   "cell_type": "code",
   "source": [
    "sproc = SportsMatchesProcessor(spark, df)\n",
    "sproc.expand()\n",
    "sproc.normalize_text(['referee', 'venue_city', 'venue_name', 'team_away_name', 'team_home_name', 'status_long'])\n",
    "\n",
    "sproc.extract_teams()\n",
    "sproc.extract_venues()\n",
    "sproc.remove_useless_columns()\n",
    "sproc.ensure_schema()\n",
    "sproc.remove_clear_duplicates()\n",
    "sproc.remove_hidden_duplicates(['fixture_id', 'status_long'])"
   ],
   "id": "f75d09c66af43428",
   "outputs": [
    {
     "name": "stdout",
     "output_type": "stream",
     "text": [
      "+------+--------------------+----------+------------+-------------+--------------------+--------------+------------+--------------+------------+----------+--------+--------------------+--------+--------------------+------------+--------------------+--------------------+----------------+------------+--------------------+--------------------+----------------+----------+----------+\n",
      "|league|        fixture_date|fixture_id|period_first|period_second|             referee|status_elapsed|status_extra|   status_long|status_short| timestamp|timezone|          venue_city|venue_id|          venue_name|team_away_id|      team_away_logo|      team_away_name|team_away_winner|team_home_id|      team_home_logo|      team_home_name|team_home_winner|goals_away|goals_home|\n",
      "+------+--------------------+----------+------------+-------------+--------------------+--------------+------------+--------------+------------+----------+--------+--------------------+--------+--------------------+------------+--------------------+--------------------+----------------+------------+--------------------+--------------------+----------------+----------+----------+\n",
      "|   909|2025-04-25T00:00:...|   1345365|  1745539200|   1745542800|            R. Homik|            90|           7|Match Finished|          FT|1745539200|     UTC|Commerce City, Co...|    NULL|Dick&amp;apos;s S...|       18814|https://media.api...| Minnesota United II|            true|        4102|https://media.api...|  Colorado Rapids II|           false|         2|         0|\n",
      "|   243|2025-04-25T00:00:...|   1354612|  1745539200|   1745542800|                NULL|            90|           5|Match Finished|          FT|1745539200|     UTC|           Guayaquil|     466|Estadio Monumenta...|        1159|https://media.api...|   Guayaquil City FC|            NULL|       10112|https://media.api...|          Chacaritas|            NULL|         1|         1|\n",
      "|    13|2025-04-25T00:00:...|   1361899|  1745539200|   1745542800|Mario Alberto Dia...|            90|           5|Match Finished|          FT|1745539200|     UTC|            Salvador|    NULL|Casa de Apostas A...|        1137|https://media.api...|   Atletico Nacional|           false|         118|https://media.api...|               Bahia|            true|         0|         1|\n",
      "|   263|2025-04-25T00:00:...|   1372443|  1745539200|   1745542800|    M. López Sánchez|            90|           8|Match Finished|          FT|1745539200|     UTC|              Mérida|    1844|Estadio Olímpico ...|        2299|https://media.api...|Mineros de Zacatecas|           false|        2311|https://media.api...|          Venados FC|            true|         0|         2|\n",
      "|    13|2025-04-25T00:30:...|   1361901|  1745541000|   1745544600|Esteban Ostojich,...|            90|           5|Match Finished|          FT|1745541000|     UTC|            Asuncion|    NULL|Estadio ueno La N...|        2546|https://media.api...|    Sporting Cristal|            NULL|        1176|https://media.api...|       Cerro Porteno|            NULL|         2|         2|\n",
      "|    11|2025-04-25T00:30:...|   1362132|  1745541000|   1745544600|Mathias De Armas,...|            90|        NULL|Match Finished|          FT|1745541000|     UTC|            Coquimbo|     324|Estadio Bicentena...|         135|https://media.api...|            Cruzeiro|           false|        2318|https://media.api...|           Palestino|            true|         1|         2|\n",
      "|    11|2025-04-25T00:30:...|   1362139|  1745541000|   1745544600|Nicolas Ramirez, ...|            90|          12|Match Finished|          FT|1745541000|     UTC|             Iquique|     336|Estadio Tierra de...|        2562|https://media.api...|           Cienciano|            NULL|        2319|https://media.api...|    Deportes Iquique|            NULL|         2|         2|\n",
      "|    72|2025-04-25T00:35:...|   1353308|  1745541300|   1745544900|Denis da Silva Ri...|            90|           5|Match Finished|          FT|1745541300|     UTC|Novo Horizonte, S...|    5664|Estádio Dr. Jorge...|         134|https://media.api...| Atletico Paranaense|           false|        7834|https://media.api...|       Novorizontino|            true|         1|         2|\n",
      "|   422|2025-04-25T01:00:...|   1337904|        NULL|         NULL|                NULL|          NULL|        NULL|   Not Started|          NS|1745542800|     UTC|          Friendship|    NULL|Valerie Playing F...|        8406|https://media.api...|            Paradise|            NULL|        8417|https://media.api...|  Pride of Gall Hill|            NULL|      NULL|      NULL|\n",
      "|   673|2025-04-25T01:00:...|   1372193|  1745542800|   1745546400|                NULL|            90|           8|Match Finished|          FT|1745542800|     UTC|             Zapopan|    1076|       Estadio AKRON|       14870|https://media.api...|        Pumas UNAM W|           false|       14876|https://media.api...|       Guadalajara W|            true|         0|         2|\n",
      "|   339|2025-04-25T02:00:...|   1334268|  1745546400|   1745550000|                NULL|            90|           3|Match Finished|          FT|1745546400|     UTC|      Quetzaltenango|    2465|Estadio Mario Cam...|        3657|https://media.api...|      Cobán Imperial|           false|        3667|https://media.api...|              Xelajú|            true|         0|         2|\n",
      "|   957|2025-04-25T02:00:...|   1359205|        NULL|         NULL|                NULL|            90|        NULL|Match Finished|          FT|1745546400|     UTC|        Christchurch|   19561|      Ferrymead Park|       20661|https://media.api...| Dunedin City Royals|            NULL|       20662|https://media.api...|      Ferrymead Bays|            NULL|         2|         2|\n",
      "|   957|2025-04-25T02:00:...|   1359206|        NULL|         NULL|                NULL|          NULL|        NULL|   Not Started|          NS|1745546400|     UTC|              Wanaka|    NULL| Recreation Centre 1|       20667|https://media.api...|       Selwyn United|            NULL|       24318|https://media.api...|              Wanaka|            NULL|      NULL|      NULL|\n",
      "|    11|2025-04-25T02:00:...|   1362126|  1745546400|   1745550000|Yender Herrera, V...|            90|           6|Match Finished|          FT|1745546400|     UTC|               Quito|     465|Estadio Olímpico ...|         442|https://media.api...|  Defensa Y Justicia|           false|        1157|https://media.api...|Universidad Catolica|            true|         1|         3|\n",
      "|  1127|2025-04-25T02:00:...|   1371208|        NULL|         NULL|                NULL|          NULL|        NULL|   Not Started|          NS|1745546400|     UTC|            Auckland|    NULL|       Brains Park 1|       24308|https://media.api...|  Uni-Mount Bohemian|            NULL|       24320|https://media.api...|       West Auckland|            NULL|      NULL|      NULL|\n",
      "|  1127|2025-04-25T02:00:...|   1371210|        NULL|         NULL|                NULL|          NULL|        NULL|   Not Started|          NS|1745546400|     UTC|             Te Puke|    NULL|         Litt Park 1|       17051|https://media.api...|      Internationale|            NULL|       24305|https://media.api...|      Te Puke United|            NULL|      NULL|      NULL|\n",
      "|  1127|2025-04-25T02:00:...|   1371211|        NULL|         NULL|                NULL|          NULL|        NULL|   Not Started|          NS|1745546400|     UTC|            Auckland|    NULL|Michaels Avenue R...|       24302|https://media.api...|            Te Atatu|            NULL|       24241|https://media.api...| AFC Bohemian Celtic|            NULL|      NULL|      NULL|\n",
      "|  1127|2025-04-25T02:00:...|   1371213|        NULL|         NULL|                NULL|          NULL|        NULL|   Not Started|          NS|1745546400|     UTC|            Auckland|    NULL|     McLennan Park 1|       24303|https://media.api...|          Te Awamutu|            NULL|       24285|https://media.api...|       Papakura City|            NULL|      NULL|      NULL|\n",
      "|  1127|2025-04-25T02:00:...|   1371214|        NULL|         NULL|                NULL|          NULL|        NULL|   Not Started|          NS|1745546400|     UTC|          Otorohanga|    NULL| Otorohanga Domain 1|       24254|https://media.api...|     Franklin United|            NULL|       24279|https://media.api...|          Otorohanga|            NULL|      NULL|      NULL|\n",
      "|  1127|2025-04-25T02:00:...|   1371215|        NULL|         NULL|                NULL|          NULL|        NULL|   Not Started|          NS|1745546400|     UTC|            Auckland|    NULL|     Rongomai Park 1|       24242|https://media.api...|       Albany United|            NULL|       24295|https://media.api...|South Auckland Ra...|            NULL|      NULL|      NULL|\n",
      "+------+--------------------+----------+------------+-------------+--------------------+--------------+------------+--------------+------------+----------+--------+--------------------+--------+--------------------+------------+--------------------+--------------------+----------------+------------+--------------------+--------------------+----------------+----------+----------+\n",
      "only showing top 20 rows\n",
      "\n",
      "INFO:dags.lib.pt_utils:Removed 4537 simple duplicate(s)\n",
      "INFO:dags.lib.pt_utils:Removed 629 hidden duplicate(s)\n"
     ]
    }
   ],
   "execution_count": 18
  },
  {
   "metadata": {
    "ExecuteTime": {
     "end_time": "2025-05-29T16:42:41.398422Z",
     "start_time": "2025-05-29T16:42:40.710759Z"
    }
   },
   "cell_type": "code",
   "source": [
    "sproc = SportsMatchesProcessor(spark, df)\n",
    "sproc.expand()\n",
    "print(sproc.df.head(1))\n",
    "sproc.normalize_text(['referee', 'venue_city', 'venue_name', 'team_away_name', 'team_home_name', 'status_long'])\n",
    "print(sproc.df.head(1))"
   ],
   "id": "ad1c36e169079981",
   "outputs": [
    {
     "name": "stdout",
     "output_type": "stream",
     "text": [
      "[Row(league=909, fixture_date='2025-04-25T00:00:00+00:00', fixture_id=1345365, period_first=1745539200, period_second=1745542800, referee='R. Homik', status_elapsed=90, status_extra=7, status_long='Match Finished', status_short='FT', timestamp=1745539200, timezone='UTC', venue_city='Commerce City, Colorado', venue_id=None, venue_name='Dick&amp;apos;s Sporting Goods Park', team_away_id=18814, team_away_logo='https://media.api-sports.io/football/teams/18814.png', team_away_name='Minnesota United II', team_away_winner=True, team_home_id=4102, team_home_logo='https://media.api-sports.io/football/teams/4102.png', team_home_name='Colorado Rapids II', team_home_winner=False, goals_away=2, goals_home=0)]\n",
      "[Row(league=909, fixture_date='2025-04-25T00:00:00+00:00', fixture_id=1345365, period_first=1745539200, period_second=1745542800, referee=None, status_elapsed=90, status_extra=7, status_long=None, status_short='FT', timestamp=1745539200, timezone='UTC', venue_city=None, venue_id=None, venue_name=None, team_away_id=18814, team_away_logo='https://media.api-sports.io/football/teams/18814.png', team_away_name=None, team_away_winner=True, team_home_id=4102, team_home_logo='https://media.api-sports.io/football/teams/4102.png', team_home_name=None, team_home_winner=False, goals_away=2, goals_home=0)]\n"
     ]
    }
   ],
   "execution_count": 25
  },
  {
   "metadata": {
    "ExecuteTime": {
     "end_time": "2025-05-29T16:38:08.341965Z",
     "start_time": "2025-05-29T16:38:08.000737Z"
    }
   },
   "cell_type": "code",
   "source": "df.select('teams').head(1)",
   "id": "a777ce4105bb2ae2",
   "outputs": [
    {
     "data": {
      "text/plain": [
       "[Row(teams=Row(away=Row(id=18814, logo='https://media.api-sports.io/football/teams/18814.png', name='Minnesota United II', winner=True), home=Row(id=4102, logo='https://media.api-sports.io/football/teams/4102.png', name='Colorado Rapids II', winner=False)))]"
      ]
     },
     "execution_count": 17,
     "metadata": {},
     "output_type": "execute_result"
    }
   ],
   "execution_count": 17
  },
  {
   "metadata": {
    "ExecuteTime": {
     "end_time": "2025-05-22T13:50:09.376673Z",
     "start_time": "2025-05-22T13:50:09.109510Z"
    }
   },
   "cell_type": "code",
   "source": [
    "sproc.teams.groupBy('team_id').count().filter('count>1')\n",
    "sproc.venues.groupBy('venue_id').count().filter('count>1')\n"
   ],
   "id": "1e08baa4da202344",
   "outputs": [
    {
     "data": {
      "text/plain": [
       "+--------+-----+\n",
       "|venue_id|count|\n",
       "+--------+-----+\n",
       "+--------+-----+"
      ],
      "text/html": [
       "<table border='1'>\n",
       "<tr><th>venue_id</th><th>count</th></tr>\n",
       "</table>\n"
      ]
     },
     "execution_count": 20,
     "metadata": {},
     "output_type": "execute_result"
    }
   ],
   "execution_count": 20
  },
  {
   "metadata": {
    "ExecuteTime": {
     "end_time": "2025-05-22T13:51:14.446590Z",
     "start_time": "2025-05-22T13:51:09.648122Z"
    }
   },
   "cell_type": "code",
   "source": [
    "sproc.merge_with_trusted(\"../data/letstalk_trusted_zone_bdma\", 'delta_sports', ['fixture_id', 'status_long'])\n",
    "loader.update_control_table()"
   ],
   "id": "3647ba76903b939d",
   "outputs": [
    {
     "name": "stdout",
     "output_type": "stream",
     "text": [
      "INFO:dags.lib.pt_utils:Saving unique records from overlapping ones\n"
     ]
    },
    {
     "name": "stderr",
     "output_type": "stream",
     "text": [
      "--- Logging error ---\n",
      "Traceback (most recent call last):\n",
      "  File \"/opt/homebrew/Cellar/python@3.13/3.13.3/Frameworks/Python.framework/Versions/3.13/lib/python3.13/logging/__init__.py\", line 1150, in emit\n",
      "    msg = self.format(record)\n",
      "  File \"/opt/homebrew/Cellar/python@3.13/3.13.3/Frameworks/Python.framework/Versions/3.13/lib/python3.13/logging/__init__.py\", line 998, in format\n",
      "    return fmt.format(record)\n",
      "           ~~~~~~~~~~^^^^^^^^\n",
      "  File \"/opt/homebrew/Cellar/python@3.13/3.13.3/Frameworks/Python.framework/Versions/3.13/lib/python3.13/logging/__init__.py\", line 711, in format\n",
      "    record.message = record.getMessage()\n",
      "                     ~~~~~~~~~~~~~~~~~^^\n",
      "  File \"/opt/homebrew/Cellar/python@3.13/3.13.3/Frameworks/Python.framework/Versions/3.13/lib/python3.13/logging/__init__.py\", line 400, in getMessage\n",
      "    msg = msg % self.args\n",
      "          ~~~~^~~~~~~~~~~\n",
      "TypeError: not all arguments converted during string formatting\n",
      "Call stack:\n",
      "  File \"<frozen runpy>\", line 198, in _run_module_as_main\n",
      "  File \"<frozen runpy>\", line 88, in _run_code\n",
      "  File \"/Users/alfio/python_venv/general/lib/python3.13/site-packages/ipykernel_launcher.py\", line 18, in <module>\n",
      "    app.launch_new_instance()\n",
      "  File \"/Users/alfio/python_venv/general/lib/python3.13/site-packages/traitlets/config/application.py\", line 1075, in launch_instance\n",
      "    app.start()\n",
      "  File \"/Users/alfio/python_venv/general/lib/python3.13/site-packages/ipykernel/kernelapp.py\", line 739, in start\n",
      "    self.io_loop.start()\n",
      "  File \"/Users/alfio/python_venv/general/lib/python3.13/site-packages/tornado/platform/asyncio.py\", line 205, in start\n",
      "    self.asyncio_loop.run_forever()\n",
      "  File \"/opt/homebrew/Cellar/python@3.13/3.13.3/Frameworks/Python.framework/Versions/3.13/lib/python3.13/asyncio/base_events.py\", line 677, in run_forever\n",
      "    self._run_once()\n",
      "  File \"/opt/homebrew/Cellar/python@3.13/3.13.3/Frameworks/Python.framework/Versions/3.13/lib/python3.13/asyncio/base_events.py\", line 2034, in _run_once\n",
      "    handle._run()\n",
      "  File \"/opt/homebrew/Cellar/python@3.13/3.13.3/Frameworks/Python.framework/Versions/3.13/lib/python3.13/asyncio/events.py\", line 89, in _run\n",
      "    self._context.run(self._callback, *self._args)\n",
      "  File \"/Users/alfio/python_venv/general/lib/python3.13/site-packages/ipykernel/kernelbase.py\", line 545, in dispatch_queue\n",
      "    await self.process_one()\n",
      "  File \"/Users/alfio/python_venv/general/lib/python3.13/site-packages/ipykernel/kernelbase.py\", line 534, in process_one\n",
      "    await dispatch(*args)\n",
      "  File \"/Users/alfio/python_venv/general/lib/python3.13/site-packages/ipykernel/kernelbase.py\", line 437, in dispatch_shell\n",
      "    await result\n",
      "  File \"/Users/alfio/python_venv/general/lib/python3.13/site-packages/ipykernel/ipkernel.py\", line 362, in execute_request\n",
      "    await super().execute_request(stream, ident, parent)\n",
      "  File \"/Users/alfio/python_venv/general/lib/python3.13/site-packages/ipykernel/kernelbase.py\", line 778, in execute_request\n",
      "    reply_content = await reply_content\n",
      "  File \"/Users/alfio/python_venv/general/lib/python3.13/site-packages/ipykernel/ipkernel.py\", line 449, in do_execute\n",
      "    res = shell.run_cell(\n",
      "  File \"/Users/alfio/python_venv/general/lib/python3.13/site-packages/ipykernel/zmqshell.py\", line 549, in run_cell\n",
      "    return super().run_cell(*args, **kwargs)\n",
      "  File \"/Users/alfio/python_venv/general/lib/python3.13/site-packages/IPython/core/interactiveshell.py\", line 3077, in run_cell\n",
      "    result = self._run_cell(\n",
      "  File \"/Users/alfio/python_venv/general/lib/python3.13/site-packages/IPython/core/interactiveshell.py\", line 3132, in _run_cell\n",
      "    result = runner(coro)\n",
      "  File \"/Users/alfio/python_venv/general/lib/python3.13/site-packages/IPython/core/async_helpers.py\", line 128, in _pseudo_sync_runner\n",
      "    coro.send(None)\n",
      "  File \"/Users/alfio/python_venv/general/lib/python3.13/site-packages/IPython/core/interactiveshell.py\", line 3336, in run_cell_async\n",
      "    has_raised = await self.run_ast_nodes(code_ast.body, cell_name,\n",
      "  File \"/Users/alfio/python_venv/general/lib/python3.13/site-packages/IPython/core/interactiveshell.py\", line 3519, in run_ast_nodes\n",
      "    if await self.run_code(code, result, async_=asy):\n",
      "  File \"/Users/alfio/python_venv/general/lib/python3.13/site-packages/IPython/core/interactiveshell.py\", line 3579, in run_code\n",
      "    exec(code_obj, self.user_global_ns, self.user_ns)\n",
      "  File \"/var/folders/dl/rt87twcn1nn7kt4mqdkr_wvc0000gn/T/ipykernel_34993/1920806416.py\", line 1, in <module>\n",
      "    sproc.merge_with_trusted(\"../data/letstalk_trusted_zone_bdma\", 'delta_sports', ['fixture_id', 'status_long'])\n",
      "  File \"/Users/alfio/projects/upc/BDMP2/dags/lib/Processer.py\", line 186, in merge_with_trusted\n",
      "    basic_merge_with_trusted(self.teams, self.spark, bucket_path, os.path.join(table_path, 'teams'), ['team_id'], self.is_gcs_enabled)\n",
      "  File \"/Users/alfio/projects/upc/BDMP2/dags/lib/Processer.py\", line 26, in basic_merge_with_trusted\n",
      "    if path_exists(bucket_path, table_path, is_gcs_enabled):\n",
      "  File \"/Users/alfio/projects/upc/BDMP2/dags/lib/Processer.py\", line 20, in path_exists\n",
      "    logging.info(f\"does path {path} exists: {does_path_exists}\", does_path_exists)\n",
      "Message: 'does path ../data/letstalk_trusted_zone_bdma/delta_sports/teams exists: True'\n",
      "Arguments: (True,)\n"
     ]
    },
    {
     "name": "stdout",
     "output_type": "stream",
     "text": [
      "INFO:dags.lib.pt_utils:Added new 0 unique records to table at path ../data/letstalk_trusted_zone_bdma/delta_sports/teams\n",
      "INFO:dags.lib.pt_utils:Saving unique records from overlapping ones\n"
     ]
    },
    {
     "name": "stderr",
     "output_type": "stream",
     "text": [
      "--- Logging error ---\n",
      "Traceback (most recent call last):\n",
      "  File \"/opt/homebrew/Cellar/python@3.13/3.13.3/Frameworks/Python.framework/Versions/3.13/lib/python3.13/logging/__init__.py\", line 1150, in emit\n",
      "    msg = self.format(record)\n",
      "  File \"/opt/homebrew/Cellar/python@3.13/3.13.3/Frameworks/Python.framework/Versions/3.13/lib/python3.13/logging/__init__.py\", line 998, in format\n",
      "    return fmt.format(record)\n",
      "           ~~~~~~~~~~^^^^^^^^\n",
      "  File \"/opt/homebrew/Cellar/python@3.13/3.13.3/Frameworks/Python.framework/Versions/3.13/lib/python3.13/logging/__init__.py\", line 711, in format\n",
      "    record.message = record.getMessage()\n",
      "                     ~~~~~~~~~~~~~~~~~^^\n",
      "  File \"/opt/homebrew/Cellar/python@3.13/3.13.3/Frameworks/Python.framework/Versions/3.13/lib/python3.13/logging/__init__.py\", line 400, in getMessage\n",
      "    msg = msg % self.args\n",
      "          ~~~~^~~~~~~~~~~\n",
      "TypeError: not all arguments converted during string formatting\n",
      "Call stack:\n",
      "  File \"<frozen runpy>\", line 198, in _run_module_as_main\n",
      "  File \"<frozen runpy>\", line 88, in _run_code\n",
      "  File \"/Users/alfio/python_venv/general/lib/python3.13/site-packages/ipykernel_launcher.py\", line 18, in <module>\n",
      "    app.launch_new_instance()\n",
      "  File \"/Users/alfio/python_venv/general/lib/python3.13/site-packages/traitlets/config/application.py\", line 1075, in launch_instance\n",
      "    app.start()\n",
      "  File \"/Users/alfio/python_venv/general/lib/python3.13/site-packages/ipykernel/kernelapp.py\", line 739, in start\n",
      "    self.io_loop.start()\n",
      "  File \"/Users/alfio/python_venv/general/lib/python3.13/site-packages/tornado/platform/asyncio.py\", line 205, in start\n",
      "    self.asyncio_loop.run_forever()\n",
      "  File \"/opt/homebrew/Cellar/python@3.13/3.13.3/Frameworks/Python.framework/Versions/3.13/lib/python3.13/asyncio/base_events.py\", line 677, in run_forever\n",
      "    self._run_once()\n",
      "  File \"/opt/homebrew/Cellar/python@3.13/3.13.3/Frameworks/Python.framework/Versions/3.13/lib/python3.13/asyncio/base_events.py\", line 2034, in _run_once\n",
      "    handle._run()\n",
      "  File \"/opt/homebrew/Cellar/python@3.13/3.13.3/Frameworks/Python.framework/Versions/3.13/lib/python3.13/asyncio/events.py\", line 89, in _run\n",
      "    self._context.run(self._callback, *self._args)\n",
      "  File \"/Users/alfio/python_venv/general/lib/python3.13/site-packages/ipykernel/kernelbase.py\", line 545, in dispatch_queue\n",
      "    await self.process_one()\n",
      "  File \"/Users/alfio/python_venv/general/lib/python3.13/site-packages/ipykernel/kernelbase.py\", line 534, in process_one\n",
      "    await dispatch(*args)\n",
      "  File \"/Users/alfio/python_venv/general/lib/python3.13/site-packages/ipykernel/kernelbase.py\", line 437, in dispatch_shell\n",
      "    await result\n",
      "  File \"/Users/alfio/python_venv/general/lib/python3.13/site-packages/ipykernel/ipkernel.py\", line 362, in execute_request\n",
      "    await super().execute_request(stream, ident, parent)\n",
      "  File \"/Users/alfio/python_venv/general/lib/python3.13/site-packages/ipykernel/kernelbase.py\", line 778, in execute_request\n",
      "    reply_content = await reply_content\n",
      "  File \"/Users/alfio/python_venv/general/lib/python3.13/site-packages/ipykernel/ipkernel.py\", line 449, in do_execute\n",
      "    res = shell.run_cell(\n",
      "  File \"/Users/alfio/python_venv/general/lib/python3.13/site-packages/ipykernel/zmqshell.py\", line 549, in run_cell\n",
      "    return super().run_cell(*args, **kwargs)\n",
      "  File \"/Users/alfio/python_venv/general/lib/python3.13/site-packages/IPython/core/interactiveshell.py\", line 3077, in run_cell\n",
      "    result = self._run_cell(\n",
      "  File \"/Users/alfio/python_venv/general/lib/python3.13/site-packages/IPython/core/interactiveshell.py\", line 3132, in _run_cell\n",
      "    result = runner(coro)\n",
      "  File \"/Users/alfio/python_venv/general/lib/python3.13/site-packages/IPython/core/async_helpers.py\", line 128, in _pseudo_sync_runner\n",
      "    coro.send(None)\n",
      "  File \"/Users/alfio/python_venv/general/lib/python3.13/site-packages/IPython/core/interactiveshell.py\", line 3336, in run_cell_async\n",
      "    has_raised = await self.run_ast_nodes(code_ast.body, cell_name,\n",
      "  File \"/Users/alfio/python_venv/general/lib/python3.13/site-packages/IPython/core/interactiveshell.py\", line 3519, in run_ast_nodes\n",
      "    if await self.run_code(code, result, async_=asy):\n",
      "  File \"/Users/alfio/python_venv/general/lib/python3.13/site-packages/IPython/core/interactiveshell.py\", line 3579, in run_code\n",
      "    exec(code_obj, self.user_global_ns, self.user_ns)\n",
      "  File \"/var/folders/dl/rt87twcn1nn7kt4mqdkr_wvc0000gn/T/ipykernel_34993/1920806416.py\", line 1, in <module>\n",
      "    sproc.merge_with_trusted(\"../data/letstalk_trusted_zone_bdma\", 'delta_sports', ['fixture_id', 'status_long'])\n",
      "  File \"/Users/alfio/projects/upc/BDMP2/dags/lib/Processer.py\", line 187, in merge_with_trusted\n",
      "    basic_merge_with_trusted(self.venues, self.spark, bucket_path, os.path.join(table_path, 'venues'), ['venue_id'], self.is_gcs_enabled)\n",
      "  File \"/Users/alfio/projects/upc/BDMP2/dags/lib/Processer.py\", line 26, in basic_merge_with_trusted\n",
      "    if path_exists(bucket_path, table_path, is_gcs_enabled):\n",
      "  File \"/Users/alfio/projects/upc/BDMP2/dags/lib/Processer.py\", line 20, in path_exists\n",
      "    logging.info(f\"does path {path} exists: {does_path_exists}\", does_path_exists)\n",
      "Message: 'does path ../data/letstalk_trusted_zone_bdma/delta_sports/venues exists: True'\n",
      "Arguments: (True,)\n"
     ]
    },
    {
     "name": "stdout",
     "output_type": "stream",
     "text": [
      "INFO:dags.lib.pt_utils:Added new 0 unique records to table at path ../data/letstalk_trusted_zone_bdma/delta_sports/venues\n"
     ]
    },
    {
     "name": "stderr",
     "output_type": "stream",
     "text": [
      "--- Logging error ---\n",
      "Traceback (most recent call last):\n",
      "  File \"/opt/homebrew/Cellar/python@3.13/3.13.3/Frameworks/Python.framework/Versions/3.13/lib/python3.13/logging/__init__.py\", line 1150, in emit\n",
      "    msg = self.format(record)\n",
      "  File \"/opt/homebrew/Cellar/python@3.13/3.13.3/Frameworks/Python.framework/Versions/3.13/lib/python3.13/logging/__init__.py\", line 998, in format\n",
      "    return fmt.format(record)\n",
      "           ~~~~~~~~~~^^^^^^^^\n",
      "  File \"/opt/homebrew/Cellar/python@3.13/3.13.3/Frameworks/Python.framework/Versions/3.13/lib/python3.13/logging/__init__.py\", line 711, in format\n",
      "    record.message = record.getMessage()\n",
      "                     ~~~~~~~~~~~~~~~~~^^\n",
      "  File \"/opt/homebrew/Cellar/python@3.13/3.13.3/Frameworks/Python.framework/Versions/3.13/lib/python3.13/logging/__init__.py\", line 400, in getMessage\n",
      "    msg = msg % self.args\n",
      "          ~~~~^~~~~~~~~~~\n",
      "TypeError: not all arguments converted during string formatting\n",
      "Call stack:\n",
      "  File \"<frozen runpy>\", line 198, in _run_module_as_main\n",
      "  File \"<frozen runpy>\", line 88, in _run_code\n",
      "  File \"/Users/alfio/python_venv/general/lib/python3.13/site-packages/ipykernel_launcher.py\", line 18, in <module>\n",
      "    app.launch_new_instance()\n",
      "  File \"/Users/alfio/python_venv/general/lib/python3.13/site-packages/traitlets/config/application.py\", line 1075, in launch_instance\n",
      "    app.start()\n",
      "  File \"/Users/alfio/python_venv/general/lib/python3.13/site-packages/ipykernel/kernelapp.py\", line 739, in start\n",
      "    self.io_loop.start()\n",
      "  File \"/Users/alfio/python_venv/general/lib/python3.13/site-packages/tornado/platform/asyncio.py\", line 205, in start\n",
      "    self.asyncio_loop.run_forever()\n",
      "  File \"/opt/homebrew/Cellar/python@3.13/3.13.3/Frameworks/Python.framework/Versions/3.13/lib/python3.13/asyncio/base_events.py\", line 677, in run_forever\n",
      "    self._run_once()\n",
      "  File \"/opt/homebrew/Cellar/python@3.13/3.13.3/Frameworks/Python.framework/Versions/3.13/lib/python3.13/asyncio/base_events.py\", line 2034, in _run_once\n",
      "    handle._run()\n",
      "  File \"/opt/homebrew/Cellar/python@3.13/3.13.3/Frameworks/Python.framework/Versions/3.13/lib/python3.13/asyncio/events.py\", line 89, in _run\n",
      "    self._context.run(self._callback, *self._args)\n",
      "  File \"/Users/alfio/python_venv/general/lib/python3.13/site-packages/ipykernel/kernelbase.py\", line 545, in dispatch_queue\n",
      "    await self.process_one()\n",
      "  File \"/Users/alfio/python_venv/general/lib/python3.13/site-packages/ipykernel/kernelbase.py\", line 534, in process_one\n",
      "    await dispatch(*args)\n",
      "  File \"/Users/alfio/python_venv/general/lib/python3.13/site-packages/ipykernel/kernelbase.py\", line 437, in dispatch_shell\n",
      "    await result\n",
      "  File \"/Users/alfio/python_venv/general/lib/python3.13/site-packages/ipykernel/ipkernel.py\", line 362, in execute_request\n",
      "    await super().execute_request(stream, ident, parent)\n",
      "  File \"/Users/alfio/python_venv/general/lib/python3.13/site-packages/ipykernel/kernelbase.py\", line 778, in execute_request\n",
      "    reply_content = await reply_content\n",
      "  File \"/Users/alfio/python_venv/general/lib/python3.13/site-packages/ipykernel/ipkernel.py\", line 449, in do_execute\n",
      "    res = shell.run_cell(\n",
      "  File \"/Users/alfio/python_venv/general/lib/python3.13/site-packages/ipykernel/zmqshell.py\", line 549, in run_cell\n",
      "    return super().run_cell(*args, **kwargs)\n",
      "  File \"/Users/alfio/python_venv/general/lib/python3.13/site-packages/IPython/core/interactiveshell.py\", line 3077, in run_cell\n",
      "    result = self._run_cell(\n",
      "  File \"/Users/alfio/python_venv/general/lib/python3.13/site-packages/IPython/core/interactiveshell.py\", line 3132, in _run_cell\n",
      "    result = runner(coro)\n",
      "  File \"/Users/alfio/python_venv/general/lib/python3.13/site-packages/IPython/core/async_helpers.py\", line 128, in _pseudo_sync_runner\n",
      "    coro.send(None)\n",
      "  File \"/Users/alfio/python_venv/general/lib/python3.13/site-packages/IPython/core/interactiveshell.py\", line 3336, in run_cell_async\n",
      "    has_raised = await self.run_ast_nodes(code_ast.body, cell_name,\n",
      "  File \"/Users/alfio/python_venv/general/lib/python3.13/site-packages/IPython/core/interactiveshell.py\", line 3519, in run_ast_nodes\n",
      "    if await self.run_code(code, result, async_=asy):\n",
      "  File \"/Users/alfio/python_venv/general/lib/python3.13/site-packages/IPython/core/interactiveshell.py\", line 3579, in run_code\n",
      "    exec(code_obj, self.user_global_ns, self.user_ns)\n",
      "  File \"/var/folders/dl/rt87twcn1nn7kt4mqdkr_wvc0000gn/T/ipykernel_34993/1920806416.py\", line 1, in <module>\n",
      "    sproc.merge_with_trusted(\"../data/letstalk_trusted_zone_bdma\", 'delta_sports', ['fixture_id', 'status_long'])\n",
      "  File \"/Users/alfio/projects/upc/BDMP2/dags/lib/Processer.py\", line 192, in merge_with_trusted\n",
      "    if path_exists(bucket_path, table_path, self.is_gcs_enabled):\n",
      "  File \"/Users/alfio/projects/upc/BDMP2/dags/lib/Processer.py\", line 20, in path_exists\n",
      "    logging.info(f\"does path {path} exists: {does_path_exists}\", does_path_exists)\n",
      "Message: 'does path ../data/letstalk_trusted_zone_bdma/delta_sports/matches exists: True'\n",
      "Arguments: (True,)\n"
     ]
    },
    {
     "name": "stdout",
     "output_type": "stream",
     "text": [
      "INFO:dags.lib.pt_utils:Saving unique records from overlapping ones\n",
      "INFO:dags.lib.pt_utils:Added new 0 unique records\n",
      "INFO:dags.lib.pt_utils:Appending non overlapping records\n",
      "INFO:dags.lib.pt_utils:Adding new 0 records\n"
     ]
    }
   ],
   "execution_count": 22
  },
  {
   "metadata": {},
   "cell_type": "code",
   "outputs": [],
   "execution_count": null,
   "source": [
    "full_distinct_df = sproc.df.distinct()\n",
    "print(full_distinct_df.count())\n",
    "\n",
    "partial_distinct_df = sproc.df.select('fixture_id', 'status_long').distinct()\n",
    "print(partial_distinct_df.count())\n"
   ],
   "id": "ab03aef8e8130a0e"
  },
  {
   "metadata": {},
   "cell_type": "code",
   "outputs": [],
   "execution_count": null,
   "source": "sproc.merge_with_trusted(\"../data/letstalk_trusted_zone_bdma\", 'delta_sports', ['fixture_id', 'status_long'])\n",
   "id": "8ec43c47f8e8735c"
  },
  {
   "metadata": {},
   "cell_type": "code",
   "outputs": [],
   "execution_count": null,
   "source": "sproc.merge_with_trusted(\"../data/letstalk_trusted_zone_bdma\", 'delta_sports', ['fixture_id', 'status_long'])\n",
   "id": "5bbb9ddc381c9c54"
  }
 ],
 "metadata": {
  "kernelspec": {
   "display_name": "Python 3",
   "language": "python",
   "name": "python3"
  },
  "language_info": {
   "codemirror_mode": {
    "name": "ipython",
    "version": 2
   },
   "file_extension": ".py",
   "mimetype": "text/x-python",
   "name": "python",
   "nbconvert_exporter": "python",
   "pygments_lexer": "ipython2",
   "version": "2.7.6"
  }
 },
 "nbformat": 4,
 "nbformat_minor": 5
}
