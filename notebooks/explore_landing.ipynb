{
 "cells": [
  {
   "cell_type": "code",
   "execution_count": 1,
   "id": "initial_id",
   "metadata": {
    "ExecuteTime": {
     "end_time": "2025-05-06T17:46:23.163092Z",
     "start_time": "2025-05-06T17:46:23.154224Z"
    },
    "collapsed": true
   },
   "outputs": [
    {
     "name": "stdout",
     "output_type": "stream",
     "text": [
      "###############\n",
      "c:\\Users\\josub\\.conda\\envs\\spark311\\python.exe\n",
      "3.11.11 | packaged by Anaconda, Inc. | (main, Dec 11 2024, 16:34:19) [MSC v.1929 64 bit (AMD64)]\n"
     ]
    }
   ],
   "source": [
    "from pyspark.sql.types import IntegerType\n",
    "%load_ext autoreload\n",
    "%autoreload 2\n",
    "\n",
    "import pyspark\n",
    "from delta import *\n",
    "\n",
    "import sys\n",
    "\n",
    "sys.path.append(\"..\")  # Adjust path if needed\n",
    "from dags.lib.IncrementalLoader import IncrementalLoader\n",
    "from dags.lib.Processer import *\n",
    "\n",
    "\n",
    "from pyspark.sql.functions import col, lit, max as spark_max, length, row_number, explode\n",
    "\n",
    "print(\"###############\")\n",
    "import sys\n",
    "print(sys.executable)  # Should print Anaconda path\n",
    "print(sys.version)     # Should print 3.11.x"
   ]
  },
  {
   "cell_type": "code",
   "execution_count": 2,
   "id": "a0fed999dd78466a",
   "metadata": {
    "ExecuteTime": {
     "end_time": "2025-05-06T12:44:11.851451Z",
     "start_time": "2025-05-06T12:44:11.842375Z"
    }
   },
   "outputs": [],
   "source": [
    "def create_spark_session():\n",
    "    conf = (\n",
    "        pyspark.conf.SparkConf()\n",
    "        .setAppName(\"LetsTalk\")\n",
    "        .set(\n",
    "            \"spark.sql.catalog.spark_catalog\",\n",
    "            \"org.apache.spark.sql.delta.catalog.DeltaCatalog\",\n",
    "        )\n",
    "        .set(\"spark.sql.extensions\", \"io.delta.sql.DeltaSparkSessionExtension\")\n",
    "        .set(\"spark.hadoop.fs.gs.impl\", \"com.google.cloud.hadoop.fs.gcs.GoogleHadoopFileSystem\")\n",
    "        .set(\"spark.hadoop.google.cloud.auth.service.account.enable\", \"true\")\n",
    "        .set(\"spark.hadoop.google.cloud.auth.service.account.json.keyfile\", r\"C:\\Users\\josub\\Desktop\\BDMA\\Barcelona\\Big_Data_Management\\SmallProject\\LetsTalk\\gcs.json\")\n",
    "        .set(\"spark.sql.shuffle.partitions\", \"4\")\n",
    "        .set(\"spark.jars\", \"../gcs-connector-hadoop.jar\")\n",
    "        .setMaster(\n",
    "            \"local[*]\"\n",
    "        )\n",
    "    )\n",
    "\n",
    "\n",
    "    builder = pyspark.sql.SparkSession.builder.appName(\"LetsTalk\").config(conf=conf)\n",
    "    spark = configure_spark_with_delta_pip(builder).getOrCreate()\n",
    "    return spark\n",
    "\n",
    "\n",
    "def create_spark_local_session():\n",
    "    builder = pyspark.sql.SparkSession.builder.appName(\"LetsTalk\") \\\n",
    "        .config(\"spark.sql.extensions\", \"io.delta.sql.DeltaSparkSessionExtension\") \\\n",
    "        .config(\"spark.sql.catalog.spark_catalog\", \"org.apache.spark.sql.delta.catalog.DeltaCatalog\")\n",
    "\n",
    "    spark = configure_spark_with_delta_pip(builder).getOrCreate()\n",
    "    return spark\n",
    "\n"
   ]
  },
  {
   "cell_type": "code",
   "execution_count": 3,
   "id": "314d425a93c6dfe7",
   "metadata": {
    "ExecuteTime": {
     "end_time": "2025-05-06T12:44:12.849753Z",
     "start_time": "2025-05-06T12:44:12.818558Z"
    }
   },
   "outputs": [],
   "source": [
    "spark = create_spark_local_session()\n",
    "spark.conf.set('spark.sql.repl.eagerEval.enabled', True)"
   ]
  },
  {
   "cell_type": "code",
   "execution_count": 10,
   "id": "fea31cf1",
   "metadata": {},
   "outputs": [
    {
     "name": "stdout",
     "output_type": "stream",
     "text": [
      "Path exists: True\n",
      "Path contents: ['.part-00000-7543ab6e-2dec-41f0-89ec-e6a6923e6ce8-c000.snappy.parquet.crc', 'part-00000-7543ab6e-2dec-41f0-89ec-e6a6923e6ce8-c000.snappy.parquet', '_delta_log']\n"
     ]
    }
   ],
   "source": [
    "import os\n",
    "control_table_path = r\"C:\\Users\\josub\\Desktop\\BDMA\\Barcelona\\Big_Data_Management\\SmallProject\\LetsTalk\\data\\letstalk_landing_zone_bdma\\control_table\"\n",
    "print(f\"Path exists: {os.path.exists(control_table_path)}\")\n",
    "print(f\"Path contents: {os.listdir(control_table_path) if os.path.exists(control_table_path) else 'Path does not exist'}\")"
   ]
  },
  {
   "cell_type": "code",
   "execution_count": 4,
   "id": "385f8db9",
   "metadata": {},
   "outputs": [
    {
     "data": {
      "text/html": [
       "<table border='1'>\n",
       "<tr><th>source_table</th><th>last_processed_version</th><th>last_run_ts</th></tr>\n",
       "</table>\n"
      ],
      "text/plain": [
       "+------------+----------------------+-----------+\n",
       "|source_table|last_processed_version|last_run_ts|\n",
       "+------------+----------------------+-----------+\n",
       "+------------+----------------------+-----------+"
      ]
     },
     "execution_count": 4,
     "metadata": {},
     "output_type": "execute_result"
    }
   ],
   "source": [
    "def get_control_table_schema():\n",
    "    return StructType([\n",
    "        StructField(\"source_table\", StringType(), False),\n",
    "        StructField(\"last_processed_version\", LongType(), False),\n",
    "        StructField(\"last_run_ts\", TimestampType(), True)\n",
    "    ])\n",
    "\n",
    "control_table_path = r\"C:\\Users\\josub\\Desktop\\BDMA\\Barcelona\\Big_Data_Management\\SmallProject\\LetsTalk\\data\\control_table\"\n",
    "\n",
    "empty_df = spark.createDataFrame([], get_control_table_schema())\n",
    "empty_df.write.format(\"delta\").save(control_table_path)\n",
    "spark.read.format(\"delta\").load(control_table_path)\n"
   ]
  },
  {
   "cell_type": "code",
   "execution_count": 6,
   "id": "7c38357c553368a",
   "metadata": {
    "ExecuteTime": {
     "end_time": "2025-05-06T13:59:30.614111Z",
     "start_time": "2025-05-06T13:59:30.325512Z"
    }
   },
   "outputs": [
    {
     "name": "stdout",
     "output_type": "stream",
     "text": [
      "CDF not available — doing full load\n"
     ]
    },
    {
     "data": {
      "text/plain": [
       "[Row(author='Steven J. Horowitz', content='Beyoncé kicked off her highly anticipated “Cowboy Carter” tour at Los Angeles’ SoFi Stadium tonight, giving the first look at her 32-date trek spanning nine global cities.\\r\\nThe show is the first tast… [+1848 chars]', description=\"Beyoncé kicked off her 'Cowboy Carter' tour at Los Angeles' SoFi Stadium on Apr. 28.\", publishedAt='2025-04-29T03:30:00Z', source=Row(id=None, name='Variety'), title='Beyoncé Set List: Every Song Played on ‘Cowboy Carter’ Tour Opener in Los Angeles (UPDATING LIVE) - Variety', url='https://variety.com/2025/music/news/beyonce-set-list-every-song-played-cowboy-carter-tour-1236380629/', urlToImage='https://variety.com/wp-content/uploads/2025/04/GettyImages-2191421242.jpg?w=1000&h=563&crop=1'),\n",
       " Row(author='Anthony Nash', content='Pat McAfee is officially ready to return to the ring, and will be doing it at WWE Backlash against a very big foe.\\r\\nDuring tonights episode of WWE RAW, McAfee addressed the crowd about Gunthers attac… [+1151 chars]', description='Pat McAfee is officially ready to return to the ring, and will be doing it at WWE Backlash against a very big foe. During tonight’s episode of WWE RAW, McAfee addressed the crowd about Gunther’s attack against him last week. Standing on the announce table nex…', publishedAt='2025-04-29T02:29:46Z', source=Row(id=None, name='Wrestlezone.com'), title='Pat McAfee Returns To The Ring At WWE Backlash - Wrestlezone', url='http://www.wrestlezone.com/news/1556731-pat-mcafee-returns-to-the-ring-at-wwe-backlash', urlToImage='https://www.wrestlezone.com/wp-content/uploads/sites/8/2025/04/pat-mcafee-raw.png?resize=1200,630'),\n",
       " Row(author='Geno Mrosko', content='WWE promised Becky Lynch would explain everything on this weeks episode of Monday Night Raw in Kansas City. She turned on Intercontinental Champion Lyra Valkyria after the two lost the tag team title… [+879 chars]', description='She took Bayley out of WrestleMania 41. Now she’ll wrestle for the Intercontinental championship at Backlash.', publishedAt='2025-04-29T01:22:48Z', source=Row(id=None, name='Cageside Seats'), title='It was Becky Lynch all along - Cageside Seats', url='https://www.cagesideseats.com/wwe/2025/4/28/24419937/becky-lynch-bayley-wwe-wrestlemania-41-lyra-valkyria-backlash-2025-intercontinental-championship', urlToImage='https://cdn.vox-cdn.com/thumbor/ZCBDbTBZN8g1JJsSVYEcCkH-F7Q=/0x67:2157x1196/fit-in/1200x630/cdn.vox-cdn.com/uploads/chorus_asset/file/25974912/BL.png'),\n",
       " Row(author='Clayton Davis', content='This year, the Oscar season prayer has a name, and it is “Sinners.”\\r\\nWith “Sinners,” writer-director Ryan Coogler, one of Hollywood’s most quietly seismic forces, steps into a genre long neglected by… [+4449 chars]', description='\"Sinners\" could mark a turning point for horror at the Academy Awards. Ryan Coogler’s new film will change the Oscar conversation.', publishedAt='2025-04-28T22:35:00Z', source=Row(id=None, name='Variety'), title='Ryan Coogler’s ‘Sinners’ Is the First Oscar Movie of 2025 - Variety', url='https://variety.com/2025/film/awards/ryan-coogler-sinners-oscar-best-picture-director-1236380627/', urlToImage='https://variety.com/wp-content/uploads/2025/04/MCDSINN_WB020-e1745168154650.jpg?crop=630px%2C0px%2C1881px%2C1058px&resize=1000%2C563'),\n",
       " Row(author='The Associated Press', content='SANTA FE, N.M. (AP) The main cause of Gene Hackmans death was heart disease, but he was also in the advanced stages of Alzheimers disease and likely had not eaten for a long time, according to a new … [+1785 chars]', description='The main cause of Gene Hackman’s death was heart disease, but he was also in the advanced stages of Alzheimer’s disease and likely had not eaten for a long...', publishedAt='2025-04-28T22:27:45Z', source=Row(id=None, name='The Dallas Morning News'), title='Autopsy confirms what caused death of actor Gene Hackman - Dallas News', url='https://www.dallasnews.com/arts-entertainment/movies/2025/04/28/autopsy-confirms-what-caused-death-of-actor-gene-hackman/', urlToImage='https://dmn-dallas-news-prod.cdn.arcpublishing.com/resizer/v2/5UVCXDM7HOWFBFMTDDOEKGPICM.jpg?auth=ce05facf3c32a8b06c23c254544da40d563f0d72c3ec1e59881ee460a424238b&height=630&width=1200&smart=true&quality=80')]"
      ]
     },
     "execution_count": 6,
     "metadata": {},
     "output_type": "execute_result"
    }
   ],
   "source": [
    "absolute_path_to_landing = r'C:\\Users\\josub\\Desktop\\BDMA\\Barcelona\\Big_Data_Management\\SmallProject\\LetsTalk\\data\\letstalk_landing_zone_bdma'\n",
    "table_subpath = 'delta_news/entertainment'\n",
    "loader = IncrementalLoader(spark, absolute_path_to_landing, table_subpath)\n",
    "df = loader.get_new_data()\n",
    "df.head(5)"
   ]
  },
  {
   "cell_type": "code",
   "execution_count": 90,
   "id": "eff4df97460bd4d8",
   "metadata": {
    "ExecuteTime": {
     "end_time": "2025-05-06T13:38:18.036939Z",
     "start_time": "2025-05-06T13:38:18.029270Z"
    }
   },
   "outputs": [],
   "source": [
    "processor = NewsProcessor(spark, df)"
   ]
  },
  {
   "cell_type": "code",
   "execution_count": 91,
   "id": "8aa9bbdbf1e22dcd",
   "metadata": {
    "ExecuteTime": {
     "end_time": "2025-05-06T13:38:19.313739Z",
     "start_time": "2025-05-06T13:38:18.919587Z"
    }
   },
   "outputs": [
    {
     "name": "stderr",
     "output_type": "stream",
     "text": [
      "INFO:root:Removed 2 simple duplicate(s)\n",
      "INFO:root:Removed 0 hidden duplicate(s)\n"
     ]
    }
   ],
   "source": [
    "processor.ensure_schema()\n",
    "processor.remove_clear_duplicates()\n",
    "processor.name_to_id()\n",
    "processor.remove_hidden_duplicates(['url'], ['publishedAt'])\n",
    "processor.normalize_text(['title', 'description', 'content'])\n",
    "processor.expand_source()\n",
    "processor.order_by('publishedAt', ascending=False)"
   ]
  },
  {
   "cell_type": "code",
   "execution_count": 92,
   "id": "9b9bf15ea09834a2",
   "metadata": {
    "ExecuteTime": {
     "end_time": "2025-05-06T13:38:21.292593Z",
     "start_time": "2025-05-06T13:38:21.049927Z"
    }
   },
   "outputs": [
    {
     "data": {
      "text/html": [
       "<table border='1'>\n",
       "<tr><th>url</th><th>author</th><th>content</th><th>description</th><th>publishedAt</th><th>source</th><th>title</th><th>urlToImage</th></tr>\n",
       "<tr><td>http://deadline.c...</td><td>Natalie Oganesyan</td><td>the rock  amp  ro...</td><td>the rock   roll h...</td><td>2025-04-28 03:33:00</td><td>deadline</td><td>outkast  cyndi la...</td><td>https://deadline....</td></tr>\n",
       "<tr><td>http://www.vultur...</td><td>Sara Holdren</td><td>the new musical r...</td><td> real women have ...</td><td>2025-04-28 03:30:23</td><td>vulture</td><td>bright and bold i...</td><td>https://pyxis.nym...</td></tr>\n",
       "<tr><td>https://deadline....</td><td>Glenn Garner</td><td>the american film...</td><td>stars like elle f...</td><td>2025-04-27 04:20:01</td><td>deadline</td><td>afi life achievem...</td><td>https://deadline....</td></tr>\n",
       "<tr><td>https://www.yourt...</td><td>Kate Rose</td><td>the love horoscop...</td><td>sunday s new moon...</td><td>2025-04-27 03:03:23</td><td>yourtango</td><td>love horoscopes a...</td><td>https://www.yourt...</td></tr>\n",
       "<tr><td>https://www.count...</td><td>Anna Logan</td><td>did you know gigi...</td><td>from hollywood to...</td><td>2025-04-26 15:17:46</td><td>countryliving.com</td><td>   celebrities se...</td><td>https://hips.hear...</td></tr>\n",
       "<tr><td>https://www.slash...</td><td>Kieran Fisher</td><td>the original  sno...</td><td>how the heck did ...</td><td>2025-04-26 15:00:00</td><td>/film</td><td>the rachel zegler...</td><td>https://www.slash...</td></tr>\n",
       "<tr><td>https://tvline.co...</td><td>Matt Webb Mitovich</td><td>the following con...</td><td>fire country s xl...</td><td>2025-04-26 05:19:51</td><td>tvline</td><td>fire country shoc...</td><td>https://tvline.co...</td></tr>\n",
       "<tr><td>https://tvline.co...</td><td>Matt Webb Mitovich</td><td>the following con...</td><td> ncis sydney  sho...</td><td>2025-04-26 03:00:00</td><td>tvline</td><td>ncis  sydney boss...</td><td>https://tvline.co...</td></tr>\n",
       "<tr><td>https://www.wwno....</td><td>Joseph King</td><td>the first weekend...</td><td>lil wayne will cl...</td><td>2025-04-26 00:30:00</td><td>wwno.org</td><td>lil wayne s new o...</td><td>https://npr.brigh...</td></tr>\n",
       "<tr><td>http://deadline.c...</td><td>Anthony D'Alessandro</td><td>there are many qu...</td><td>george lucas the ...</td><td>2025-04-26 00:08:00</td><td>deadline</td><td>george lucas on w...</td><td>https://deadline....</td></tr>\n",
       "<tr><td>https://variety.c...</td><td>Anna Tingley</td><td>megyn kelly didn ...</td><td>at the time    ga...</td><td>2025-04-25 17:07:00</td><td>variety</td><td>megyn kelly says ...</td><td>https://variety.c...</td></tr>\n",
       "<tr><td>https://www.tvins...</td><td>Martin Holmes</td><td>the conners wrapp...</td><td>the show paid tri...</td><td>2025-04-25 15:50:27</td><td>tvinsider</td><td>roseanne barr rea...</td><td>https://www.tvins...</td></tr>\n",
       "<tr><td>https://www.usato...</td><td>Anna Kaufman</td><td>lulu roman  a gos...</td><td>lulu roman  a gos...</td><td>2025-04-25 15:15:12</td><td>usa-today</td><td>lulu roman  gospe...</td><td>https://www.usato...</td></tr>\n",
       "<tr><td>https://movieweb....</td><td>Anthony Lund</td><td>the first time au...</td><td>christian wolff i...</td><td>2025-04-25 02:35:00</td><td>movieweb</td><td>ben affleck   jon...</td><td>https://static1.m...</td></tr>\n",
       "<tr><td>http://www.thecut...</td><td>Claire Comstock-Gay</td><td>theres lots of pi...</td><td>every weekday  th...</td><td>2025-04-24 11:00:35</td><td>the-cut</td><td>your daily horosc...</td><td>https://pyxis.nym...</td></tr>\n",
       "<tr><td>http://www.vultur...</td><td>Jackson McHenry</td><td>the television fa...</td><td>amy sherman palla...</td><td>2025-04-23 20:07:32</td><td>vulture</td><td>i can t believe  ...</td><td>https://pyxis.nym...</td></tr>\n",
       "<tr><td>https://www.f4won...</td><td>Bryan Alvarez</td><td>the bryan  amp  v...</td><td>the bryan   vinny...</td><td>2025-04-23 06:58:04</td><td>figure-four-online</td><td>b v  wrestlemania...</td><td>https://cdn.f4won...</td></tr>\n",
       "<tr><td>http://deadline.c...</td><td>Peter White</td><td>the kardashians a...</td><td>disney reality ch...</td><td>2025-04-23 02:09:00</td><td>deadline</td><td>the kardashians t...</td><td>https://deadline....</td></tr>\n",
       "<tr><td>http://deadline.c...</td><td>Katie Campione</td><td>the golden bachel...</td><td>the golden bachel...</td><td>2025-04-23 01:42:00</td><td>deadline</td><td> the golden bache...</td><td>https://deadline....</td></tr>\n",
       "<tr><td>https://pagesix.c...</td><td>Tamantha Ryan</td><td>the shade is real...</td><td>the  color purple...</td><td>2025-04-22 18:56:00</td><td>page-six</td><td>oprah winfrey sla...</td><td>https://pagesix.c...</td></tr>\n",
       "</table>\n",
       "only showing top 20 rows\n"
      ],
      "text/plain": [
       "+--------------------+--------------------+--------------------+--------------------+-------------------+------------------+--------------------+--------------------+\n",
       "|                 url|              author|             content|         description|        publishedAt|            source|               title|          urlToImage|\n",
       "+--------------------+--------------------+--------------------+--------------------+-------------------+------------------+--------------------+--------------------+\n",
       "|http://deadline.c...|   Natalie Oganesyan|the rock  amp  ro...|the rock   roll h...|2025-04-28 03:33:00|          deadline|outkast  cyndi la...|https://deadline....|\n",
       "|http://www.vultur...|        Sara Holdren|the new musical r...| real women have ...|2025-04-28 03:30:23|           vulture|bright and bold i...|https://pyxis.nym...|\n",
       "|https://deadline....|        Glenn Garner|the american film...|stars like elle f...|2025-04-27 04:20:01|          deadline|afi life achievem...|https://deadline....|\n",
       "|https://www.yourt...|           Kate Rose|the love horoscop...|sunday s new moon...|2025-04-27 03:03:23|         yourtango|love horoscopes a...|https://www.yourt...|\n",
       "|https://www.count...|          Anna Logan|did you know gigi...|from hollywood to...|2025-04-26 15:17:46| countryliving.com|   celebrities se...|https://hips.hear...|\n",
       "|https://www.slash...|       Kieran Fisher|the original  sno...|how the heck did ...|2025-04-26 15:00:00|             /film|the rachel zegler...|https://www.slash...|\n",
       "|https://tvline.co...|  Matt Webb Mitovich|the following con...|fire country s xl...|2025-04-26 05:19:51|            tvline|fire country shoc...|https://tvline.co...|\n",
       "|https://tvline.co...|  Matt Webb Mitovich|the following con...| ncis sydney  sho...|2025-04-26 03:00:00|            tvline|ncis  sydney boss...|https://tvline.co...|\n",
       "|https://www.wwno....|         Joseph King|the first weekend...|lil wayne will cl...|2025-04-26 00:30:00|          wwno.org|lil wayne s new o...|https://npr.brigh...|\n",
       "|http://deadline.c...|Anthony D'Alessandro|there are many qu...|george lucas the ...|2025-04-26 00:08:00|          deadline|george lucas on w...|https://deadline....|\n",
       "|https://variety.c...|        Anna Tingley|megyn kelly didn ...|at the time    ga...|2025-04-25 17:07:00|           variety|megyn kelly says ...|https://variety.c...|\n",
       "|https://www.tvins...|       Martin Holmes|the conners wrapp...|the show paid tri...|2025-04-25 15:50:27|         tvinsider|roseanne barr rea...|https://www.tvins...|\n",
       "|https://www.usato...|        Anna Kaufman|lulu roman  a gos...|lulu roman  a gos...|2025-04-25 15:15:12|         usa-today|lulu roman  gospe...|https://www.usato...|\n",
       "|https://movieweb....|        Anthony Lund|the first time au...|christian wolff i...|2025-04-25 02:35:00|          movieweb|ben affleck   jon...|https://static1.m...|\n",
       "|http://www.thecut...| Claire Comstock-Gay|theres lots of pi...|every weekday  th...|2025-04-24 11:00:35|           the-cut|your daily horosc...|https://pyxis.nym...|\n",
       "|http://www.vultur...|     Jackson McHenry|the television fa...|amy sherman palla...|2025-04-23 20:07:32|           vulture|i can t believe  ...|https://pyxis.nym...|\n",
       "|https://www.f4won...|       Bryan Alvarez|the bryan  amp  v...|the bryan   vinny...|2025-04-23 06:58:04|figure-four-online|b v  wrestlemania...|https://cdn.f4won...|\n",
       "|http://deadline.c...|         Peter White|the kardashians a...|disney reality ch...|2025-04-23 02:09:00|          deadline|the kardashians t...|https://deadline....|\n",
       "|http://deadline.c...|      Katie Campione|the golden bachel...|the golden bachel...|2025-04-23 01:42:00|          deadline| the golden bache...|https://deadline....|\n",
       "|https://pagesix.c...|       Tamantha Ryan|the shade is real...|the  color purple...|2025-04-22 18:56:00|          page-six|oprah winfrey sla...|https://pagesix.c...|\n",
       "+--------------------+--------------------+--------------------+--------------------+-------------------+------------------+--------------------+--------------------+\n",
       "only showing top 20 rows"
      ]
     },
     "execution_count": 92,
     "metadata": {},
     "output_type": "execute_result"
    }
   ],
   "source": [
    "processor.df"
   ]
  },
  {
   "cell_type": "code",
   "execution_count": 82,
   "id": "4dde318e39b78a0e",
   "metadata": {
    "ExecuteTime": {
     "end_time": "2025-05-06T13:19:25.008079Z",
     "start_time": "2025-05-06T13:19:24.992340Z"
    }
   },
   "outputs": [],
   "source": [
    "import os\n",
    "absolute_path_to_trusted = '/Users/alfio/projects/upc/BDMP2/data/letstalk_trusted_zone_bdma'\n",
    "save_path = os.path.join(absolute_path_to_trusted, table_subpath)\n",
    "\n",
    "processor.df = processor.df.withColumn(\n",
    "    \"url\",\n",
    "    when(col('author') == \"Sara Holdren\", \"https:test.com\").otherwise(col(\"url\"))\n",
    ")"
   ]
  },
  {
   "cell_type": "code",
   "execution_count": 84,
   "id": "98b358605e78fc5c",
   "metadata": {
    "ExecuteTime": {
     "end_time": "2025-05-06T13:19:47.238218Z",
     "start_time": "2025-05-06T13:19:45.383262Z"
    }
   },
   "outputs": [
    {
     "name": "stderr",
     "output_type": "stream",
     "text": [
      "INFO:root:Saving unique records from overlapping ones\n",
      "INFO:root:Added new 1 unique records\n",
      "INFO:root:Appending non overlapping records\n",
      "INFO:root:Adding new 0 records\n"
     ]
    }
   ],
   "source": [
    "processor.merge_with_trusted(save_path, ['url'])"
   ]
  },
  {
   "cell_type": "code",
   "execution_count": 319,
   "id": "48958801fe4d1ecd",
   "metadata": {
    "ExecuteTime": {
     "end_time": "2025-05-06T17:59:19.170401Z",
     "start_time": "2025-05-06T17:59:18.813864Z"
    }
   },
   "outputs": [
    {
     "name": "stdout",
     "output_type": "stream",
     "text": [
      "CDF not available — doing full load\n"
     ]
    },
    {
     "data": {
      "text/plain": [
       "[Row(country=Row(code=None, flag=None, name='World'), league=Row(id=4, logo='https://media.api-sports.io/football/leagues/4.png', name='Euro Championship', type='Cup'), seasons=[Row(coverage=Row(fixtures=Row(events=True, lineups=True, statistics_fixtures=False, statistics_players=False), injuries=False, odds=False, players=True, predictions=True, standings=False, top_assists=True, top_cards=True, top_scorers=True), current=False, end='2008-06-29', start='2008-06-07', year=2008), Row(coverage=Row(fixtures=Row(events=True, lineups=True, statistics_fixtures=False, statistics_players=False), injuries=False, odds=False, players=True, predictions=True, standings=False, top_assists=True, top_cards=True, top_scorers=True), current=False, end='2012-07-01', start='2012-06-08', year=2012), Row(coverage=Row(fixtures=Row(events=True, lineups=True, statistics_fixtures=True, statistics_players=True), injuries=False, odds=False, players=True, predictions=True, standings=True, top_assists=True, top_cards=True, top_scorers=True), current=False, end='2016-07-10', start='2016-06-10', year=2016), Row(coverage=Row(fixtures=Row(events=True, lineups=True, statistics_fixtures=True, statistics_players=True), injuries=False, odds=False, players=True, predictions=True, standings=True, top_assists=True, top_cards=True, top_scorers=True), current=False, end='2021-07-11', start='2019-03-21', year=2020), Row(coverage=Row(fixtures=Row(events=True, lineups=True, statistics_fixtures=True, statistics_players=True), injuries=False, odds=False, players=True, predictions=True, standings=True, top_assists=True, top_cards=True, top_scorers=True), current=True, end='2024-07-14', start='2024-06-14', year=2024)]),\n",
       " Row(country=Row(code=None, flag=None, name='World'), league=Row(id=21, logo='https://media.api-sports.io/football/leagues/21.png', name='Confederations Cup', type='Cup'), seasons=[Row(coverage=Row(fixtures=Row(events=True, lineups=True, statistics_fixtures=False, statistics_players=False), injuries=False, odds=False, players=True, predictions=True, standings=False, top_assists=True, top_cards=True, top_scorers=True), current=False, end='2009-06-28', start='2009-06-14', year=2009), Row(coverage=Row(fixtures=Row(events=True, lineups=True, statistics_fixtures=False, statistics_players=False), injuries=False, odds=False, players=True, predictions=True, standings=False, top_assists=True, top_cards=True, top_scorers=True), current=False, end='2013-06-30', start='2013-06-15', year=2013), Row(coverage=Row(fixtures=Row(events=True, lineups=True, statistics_fixtures=True, statistics_players=False), injuries=False, odds=False, players=True, predictions=True, standings=False, top_assists=True, top_cards=True, top_scorers=True), current=True, end='2017-07-02', start='2017-06-17', year=2017)]),\n",
       " Row(country=Row(code='FR', flag='https://media.api-sports.io/flags/fr.svg', name='France'), league=Row(id=61, logo='https://media.api-sports.io/football/leagues/61.png', name='Ligue 1', type='League'), seasons=[Row(coverage=Row(fixtures=Row(events=True, lineups=True, statistics_fixtures=False, statistics_players=False), injuries=False, odds=False, players=True, predictions=True, standings=True, top_assists=True, top_cards=True, top_scorers=True), current=False, end='2011-05-29', start='2010-08-07', year=2010), Row(coverage=Row(fixtures=Row(events=True, lineups=True, statistics_fixtures=False, statistics_players=False), injuries=False, odds=False, players=True, predictions=True, standings=True, top_assists=True, top_cards=True, top_scorers=True), current=False, end='2012-05-20', start='2011-08-06', year=2011), Row(coverage=Row(fixtures=Row(events=True, lineups=True, statistics_fixtures=False, statistics_players=False), injuries=False, odds=False, players=True, predictions=True, standings=True, top_assists=True, top_cards=True, top_scorers=True), current=False, end='2013-05-26', start='2012-08-10', year=2012), Row(coverage=Row(fixtures=Row(events=True, lineups=True, statistics_fixtures=False, statistics_players=False), injuries=False, odds=False, players=True, predictions=True, standings=True, top_assists=True, top_cards=True, top_scorers=True), current=False, end='2014-05-17', start='2013-08-09', year=2013), Row(coverage=Row(fixtures=Row(events=True, lineups=True, statistics_fixtures=False, statistics_players=False), injuries=False, odds=False, players=True, predictions=True, standings=True, top_assists=True, top_cards=True, top_scorers=True), current=False, end='2015-05-23', start='2014-08-08', year=2014), Row(coverage=Row(fixtures=Row(events=True, lineups=True, statistics_fixtures=True, statistics_players=True), injuries=False, odds=False, players=True, predictions=True, standings=True, top_assists=True, top_cards=True, top_scorers=True), current=False, end='2016-05-14', start='2015-08-07', year=2015), Row(coverage=Row(fixtures=Row(events=True, lineups=True, statistics_fixtures=True, statistics_players=True), injuries=False, odds=False, players=True, predictions=True, standings=True, top_assists=True, top_cards=True, top_scorers=True), current=False, end='2017-05-20', start='2016-08-12', year=2016), Row(coverage=Row(fixtures=Row(events=True, lineups=True, statistics_fixtures=True, statistics_players=True), injuries=False, odds=False, players=True, predictions=True, standings=True, top_assists=True, top_cards=True, top_scorers=True), current=False, end='2018-05-19', start='2017-08-04', year=2017), Row(coverage=Row(fixtures=Row(events=True, lineups=True, statistics_fixtures=True, statistics_players=True), injuries=False, odds=False, players=True, predictions=True, standings=True, top_assists=True, top_cards=True, top_scorers=True), current=False, end='2019-05-24', start='2018-08-10', year=2018), Row(coverage=Row(fixtures=Row(events=True, lineups=True, statistics_fixtures=True, statistics_players=True), injuries=False, odds=False, players=True, predictions=True, standings=True, top_assists=True, top_cards=True, top_scorers=True), current=False, end='2020-05-23', start='2019-08-09', year=2019), Row(coverage=Row(fixtures=Row(events=True, lineups=True, statistics_fixtures=True, statistics_players=True), injuries=True, odds=False, players=True, predictions=True, standings=True, top_assists=True, top_cards=True, top_scorers=True), current=False, end='2021-05-30', start='2020-08-21', year=2020), Row(coverage=Row(fixtures=Row(events=True, lineups=True, statistics_fixtures=True, statistics_players=True), injuries=True, odds=False, players=True, predictions=True, standings=True, top_assists=True, top_cards=True, top_scorers=True), current=False, end='2022-05-29', start='2021-08-06', year=2021), Row(coverage=Row(fixtures=Row(events=True, lineups=True, statistics_fixtures=True, statistics_players=True), injuries=True, odds=False, players=True, predictions=True, standings=True, top_assists=True, top_cards=True, top_scorers=True), current=False, end='2023-06-03', start='2022-08-05', year=2022), Row(coverage=Row(fixtures=Row(events=True, lineups=True, statistics_fixtures=True, statistics_players=True), injuries=True, odds=False, players=True, predictions=True, standings=True, top_assists=True, top_cards=True, top_scorers=True), current=False, end='2024-06-02', start='2023-08-11', year=2023), Row(coverage=Row(fixtures=Row(events=True, lineups=True, statistics_fixtures=True, statistics_players=True), injuries=True, odds=True, players=True, predictions=True, standings=True, top_assists=True, top_cards=True, top_scorers=True), current=True, end='2025-05-18', start='2024-08-18', year=2024)]),\n",
       " Row(country=Row(code='BE', flag='https://media.api-sports.io/flags/be.svg', name='Belgium'), league=Row(id=144, logo='https://media.api-sports.io/football/leagues/144.png', name='Jupiler Pro League', type='League'), seasons=[Row(coverage=Row(fixtures=Row(events=True, lineups=True, statistics_fixtures=False, statistics_players=False), injuries=False, odds=False, players=True, predictions=True, standings=True, top_assists=True, top_cards=True, top_scorers=True), current=False, end='2011-05-16', start='2010-07-30', year=2010), Row(coverage=Row(fixtures=Row(events=True, lineups=True, statistics_fixtures=False, statistics_players=False), injuries=False, odds=False, players=True, predictions=True, standings=True, top_assists=True, top_cards=True, top_scorers=True), current=False, end='2012-05-20', start='2011-07-29', year=2011), Row(coverage=Row(fixtures=Row(events=True, lineups=True, statistics_fixtures=False, statistics_players=False), injuries=False, odds=False, players=True, predictions=True, standings=True, top_assists=True, top_cards=True, top_scorers=True), current=False, end='2013-05-26', start='2012-07-28', year=2012), Row(coverage=Row(fixtures=Row(events=True, lineups=True, statistics_fixtures=False, statistics_players=False), injuries=False, odds=False, players=True, predictions=True, standings=True, top_assists=True, top_cards=True, top_scorers=True), current=False, end='2014-05-18', start='2013-07-26', year=2013), Row(coverage=Row(fixtures=Row(events=True, lineups=True, statistics_fixtures=False, statistics_players=False), injuries=False, odds=False, players=True, predictions=True, standings=True, top_assists=True, top_cards=True, top_scorers=True), current=False, end='2015-05-31', start='2014-07-25', year=2014), Row(coverage=Row(fixtures=Row(events=True, lineups=True, statistics_fixtures=True, statistics_players=False), injuries=False, odds=False, players=True, predictions=True, standings=True, top_assists=True, top_cards=True, top_scorers=True), current=False, end='2016-05-29', start='2015-07-24', year=2015), Row(coverage=Row(fixtures=Row(events=True, lineups=True, statistics_fixtures=True, statistics_players=False), injuries=False, odds=False, players=True, predictions=True, standings=True, top_assists=True, top_cards=True, top_scorers=True), current=False, end='2017-05-21', start='2016-07-29', year=2016), Row(coverage=Row(fixtures=Row(events=True, lineups=True, statistics_fixtures=True, statistics_players=False), injuries=False, odds=False, players=True, predictions=True, standings=True, top_assists=True, top_cards=True, top_scorers=True), current=False, end='2018-05-20', start='2017-07-28', year=2017), Row(coverage=Row(fixtures=Row(events=True, lineups=True, statistics_fixtures=True, statistics_players=False), injuries=False, odds=False, players=True, predictions=True, standings=True, top_assists=True, top_cards=True, top_scorers=True), current=False, end='2019-05-19', start='2018-07-27', year=2018), Row(coverage=Row(fixtures=Row(events=True, lineups=True, statistics_fixtures=True, statistics_players=False), injuries=False, odds=False, players=True, predictions=True, standings=True, top_assists=True, top_cards=True, top_scorers=True), current=False, end='2020-03-15', start='2019-07-26', year=2019), Row(coverage=Row(fixtures=Row(events=True, lineups=True, statistics_fixtures=True, statistics_players=True), injuries=True, odds=False, players=True, predictions=True, standings=True, top_assists=True, top_cards=True, top_scorers=True), current=False, end='2021-05-23', start='2020-08-08', year=2020), Row(coverage=Row(fixtures=Row(events=True, lineups=True, statistics_fixtures=True, statistics_players=True), injuries=True, odds=False, players=True, predictions=True, standings=True, top_assists=True, top_cards=True, top_scorers=True), current=False, end='2022-05-29', start='2021-07-23', year=2021), Row(coverage=Row(fixtures=Row(events=True, lineups=True, statistics_fixtures=True, statistics_players=True), injuries=False, odds=False, players=True, predictions=True, standings=True, top_assists=True, top_cards=True, top_scorers=True), current=False, end='2023-06-04', start='2022-07-22', year=2022), Row(coverage=Row(fixtures=Row(events=True, lineups=True, statistics_fixtures=True, statistics_players=True), injuries=False, odds=False, players=True, predictions=True, standings=True, top_assists=True, top_cards=True, top_scorers=True), current=False, end='2024-06-02', start='2023-07-28', year=2023), Row(coverage=Row(fixtures=Row(events=True, lineups=True, statistics_fixtures=True, statistics_players=True), injuries=False, odds=True, players=True, predictions=True, standings=True, top_assists=True, top_cards=True, top_scorers=True), current=True, end='2025-05-25', start='2024-07-26', year=2024)]),\n",
       " Row(country=Row(code='BR', flag='https://media.api-sports.io/flags/br.svg', name='Brazil'), league=Row(id=71, logo='https://media.api-sports.io/football/leagues/71.png', name='Serie A', type='League'), seasons=[Row(coverage=Row(fixtures=Row(events=True, lineups=True, statistics_fixtures=False, statistics_players=False), injuries=False, odds=False, players=True, predictions=True, standings=True, top_assists=True, top_cards=True, top_scorers=True), current=False, end='2010-11-28', start='2010-05-08', year=2010), Row(coverage=Row(fixtures=Row(events=True, lineups=True, statistics_fixtures=False, statistics_players=False), injuries=False, odds=False, players=True, predictions=True, standings=True, top_assists=True, top_cards=True, top_scorers=True), current=False, end='2011-12-04', start='2011-05-21', year=2011), Row(coverage=Row(fixtures=Row(events=True, lineups=True, statistics_fixtures=False, statistics_players=False), injuries=False, odds=False, players=True, predictions=True, standings=True, top_assists=True, top_cards=True, top_scorers=True), current=False, end='2012-12-02', start='2012-05-19', year=2012), Row(coverage=Row(fixtures=Row(events=True, lineups=True, statistics_fixtures=False, statistics_players=False), injuries=False, odds=False, players=True, predictions=True, standings=True, top_assists=True, top_cards=True, top_scorers=True), current=False, end='2013-12-08', start='2013-05-25', year=2013), Row(coverage=Row(fixtures=Row(events=True, lineups=True, statistics_fixtures=False, statistics_players=False), injuries=False, odds=False, players=True, predictions=True, standings=True, top_assists=True, top_cards=True, top_scorers=True), current=False, end='2014-12-07', start='2014-04-19', year=2014), Row(coverage=Row(fixtures=Row(events=True, lineups=True, statistics_fixtures=True, statistics_players=True), injuries=False, odds=False, players=True, predictions=True, standings=True, top_assists=True, top_cards=True, top_scorers=True), current=False, end='2015-12-06', start='2015-05-09', year=2015), Row(coverage=Row(fixtures=Row(events=True, lineups=True, statistics_fixtures=True, statistics_players=True), injuries=False, odds=False, players=True, predictions=True, standings=True, top_assists=True, top_cards=True, top_scorers=True), current=False, end='2016-12-11', start='2016-05-14', year=2016), Row(coverage=Row(fixtures=Row(events=True, lineups=True, statistics_fixtures=True, statistics_players=True), injuries=False, odds=False, players=True, predictions=True, standings=True, top_assists=True, top_cards=True, top_scorers=True), current=False, end='2017-12-03', start='2017-05-13', year=2017), Row(coverage=Row(fixtures=Row(events=True, lineups=True, statistics_fixtures=True, statistics_players=True), injuries=False, odds=False, players=True, predictions=True, standings=True, top_assists=True, top_cards=True, top_scorers=True), current=False, end='2018-12-02', start='2018-04-14', year=2018), Row(coverage=Row(fixtures=Row(events=True, lineups=True, statistics_fixtures=True, statistics_players=True), injuries=False, odds=False, players=True, predictions=True, standings=True, top_assists=True, top_cards=True, top_scorers=True), current=False, end='2019-12-08', start='2019-04-27', year=2019), Row(coverage=Row(fixtures=Row(events=True, lineups=True, statistics_fixtures=True, statistics_players=True), injuries=False, odds=False, players=True, predictions=True, standings=True, top_assists=True, top_cards=True, top_scorers=True), current=False, end='2021-02-26', start='2020-08-08', year=2020), Row(coverage=Row(fixtures=Row(events=True, lineups=True, statistics_fixtures=True, statistics_players=True), injuries=False, odds=False, players=True, predictions=True, standings=True, top_assists=True, top_cards=True, top_scorers=True), current=False, end='2021-12-10', start='2021-05-29', year=2021), Row(coverage=Row(fixtures=Row(events=True, lineups=True, statistics_fixtures=True, statistics_players=True), injuries=False, odds=False, players=True, predictions=True, standings=True, top_assists=True, top_cards=True, top_scorers=True), current=False, end='2022-11-13', start='2022-04-10', year=2022), Row(coverage=Row(fixtures=Row(events=True, lineups=True, statistics_fixtures=True, statistics_players=True), injuries=False, odds=False, players=True, predictions=True, standings=True, top_assists=True, top_cards=True, top_scorers=True), current=False, end='2023-12-03', start='2023-04-15', year=2023), Row(coverage=Row(fixtures=Row(events=True, lineups=True, statistics_fixtures=True, statistics_players=True), injuries=True, odds=False, players=True, predictions=True, standings=True, top_assists=True, top_cards=True, top_scorers=True), current=False, end='2024-12-08', start='2024-04-13', year=2024), Row(coverage=Row(fixtures=Row(events=True, lineups=True, statistics_fixtures=True, statistics_players=True), injuries=True, odds=True, players=True, predictions=True, standings=True, top_assists=True, top_cards=True, top_scorers=True), current=True, end='2025-12-21', start='2025-03-29', year=2025)])]"
      ]
     },
     "execution_count": 319,
     "metadata": {},
     "output_type": "execute_result"
    }
   ],
   "source": [
    "absolute_path_to_landing = '/Users/alfio/projects/upc/BDMP2/data/letstalk_landing_zone_bdma'\n",
    "table_subpath = 'delta_sports/leagues'\n",
    "loader = IncrementalLoader(spark, absolute_path_to_landing, table_subpath)\n",
    "df = loader.get_new_data()\n",
    "df.head(5)"
   ]
  },
  {
   "cell_type": "code",
   "execution_count": 320,
   "id": "1cd7de3e67fe1385",
   "metadata": {
    "ExecuteTime": {
     "end_time": "2025-05-06T17:59:20.666018Z",
     "start_time": "2025-05-06T17:59:20.341589Z"
    }
   },
   "outputs": [
    {
     "name": "stderr",
     "output_type": "stream",
     "text": [
      "WARNING:root:Some countries have the same code: ['ua']\n",
      " Changing code, but probably a manual check could be needed\n"
     ]
    }
   ],
   "source": [
    "sporcessor = SportsProcessor(spark, df)\n",
    "countries = sporcessor.generate_countries()\n",
    "leagues = sporcessor.generate_leagues()\n",
    "sporcessor.expand()"
   ]
  },
  {
   "cell_type": "code",
   "execution_count": 321,
   "id": "28fcb9a8b92dc057",
   "metadata": {
    "ExecuteTime": {
     "end_time": "2025-05-06T17:59:25.249434Z",
     "start_time": "2025-05-06T17:59:25.093837Z"
    }
   },
   "outputs": [
    {
     "data": {
      "text/html": [
       "<table border='1'>\n",
       "<tr><th>league_id</th><th>league-info_current</th><th>league-info_end</th><th>league-info_start</th><th>league-info_year</th><th>coverage_injuries</th><th>coverage_odds</th><th>coverage_players</th><th>coverage_predictions</th><th>coverage_standings</th><th>coverage_top_assists</th><th>coverage_top_cards</th><th>coverage_top_scorers</th><th>fixture_events</th><th>fixture_lineups</th><th>fixture_statistics_fixtures</th><th>fixture_statistics_players</th></tr>\n",
       "<tr><td>4</td><td>false</td><td>2008-06-29</td><td>2008-06-07</td><td>2008</td><td>false</td><td>false</td><td>true</td><td>true</td><td>false</td><td>true</td><td>true</td><td>true</td><td>true</td><td>true</td><td>false</td><td>false</td></tr>\n",
       "<tr><td>4</td><td>false</td><td>2012-07-01</td><td>2012-06-08</td><td>2012</td><td>false</td><td>false</td><td>true</td><td>true</td><td>false</td><td>true</td><td>true</td><td>true</td><td>true</td><td>true</td><td>false</td><td>false</td></tr>\n",
       "<tr><td>4</td><td>false</td><td>2016-07-10</td><td>2016-06-10</td><td>2016</td><td>false</td><td>false</td><td>true</td><td>true</td><td>true</td><td>true</td><td>true</td><td>true</td><td>true</td><td>true</td><td>true</td><td>true</td></tr>\n",
       "<tr><td>4</td><td>false</td><td>2021-07-11</td><td>2019-03-21</td><td>2020</td><td>false</td><td>false</td><td>true</td><td>true</td><td>true</td><td>true</td><td>true</td><td>true</td><td>true</td><td>true</td><td>true</td><td>true</td></tr>\n",
       "<tr><td>4</td><td>true</td><td>2024-07-14</td><td>2024-06-14</td><td>2024</td><td>false</td><td>false</td><td>true</td><td>true</td><td>true</td><td>true</td><td>true</td><td>true</td><td>true</td><td>true</td><td>true</td><td>true</td></tr>\n",
       "<tr><td>21</td><td>false</td><td>2009-06-28</td><td>2009-06-14</td><td>2009</td><td>false</td><td>false</td><td>true</td><td>true</td><td>false</td><td>true</td><td>true</td><td>true</td><td>true</td><td>true</td><td>false</td><td>false</td></tr>\n",
       "<tr><td>21</td><td>false</td><td>2013-06-30</td><td>2013-06-15</td><td>2013</td><td>false</td><td>false</td><td>true</td><td>true</td><td>false</td><td>true</td><td>true</td><td>true</td><td>true</td><td>true</td><td>false</td><td>false</td></tr>\n",
       "<tr><td>21</td><td>true</td><td>2017-07-02</td><td>2017-06-17</td><td>2017</td><td>false</td><td>false</td><td>true</td><td>true</td><td>false</td><td>true</td><td>true</td><td>true</td><td>true</td><td>true</td><td>true</td><td>false</td></tr>\n",
       "<tr><td>61</td><td>false</td><td>2011-05-29</td><td>2010-08-07</td><td>2010</td><td>false</td><td>false</td><td>true</td><td>true</td><td>true</td><td>true</td><td>true</td><td>true</td><td>true</td><td>true</td><td>false</td><td>false</td></tr>\n",
       "<tr><td>61</td><td>false</td><td>2012-05-20</td><td>2011-08-06</td><td>2011</td><td>false</td><td>false</td><td>true</td><td>true</td><td>true</td><td>true</td><td>true</td><td>true</td><td>true</td><td>true</td><td>false</td><td>false</td></tr>\n",
       "<tr><td>61</td><td>false</td><td>2013-05-26</td><td>2012-08-10</td><td>2012</td><td>false</td><td>false</td><td>true</td><td>true</td><td>true</td><td>true</td><td>true</td><td>true</td><td>true</td><td>true</td><td>false</td><td>false</td></tr>\n",
       "<tr><td>61</td><td>false</td><td>2014-05-17</td><td>2013-08-09</td><td>2013</td><td>false</td><td>false</td><td>true</td><td>true</td><td>true</td><td>true</td><td>true</td><td>true</td><td>true</td><td>true</td><td>false</td><td>false</td></tr>\n",
       "<tr><td>61</td><td>false</td><td>2015-05-23</td><td>2014-08-08</td><td>2014</td><td>false</td><td>false</td><td>true</td><td>true</td><td>true</td><td>true</td><td>true</td><td>true</td><td>true</td><td>true</td><td>false</td><td>false</td></tr>\n",
       "<tr><td>61</td><td>false</td><td>2016-05-14</td><td>2015-08-07</td><td>2015</td><td>false</td><td>false</td><td>true</td><td>true</td><td>true</td><td>true</td><td>true</td><td>true</td><td>true</td><td>true</td><td>true</td><td>true</td></tr>\n",
       "<tr><td>61</td><td>false</td><td>2017-05-20</td><td>2016-08-12</td><td>2016</td><td>false</td><td>false</td><td>true</td><td>true</td><td>true</td><td>true</td><td>true</td><td>true</td><td>true</td><td>true</td><td>true</td><td>true</td></tr>\n",
       "<tr><td>61</td><td>false</td><td>2018-05-19</td><td>2017-08-04</td><td>2017</td><td>false</td><td>false</td><td>true</td><td>true</td><td>true</td><td>true</td><td>true</td><td>true</td><td>true</td><td>true</td><td>true</td><td>true</td></tr>\n",
       "<tr><td>61</td><td>false</td><td>2019-05-24</td><td>2018-08-10</td><td>2018</td><td>false</td><td>false</td><td>true</td><td>true</td><td>true</td><td>true</td><td>true</td><td>true</td><td>true</td><td>true</td><td>true</td><td>true</td></tr>\n",
       "<tr><td>61</td><td>false</td><td>2020-05-23</td><td>2019-08-09</td><td>2019</td><td>false</td><td>false</td><td>true</td><td>true</td><td>true</td><td>true</td><td>true</td><td>true</td><td>true</td><td>true</td><td>true</td><td>true</td></tr>\n",
       "<tr><td>61</td><td>false</td><td>2021-05-30</td><td>2020-08-21</td><td>2020</td><td>true</td><td>false</td><td>true</td><td>true</td><td>true</td><td>true</td><td>true</td><td>true</td><td>true</td><td>true</td><td>true</td><td>true</td></tr>\n",
       "<tr><td>61</td><td>false</td><td>2022-05-29</td><td>2021-08-06</td><td>2021</td><td>true</td><td>false</td><td>true</td><td>true</td><td>true</td><td>true</td><td>true</td><td>true</td><td>true</td><td>true</td><td>true</td><td>true</td></tr>\n",
       "</table>\n",
       "only showing top 20 rows\n"
      ],
      "text/plain": [
       "+---------+-------------------+---------------+-----------------+----------------+-----------------+-------------+----------------+--------------------+------------------+--------------------+------------------+--------------------+--------------+---------------+---------------------------+--------------------------+\n",
       "|league_id|league-info_current|league-info_end|league-info_start|league-info_year|coverage_injuries|coverage_odds|coverage_players|coverage_predictions|coverage_standings|coverage_top_assists|coverage_top_cards|coverage_top_scorers|fixture_events|fixture_lineups|fixture_statistics_fixtures|fixture_statistics_players|\n",
       "+---------+-------------------+---------------+-----------------+----------------+-----------------+-------------+----------------+--------------------+------------------+--------------------+------------------+--------------------+--------------+---------------+---------------------------+--------------------------+\n",
       "|        4|              false|     2008-06-29|       2008-06-07|            2008|            false|        false|            true|                true|             false|                true|              true|                true|          true|           true|                      false|                     false|\n",
       "|        4|              false|     2012-07-01|       2012-06-08|            2012|            false|        false|            true|                true|             false|                true|              true|                true|          true|           true|                      false|                     false|\n",
       "|        4|              false|     2016-07-10|       2016-06-10|            2016|            false|        false|            true|                true|              true|                true|              true|                true|          true|           true|                       true|                      true|\n",
       "|        4|              false|     2021-07-11|       2019-03-21|            2020|            false|        false|            true|                true|              true|                true|              true|                true|          true|           true|                       true|                      true|\n",
       "|        4|               true|     2024-07-14|       2024-06-14|            2024|            false|        false|            true|                true|              true|                true|              true|                true|          true|           true|                       true|                      true|\n",
       "|       21|              false|     2009-06-28|       2009-06-14|            2009|            false|        false|            true|                true|             false|                true|              true|                true|          true|           true|                      false|                     false|\n",
       "|       21|              false|     2013-06-30|       2013-06-15|            2013|            false|        false|            true|                true|             false|                true|              true|                true|          true|           true|                      false|                     false|\n",
       "|       21|               true|     2017-07-02|       2017-06-17|            2017|            false|        false|            true|                true|             false|                true|              true|                true|          true|           true|                       true|                     false|\n",
       "|       61|              false|     2011-05-29|       2010-08-07|            2010|            false|        false|            true|                true|              true|                true|              true|                true|          true|           true|                      false|                     false|\n",
       "|       61|              false|     2012-05-20|       2011-08-06|            2011|            false|        false|            true|                true|              true|                true|              true|                true|          true|           true|                      false|                     false|\n",
       "|       61|              false|     2013-05-26|       2012-08-10|            2012|            false|        false|            true|                true|              true|                true|              true|                true|          true|           true|                      false|                     false|\n",
       "|       61|              false|     2014-05-17|       2013-08-09|            2013|            false|        false|            true|                true|              true|                true|              true|                true|          true|           true|                      false|                     false|\n",
       "|       61|              false|     2015-05-23|       2014-08-08|            2014|            false|        false|            true|                true|              true|                true|              true|                true|          true|           true|                      false|                     false|\n",
       "|       61|              false|     2016-05-14|       2015-08-07|            2015|            false|        false|            true|                true|              true|                true|              true|                true|          true|           true|                       true|                      true|\n",
       "|       61|              false|     2017-05-20|       2016-08-12|            2016|            false|        false|            true|                true|              true|                true|              true|                true|          true|           true|                       true|                      true|\n",
       "|       61|              false|     2018-05-19|       2017-08-04|            2017|            false|        false|            true|                true|              true|                true|              true|                true|          true|           true|                       true|                      true|\n",
       "|       61|              false|     2019-05-24|       2018-08-10|            2018|            false|        false|            true|                true|              true|                true|              true|                true|          true|           true|                       true|                      true|\n",
       "|       61|              false|     2020-05-23|       2019-08-09|            2019|            false|        false|            true|                true|              true|                true|              true|                true|          true|           true|                       true|                      true|\n",
       "|       61|              false|     2021-05-30|       2020-08-21|            2020|             true|        false|            true|                true|              true|                true|              true|                true|          true|           true|                       true|                      true|\n",
       "|       61|              false|     2022-05-29|       2021-08-06|            2021|             true|        false|            true|                true|              true|                true|              true|                true|          true|           true|                       true|                      true|\n",
       "+---------+-------------------+---------------+-----------------+----------------+-----------------+-------------+----------------+--------------------+------------------+--------------------+------------------+--------------------+--------------+---------------+---------------------------+--------------------------+\n",
       "only showing top 20 rows"
      ]
     },
     "execution_count": 321,
     "metadata": {},
     "output_type": "execute_result"
    }
   ],
   "source": [
    "sporcessor.df"
   ]
  }
 ],
 "metadata": {
  "kernelspec": {
   "display_name": "Python 3",
   "language": "python",
   "name": "python3"
  },
  "language_info": {
   "codemirror_mode": {
    "name": "ipython",
    "version": 3
   },
   "file_extension": ".py",
   "mimetype": "text/x-python",
   "name": "python",
   "nbconvert_exporter": "python",
   "pygments_lexer": "ipython3",
   "version": "3.11.11"
  }
 },
 "nbformat": 4,
 "nbformat_minor": 5
}
