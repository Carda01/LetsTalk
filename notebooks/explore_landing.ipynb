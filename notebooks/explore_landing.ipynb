{
 "cells": [
  {
   "cell_type": "code",
   "id": "initial_id",
   "metadata": {
    "collapsed": true,
    "ExecuteTime": {
     "end_time": "2025-05-20T10:10:21.395537Z",
     "start_time": "2025-05-20T10:10:21.382829Z"
    }
   },
   "source": [
    "from pyspark.sql.types import *\n",
    "%load_ext autoreload\n",
    "%autoreload 2\n",
    "\n",
    "import pyspark, os, sys\n",
    "from delta import *\n",
    "from dags.lib.IncrementalLoader import IncrementalLoader\n",
    "from dags.lib.Processer import *\n",
    "from pyspark.sql.functions import col, lit, max as spark_max, length, row_number, explode, unix_timestamp, from_unixtime"
   ],
   "outputs": [
    {
     "name": "stdout",
     "output_type": "stream",
     "text": [
      "The autoreload extension is already loaded. To reload it, use:\n",
      "  %reload_ext autoreload\n"
     ]
    }
   ],
   "execution_count": 7
  },
  {
   "metadata": {
    "ExecuteTime": {
     "end_time": "2025-05-17T16:28:22.732604Z",
     "start_time": "2025-05-17T16:28:22.724640Z"
    }
   },
   "cell_type": "code",
   "source": [
    "def create_spark_session():\n",
    "    conf = (\n",
    "        pyspark.conf.SparkConf()\n",
    "        .setAppName(\"LetsTalk\")\n",
    "        .set(\n",
    "            \"spark.sql.catalog.spark_catalog\",\n",
    "            \"org.apache.spark.sql.delta.catalog.DeltaCatalog\",\n",
    "        )\n",
    "        .set(\"spark.sql.extensions\", \"io.delta.sql.DeltaSparkSessionExtension\")\n",
    "        .set(\"spark.hadoop.fs.gs.impl\", \"com.google.cloud.hadoop.fs.gcs.GoogleHadoopFileSystem\")\n",
    "        .set(\"spark.hadoop.google.cloud.auth.service.account.enable\", \"true\")\n",
    "        .set(\"spark.hadoop.google.cloud.auth.service.account.json.keyfile\", \"/Users/alfio/projects/upc/BDMP2/gcs.json\")\n",
    "        .set(\"spark.sql.shuffle.partitions\", \"4\")\n",
    "        .set(\"spark.jars\", \"../jars/gcs-connector-hadoop3-latest.jar\")\n",
    "        .setMaster(\n",
    "            \"local[*]\"\n",
    "        )\n",
    "    )\n",
    "\n",
    "    builder = pyspark.sql.SparkSession.builder.appName(\"LetsTalk\").config(conf=conf)\n",
    "    spark = configure_spark_with_delta_pip(builder).getOrCreate()\n",
    "    return spark\n",
    "\n"
   ],
   "id": "a0fed999dd78466a",
   "outputs": [],
   "execution_count": 4
  },
  {
   "metadata": {
    "ExecuteTime": {
     "end_time": "2025-05-17T16:28:27.222341Z",
     "start_time": "2025-05-17T16:28:25.469147Z"
    }
   },
   "cell_type": "code",
   "source": [
    "spark = create_spark_session()\n",
    "spark.conf.set('spark.sql.repl.eagerEval.enabled', True)\n",
    "absolute_path_to_landing = '/Users/alfio/projects/upc/BDMP2/data/letstalk_landing_zone_bdma'"
   ],
   "id": "314d425a93c6dfe7",
   "outputs": [
    {
     "name": "stdout",
     "output_type": "stream",
     "text": [
      ":: loading settings :: url = jar:file:/Users/alfio/python_venv/general/lib/python3.13/site-packages/pyspark/jars/ivy-2.5.1.jar!/org/apache/ivy/core/settings/ivysettings.xml\n"
     ]
    },
    {
     "name": "stderr",
     "output_type": "stream",
     "text": [
      "Ivy Default Cache set to: /Users/alfio/.ivy2/cache\n",
      "The jars for the packages stored in: /Users/alfio/.ivy2/jars\n",
      "io.delta#delta-spark_2.12 added as a dependency\n",
      ":: resolving dependencies :: org.apache.spark#spark-submit-parent-2d9d07dc-2b0e-4a38-9d37-10ac9f21550a;1.0\n",
      "\tconfs: [default]\n",
      "\tfound io.delta#delta-spark_2.12;3.3.0 in central\n",
      "\tfound io.delta#delta-storage;3.3.0 in central\n",
      "\tfound org.antlr#antlr4-runtime;4.9.3 in central\n",
      ":: resolution report :: resolve 67ms :: artifacts dl 3ms\n",
      "\t:: modules in use:\n",
      "\tio.delta#delta-spark_2.12;3.3.0 from central in [default]\n",
      "\tio.delta#delta-storage;3.3.0 from central in [default]\n",
      "\torg.antlr#antlr4-runtime;4.9.3 from central in [default]\n",
      "\t---------------------------------------------------------------------\n",
      "\t|                  |            modules            ||   artifacts   |\n",
      "\t|       conf       | number| search|dwnlded|evicted|| number|dwnlded|\n",
      "\t---------------------------------------------------------------------\n",
      "\t|      default     |   3   |   0   |   0   |   0   ||   3   |   0   |\n",
      "\t---------------------------------------------------------------------\n",
      ":: retrieving :: org.apache.spark#spark-submit-parent-2d9d07dc-2b0e-4a38-9d37-10ac9f21550a\n",
      "\tconfs: [default]\n",
      "\t0 artifacts copied, 3 already retrieved (0kB/2ms)\n",
      "25/05/17 18:28:26 WARN NativeCodeLoader: Unable to load native-hadoop library for your platform... using builtin-java classes where applicable\n",
      "Setting default log level to \"WARN\".\n",
      "To adjust logging level use sc.setLogLevel(newLevel). For SparkR, use setLogLevel(newLevel).\n"
     ]
    }
   ],
   "execution_count": 5
  },
  {
   "metadata": {
    "ExecuteTime": {
     "end_time": "2025-05-17T15:51:05.438356Z",
     "start_time": "2025-05-17T15:50:59.309503Z"
    }
   },
   "cell_type": "code",
   "source": [
    "table_subpath = 'delta_sports/leagues'\n",
    "loader = IncrementalLoader(spark, absolute_path_to_landing, table_subpath)\n",
    "df = loader.get_new_data()\n",
    "df.head(5)"
   ],
   "id": "48958801fe4d1ecd",
   "outputs": [
    {
     "name": "stderr",
     "output_type": "stream",
     "text": [
      "25/05/17 17:51:01 WARN SparkStringUtils: Truncated the string representation of a plan since it was too large. This behavior can be adjusted by setting 'spark.sql.debug.maxToStringFields'.\n",
      "25/05/17 17:51:05 WARN DeltaHistoryManager: Found Delta commit 1 with a timestamp 1745921641125 which is greater than the next commit timestamp 1745921641094.\n",
      "25/05/17 17:51:05 WARN DeltaHistoryManager: Found Delta commit 2 with a timestamp 1745921641126 which is greater than the next commit timestamp 1745921641094.\n",
      "25/05/17 17:51:05 WARN DeltaHistoryManager: Found Delta commit 3 with a timestamp 1745921641127 which is greater than the next commit timestamp 1745921641094.\n",
      "25/05/17 17:51:05 WARN DeltaHistoryManager: Found Delta commit 4 with a timestamp 1745921641128 which is greater than the next commit timestamp 1745921641064.\n",
      "25/05/17 17:51:05 WARN DeltaHistoryManager: Found Delta commit 6 with a timestamp 1745921641244 which is greater than the next commit timestamp 1745921641214.\n",
      "25/05/17 17:51:05 WARN DeltaHistoryManager: Found Delta commit 7 with a timestamp 1745921641245 which is greater than the next commit timestamp 1745921641184.\n",
      "25/05/17 17:51:05 WARN DeltaHistoryManager: Found Delta commit 9 with a timestamp 1745921641274 which is greater than the next commit timestamp 1745921641181.\n",
      "25/05/17 17:51:05 WARN DeltaHistoryManager: Found Delta commit 10 with a timestamp 1745921641275 which is greater than the next commit timestamp 1745921641214.\n",
      "25/05/17 17:51:05 WARN DeltaHistoryManager: Found Delta commit 12 with a timestamp 1745921641304 which is greater than the next commit timestamp 1745921641304.\n",
      "25/05/17 17:51:05 WARN DeltaHistoryManager: Found Delta commit 13 with a timestamp 1745921641305 which is greater than the next commit timestamp 1745921641274.\n",
      "25/05/17 17:51:05 WARN DeltaHistoryManager: Found Delta commit 14 with a timestamp 1745921641306 which is greater than the next commit timestamp 1745921641304.\n",
      "25/05/17 17:51:05 WARN DeltaHistoryManager: Found Delta commit 16 with a timestamp 1745921641333 which is greater than the next commit timestamp 1745921641333.\n",
      "25/05/17 17:51:05 WARN DeltaHistoryManager: Found Delta commit 17 with a timestamp 1745921641334 which is greater than the next commit timestamp 1745921641333.\n",
      "25/05/17 17:51:05 WARN DeltaHistoryManager: Found Delta commit 19 with a timestamp 1745921641425 which is greater than the next commit timestamp 1745921641425.\n",
      "25/05/17 17:51:05 WARN DeltaHistoryManager: Found Delta commit 22 with a timestamp 1745921641535 which is greater than the next commit timestamp 1745921641535.\n",
      "25/05/17 17:51:05 WARN DeltaHistoryManager: Found Delta commit 23 with a timestamp 1745921641536 which is greater than the next commit timestamp 1745921641535.\n",
      "25/05/17 17:51:05 WARN DeltaHistoryManager: Found Delta commit 25 with a timestamp 1745921641675 which is greater than the next commit timestamp 1745921641634.\n",
      "25/05/17 17:51:05 WARN DeltaHistoryManager: Found Delta commit 26 with a timestamp 1745921641676 which is greater than the next commit timestamp 1745921641674.\n"
     ]
    },
    {
     "name": "stdout",
     "output_type": "stream",
     "text": [
      "CDF not available — doing full load\n"
     ]
    },
    {
     "data": {
      "text/plain": [
       "[Row(country=Row(code=None, flag=None, name='World'), league=Row(id=4, logo='https://media.api-sports.io/football/leagues/4.png', name='Euro Championship', type='Cup'), seasons=[Row(coverage=Row(fixtures=Row(events=True, lineups=True, statistics_fixtures=False, statistics_players=False), injuries=False, odds=False, players=True, predictions=True, standings=False, top_assists=True, top_cards=True, top_scorers=True), current=False, end='2008-06-29', start='2008-06-07', year=2008), Row(coverage=Row(fixtures=Row(events=True, lineups=True, statistics_fixtures=False, statistics_players=False), injuries=False, odds=False, players=True, predictions=True, standings=False, top_assists=True, top_cards=True, top_scorers=True), current=False, end='2012-07-01', start='2012-06-08', year=2012), Row(coverage=Row(fixtures=Row(events=True, lineups=True, statistics_fixtures=True, statistics_players=True), injuries=False, odds=False, players=True, predictions=True, standings=True, top_assists=True, top_cards=True, top_scorers=True), current=False, end='2016-07-10', start='2016-06-10', year=2016), Row(coverage=Row(fixtures=Row(events=True, lineups=True, statistics_fixtures=True, statistics_players=True), injuries=False, odds=False, players=True, predictions=True, standings=True, top_assists=True, top_cards=True, top_scorers=True), current=False, end='2021-07-11', start='2019-03-21', year=2020), Row(coverage=Row(fixtures=Row(events=True, lineups=True, statistics_fixtures=True, statistics_players=True), injuries=False, odds=False, players=True, predictions=True, standings=True, top_assists=True, top_cards=True, top_scorers=True), current=True, end='2024-07-14', start='2024-06-14', year=2024)]),\n",
       " Row(country=Row(code=None, flag=None, name='World'), league=Row(id=21, logo='https://media.api-sports.io/football/leagues/21.png', name='Confederations Cup', type='Cup'), seasons=[Row(coverage=Row(fixtures=Row(events=True, lineups=True, statistics_fixtures=False, statistics_players=False), injuries=False, odds=False, players=True, predictions=True, standings=False, top_assists=True, top_cards=True, top_scorers=True), current=False, end='2009-06-28', start='2009-06-14', year=2009), Row(coverage=Row(fixtures=Row(events=True, lineups=True, statistics_fixtures=False, statistics_players=False), injuries=False, odds=False, players=True, predictions=True, standings=False, top_assists=True, top_cards=True, top_scorers=True), current=False, end='2013-06-30', start='2013-06-15', year=2013), Row(coverage=Row(fixtures=Row(events=True, lineups=True, statistics_fixtures=True, statistics_players=False), injuries=False, odds=False, players=True, predictions=True, standings=False, top_assists=True, top_cards=True, top_scorers=True), current=True, end='2017-07-02', start='2017-06-17', year=2017)]),\n",
       " Row(country=Row(code='FR', flag='https://media.api-sports.io/flags/fr.svg', name='France'), league=Row(id=61, logo='https://media.api-sports.io/football/leagues/61.png', name='Ligue 1', type='League'), seasons=[Row(coverage=Row(fixtures=Row(events=True, lineups=True, statistics_fixtures=False, statistics_players=False), injuries=False, odds=False, players=True, predictions=True, standings=True, top_assists=True, top_cards=True, top_scorers=True), current=False, end='2011-05-29', start='2010-08-07', year=2010), Row(coverage=Row(fixtures=Row(events=True, lineups=True, statistics_fixtures=False, statistics_players=False), injuries=False, odds=False, players=True, predictions=True, standings=True, top_assists=True, top_cards=True, top_scorers=True), current=False, end='2012-05-20', start='2011-08-06', year=2011), Row(coverage=Row(fixtures=Row(events=True, lineups=True, statistics_fixtures=False, statistics_players=False), injuries=False, odds=False, players=True, predictions=True, standings=True, top_assists=True, top_cards=True, top_scorers=True), current=False, end='2013-05-26', start='2012-08-10', year=2012), Row(coverage=Row(fixtures=Row(events=True, lineups=True, statistics_fixtures=False, statistics_players=False), injuries=False, odds=False, players=True, predictions=True, standings=True, top_assists=True, top_cards=True, top_scorers=True), current=False, end='2014-05-17', start='2013-08-09', year=2013), Row(coverage=Row(fixtures=Row(events=True, lineups=True, statistics_fixtures=False, statistics_players=False), injuries=False, odds=False, players=True, predictions=True, standings=True, top_assists=True, top_cards=True, top_scorers=True), current=False, end='2015-05-23', start='2014-08-08', year=2014), Row(coverage=Row(fixtures=Row(events=True, lineups=True, statistics_fixtures=True, statistics_players=True), injuries=False, odds=False, players=True, predictions=True, standings=True, top_assists=True, top_cards=True, top_scorers=True), current=False, end='2016-05-14', start='2015-08-07', year=2015), Row(coverage=Row(fixtures=Row(events=True, lineups=True, statistics_fixtures=True, statistics_players=True), injuries=False, odds=False, players=True, predictions=True, standings=True, top_assists=True, top_cards=True, top_scorers=True), current=False, end='2017-05-20', start='2016-08-12', year=2016), Row(coverage=Row(fixtures=Row(events=True, lineups=True, statistics_fixtures=True, statistics_players=True), injuries=False, odds=False, players=True, predictions=True, standings=True, top_assists=True, top_cards=True, top_scorers=True), current=False, end='2018-05-19', start='2017-08-04', year=2017), Row(coverage=Row(fixtures=Row(events=True, lineups=True, statistics_fixtures=True, statistics_players=True), injuries=False, odds=False, players=True, predictions=True, standings=True, top_assists=True, top_cards=True, top_scorers=True), current=False, end='2019-05-24', start='2018-08-10', year=2018), Row(coverage=Row(fixtures=Row(events=True, lineups=True, statistics_fixtures=True, statistics_players=True), injuries=False, odds=False, players=True, predictions=True, standings=True, top_assists=True, top_cards=True, top_scorers=True), current=False, end='2020-05-23', start='2019-08-09', year=2019), Row(coverage=Row(fixtures=Row(events=True, lineups=True, statistics_fixtures=True, statistics_players=True), injuries=True, odds=False, players=True, predictions=True, standings=True, top_assists=True, top_cards=True, top_scorers=True), current=False, end='2021-05-30', start='2020-08-21', year=2020), Row(coverage=Row(fixtures=Row(events=True, lineups=True, statistics_fixtures=True, statistics_players=True), injuries=True, odds=False, players=True, predictions=True, standings=True, top_assists=True, top_cards=True, top_scorers=True), current=False, end='2022-05-29', start='2021-08-06', year=2021), Row(coverage=Row(fixtures=Row(events=True, lineups=True, statistics_fixtures=True, statistics_players=True), injuries=True, odds=False, players=True, predictions=True, standings=True, top_assists=True, top_cards=True, top_scorers=True), current=False, end='2023-06-03', start='2022-08-05', year=2022), Row(coverage=Row(fixtures=Row(events=True, lineups=True, statistics_fixtures=True, statistics_players=True), injuries=True, odds=False, players=True, predictions=True, standings=True, top_assists=True, top_cards=True, top_scorers=True), current=False, end='2024-06-02', start='2023-08-11', year=2023), Row(coverage=Row(fixtures=Row(events=True, lineups=True, statistics_fixtures=True, statistics_players=True), injuries=True, odds=True, players=True, predictions=True, standings=True, top_assists=True, top_cards=True, top_scorers=True), current=True, end='2025-05-18', start='2024-08-18', year=2024)]),\n",
       " Row(country=Row(code='BE', flag='https://media.api-sports.io/flags/be.svg', name='Belgium'), league=Row(id=144, logo='https://media.api-sports.io/football/leagues/144.png', name='Jupiler Pro League', type='League'), seasons=[Row(coverage=Row(fixtures=Row(events=True, lineups=True, statistics_fixtures=False, statistics_players=False), injuries=False, odds=False, players=True, predictions=True, standings=True, top_assists=True, top_cards=True, top_scorers=True), current=False, end='2011-05-16', start='2010-07-30', year=2010), Row(coverage=Row(fixtures=Row(events=True, lineups=True, statistics_fixtures=False, statistics_players=False), injuries=False, odds=False, players=True, predictions=True, standings=True, top_assists=True, top_cards=True, top_scorers=True), current=False, end='2012-05-20', start='2011-07-29', year=2011), Row(coverage=Row(fixtures=Row(events=True, lineups=True, statistics_fixtures=False, statistics_players=False), injuries=False, odds=False, players=True, predictions=True, standings=True, top_assists=True, top_cards=True, top_scorers=True), current=False, end='2013-05-26', start='2012-07-28', year=2012), Row(coverage=Row(fixtures=Row(events=True, lineups=True, statistics_fixtures=False, statistics_players=False), injuries=False, odds=False, players=True, predictions=True, standings=True, top_assists=True, top_cards=True, top_scorers=True), current=False, end='2014-05-18', start='2013-07-26', year=2013), Row(coverage=Row(fixtures=Row(events=True, lineups=True, statistics_fixtures=False, statistics_players=False), injuries=False, odds=False, players=True, predictions=True, standings=True, top_assists=True, top_cards=True, top_scorers=True), current=False, end='2015-05-31', start='2014-07-25', year=2014), Row(coverage=Row(fixtures=Row(events=True, lineups=True, statistics_fixtures=True, statistics_players=False), injuries=False, odds=False, players=True, predictions=True, standings=True, top_assists=True, top_cards=True, top_scorers=True), current=False, end='2016-05-29', start='2015-07-24', year=2015), Row(coverage=Row(fixtures=Row(events=True, lineups=True, statistics_fixtures=True, statistics_players=False), injuries=False, odds=False, players=True, predictions=True, standings=True, top_assists=True, top_cards=True, top_scorers=True), current=False, end='2017-05-21', start='2016-07-29', year=2016), Row(coverage=Row(fixtures=Row(events=True, lineups=True, statistics_fixtures=True, statistics_players=False), injuries=False, odds=False, players=True, predictions=True, standings=True, top_assists=True, top_cards=True, top_scorers=True), current=False, end='2018-05-20', start='2017-07-28', year=2017), Row(coverage=Row(fixtures=Row(events=True, lineups=True, statistics_fixtures=True, statistics_players=False), injuries=False, odds=False, players=True, predictions=True, standings=True, top_assists=True, top_cards=True, top_scorers=True), current=False, end='2019-05-19', start='2018-07-27', year=2018), Row(coverage=Row(fixtures=Row(events=True, lineups=True, statistics_fixtures=True, statistics_players=False), injuries=False, odds=False, players=True, predictions=True, standings=True, top_assists=True, top_cards=True, top_scorers=True), current=False, end='2020-03-15', start='2019-07-26', year=2019), Row(coverage=Row(fixtures=Row(events=True, lineups=True, statistics_fixtures=True, statistics_players=True), injuries=True, odds=False, players=True, predictions=True, standings=True, top_assists=True, top_cards=True, top_scorers=True), current=False, end='2021-05-23', start='2020-08-08', year=2020), Row(coverage=Row(fixtures=Row(events=True, lineups=True, statistics_fixtures=True, statistics_players=True), injuries=True, odds=False, players=True, predictions=True, standings=True, top_assists=True, top_cards=True, top_scorers=True), current=False, end='2022-05-29', start='2021-07-23', year=2021), Row(coverage=Row(fixtures=Row(events=True, lineups=True, statistics_fixtures=True, statistics_players=True), injuries=False, odds=False, players=True, predictions=True, standings=True, top_assists=True, top_cards=True, top_scorers=True), current=False, end='2023-06-04', start='2022-07-22', year=2022), Row(coverage=Row(fixtures=Row(events=True, lineups=True, statistics_fixtures=True, statistics_players=True), injuries=False, odds=False, players=True, predictions=True, standings=True, top_assists=True, top_cards=True, top_scorers=True), current=False, end='2024-06-02', start='2023-07-28', year=2023), Row(coverage=Row(fixtures=Row(events=True, lineups=True, statistics_fixtures=True, statistics_players=True), injuries=False, odds=True, players=True, predictions=True, standings=True, top_assists=True, top_cards=True, top_scorers=True), current=True, end='2025-05-25', start='2024-07-26', year=2024)]),\n",
       " Row(country=Row(code='BR', flag='https://media.api-sports.io/flags/br.svg', name='Brazil'), league=Row(id=71, logo='https://media.api-sports.io/football/leagues/71.png', name='Serie A', type='League'), seasons=[Row(coverage=Row(fixtures=Row(events=True, lineups=True, statistics_fixtures=False, statistics_players=False), injuries=False, odds=False, players=True, predictions=True, standings=True, top_assists=True, top_cards=True, top_scorers=True), current=False, end='2010-11-28', start='2010-05-08', year=2010), Row(coverage=Row(fixtures=Row(events=True, lineups=True, statistics_fixtures=False, statistics_players=False), injuries=False, odds=False, players=True, predictions=True, standings=True, top_assists=True, top_cards=True, top_scorers=True), current=False, end='2011-12-04', start='2011-05-21', year=2011), Row(coverage=Row(fixtures=Row(events=True, lineups=True, statistics_fixtures=False, statistics_players=False), injuries=False, odds=False, players=True, predictions=True, standings=True, top_assists=True, top_cards=True, top_scorers=True), current=False, end='2012-12-02', start='2012-05-19', year=2012), Row(coverage=Row(fixtures=Row(events=True, lineups=True, statistics_fixtures=False, statistics_players=False), injuries=False, odds=False, players=True, predictions=True, standings=True, top_assists=True, top_cards=True, top_scorers=True), current=False, end='2013-12-08', start='2013-05-25', year=2013), Row(coverage=Row(fixtures=Row(events=True, lineups=True, statistics_fixtures=False, statistics_players=False), injuries=False, odds=False, players=True, predictions=True, standings=True, top_assists=True, top_cards=True, top_scorers=True), current=False, end='2014-12-07', start='2014-04-19', year=2014), Row(coverage=Row(fixtures=Row(events=True, lineups=True, statistics_fixtures=True, statistics_players=True), injuries=False, odds=False, players=True, predictions=True, standings=True, top_assists=True, top_cards=True, top_scorers=True), current=False, end='2015-12-06', start='2015-05-09', year=2015), Row(coverage=Row(fixtures=Row(events=True, lineups=True, statistics_fixtures=True, statistics_players=True), injuries=False, odds=False, players=True, predictions=True, standings=True, top_assists=True, top_cards=True, top_scorers=True), current=False, end='2016-12-11', start='2016-05-14', year=2016), Row(coverage=Row(fixtures=Row(events=True, lineups=True, statistics_fixtures=True, statistics_players=True), injuries=False, odds=False, players=True, predictions=True, standings=True, top_assists=True, top_cards=True, top_scorers=True), current=False, end='2017-12-03', start='2017-05-13', year=2017), Row(coverage=Row(fixtures=Row(events=True, lineups=True, statistics_fixtures=True, statistics_players=True), injuries=False, odds=False, players=True, predictions=True, standings=True, top_assists=True, top_cards=True, top_scorers=True), current=False, end='2018-12-02', start='2018-04-14', year=2018), Row(coverage=Row(fixtures=Row(events=True, lineups=True, statistics_fixtures=True, statistics_players=True), injuries=False, odds=False, players=True, predictions=True, standings=True, top_assists=True, top_cards=True, top_scorers=True), current=False, end='2019-12-08', start='2019-04-27', year=2019), Row(coverage=Row(fixtures=Row(events=True, lineups=True, statistics_fixtures=True, statistics_players=True), injuries=False, odds=False, players=True, predictions=True, standings=True, top_assists=True, top_cards=True, top_scorers=True), current=False, end='2021-02-26', start='2020-08-08', year=2020), Row(coverage=Row(fixtures=Row(events=True, lineups=True, statistics_fixtures=True, statistics_players=True), injuries=False, odds=False, players=True, predictions=True, standings=True, top_assists=True, top_cards=True, top_scorers=True), current=False, end='2021-12-10', start='2021-05-29', year=2021), Row(coverage=Row(fixtures=Row(events=True, lineups=True, statistics_fixtures=True, statistics_players=True), injuries=False, odds=False, players=True, predictions=True, standings=True, top_assists=True, top_cards=True, top_scorers=True), current=False, end='2022-11-13', start='2022-04-10', year=2022), Row(coverage=Row(fixtures=Row(events=True, lineups=True, statistics_fixtures=True, statistics_players=True), injuries=False, odds=False, players=True, predictions=True, standings=True, top_assists=True, top_cards=True, top_scorers=True), current=False, end='2023-12-03', start='2023-04-15', year=2023), Row(coverage=Row(fixtures=Row(events=True, lineups=True, statistics_fixtures=True, statistics_players=True), injuries=True, odds=False, players=True, predictions=True, standings=True, top_assists=True, top_cards=True, top_scorers=True), current=False, end='2024-12-08', start='2024-04-13', year=2024), Row(coverage=Row(fixtures=Row(events=True, lineups=True, statistics_fixtures=True, statistics_players=True), injuries=True, odds=True, players=True, predictions=True, standings=True, top_assists=True, top_cards=True, top_scorers=True), current=True, end='2025-12-21', start='2025-03-29', year=2025)])]"
      ]
     },
     "execution_count": 4,
     "metadata": {},
     "output_type": "execute_result"
    }
   ],
   "execution_count": 4
  },
  {
   "metadata": {
    "ExecuteTime": {
     "end_time": "2025-05-17T15:51:06.325368Z",
     "start_time": "2025-05-17T15:51:05.443121Z"
    }
   },
   "cell_type": "code",
   "source": [
    "sporcessor = SportsLeagueProcessor(spark, df)\n",
    "countries = sporcessor.generate_countries()\n",
    "leagues = sporcessor.generate_leagues()\n",
    "sporcessor.expand()"
   ],
   "id": "1cd7de3e67fe1385",
   "outputs": [
    {
     "name": "stderr",
     "output_type": "stream",
     "text": [
      "WARNING:root:Some countries have the same code: ['ua']\n",
      " Changing code, but probably a manual check could be needed\n"
     ]
    }
   ],
   "execution_count": 5
  },
  {
   "metadata": {
    "ExecuteTime": {
     "end_time": "2025-05-17T15:51:14.079774Z",
     "start_time": "2025-05-17T15:51:13.778017Z"
    }
   },
   "cell_type": "code",
   "source": "sporcessor.df",
   "id": "28fcb9a8b92dc057",
   "outputs": [
    {
     "data": {
      "text/plain": [
       "+---------+-------------------+---------------+-----------------+----------------+-----------------+-------------+----------------+--------------------+------------------+--------------------+------------------+--------------------+--------------+---------------+---------------------------+--------------------------+\n",
       "|league_id|league-info_current|league-info_end|league-info_start|league-info_year|coverage_injuries|coverage_odds|coverage_players|coverage_predictions|coverage_standings|coverage_top_assists|coverage_top_cards|coverage_top_scorers|fixture_events|fixture_lineups|fixture_statistics_fixtures|fixture_statistics_players|\n",
       "+---------+-------------------+---------------+-----------------+----------------+-----------------+-------------+----------------+--------------------+------------------+--------------------+------------------+--------------------+--------------+---------------+---------------------------+--------------------------+\n",
       "|        4|              false|     2008-06-29|       2008-06-07|            2008|            false|        false|            true|                true|             false|                true|              true|                true|          true|           true|                      false|                     false|\n",
       "|        4|              false|     2012-07-01|       2012-06-08|            2012|            false|        false|            true|                true|             false|                true|              true|                true|          true|           true|                      false|                     false|\n",
       "|        4|              false|     2016-07-10|       2016-06-10|            2016|            false|        false|            true|                true|              true|                true|              true|                true|          true|           true|                       true|                      true|\n",
       "|        4|              false|     2021-07-11|       2019-03-21|            2020|            false|        false|            true|                true|              true|                true|              true|                true|          true|           true|                       true|                      true|\n",
       "|        4|               true|     2024-07-14|       2024-06-14|            2024|            false|        false|            true|                true|              true|                true|              true|                true|          true|           true|                       true|                      true|\n",
       "|       21|              false|     2009-06-28|       2009-06-14|            2009|            false|        false|            true|                true|             false|                true|              true|                true|          true|           true|                      false|                     false|\n",
       "|       21|              false|     2013-06-30|       2013-06-15|            2013|            false|        false|            true|                true|             false|                true|              true|                true|          true|           true|                      false|                     false|\n",
       "|       21|               true|     2017-07-02|       2017-06-17|            2017|            false|        false|            true|                true|             false|                true|              true|                true|          true|           true|                       true|                     false|\n",
       "|       61|              false|     2011-05-29|       2010-08-07|            2010|            false|        false|            true|                true|              true|                true|              true|                true|          true|           true|                      false|                     false|\n",
       "|       61|              false|     2012-05-20|       2011-08-06|            2011|            false|        false|            true|                true|              true|                true|              true|                true|          true|           true|                      false|                     false|\n",
       "|       61|              false|     2013-05-26|       2012-08-10|            2012|            false|        false|            true|                true|              true|                true|              true|                true|          true|           true|                      false|                     false|\n",
       "|       61|              false|     2014-05-17|       2013-08-09|            2013|            false|        false|            true|                true|              true|                true|              true|                true|          true|           true|                      false|                     false|\n",
       "|       61|              false|     2015-05-23|       2014-08-08|            2014|            false|        false|            true|                true|              true|                true|              true|                true|          true|           true|                      false|                     false|\n",
       "|       61|              false|     2016-05-14|       2015-08-07|            2015|            false|        false|            true|                true|              true|                true|              true|                true|          true|           true|                       true|                      true|\n",
       "|       61|              false|     2017-05-20|       2016-08-12|            2016|            false|        false|            true|                true|              true|                true|              true|                true|          true|           true|                       true|                      true|\n",
       "|       61|              false|     2018-05-19|       2017-08-04|            2017|            false|        false|            true|                true|              true|                true|              true|                true|          true|           true|                       true|                      true|\n",
       "|       61|              false|     2019-05-24|       2018-08-10|            2018|            false|        false|            true|                true|              true|                true|              true|                true|          true|           true|                       true|                      true|\n",
       "|       61|              false|     2020-05-23|       2019-08-09|            2019|            false|        false|            true|                true|              true|                true|              true|                true|          true|           true|                       true|                      true|\n",
       "|       61|              false|     2021-05-30|       2020-08-21|            2020|             true|        false|            true|                true|              true|                true|              true|                true|          true|           true|                       true|                      true|\n",
       "|       61|              false|     2022-05-29|       2021-08-06|            2021|             true|        false|            true|                true|              true|                true|              true|                true|          true|           true|                       true|                      true|\n",
       "+---------+-------------------+---------------+-----------------+----------------+-----------------+-------------+----------------+--------------------+------------------+--------------------+------------------+--------------------+--------------+---------------+---------------------------+--------------------------+\n",
       "only showing top 20 rows"
      ],
      "text/html": [
       "<table border='1'>\n",
       "<tr><th>league_id</th><th>league-info_current</th><th>league-info_end</th><th>league-info_start</th><th>league-info_year</th><th>coverage_injuries</th><th>coverage_odds</th><th>coverage_players</th><th>coverage_predictions</th><th>coverage_standings</th><th>coverage_top_assists</th><th>coverage_top_cards</th><th>coverage_top_scorers</th><th>fixture_events</th><th>fixture_lineups</th><th>fixture_statistics_fixtures</th><th>fixture_statistics_players</th></tr>\n",
       "<tr><td>4</td><td>false</td><td>2008-06-29</td><td>2008-06-07</td><td>2008</td><td>false</td><td>false</td><td>true</td><td>true</td><td>false</td><td>true</td><td>true</td><td>true</td><td>true</td><td>true</td><td>false</td><td>false</td></tr>\n",
       "<tr><td>4</td><td>false</td><td>2012-07-01</td><td>2012-06-08</td><td>2012</td><td>false</td><td>false</td><td>true</td><td>true</td><td>false</td><td>true</td><td>true</td><td>true</td><td>true</td><td>true</td><td>false</td><td>false</td></tr>\n",
       "<tr><td>4</td><td>false</td><td>2016-07-10</td><td>2016-06-10</td><td>2016</td><td>false</td><td>false</td><td>true</td><td>true</td><td>true</td><td>true</td><td>true</td><td>true</td><td>true</td><td>true</td><td>true</td><td>true</td></tr>\n",
       "<tr><td>4</td><td>false</td><td>2021-07-11</td><td>2019-03-21</td><td>2020</td><td>false</td><td>false</td><td>true</td><td>true</td><td>true</td><td>true</td><td>true</td><td>true</td><td>true</td><td>true</td><td>true</td><td>true</td></tr>\n",
       "<tr><td>4</td><td>true</td><td>2024-07-14</td><td>2024-06-14</td><td>2024</td><td>false</td><td>false</td><td>true</td><td>true</td><td>true</td><td>true</td><td>true</td><td>true</td><td>true</td><td>true</td><td>true</td><td>true</td></tr>\n",
       "<tr><td>21</td><td>false</td><td>2009-06-28</td><td>2009-06-14</td><td>2009</td><td>false</td><td>false</td><td>true</td><td>true</td><td>false</td><td>true</td><td>true</td><td>true</td><td>true</td><td>true</td><td>false</td><td>false</td></tr>\n",
       "<tr><td>21</td><td>false</td><td>2013-06-30</td><td>2013-06-15</td><td>2013</td><td>false</td><td>false</td><td>true</td><td>true</td><td>false</td><td>true</td><td>true</td><td>true</td><td>true</td><td>true</td><td>false</td><td>false</td></tr>\n",
       "<tr><td>21</td><td>true</td><td>2017-07-02</td><td>2017-06-17</td><td>2017</td><td>false</td><td>false</td><td>true</td><td>true</td><td>false</td><td>true</td><td>true</td><td>true</td><td>true</td><td>true</td><td>true</td><td>false</td></tr>\n",
       "<tr><td>61</td><td>false</td><td>2011-05-29</td><td>2010-08-07</td><td>2010</td><td>false</td><td>false</td><td>true</td><td>true</td><td>true</td><td>true</td><td>true</td><td>true</td><td>true</td><td>true</td><td>false</td><td>false</td></tr>\n",
       "<tr><td>61</td><td>false</td><td>2012-05-20</td><td>2011-08-06</td><td>2011</td><td>false</td><td>false</td><td>true</td><td>true</td><td>true</td><td>true</td><td>true</td><td>true</td><td>true</td><td>true</td><td>false</td><td>false</td></tr>\n",
       "<tr><td>61</td><td>false</td><td>2013-05-26</td><td>2012-08-10</td><td>2012</td><td>false</td><td>false</td><td>true</td><td>true</td><td>true</td><td>true</td><td>true</td><td>true</td><td>true</td><td>true</td><td>false</td><td>false</td></tr>\n",
       "<tr><td>61</td><td>false</td><td>2014-05-17</td><td>2013-08-09</td><td>2013</td><td>false</td><td>false</td><td>true</td><td>true</td><td>true</td><td>true</td><td>true</td><td>true</td><td>true</td><td>true</td><td>false</td><td>false</td></tr>\n",
       "<tr><td>61</td><td>false</td><td>2015-05-23</td><td>2014-08-08</td><td>2014</td><td>false</td><td>false</td><td>true</td><td>true</td><td>true</td><td>true</td><td>true</td><td>true</td><td>true</td><td>true</td><td>false</td><td>false</td></tr>\n",
       "<tr><td>61</td><td>false</td><td>2016-05-14</td><td>2015-08-07</td><td>2015</td><td>false</td><td>false</td><td>true</td><td>true</td><td>true</td><td>true</td><td>true</td><td>true</td><td>true</td><td>true</td><td>true</td><td>true</td></tr>\n",
       "<tr><td>61</td><td>false</td><td>2017-05-20</td><td>2016-08-12</td><td>2016</td><td>false</td><td>false</td><td>true</td><td>true</td><td>true</td><td>true</td><td>true</td><td>true</td><td>true</td><td>true</td><td>true</td><td>true</td></tr>\n",
       "<tr><td>61</td><td>false</td><td>2018-05-19</td><td>2017-08-04</td><td>2017</td><td>false</td><td>false</td><td>true</td><td>true</td><td>true</td><td>true</td><td>true</td><td>true</td><td>true</td><td>true</td><td>true</td><td>true</td></tr>\n",
       "<tr><td>61</td><td>false</td><td>2019-05-24</td><td>2018-08-10</td><td>2018</td><td>false</td><td>false</td><td>true</td><td>true</td><td>true</td><td>true</td><td>true</td><td>true</td><td>true</td><td>true</td><td>true</td><td>true</td></tr>\n",
       "<tr><td>61</td><td>false</td><td>2020-05-23</td><td>2019-08-09</td><td>2019</td><td>false</td><td>false</td><td>true</td><td>true</td><td>true</td><td>true</td><td>true</td><td>true</td><td>true</td><td>true</td><td>true</td><td>true</td></tr>\n",
       "<tr><td>61</td><td>false</td><td>2021-05-30</td><td>2020-08-21</td><td>2020</td><td>true</td><td>false</td><td>true</td><td>true</td><td>true</td><td>true</td><td>true</td><td>true</td><td>true</td><td>true</td><td>true</td><td>true</td></tr>\n",
       "<tr><td>61</td><td>false</td><td>2022-05-29</td><td>2021-08-06</td><td>2021</td><td>true</td><td>false</td><td>true</td><td>true</td><td>true</td><td>true</td><td>true</td><td>true</td><td>true</td><td>true</td><td>true</td><td>true</td></tr>\n",
       "</table>\n",
       "only showing top 20 rows\n"
      ]
     },
     "execution_count": 6,
     "metadata": {},
     "output_type": "execute_result"
    }
   ],
   "execution_count": 6
  },
  {
   "metadata": {
    "ExecuteTime": {
     "end_time": "2025-05-17T17:09:05.564728Z",
     "start_time": "2025-05-17T17:09:04.893414Z"
    }
   },
   "cell_type": "code",
   "source": [
    "absolute_path_to_landing = '/Users/alfio/projects/upc/BDMP2/data/letstalk_landing_zone_bdma'\n",
    "table_subpath = 'delta_sports/matches'\n",
    "loader = IncrementalLoader(spark, absolute_path_to_landing, table_subpath)\n",
    "df = loader.get_new_data()\n",
    "df.head(5)"
   ],
   "id": "1b0d264abe9e5705",
   "outputs": [
    {
     "name": "stderr",
     "output_type": "stream",
     "text": [
      "25/05/17 19:09:05 WARN DeltaHistoryManager: Found Delta commit 0 with a timestamp 1745921644516 which is greater than the next commit timestamp 1745921644042.\n",
      "25/05/17 19:09:05 WARN DeltaHistoryManager: Found Delta commit 1 with a timestamp 1745921644517 which is greater than the next commit timestamp 1745921643917.\n",
      "25/05/17 19:09:05 WARN DeltaHistoryManager: Found Delta commit 2 with a timestamp 1745921644518 which is greater than the next commit timestamp 1745921642587.\n",
      "25/05/17 19:09:05 WARN DeltaHistoryManager: Found Delta commit 3 with a timestamp 1745921644519 which is greater than the next commit timestamp 1745921644158.\n",
      "25/05/17 19:09:05 WARN DeltaHistoryManager: Found Delta commit 4 with a timestamp 1745921644520 which is greater than the next commit timestamp 1745921642587.\n",
      "25/05/17 19:09:05 WARN DeltaHistoryManager: Found Delta commit 5 with a timestamp 1745921644521 which is greater than the next commit timestamp 1745921642590.\n",
      "25/05/17 19:09:05 WARN DeltaHistoryManager: Found Delta commit 7 with a timestamp 1745921645204 which is greater than the next commit timestamp 1745921644679.\n",
      "25/05/17 19:09:05 WARN DeltaHistoryManager: Found Delta commit 8 with a timestamp 1745921645205 which is greater than the next commit timestamp 1745921645069.\n",
      "25/05/17 19:09:05 WARN DeltaHistoryManager: Found Delta commit 9 with a timestamp 1745921645206 which is greater than the next commit timestamp 1745921644428.\n",
      "25/05/17 19:09:05 WARN DeltaHistoryManager: Found Delta commit 10 with a timestamp 1745921645207 which is greater than the next commit timestamp 1745921644545.\n"
     ]
    },
    {
     "name": "stdout",
     "output_type": "stream",
     "text": [
      "CDF not available — doing full load\n"
     ]
    },
    {
     "data": {
      "text/plain": [
       "[Row(fixture=Row(date='2025-04-25T00:00:00+00:00', id=1345365, periods=Row(first=1745539200, second=1745542800), referee='R. Homik', status=Row(elapsed=90, extra=7, long='Match Finished', short='FT'), timestamp=1745539200, timezone='UTC', venue=Row(city='Commerce City, Colorado', id=None, name='Dick&amp;apos;s Sporting Goods Park')), goals=Row(away=2, home=0), league=Row(country='USA', flag='https://media.api-sports.io/flags/us.svg', id=909, logo='https://media.api-sports.io/football/leagues/909.png', name='MLS Next Pro', round='Regular Season - 8', season=2025, standings=True), score=Row(extratime=Row(away=None, home=None), fulltime=Row(away=2, home=0), halftime=Row(away=2, home=0), penalty=Row(away=None, home=None)), teams=Row(away=Row(id=18814, logo='https://media.api-sports.io/football/teams/18814.png', name='Minnesota United II', winner=True), home=Row(id=4102, logo='https://media.api-sports.io/football/teams/4102.png', name='Colorado Rapids II', winner=False))),\n",
       " Row(fixture=Row(date='2025-04-25T00:00:00+00:00', id=1354612, periods=Row(first=1745539200, second=1745542800), referee=None, status=Row(elapsed=90, extra=5, long='Match Finished', short='FT'), timestamp=1745539200, timezone='UTC', venue=Row(city='Guayaquil', id=466, name='Estadio Monumental Banco Pichincha')), goals=Row(away=1, home=1), league=Row(country='Ecuador', flag='https://media.api-sports.io/flags/ec.svg', id=243, logo='https://media.api-sports.io/football/leagues/243.png', name='Liga Pro Serie B', round='Regular Season - 6', season=2025, standings=True), score=Row(extratime=Row(away=None, home=None), fulltime=Row(away=1, home=1), halftime=Row(away=0, home=1), penalty=Row(away=None, home=None)), teams=Row(away=Row(id=1159, logo='https://media.api-sports.io/football/teams/1159.png', name='Guayaquil City FC', winner=None), home=Row(id=10112, logo='https://media.api-sports.io/football/teams/10112.png', name='Chacaritas', winner=None))),\n",
       " Row(fixture=Row(date='2025-04-25T00:00:00+00:00', id=1361899, periods=Row(first=1745539200, second=1745542800), referee='Mario Alberto Diaz de Vivar Bogado, Paraguay', status=Row(elapsed=90, extra=5, long='Match Finished', short='FT'), timestamp=1745539200, timezone='UTC', venue=Row(city='Salvador', id=None, name='Casa de Apostas Arena Fonte Nova')), goals=Row(away=0, home=1), league=Row(country='World', flag=None, id=13, logo='https://media.api-sports.io/football/leagues/13.png', name='CONMEBOL Libertadores', round='Group Stage - 3', season=2025, standings=True), score=Row(extratime=Row(away=None, home=None), fulltime=Row(away=0, home=1), halftime=Row(away=0, home=0), penalty=Row(away=None, home=None)), teams=Row(away=Row(id=1137, logo='https://media.api-sports.io/football/teams/1137.png', name='Atletico Nacional', winner=False), home=Row(id=118, logo='https://media.api-sports.io/football/teams/118.png', name='Bahia', winner=True))),\n",
       " Row(fixture=Row(date='2025-04-25T00:00:00+00:00', id=1372443, periods=Row(first=1745539200, second=1745542800), referee='M. López Sánchez', status=Row(elapsed=90, extra=8, long='Match Finished', short='FT'), timestamp=1745539200, timezone='UTC', venue=Row(city='Mérida', id=1844, name='Estadio Olímpico Carlos Iturralde Rivero')), goals=Row(away=0, home=2), league=Row(country='Mexico', flag='https://media.api-sports.io/flags/mx.svg', id=263, logo='https://media.api-sports.io/football/leagues/263.png', name='Liga de Expansión MX', round='Clausura - Quarter-finals', season=2024, standings=True), score=Row(extratime=Row(away=None, home=None), fulltime=Row(away=0, home=2), halftime=Row(away=0, home=1), penalty=Row(away=None, home=None)), teams=Row(away=Row(id=2299, logo='https://media.api-sports.io/football/teams/2299.png', name='Mineros de Zacatecas', winner=False), home=Row(id=2311, logo='https://media.api-sports.io/football/teams/2311.png', name='Venados FC', winner=True))),\n",
       " Row(fixture=Row(date='2025-04-25T00:30:00+00:00', id=1361901, periods=Row(first=1745541000, second=1745544600), referee='Esteban Ostojich, Uruguay', status=Row(elapsed=90, extra=5, long='Match Finished', short='FT'), timestamp=1745541000, timezone='UTC', venue=Row(city='Asuncion', id=None, name='Estadio ueno La Nueva Olla')), goals=Row(away=2, home=2), league=Row(country='World', flag=None, id=13, logo='https://media.api-sports.io/football/leagues/13.png', name='CONMEBOL Libertadores', round='Group Stage - 3', season=2025, standings=True), score=Row(extratime=Row(away=None, home=None), fulltime=Row(away=2, home=2), halftime=Row(away=1, home=2), penalty=Row(away=None, home=None)), teams=Row(away=Row(id=2546, logo='https://media.api-sports.io/football/teams/2546.png', name='Sporting Cristal', winner=None), home=Row(id=1176, logo='https://media.api-sports.io/football/teams/1176.png', name='Cerro Porteno', winner=None)))]"
      ]
     },
     "execution_count": 23,
     "metadata": {},
     "output_type": "execute_result"
    }
   ],
   "execution_count": 23
  },
  {
   "metadata": {
    "ExecuteTime": {
     "end_time": "2025-05-17T17:39:29.263005Z",
     "start_time": "2025-05-17T17:39:28.775705Z"
    }
   },
   "cell_type": "code",
   "source": [
    "sproc = SportsMatchesProcessor(spark, df)\n",
    "sproc.expand()\n",
    "sproc.normalize_text(['referee', 'venue_city', 'venue_name', 'team_away_name', 'team_home_name', 'status_long'])\n",
    "sproc.extract_teams()\n",
    "sproc.extract_venues()\n",
    "sproc.remove_useless_columns()\n",
    "sproc.ensure_schema()"
   ],
   "id": "919ab95efa9de8d1",
   "outputs": [],
   "execution_count": 51
  },
  {
   "metadata": {
    "ExecuteTime": {
     "end_time": "2025-05-17T17:39:30.411673Z",
     "start_time": "2025-05-17T17:39:29.934830Z"
    }
   },
   "cell_type": "code",
   "source": "sproc.df",
   "id": "6553470a7b846128",
   "outputs": [
    {
     "data": {
      "text/plain": [
       "+------+--------------------+----------+--------------------+--------------------+--------------------+--------------+------------+--------------+--------------------+--------------------+------------+------------+----------+----------+\n",
       "|league|        fixture_date|fixture_id|        period_first|       period_second|             referee|status_elapsed|status_extra|   status_long|           timestamp|            venue_id|team_away_id|team_home_id|goals_away|goals_home|\n",
       "+------+--------------------+----------+--------------------+--------------------+--------------------+--------------+------------+--------------+--------------------+--------------------+------------+------------+----------+----------+\n",
       "|   909|2025-04-25T00:00:...|   1345365|2025-04-25T02:00:...|2025-04-25T03:00:...|            r  homik|            90|           7|match finished|2025-04-25T02:00:...|dick_amp_apos_s_s...|       18814|        4102|         2|         0|\n",
       "|   243|2025-04-25T00:00:...|   1354612|2025-04-25T02:00:...|2025-04-25T03:00:...|                NULL|            90|           5|match finished|2025-04-25T02:00:...|estadio_monumenta...|        1159|       10112|         1|         1|\n",
       "|    13|2025-04-25T00:00:...|   1361899|2025-04-25T02:00:...|2025-04-25T03:00:...|mario alberto dia...|            90|           5|match finished|2025-04-25T02:00:...|casa_de_apostas_a...|        1137|         118|         0|         1|\n",
       "|   263|2025-04-25T00:00:...|   1372443|2025-04-25T02:00:...|2025-04-25T03:00:...|    m  l pez s nchez|            90|           8|match finished|2025-04-25T02:00:...|estadio_ol_mpico_...|        2299|        2311|         0|         2|\n",
       "|    13|2025-04-25T00:30:...|   1361901|2025-04-25T02:30:...|2025-04-25T03:30:...|esteban ostojich ...|            90|           5|match finished|2025-04-25T02:30:...|estadio_ueno_la_n...|        2546|        1176|         2|         2|\n",
       "|    11|2025-04-25T00:30:...|   1362132|2025-04-25T02:30:...|2025-04-25T03:30:...|mathias de armas ...|            90|        NULL|match finished|2025-04-25T02:30:...|estadio_bicentena...|         135|        2318|         1|         2|\n",
       "|    11|2025-04-25T00:30:...|   1362139|2025-04-25T02:30:...|2025-04-25T03:30:...|nicolas ramirez  ...|            90|          12|match finished|2025-04-25T02:30:...|estadio_tierra_de...|        2562|        2319|         2|         2|\n",
       "|    72|2025-04-25T00:35:...|   1353308|2025-04-25T02:35:...|2025-04-25T03:35:...|denis da silva ri...|            90|           5|match finished|2025-04-25T02:35:...|est_dio_dr__jorge...|         134|        7834|         1|         2|\n",
       "|   422|2025-04-25T01:00:...|   1337904|                NULL|                NULL|                NULL|          NULL|        NULL|   not started|2025-04-25T03:00:...|valerie_playing_f...|        8406|        8417|      NULL|      NULL|\n",
       "|   673|2025-04-25T01:00:...|   1372193|2025-04-25T03:00:...|2025-04-25T04:00:...|                NULL|            90|           8|match finished|2025-04-25T03:00:...|       estadio_akron|       14870|       14876|         0|         2|\n",
       "|   339|2025-04-25T02:00:...|   1334268|2025-04-25T04:00:...|2025-04-25T05:00:...|                NULL|            90|           3|match finished|2025-04-25T04:00:...|estadio_mario_cam...|        3657|        3667|         0|         2|\n",
       "|   957|2025-04-25T02:00:...|   1359205|                NULL|                NULL|                NULL|            90|        NULL|match finished|2025-04-25T04:00:...|      ferrymead_park|       20661|       20662|         2|         2|\n",
       "|   957|2025-04-25T02:00:...|   1359206|                NULL|                NULL|                NULL|          NULL|        NULL|   not started|2025-04-25T04:00:...| recreation_centre__|       20667|       24318|      NULL|      NULL|\n",
       "|    11|2025-04-25T02:00:...|   1362126|2025-04-25T04:00:...|2025-04-25T05:00:...|yender herrera  v...|            90|           6|match finished|2025-04-25T04:00:...|estadio_ol_mpico_...|         442|        1157|         1|         3|\n",
       "|  1127|2025-04-25T02:00:...|   1371208|                NULL|                NULL|                NULL|          NULL|        NULL|   not started|2025-04-25T04:00:...|       brains_park__|       24308|       24320|      NULL|      NULL|\n",
       "|  1127|2025-04-25T02:00:...|   1371210|                NULL|                NULL|                NULL|          NULL|        NULL|   not started|2025-04-25T04:00:...|         litt_park__|       17051|       24305|      NULL|      NULL|\n",
       "|  1127|2025-04-25T02:00:...|   1371211|                NULL|                NULL|                NULL|          NULL|        NULL|   not started|2025-04-25T04:00:...|michaels_avenue_r...|       24302|       24241|      NULL|      NULL|\n",
       "|  1127|2025-04-25T02:00:...|   1371213|                NULL|                NULL|                NULL|          NULL|        NULL|   not started|2025-04-25T04:00:...|     mclennan_park__|       24303|       24285|      NULL|      NULL|\n",
       "|  1127|2025-04-25T02:00:...|   1371214|                NULL|                NULL|                NULL|          NULL|        NULL|   not started|2025-04-25T04:00:...| otorohanga_domain__|       24254|       24279|      NULL|      NULL|\n",
       "|  1127|2025-04-25T02:00:...|   1371215|                NULL|                NULL|                NULL|          NULL|        NULL|   not started|2025-04-25T04:00:...|     rongomai_park__|       24242|       24295|      NULL|      NULL|\n",
       "+------+--------------------+----------+--------------------+--------------------+--------------------+--------------+------------+--------------+--------------------+--------------------+------------+------------+----------+----------+\n",
       "only showing top 20 rows"
      ],
      "text/html": [
       "<table border='1'>\n",
       "<tr><th>league</th><th>fixture_date</th><th>fixture_id</th><th>period_first</th><th>period_second</th><th>referee</th><th>status_elapsed</th><th>status_extra</th><th>status_long</th><th>timestamp</th><th>venue_id</th><th>team_away_id</th><th>team_home_id</th><th>goals_away</th><th>goals_home</th></tr>\n",
       "<tr><td>909</td><td>2025-04-25T00:00:...</td><td>1345365</td><td>2025-04-25T02:00:...</td><td>2025-04-25T03:00:...</td><td>r  homik</td><td>90</td><td>7</td><td>match finished</td><td>2025-04-25T02:00:...</td><td>dick_amp_apos_s_s...</td><td>18814</td><td>4102</td><td>2</td><td>0</td></tr>\n",
       "<tr><td>243</td><td>2025-04-25T00:00:...</td><td>1354612</td><td>2025-04-25T02:00:...</td><td>2025-04-25T03:00:...</td><td>NULL</td><td>90</td><td>5</td><td>match finished</td><td>2025-04-25T02:00:...</td><td>estadio_monumenta...</td><td>1159</td><td>10112</td><td>1</td><td>1</td></tr>\n",
       "<tr><td>13</td><td>2025-04-25T00:00:...</td><td>1361899</td><td>2025-04-25T02:00:...</td><td>2025-04-25T03:00:...</td><td>mario alberto dia...</td><td>90</td><td>5</td><td>match finished</td><td>2025-04-25T02:00:...</td><td>casa_de_apostas_a...</td><td>1137</td><td>118</td><td>0</td><td>1</td></tr>\n",
       "<tr><td>263</td><td>2025-04-25T00:00:...</td><td>1372443</td><td>2025-04-25T02:00:...</td><td>2025-04-25T03:00:...</td><td>m  l pez s nchez</td><td>90</td><td>8</td><td>match finished</td><td>2025-04-25T02:00:...</td><td>estadio_ol_mpico_...</td><td>2299</td><td>2311</td><td>0</td><td>2</td></tr>\n",
       "<tr><td>13</td><td>2025-04-25T00:30:...</td><td>1361901</td><td>2025-04-25T02:30:...</td><td>2025-04-25T03:30:...</td><td>esteban ostojich ...</td><td>90</td><td>5</td><td>match finished</td><td>2025-04-25T02:30:...</td><td>estadio_ueno_la_n...</td><td>2546</td><td>1176</td><td>2</td><td>2</td></tr>\n",
       "<tr><td>11</td><td>2025-04-25T00:30:...</td><td>1362132</td><td>2025-04-25T02:30:...</td><td>2025-04-25T03:30:...</td><td>mathias de armas ...</td><td>90</td><td>NULL</td><td>match finished</td><td>2025-04-25T02:30:...</td><td>estadio_bicentena...</td><td>135</td><td>2318</td><td>1</td><td>2</td></tr>\n",
       "<tr><td>11</td><td>2025-04-25T00:30:...</td><td>1362139</td><td>2025-04-25T02:30:...</td><td>2025-04-25T03:30:...</td><td>nicolas ramirez  ...</td><td>90</td><td>12</td><td>match finished</td><td>2025-04-25T02:30:...</td><td>estadio_tierra_de...</td><td>2562</td><td>2319</td><td>2</td><td>2</td></tr>\n",
       "<tr><td>72</td><td>2025-04-25T00:35:...</td><td>1353308</td><td>2025-04-25T02:35:...</td><td>2025-04-25T03:35:...</td><td>denis da silva ri...</td><td>90</td><td>5</td><td>match finished</td><td>2025-04-25T02:35:...</td><td>est_dio_dr__jorge...</td><td>134</td><td>7834</td><td>1</td><td>2</td></tr>\n",
       "<tr><td>422</td><td>2025-04-25T01:00:...</td><td>1337904</td><td>NULL</td><td>NULL</td><td>NULL</td><td>NULL</td><td>NULL</td><td>not started</td><td>2025-04-25T03:00:...</td><td>valerie_playing_f...</td><td>8406</td><td>8417</td><td>NULL</td><td>NULL</td></tr>\n",
       "<tr><td>673</td><td>2025-04-25T01:00:...</td><td>1372193</td><td>2025-04-25T03:00:...</td><td>2025-04-25T04:00:...</td><td>NULL</td><td>90</td><td>8</td><td>match finished</td><td>2025-04-25T03:00:...</td><td>estadio_akron</td><td>14870</td><td>14876</td><td>0</td><td>2</td></tr>\n",
       "<tr><td>339</td><td>2025-04-25T02:00:...</td><td>1334268</td><td>2025-04-25T04:00:...</td><td>2025-04-25T05:00:...</td><td>NULL</td><td>90</td><td>3</td><td>match finished</td><td>2025-04-25T04:00:...</td><td>estadio_mario_cam...</td><td>3657</td><td>3667</td><td>0</td><td>2</td></tr>\n",
       "<tr><td>957</td><td>2025-04-25T02:00:...</td><td>1359205</td><td>NULL</td><td>NULL</td><td>NULL</td><td>90</td><td>NULL</td><td>match finished</td><td>2025-04-25T04:00:...</td><td>ferrymead_park</td><td>20661</td><td>20662</td><td>2</td><td>2</td></tr>\n",
       "<tr><td>957</td><td>2025-04-25T02:00:...</td><td>1359206</td><td>NULL</td><td>NULL</td><td>NULL</td><td>NULL</td><td>NULL</td><td>not started</td><td>2025-04-25T04:00:...</td><td>recreation_centre__</td><td>20667</td><td>24318</td><td>NULL</td><td>NULL</td></tr>\n",
       "<tr><td>11</td><td>2025-04-25T02:00:...</td><td>1362126</td><td>2025-04-25T04:00:...</td><td>2025-04-25T05:00:...</td><td>yender herrera  v...</td><td>90</td><td>6</td><td>match finished</td><td>2025-04-25T04:00:...</td><td>estadio_ol_mpico_...</td><td>442</td><td>1157</td><td>1</td><td>3</td></tr>\n",
       "<tr><td>1127</td><td>2025-04-25T02:00:...</td><td>1371208</td><td>NULL</td><td>NULL</td><td>NULL</td><td>NULL</td><td>NULL</td><td>not started</td><td>2025-04-25T04:00:...</td><td>brains_park__</td><td>24308</td><td>24320</td><td>NULL</td><td>NULL</td></tr>\n",
       "<tr><td>1127</td><td>2025-04-25T02:00:...</td><td>1371210</td><td>NULL</td><td>NULL</td><td>NULL</td><td>NULL</td><td>NULL</td><td>not started</td><td>2025-04-25T04:00:...</td><td>litt_park__</td><td>17051</td><td>24305</td><td>NULL</td><td>NULL</td></tr>\n",
       "<tr><td>1127</td><td>2025-04-25T02:00:...</td><td>1371211</td><td>NULL</td><td>NULL</td><td>NULL</td><td>NULL</td><td>NULL</td><td>not started</td><td>2025-04-25T04:00:...</td><td>michaels_avenue_r...</td><td>24302</td><td>24241</td><td>NULL</td><td>NULL</td></tr>\n",
       "<tr><td>1127</td><td>2025-04-25T02:00:...</td><td>1371213</td><td>NULL</td><td>NULL</td><td>NULL</td><td>NULL</td><td>NULL</td><td>not started</td><td>2025-04-25T04:00:...</td><td>mclennan_park__</td><td>24303</td><td>24285</td><td>NULL</td><td>NULL</td></tr>\n",
       "<tr><td>1127</td><td>2025-04-25T02:00:...</td><td>1371214</td><td>NULL</td><td>NULL</td><td>NULL</td><td>NULL</td><td>NULL</td><td>not started</td><td>2025-04-25T04:00:...</td><td>otorohanga_domain__</td><td>24254</td><td>24279</td><td>NULL</td><td>NULL</td></tr>\n",
       "<tr><td>1127</td><td>2025-04-25T02:00:...</td><td>1371215</td><td>NULL</td><td>NULL</td><td>NULL</td><td>NULL</td><td>NULL</td><td>not started</td><td>2025-04-25T04:00:...</td><td>rongomai_park__</td><td>24242</td><td>24295</td><td>NULL</td><td>NULL</td></tr>\n",
       "</table>\n",
       "only showing top 20 rows\n"
      ]
     },
     "execution_count": 52,
     "metadata": {},
     "output_type": "execute_result"
    }
   ],
   "execution_count": 52
  },
  {
   "metadata": {
    "ExecuteTime": {
     "end_time": "2025-05-17T16:01:06.770843Z",
     "start_time": "2025-05-17T16:01:06.314768Z"
    }
   },
   "cell_type": "code",
   "outputs": [
    {
     "name": "stdout",
     "output_type": "stream",
     "text": [
      "0\n",
      "0\n"
     ]
    }
   ],
   "execution_count": 40,
   "source": [
    "print(df_ex.filter(col('team_home_winner') == True).filter(col('goals_away') > col('goals_home')).count())\n",
    "print(df_ex.filter(col('team_away_winner') == True).filter(col('goals_home') > col('goals_away')).count())"
   ],
   "id": "b7394eae5a4f2da5"
  },
  {
   "metadata": {
    "ExecuteTime": {
     "end_time": "2025-05-17T14:10:54.906344Z",
     "start_time": "2025-05-17T14:10:54.723313Z"
    }
   },
   "cell_type": "code",
   "source": "df_ex.filter(col('teams.away.name').startswith('Juventus')).head()",
   "id": "fef647482c144722",
   "outputs": [
    {
     "data": {
      "text/plain": [
       "Row(goals=Row(away=1, home=3), league=139, teams=Row(away=Row(id=1886, logo='https://media.api-sports.io/football/teams/1886.png', name='Juventus W', winner=False), home=Row(id=1880, logo='https://media.api-sports.io/football/teams/1880.png', name='Fiorentina W', winner=True)), fixture_date='2025-04-25T10:30:00+00:00', fixture_id=1351012, period_first=1745577000, period_second=1745580600, referee=None, status_elapsed=90, status_extra=5, status_long='Match Finished', status_short='FT', timestamp=1745577000, timezone='UTC', venue_city='Bagno a Ripoli', venue_id=21168, venue_name='Stadio Curva Fiesole - Viola Park')"
      ]
     },
     "execution_count": 29,
     "metadata": {},
     "output_type": "execute_result"
    }
   ],
   "execution_count": 29
  }
 ],
 "metadata": {
  "kernelspec": {
   "display_name": "Python 3",
   "language": "python",
   "name": "python3"
  },
  "language_info": {
   "codemirror_mode": {
    "name": "ipython",
    "version": 2
   },
   "file_extension": ".py",
   "mimetype": "text/x-python",
   "name": "python",
   "nbconvert_exporter": "python",
   "pygments_lexer": "ipython2",
   "version": "2.7.6"
  }
 },
 "nbformat": 4,
 "nbformat_minor": 5
}
