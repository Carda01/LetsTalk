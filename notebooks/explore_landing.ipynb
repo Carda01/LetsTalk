{
 "cells": [
  {
   "cell_type": "code",
   "id": "initial_id",
   "metadata": {
    "collapsed": true,
    "ExecuteTime": {
     "end_time": "2025-05-02T16:04:31.522846Z",
     "start_time": "2025-05-02T16:04:31.443451Z"
    }
   },
   "source": [
    "%load_ext autoreload\n",
    "%autoreload 2\n",
    "\n",
    "import pyspark\n",
    "from delta import *\n",
    "from dags.lib.IncrementalLoader import IncrementalLoader\n",
    "from dags.lib.Processer import *"
   ],
   "outputs": [],
   "execution_count": 1
  },
  {
   "metadata": {
    "ExecuteTime": {
     "end_time": "2025-05-02T16:04:33.329721Z",
     "start_time": "2025-05-02T16:04:33.174284Z"
    }
   },
   "cell_type": "code",
   "source": [
    "def create_spark_session():\n",
    "    conf = (\n",
    "        pyspark.conf.SparkConf()\n",
    "        .setAppName(\"LetsTalk\")\n",
    "        .set(\n",
    "            \"spark.sql.catalog.spark_catalog\",\n",
    "            \"org.apache.spark.sql.delta.catalog.DeltaCatalog\",\n",
    "        )\n",
    "        .set(\"spark.sql.extensions\", \"io.delta.sql.DeltaSparkSessionExtension\")\n",
    "        .set(\"spark.hadoop.fs.gs.impl\", \"com.google.cloud.hadoop.fs.gcs.GoogleHadoopFileSystem\")\n",
    "        .set(\"spark.hadoop.google.cloud.auth.service.account.enable\", \"true\")\n",
    "        .set(\"spark.hadoop.google.cloud.auth.service.account.json.keyfile\", \"/Users/alfio/projects/upc/BDMP2/gcs.json\")\n",
    "        .set(\"spark.sql.shuffle.partitions\", \"4\")\n",
    "        .set(\"spark.jars\", \"../jars/gcs-connector-hadoop3-latest.jar\")\n",
    "        .setMaster(\n",
    "            \"local[*]\"\n",
    "        )\n",
    "    )\n",
    "\n",
    "    builder = pyspark.sql.SparkSession.builder.appName(\"LetsTalk\").config(conf=conf)\n",
    "    spark = configure_spark_with_delta_pip(builder).getOrCreate()\n",
    "    return spark\n",
    "\n"
   ],
   "id": "a0fed999dd78466a",
   "outputs": [],
   "execution_count": 2
  },
  {
   "metadata": {
    "ExecuteTime": {
     "end_time": "2025-05-02T16:04:35.869069Z",
     "start_time": "2025-05-02T16:04:34.183018Z"
    }
   },
   "cell_type": "code",
   "source": [
    "spark = create_spark_session()\n",
    "spark.conf.set('spark.sql.repl.eagerEval.enabled', True)"
   ],
   "id": "314d425a93c6dfe7",
   "outputs": [
    {
     "name": "stdout",
     "output_type": "stream",
     "text": [
      ":: loading settings :: url = jar:file:/Users/alfio/python_venv/general/lib/python3.13/site-packages/pyspark/jars/ivy-2.5.1.jar!/org/apache/ivy/core/settings/ivysettings.xml\n"
     ]
    },
    {
     "name": "stderr",
     "output_type": "stream",
     "text": [
      "Ivy Default Cache set to: /Users/alfio/.ivy2/cache\n",
      "The jars for the packages stored in: /Users/alfio/.ivy2/jars\n",
      "io.delta#delta-spark_2.12 added as a dependency\n",
      ":: resolving dependencies :: org.apache.spark#spark-submit-parent-4a4f0c4a-0d0c-4201-ac6c-19756581a39d;1.0\n",
      "\tconfs: [default]\n",
      "\tfound io.delta#delta-spark_2.12;3.3.0 in central\n",
      "\tfound io.delta#delta-storage;3.3.0 in central\n",
      "\tfound org.antlr#antlr4-runtime;4.9.3 in central\n",
      ":: resolution report :: resolve 71ms :: artifacts dl 3ms\n",
      "\t:: modules in use:\n",
      "\tio.delta#delta-spark_2.12;3.3.0 from central in [default]\n",
      "\tio.delta#delta-storage;3.3.0 from central in [default]\n",
      "\torg.antlr#antlr4-runtime;4.9.3 from central in [default]\n",
      "\t---------------------------------------------------------------------\n",
      "\t|                  |            modules            ||   artifacts   |\n",
      "\t|       conf       | number| search|dwnlded|evicted|| number|dwnlded|\n",
      "\t---------------------------------------------------------------------\n",
      "\t|      default     |   3   |   0   |   0   |   0   ||   3   |   0   |\n",
      "\t---------------------------------------------------------------------\n",
      ":: retrieving :: org.apache.spark#spark-submit-parent-4a4f0c4a-0d0c-4201-ac6c-19756581a39d\n",
      "\tconfs: [default]\n",
      "\t0 artifacts copied, 3 already retrieved (0kB/3ms)\n",
      "25/05/02 18:04:35 WARN NativeCodeLoader: Unable to load native-hadoop library for your platform... using builtin-java classes where applicable\n",
      "Setting default log level to \"WARN\".\n",
      "To adjust logging level use sc.setLogLevel(newLevel). For SparkR, use setLogLevel(newLevel).\n"
     ]
    }
   ],
   "execution_count": 3
  },
  {
   "metadata": {
    "ExecuteTime": {
     "end_time": "2025-05-02T16:04:41.898255Z",
     "start_time": "2025-05-02T16:04:36.902753Z"
    }
   },
   "cell_type": "code",
   "source": [
    "loader = IncrementalLoader(spark, '/Users/alfio/projects/upc/BDMP2/data/letstalk_landing_zone_bdma', 'delta_news/sports')\n",
    "df = loader.get_new_data()"
   ],
   "id": "48958801fe4d1ecd",
   "outputs": [
    {
     "name": "stderr",
     "output_type": "stream",
     "text": [
      "25/05/02 18:04:38 WARN SparkStringUtils: Truncated the string representation of a plan since it was too large. This behavior can be adjusted by setting 'spark.sql.debug.maxToStringFields'.\n"
     ]
    },
    {
     "name": "stdout",
     "output_type": "stream",
     "text": [
      "CDF not available — doing full load\n"
     ]
    },
    {
     "name": "stderr",
     "output_type": "stream",
     "text": [
      "25/05/02 18:04:41 WARN DeltaHistoryManager: Found Delta commit 1 with a timestamp 1745921639653 which is greater than the next commit timestamp 1745921639219.\n",
      "25/05/02 18:04:41 WARN DeltaHistoryManager: Found Delta commit 2 with a timestamp 1745921639654 which is greater than the next commit timestamp 1745921639603.\n",
      "25/05/02 18:04:41 WARN DeltaHistoryManager: Found Delta commit 3 with a timestamp 1745921639655 which is greater than the next commit timestamp 1745921639603.\n",
      "25/05/02 18:04:41 WARN DeltaHistoryManager: Found Delta commit 4 with a timestamp 1745921639656 which is greater than the next commit timestamp 1745921639653.\n",
      "25/05/02 18:04:41 WARN DeltaHistoryManager: Found Delta commit 5 with a timestamp 1745921639657 which is greater than the next commit timestamp 1745921639445.\n",
      "25/05/02 18:04:41 WARN DeltaHistoryManager: Found Delta commit 6 with a timestamp 1745921639658 which is greater than the next commit timestamp 1745921639603.\n",
      "25/05/02 18:04:41 WARN DeltaHistoryManager: Found Delta commit 9 with a timestamp 1745921639965 which is greater than the next commit timestamp 1745921639856.\n",
      "25/05/02 18:04:41 WARN DeltaHistoryManager: Found Delta commit 11 with a timestamp 1745921640038 which is greater than the next commit timestamp 1745921639863.\n"
     ]
    }
   ],
   "execution_count": 4
  },
  {
   "metadata": {
    "ExecuteTime": {
     "end_time": "2025-05-02T16:28:45.087078Z",
     "start_time": "2025-05-02T16:28:45.027038Z"
    }
   },
   "cell_type": "code",
   "source": "processor = NewsProcessor(spark, df)",
   "id": "eff4df97460bd4d8",
   "outputs": [],
   "execution_count": 22
  },
  {
   "metadata": {
    "ExecuteTime": {
     "end_time": "2025-05-02T16:28:46.641628Z",
     "start_time": "2025-05-02T16:28:46.214880Z"
    }
   },
   "cell_type": "code",
   "source": [
    "processor.remove_clear_duplicates()\n",
    "processor.name_to_id()\n",
    "processor.ensure_schema()\n",
    "processor.remove_hidden_duplicates(['url'], ['publishedAt'])"
   ],
   "id": "8aa9bbdbf1e22dcd",
   "outputs": [
    {
     "name": "stdout",
     "output_type": "stream",
     "text": [
      "Removed 46 simple duplicate(s)\n",
      "Removed 1 hidden duplicate(s)\n"
     ]
    }
   ],
   "execution_count": 23
  },
  {
   "metadata": {
    "ExecuteTime": {
     "end_time": "2025-05-02T16:28:48.847911Z",
     "start_time": "2025-05-02T16:28:48.571906Z"
    }
   },
   "cell_type": "code",
   "source": "processor.df.orderBy('PublishedAt', ascending=False)",
   "id": "a11295a8d33147ff",
   "outputs": [
    {
     "data": {
      "text/plain": [
       "+--------------------+--------------------+--------------------+--------------------+-------------------+--------------------+--------------------+--------------------+\n",
       "|                 url|              author|             content|         description|        publishedAt|              source|               title|          urlToImage|\n",
       "+--------------------+--------------------+--------------------+--------------------+-------------------+--------------------+--------------------+--------------------+\n",
       "|https://www.axios...|          Cuneyt Dil|D.C. and the Wash...|The deal would br...|2025-04-28 10:50:05|      {axios, Axios}|Scoop: Commanders...|https://images.ax...|\n",
       "|https://www.cbssp...|                    |MILWAUKEE -- A hu...|Bucks coach Doc R...|2025-04-28 08:32:00|{cbs-sports, CBS ...|Damian Lillard in...|https://sportshub...|\n",
       "|https://lakingsin...|Zach Dooley For L...|The LA Kings were...|The LA Kings were...|2025-04-28 08:16:08|{lakingsinsider.c...|Game 4 FINAL – Ki...|https://lakingsin...|\n",
       "|https://www.mlbtr...|       Mark Polishuk|Daulton Varsho wi...|Toronto's Gold Gl...|2025-04-28 05:18:53|{mlb-trade-rumors...|Blue Jays Notes: ...|https://cdn.mlbtr...|\n",
       "|https://apnews.co...|        Tim Reynolds|Detroits Tim Hard...|The NBA acknowled...|2025-04-28 05:12:00|{associated-press...|NBA acknowledges ...|https://dims.apne...|\n",
       "|https://www.foxsp...|        Bob Pockrass|TALLADEGA, Ala. T...|Austin Cindric wo...|2025-04-28 04:36:05|{fox-sports, Fox ...|Kyle Larson, Denn...|https://a57.foxsp...|\n",
       "|https://nesn.com/...|          Gio Rivera|                NULL|The Boston Celtic...|2025-04-28 04:23:54|        {nesn, NESN}|Four Studs, Two D...|https://s47719.pc...|\n",
       "|https://www.dalla...|          Evan Grant|SAN FRANCISCO Som...|The Rangers lost ...|2025-04-28 03:18:34|{the-dallas-morni...|Explaining the in...|https://dmn-dalla...|\n",
       "|https://www.seatt...|         Shane Lantz|Sunday couldnt ha...|Logan Evans tosse...|2025-04-28 02:48:13|{the-seattle-time...|Mariners win Loga...|https://images.se...|\n",
       "|https://www.nbcsp...|         Mike Florio|The Falcons wont ...|An email containi...|2025-04-28 02:36:07|{nbcsports.com, N...|NFL is “reviewing...|https://nbcsports...|\n",
       "|https://www.nhl.c...|                NULL|Rod Brind'Amourof...|Carolina takes 3-...|2025-04-28 02:34:57|{nhl-news, NHL News}|Recap: Svechnikov...|https://media.d3....|\n",
       "|https://apnews.co...|       Dave Campbell|MINNEAPOLIS (AP) ...|Jaden McDaniels c...|2025-04-28 02:16:00|{associated-press...|Timberwolves push...|https://dims.apne...|\n",
       "|https://www.si.co...|      Brigid Kennedy|NBA legend Magic ...|The Lakers legend...|2025-04-28 02:11:51|{sports-illustrat...|Magic Johnson Cal...|https://images2.m...|\n",
       "|https://www.nbcsp...|  Golf Channel Staff|Ben Griffin and A...|Here's a look at ...|2025-04-28 02:11:15|{nbcsports.com, N...|Zurich Classic 20...|https://nbcsports...|\n",
       "|https://sports.ya...|       Kari Anderson|Perhaps in respon...|Lakers coach JJ R...|2025-04-28 02:05:00|{yahoo-entertainm...|NBA playoffs: Lak...|https://s.yimg.co...|\n",
       "|https://www.posti...|     Matthew Miranda|I mean, where do ...|On hanging in, pu...|2025-04-28 01:31:29|{posting-and-toas...|Knicks 94, Piston...|https://cdn.vox-c...|\n",
       "|https://247sports...|          Kipp Adams|The 2025 NFL Draf...|The Dawgs once ag...|2025-04-28 01:28:13|{247sports, 247Sp...|Two Georgia footb...|https://s3media.2...|\n",
       "|https://www.syrac...|Ryan Talbot | rta...|The Buffalo Bills...|Here's a look at ...|2025-04-28 01:02:00|{syracuse.com, sy...|NFL Draft 2025: M...|https://www.syrac...|\n",
       "|https://thelandon...|                NULL|Editor's note: To...|                    |2025-04-28 00:54:47|{thelandondemand....|Browns QB plan sk...|https://goodkarma...|\n",
       "|https://www.acmep...|     Justis Mosqueda|Its time for some...|For the most part...|2025-04-28 00:47:27|{acme-packing-com...|Packers Draft Gra...|https://cdn.vox-c...|\n",
       "+--------------------+--------------------+--------------------+--------------------+-------------------+--------------------+--------------------+--------------------+\n",
       "only showing top 20 rows"
      ],
      "text/html": [
       "<table border='1'>\n",
       "<tr><th>url</th><th>author</th><th>content</th><th>description</th><th>publishedAt</th><th>source</th><th>title</th><th>urlToImage</th></tr>\n",
       "<tr><td>https://www.axios...</td><td>Cuneyt Dil</td><td>D.C. and the Wash...</td><td>The deal would br...</td><td>2025-04-28 10:50:05</td><td>{axios, Axios}</td><td>Scoop: Commanders...</td><td>https://images.ax...</td></tr>\n",
       "<tr><td>https://www.cbssp...</td><td></td><td>MILWAUKEE -- A hu...</td><td>Bucks coach Doc R...</td><td>2025-04-28 08:32:00</td><td>{cbs-sports, CBS ...</td><td>Damian Lillard in...</td><td>https://sportshub...</td></tr>\n",
       "<tr><td>https://lakingsin...</td><td>Zach Dooley For L...</td><td>The LA Kings were...</td><td>The LA Kings were...</td><td>2025-04-28 08:16:08</td><td>{lakingsinsider.c...</td><td>Game 4 FINAL &ndash; Ki...</td><td>https://lakingsin...</td></tr>\n",
       "<tr><td>https://www.mlbtr...</td><td>Mark Polishuk</td><td>Daulton Varsho wi...</td><td>Toronto's Gold Gl...</td><td>2025-04-28 05:18:53</td><td>{mlb-trade-rumors...</td><td>Blue Jays Notes: ...</td><td>https://cdn.mlbtr...</td></tr>\n",
       "<tr><td>https://apnews.co...</td><td>Tim Reynolds</td><td>Detroits Tim Hard...</td><td>The NBA acknowled...</td><td>2025-04-28 05:12:00</td><td>{associated-press...</td><td>NBA acknowledges ...</td><td>https://dims.apne...</td></tr>\n",
       "<tr><td>https://www.foxsp...</td><td>Bob Pockrass</td><td>TALLADEGA, Ala. T...</td><td>Austin Cindric wo...</td><td>2025-04-28 04:36:05</td><td>{fox-sports, Fox ...</td><td>Kyle Larson, Denn...</td><td>https://a57.foxsp...</td></tr>\n",
       "<tr><td>https://nesn.com/...</td><td>Gio Rivera</td><td>NULL</td><td>The Boston Celtic...</td><td>2025-04-28 04:23:54</td><td>{nesn, NESN}</td><td>Four Studs, Two D...</td><td>https://s47719.pc...</td></tr>\n",
       "<tr><td>https://www.dalla...</td><td>Evan Grant</td><td>SAN FRANCISCO Som...</td><td>The Rangers lost ...</td><td>2025-04-28 03:18:34</td><td>{the-dallas-morni...</td><td>Explaining the in...</td><td>https://dmn-dalla...</td></tr>\n",
       "<tr><td>https://www.seatt...</td><td>Shane Lantz</td><td>Sunday couldnt ha...</td><td>Logan Evans tosse...</td><td>2025-04-28 02:48:13</td><td>{the-seattle-time...</td><td>Mariners win Loga...</td><td>https://images.se...</td></tr>\n",
       "<tr><td>https://www.nbcsp...</td><td>Mike Florio</td><td>The Falcons wont ...</td><td>An email containi...</td><td>2025-04-28 02:36:07</td><td>{nbcsports.com, N...</td><td>NFL is &ldquo;reviewing...</td><td>https://nbcsports...</td></tr>\n",
       "<tr><td>https://www.nhl.c...</td><td>NULL</td><td>Rod Brind'Amourof...</td><td>Carolina takes 3-...</td><td>2025-04-28 02:34:57</td><td>{nhl-news, NHL News}</td><td>Recap: Svechnikov...</td><td>https://media.d3....</td></tr>\n",
       "<tr><td>https://apnews.co...</td><td>Dave Campbell</td><td>MINNEAPOLIS (AP) ...</td><td>Jaden McDaniels c...</td><td>2025-04-28 02:16:00</td><td>{associated-press...</td><td>Timberwolves push...</td><td>https://dims.apne...</td></tr>\n",
       "<tr><td>https://www.si.co...</td><td>Brigid Kennedy</td><td>NBA legend Magic ...</td><td>The Lakers legend...</td><td>2025-04-28 02:11:51</td><td>{sports-illustrat...</td><td>Magic Johnson Cal...</td><td>https://images2.m...</td></tr>\n",
       "<tr><td>https://www.nbcsp...</td><td>Golf Channel Staff</td><td>Ben Griffin and A...</td><td>Here's a look at ...</td><td>2025-04-28 02:11:15</td><td>{nbcsports.com, N...</td><td>Zurich Classic 20...</td><td>https://nbcsports...</td></tr>\n",
       "<tr><td>https://sports.ya...</td><td>Kari Anderson</td><td>Perhaps in respon...</td><td>Lakers coach JJ R...</td><td>2025-04-28 02:05:00</td><td>{yahoo-entertainm...</td><td>NBA playoffs: Lak...</td><td>https://s.yimg.co...</td></tr>\n",
       "<tr><td>https://www.posti...</td><td>Matthew Miranda</td><td>I mean, where do ...</td><td>On hanging in, pu...</td><td>2025-04-28 01:31:29</td><td>{posting-and-toas...</td><td>Knicks 94, Piston...</td><td>https://cdn.vox-c...</td></tr>\n",
       "<tr><td>https://247sports...</td><td>Kipp Adams</td><td>The 2025 NFL Draf...</td><td>The Dawgs once ag...</td><td>2025-04-28 01:28:13</td><td>{247sports, 247Sp...</td><td>Two Georgia footb...</td><td>https://s3media.2...</td></tr>\n",
       "<tr><td>https://www.syrac...</td><td>Ryan Talbot | rta...</td><td>The Buffalo Bills...</td><td>Here's a look at ...</td><td>2025-04-28 01:02:00</td><td>{syracuse.com, sy...</td><td>NFL Draft 2025: M...</td><td>https://www.syrac...</td></tr>\n",
       "<tr><td>https://thelandon...</td><td>NULL</td><td>Editor's note: To...</td><td></td><td>2025-04-28 00:54:47</td><td>{thelandondemand....</td><td>Browns QB plan sk...</td><td>https://goodkarma...</td></tr>\n",
       "<tr><td>https://www.acmep...</td><td>Justis Mosqueda</td><td>Its time for some...</td><td>For the most part...</td><td>2025-04-28 00:47:27</td><td>{acme-packing-com...</td><td>Packers Draft Gra...</td><td>https://cdn.vox-c...</td></tr>\n",
       "</table>\n",
       "only showing top 20 rows\n"
      ]
     },
     "execution_count": 24,
     "metadata": {},
     "output_type": "execute_result"
    }
   ],
   "execution_count": 24
  },
  {
   "metadata": {
    "ExecuteTime": {
     "end_time": "2025-05-02T16:08:53.814361Z",
     "start_time": "2025-05-02T16:08:53.557133Z"
    }
   },
   "cell_type": "code",
   "source": "processor.df",
   "id": "5eb53e8ba7f3a4b3",
   "outputs": [
    {
     "data": {
      "text/plain": [
       "+--------------------+------------------+--------------------+--------------------+-------------------+--------------------+--------------------+--------------------+\n",
       "|                 url|            author|             content|         description|        publishedAt|              source|               title|          urlToImage|\n",
       "+--------------------+------------------+--------------------+--------------------+-------------------+--------------------+--------------------+--------------------+\n",
       "|https://nesn.com/...|        Greg Dudek|                NULL|Sports Illustrate...|2025-04-04 00:12:00|        {nesn, NESN}|NFL Insider Provi...|https://nesn.com/...|\n",
       "|https://www.si.co...|         Bob Harig|DORAL, Fla. The P...|The Saudi Arabia ...|2025-04-04 04:36:53|{sports-illustrat...|Report: PGA Tour ...|https://images2.m...|\n",
       "|https://goheels.c...|              NULL|                NULL|Perry Hargett's h...|2025-04-04 08:04:27|{goheels.com, Goh...|Carolina Wins Thu...|https://images.si...|\n",
       "|https://www.cbssp...|                  |SAN ANTONIO Befor...|Scheyer wanted to...|2025-04-04 08:12:00|{cbs-sports, CBS ...|Duke's Jon Scheye...|https://sportshub...|\n",
       "|https://www.npr.o...|   Majd Al-Waheidi|The NCAA Division...|NCAA president Ch...|2025-04-04 11:00:00|          {npr, NPR}|NCAA president on...|https://npr.brigh...|\n",
       "|https://triblive....|          Tim Benz|Friday’s “First C...|Friday&rsquo;s &l...|2025-04-04 11:59:00|{triblive, TribLIVE}|First Call: Finan...|https://assets-va...|\n",
       "|https://www.cbsne...|              NULL|College Park, Md....|USA Fencing disqu...|2025-04-04 12:01:00|{cbs-news, CBS News}|Fencer disqualifi...|https://assets2.c...|\n",
       "|https://nypost.co...|  Justin Terranova|If only the NCAA ...|If only the NCAA ...|2025-04-04 14:10:00|{new-york-post, N...|The NIT champions...|https://nypost.co...|\n",
       "|https://www.balti...|              NULL|                NULL|Takeaways from th...|2025-04-04 15:23:44|{baltimoreravens....|Late for Work: Ra...|https://static.cl...|\n",
       "|https://www.nbcsp...|        Josh Alper|The last two seas...|The last two seas...|2025-04-04 15:49:08|{nbcsports.com, N...|Liam Coen: We’ve ...|https://nbcsports...|\n",
       "|https://www.si.co...|    Patrick Andres|Memphis Grizzlies...|The Grizzlies' gu...|2025-04-04 15:51:31|{sports-illustrat...|Ja Morant Reacts ...|https://images2.m...|\n",
       "|https://www.dalla...|              NULL|                NULL|NFL Draft prospec...|2025-04-04 16:08:03|{dallascowboys.co...|Cowboys to begin ...|https://static.cl...|\n",
       "|https://www.pensb...|             Gretz|No matter what yo...|Sidney Crosby and...|2025-04-04 16:24:00|{pensburgh, PensB...|Sidney Crosby and...|https://cdn.vox-c...|\n",
       "|https://www.mlbtr...|  Darragh McDonald|The Nationals ann...|The Nationals hav...|2025-04-04 17:04:14|{mlb-trade-rumors...|Nationals Place M...|https://cdn.mlbtr...|\n",
       "|https://www.bleed...|JosephSantoliquito|Politics permeate...|Philadelphia is b...|2025-04-04 17:26:40|{bleeding-green-n...|The push against ...|https://cdn.vox-c...|\n",
       "|https://apnews.co...|     John Marshall|Bruce Pearl has t...|Bruce Pearl of Au...|2025-04-04 18:02:00|{associated-press...|Auburn's Pearl an...|https://dims.apne...|\n",
       "|https://apnews.co...|      Tim Reynolds|MIAMI (AP) Ja Mor...|Ja Morant showed ...|2025-04-04 18:06:00|{associated-press...|NBA fines Grizzli...|https://dims.apne...|\n",
       "|https://sports.ya...|        Ben Fawkes|It has been a Mar...|Sharp handicapper...|2025-04-04 18:28:30|{yahoo-entertainm...|Final Four 2025 c...|https://s.yimg.co...|\n",
       "|https://www.nhl.c...|              NULL|DETROIT - Carolin...|Robidas to make h...|2025-04-04 18:45:31|{nhl-news, NHL News}|Projected Lineup:...|https://media.d3....|\n",
       "|https://www.nbcsp...|     Myles Simmons|The Steelers are ...|The Steelers are ...|2025-04-04 18:50:08|{nbcsports.com, N...|Steelers hosted Q...|https://nbcsports...|\n",
       "+--------------------+------------------+--------------------+--------------------+-------------------+--------------------+--------------------+--------------------+\n",
       "only showing top 20 rows"
      ],
      "text/html": [
       "<table border='1'>\n",
       "<tr><th>url</th><th>author</th><th>content</th><th>description</th><th>publishedAt</th><th>source</th><th>title</th><th>urlToImage</th></tr>\n",
       "<tr><td>https://nesn.com/...</td><td>Greg Dudek</td><td>NULL</td><td>Sports Illustrate...</td><td>2025-04-04 00:12:00</td><td>{nesn, NESN}</td><td>NFL Insider Provi...</td><td>https://nesn.com/...</td></tr>\n",
       "<tr><td>https://www.si.co...</td><td>Bob Harig</td><td>DORAL, Fla. The P...</td><td>The Saudi Arabia ...</td><td>2025-04-04 04:36:53</td><td>{sports-illustrat...</td><td>Report: PGA Tour ...</td><td>https://images2.m...</td></tr>\n",
       "<tr><td>https://goheels.c...</td><td>NULL</td><td>NULL</td><td>Perry Hargett's h...</td><td>2025-04-04 08:04:27</td><td>{goheels.com, Goh...</td><td>Carolina Wins Thu...</td><td>https://images.si...</td></tr>\n",
       "<tr><td>https://www.cbssp...</td><td></td><td>SAN ANTONIO Befor...</td><td>Scheyer wanted to...</td><td>2025-04-04 08:12:00</td><td>{cbs-sports, CBS ...</td><td>Duke's Jon Scheye...</td><td>https://sportshub...</td></tr>\n",
       "<tr><td>https://www.npr.o...</td><td>Majd Al-Waheidi</td><td>The NCAA Division...</td><td>NCAA president Ch...</td><td>2025-04-04 11:00:00</td><td>{npr, NPR}</td><td>NCAA president on...</td><td>https://npr.brigh...</td></tr>\n",
       "<tr><td>https://triblive....</td><td>Tim Benz</td><td>Friday&rsquo;s &ldquo;First C...</td><td>Friday&amp;rsquo;s &amp;l...</td><td>2025-04-04 11:59:00</td><td>{triblive, TribLIVE}</td><td>First Call: Finan...</td><td>https://assets-va...</td></tr>\n",
       "<tr><td>https://www.cbsne...</td><td>NULL</td><td>College Park, Md....</td><td>USA Fencing disqu...</td><td>2025-04-04 12:01:00</td><td>{cbs-news, CBS News}</td><td>Fencer disqualifi...</td><td>https://assets2.c...</td></tr>\n",
       "<tr><td>https://nypost.co...</td><td>Justin Terranova</td><td>If only the NCAA ...</td><td>If only the NCAA ...</td><td>2025-04-04 14:10:00</td><td>{new-york-post, N...</td><td>The NIT champions...</td><td>https://nypost.co...</td></tr>\n",
       "<tr><td>https://www.balti...</td><td>NULL</td><td>NULL</td><td>Takeaways from th...</td><td>2025-04-04 15:23:44</td><td>{baltimoreravens....</td><td>Late for Work: Ra...</td><td>https://static.cl...</td></tr>\n",
       "<tr><td>https://www.nbcsp...</td><td>Josh Alper</td><td>The last two seas...</td><td>The last two seas...</td><td>2025-04-04 15:49:08</td><td>{nbcsports.com, N...</td><td>Liam Coen: We&rsquo;ve ...</td><td>https://nbcsports...</td></tr>\n",
       "<tr><td>https://www.si.co...</td><td>Patrick Andres</td><td>Memphis Grizzlies...</td><td>The Grizzlies' gu...</td><td>2025-04-04 15:51:31</td><td>{sports-illustrat...</td><td>Ja Morant Reacts ...</td><td>https://images2.m...</td></tr>\n",
       "<tr><td>https://www.dalla...</td><td>NULL</td><td>NULL</td><td>NFL Draft prospec...</td><td>2025-04-04 16:08:03</td><td>{dallascowboys.co...</td><td>Cowboys to begin ...</td><td>https://static.cl...</td></tr>\n",
       "<tr><td>https://www.pensb...</td><td>Gretz</td><td>No matter what yo...</td><td>Sidney Crosby and...</td><td>2025-04-04 16:24:00</td><td>{pensburgh, PensB...</td><td>Sidney Crosby and...</td><td>https://cdn.vox-c...</td></tr>\n",
       "<tr><td>https://www.mlbtr...</td><td>Darragh McDonald</td><td>The Nationals ann...</td><td>The Nationals hav...</td><td>2025-04-04 17:04:14</td><td>{mlb-trade-rumors...</td><td>Nationals Place M...</td><td>https://cdn.mlbtr...</td></tr>\n",
       "<tr><td>https://www.bleed...</td><td>JosephSantoliquito</td><td>Politics permeate...</td><td>Philadelphia is b...</td><td>2025-04-04 17:26:40</td><td>{bleeding-green-n...</td><td>The push against ...</td><td>https://cdn.vox-c...</td></tr>\n",
       "<tr><td>https://apnews.co...</td><td>John Marshall</td><td>Bruce Pearl has t...</td><td>Bruce Pearl of Au...</td><td>2025-04-04 18:02:00</td><td>{associated-press...</td><td>Auburn's Pearl an...</td><td>https://dims.apne...</td></tr>\n",
       "<tr><td>https://apnews.co...</td><td>Tim Reynolds</td><td>MIAMI (AP) Ja Mor...</td><td>Ja Morant showed ...</td><td>2025-04-04 18:06:00</td><td>{associated-press...</td><td>NBA fines Grizzli...</td><td>https://dims.apne...</td></tr>\n",
       "<tr><td>https://sports.ya...</td><td>Ben Fawkes</td><td>It has been a Mar...</td><td>Sharp handicapper...</td><td>2025-04-04 18:28:30</td><td>{yahoo-entertainm...</td><td>Final Four 2025 c...</td><td>https://s.yimg.co...</td></tr>\n",
       "<tr><td>https://www.nhl.c...</td><td>NULL</td><td>DETROIT - Carolin...</td><td>Robidas to make h...</td><td>2025-04-04 18:45:31</td><td>{nhl-news, NHL News}</td><td>Projected Lineup:...</td><td>https://media.d3....</td></tr>\n",
       "<tr><td>https://www.nbcsp...</td><td>Myles Simmons</td><td>The Steelers are ...</td><td>The Steelers are ...</td><td>2025-04-04 18:50:08</td><td>{nbcsports.com, N...</td><td>Steelers hosted Q...</td><td>https://nbcsports...</td></tr>\n",
       "</table>\n",
       "only showing top 20 rows\n"
      ]
     },
     "execution_count": 19,
     "metadata": {},
     "output_type": "execute_result"
    }
   ],
   "execution_count": 19
  }
 ],
 "metadata": {
  "kernelspec": {
   "display_name": "Python 3",
   "language": "python",
   "name": "python3"
  },
  "language_info": {
   "codemirror_mode": {
    "name": "ipython",
    "version": 2
   },
   "file_extension": ".py",
   "mimetype": "text/x-python",
   "name": "python",
   "nbconvert_exporter": "python",
   "pygments_lexer": "ipython2",
   "version": "2.7.6"
  }
 },
 "nbformat": 4,
 "nbformat_minor": 5
}
