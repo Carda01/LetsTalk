{
 "cells": [
  {
   "cell_type": "code",
   "id": "initial_id",
   "metadata": {
    "collapsed": true,
    "ExecuteTime": {
     "end_time": "2025-04-29T10:25:11.108859Z",
     "start_time": "2025-04-29T10:25:11.047844Z"
    }
   },
   "source": [
    "import pyspark\n",
    "from pyspark.sql.functions import current_timestamp\n",
    "from delta import *"
   ],
   "outputs": [],
   "execution_count": 1
  },
  {
   "metadata": {
    "ExecuteTime": {
     "end_time": "2025-04-29T10:25:11.116088Z",
     "start_time": "2025-04-29T10:25:11.114112Z"
    }
   },
   "cell_type": "code",
   "source": [
    "def create_spark_session():\n",
    "    conf = (\n",
    "        pyspark.conf.SparkConf()\n",
    "        .setAppName(\"LetsTalk\")\n",
    "        .set(\n",
    "            \"spark.sql.catalog.spark_catalog\",\n",
    "            \"org.apache.spark.sql.delta.catalog.DeltaCatalog\",\n",
    "        )\n",
    "        .set(\"spark.sql.extensions\", \"io.delta.sql.DeltaSparkSessionExtension\")\n",
    "        .set(\"spark.hadoop.fs.gs.impl\", \"com.google.cloud.hadoop.fs.gcs.GoogleHadoopFileSystem\")\n",
    "        .set(\"spark.hadoop.google.cloud.auth.service.account.enable\", \"true\")\n",
    "        .set(\"spark.hadoop.google.cloud.auth.service.account.json.keyfile\", \"/Users/alfio/projects/upc/LetsTalkBDM/gcs.json\")\n",
    "        .set(\"spark.sql.shuffle.partitions\", \"4\")\n",
    "        .set(\"spark.jars\", \"../jars/gcs-connector-hadoop3-latest.jar\")\n",
    "        .setMaster(\n",
    "            \"local[*]\"\n",
    "        )\n",
    "    )\n",
    "\n",
    "    builder = pyspark.sql.SparkSession.builder.appName(\"LetsTalk\").config(conf=conf)\n",
    "    spark = configure_spark_with_delta_pip(builder).getOrCreate()\n",
    "    return spark\n",
    "\n"
   ],
   "id": "a0fed999dd78466a",
   "outputs": [],
   "execution_count": 2
  },
  {
   "metadata": {
    "ExecuteTime": {
     "end_time": "2025-04-29T10:25:12.657365Z",
     "start_time": "2025-04-29T10:25:11.180228Z"
    }
   },
   "cell_type": "code",
   "source": "spark = create_spark_session()",
   "id": "314d425a93c6dfe7",
   "outputs": [
    {
     "name": "stderr",
     "output_type": "stream",
     "text": [
      "25/04/29 12:25:11 WARN Utils: Your hostname, Alfios-MacBook-Pro.local resolves to a loopback address: 127.0.0.1; using 192.168.50.4 instead (on interface en0)\n",
      "25/04/29 12:25:11 WARN Utils: Set SPARK_LOCAL_IP if you need to bind to another address\n",
      "Ivy Default Cache set to: /Users/alfio/.ivy2/cache\n",
      "The jars for the packages stored in: /Users/alfio/.ivy2/jars\n",
      "io.delta#delta-spark_2.12 added as a dependency\n",
      ":: resolving dependencies :: org.apache.spark#spark-submit-parent-3ba2087b-e7e3-429d-9be8-c85bb527d131;1.0\n",
      "\tconfs: [default]\n",
      "\tfound io.delta#delta-spark_2.12;3.3.0 in central\n",
      "\tfound io.delta#delta-storage;3.3.0 in central\n",
      "\tfound org.antlr#antlr4-runtime;4.9.3 in central\n"
     ]
    },
    {
     "name": "stdout",
     "output_type": "stream",
     "text": [
      ":: loading settings :: url = jar:file:/Users/alfio/python_venv/general/lib/python3.13/site-packages/pyspark/jars/ivy-2.5.1.jar!/org/apache/ivy/core/settings/ivysettings.xml\n"
     ]
    },
    {
     "name": "stderr",
     "output_type": "stream",
     "text": [
      ":: resolution report :: resolve 65ms :: artifacts dl 2ms\n",
      "\t:: modules in use:\n",
      "\tio.delta#delta-spark_2.12;3.3.0 from central in [default]\n",
      "\tio.delta#delta-storage;3.3.0 from central in [default]\n",
      "\torg.antlr#antlr4-runtime;4.9.3 from central in [default]\n",
      "\t---------------------------------------------------------------------\n",
      "\t|                  |            modules            ||   artifacts   |\n",
      "\t|       conf       | number| search|dwnlded|evicted|| number|dwnlded|\n",
      "\t---------------------------------------------------------------------\n",
      "\t|      default     |   3   |   0   |   0   |   0   ||   3   |   0   |\n",
      "\t---------------------------------------------------------------------\n",
      ":: retrieving :: org.apache.spark#spark-submit-parent-3ba2087b-e7e3-429d-9be8-c85bb527d131\n",
      "\tconfs: [default]\n",
      "\t0 artifacts copied, 3 already retrieved (0kB/2ms)\n",
      "25/04/29 12:25:11 WARN NativeCodeLoader: Unable to load native-hadoop library for your platform... using builtin-java classes where applicable\n",
      "Setting default log level to \"WARN\".\n",
      "To adjust logging level use sc.setLogLevel(newLevel). For SparkR, use setLogLevel(newLevel).\n"
     ]
    }
   ],
   "execution_count": 3
  },
  {
   "metadata": {
    "ExecuteTime": {
     "end_time": "2025-04-29T10:25:16.423323Z",
     "start_time": "2025-04-29T10:25:15.684797Z"
    }
   },
   "cell_type": "code",
   "source": [
    "deltaTable = DeltaTable.forPath(spark, \"../data/letstalk_landing_zone_bdma/delta_news/entertainment\")\n",
    "df = deltaTable.toDF()"
   ],
   "id": "16a0124018012ce5",
   "outputs": [],
   "execution_count": 4
  },
  {
   "metadata": {
    "ExecuteTime": {
     "end_time": "2025-04-29T10:30:07.278951Z",
     "start_time": "2025-04-29T10:30:07.023620Z"
    }
   },
   "cell_type": "code",
   "source": "df.orderBy('publishedAt').show()",
   "id": "fcb0ac2df2bcacd5",
   "outputs": [
    {
     "name": "stdout",
     "output_type": "stream",
     "text": [
      "+--------------------+--------------------+--------------------+--------------------+--------------------+--------------------+--------------------+--------------------+\n",
      "|              author|             content|         description|         publishedAt|              source|               title|                 url|          urlToImage|\n",
      "+--------------------+--------------------+--------------------+--------------------+--------------------+--------------------+--------------------+--------------------+\n",
      "|          Lacey Rose|Lalisa Manobal, a...|The cast and crew...|2025-04-03T14:30:00Z|{NULL, Hollywood ...|A Secret, a Secur...|http://www.hollyw...|https://www.holly...|\n",
      "|                    |A computer game k...|Jack Black and Ja...|2025-04-03T15:10:16Z|         {NULL, NPR}|See 'A Minecraft ...|https://www.npr.o...|https://npr.brigh...|\n",
      "| Kathryn VanArendonk|Pulse makes clear...|The chief effect ...|2025-04-03T18:00:20Z|     {NULL, Vulture}|‘Pulse’ Review: N...|http://www.vultur...|https://pyxis.nym...|\n",
      "|      Paula Froelich|(NewsNation) Whil...|Sources say Harry...|2025-04-03T21:02:28Z|{NULL, Newsnation...|Prince Harry ‘dee...|https://www.newsn...|https://www.newsn...|\n",
      "|     Seattle Refined|The James Beard F...|The James Beard F...|2025-04-03T23:48:05Z|{NULL, seattleref...|These 3 Washingto...|https://seattlere...|https://seattlere...|\n",
      "|      Maggie Fremont|Wow, hate to tell...|In a real ‘Pitt’ ...|2025-04-04T01:45:11Z|     {NULL, Vulture}|The Pitt Recap: N...|http://www.vultur...|https://pyxis.nym...|\n",
      "|      Pat Saperstein|The early reactio...|Reactions to Ryan...|2025-04-04T03:46:00Z|     {NULL, Variety}|‘Sinners’ Early R...|https://variety.c...|https://variety.c...|\n",
      "|        Emily Zemler|Elton John and Br...|Elton John and Br...|2025-04-04T07:37:06Z|{NULL, Rolling St...|Elton John Says H...|http://www.rollin...|https://www.rolli...|\n",
      "|Brian Linder | bl...|Teddi Mellencamp ...|The 43-year-old i...|2025-04-04T09:00:00Z|    {NULL, PennLive}|Rock legend’s dau...|https://www.pennl...|https://www.pennl...|\n",
      "|       Ali Donaldson|Meghan, Duchess o...|She shares her fa...|2025-04-04T10:13:21Z|        {NULL, Inc.}|Meghan, Duchess o...|https://www.inc.c...|https://img-cdn.i...|\n",
      "|      Cain A. Knight|SmackDown airs to...|Former AEW star R...|2025-04-04T13:00:00Z|{NULL, Cageside S...|SmackDown preview...|https://www.cages...|https://cdn.vox-c...|\n",
      "|  Nandika Chatterjee|Actor Bill Murray...|The 74-year-old “...|2025-04-04T13:48:00Z| {NULL, Daily Beast}|WATCH: Bill Murra...|https://www.theda...|https://www.theda...|\n",
      "|        Rosa Sanchez|George Clooney is...|The legendary act...|2025-04-04T13:51:00Z|{NULL, HarpersBAZ...|All the Stars Cam...|https://www.harpe...|https://hips.hear...|\n",
      "|      Jackie Strause|[This story conta...|The veteran ‘Grey...|2025-04-04T14:33:01Z|{NULL, Hollywood ...|Kim Raver on Stee...|http://www.hollyw...|https://www.holly...|\n",
      "|          Lacey Rose|“I think people a...|Ahead of the 90-m...|2025-04-04T16:59:38Z|{NULL, Hollywood ...|Mike White and ‘W...|http://www.hollyw...|https://www.holly...|\n",
      "|      Mehera  Bonner|\"Hearst Magazines...|Prince William ha...|2025-04-04T17:00:00Z|{NULL, GoodHousek...|Prince William Hi...|https://www.goodh...|https://s.yimg.co...|\n",
      "|    Andrew Liszewski|Free Solos Academ...|An enhanced versi...|2025-04-04T17:16:03Z|{the-verge, The V...|An immersive vers...|https://www.theve...|https://platform....|\n",
      "|Lizzie O’Leary, R...|In Sex Reviews, w...|For a show about ...|2025-04-04T17:24:00Z|{NULL, Slate Maga...|How Sexy Is Miche...|https://slate.com...|https://compote.s...|\n",
      "|        Aidin Vaziri|Tom Hanks, left, ...|In her forthcomin...|2025-04-04T17:38:53Z|{NULL, San Franci...|Tom Hanks’ daught...|https://www.sfchr...|https://s.hdnux.c...|\n",
      "|          Tomás Mier|Slim Shady is a g...|Eminem's daughter...|2025-04-04T18:36:52Z|{NULL, Rolling St...|Eminem Is a Grand...|http://www.rollin...|https://www.rolli...|\n",
      "+--------------------+--------------------+--------------------+--------------------+--------------------+--------------------+--------------------+--------------------+\n",
      "only showing top 20 rows\n",
      "\n"
     ]
    }
   ],
   "execution_count": 9
  }
 ],
 "metadata": {
  "kernelspec": {
   "display_name": "Python 3",
   "language": "python",
   "name": "python3"
  },
  "language_info": {
   "codemirror_mode": {
    "name": "ipython",
    "version": 2
   },
   "file_extension": ".py",
   "mimetype": "text/x-python",
   "name": "python",
   "nbconvert_exporter": "python",
   "pygments_lexer": "ipython2",
   "version": "2.7.6"
  }
 },
 "nbformat": 4,
 "nbformat_minor": 5
}
