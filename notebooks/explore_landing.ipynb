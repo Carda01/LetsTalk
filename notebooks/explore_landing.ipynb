{
 "cells": [
  {
   "cell_type": "code",
   "id": "initial_id",
   "metadata": {
    "collapsed": true,
    "ExecuteTime": {
     "end_time": "2025-05-06T12:44:10.682763Z",
     "start_time": "2025-05-06T12:44:10.673858Z"
    }
   },
   "source": [
    "%load_ext autoreload\n",
    "%autoreload 2\n",
    "\n",
    "import pyspark\n",
    "from delta import *\n",
    "from dags.lib.IncrementalLoader import IncrementalLoader\n",
    "from dags.lib.Processer import *\n",
    "from pyspark.sql.functions import col, lit, max as spark_max"
   ],
   "outputs": [
    {
     "name": "stdout",
     "output_type": "stream",
     "text": [
      "The autoreload extension is already loaded. To reload it, use:\n",
      "  %reload_ext autoreload\n"
     ]
    }
   ],
   "execution_count": 69
  },
  {
   "metadata": {
    "ExecuteTime": {
     "end_time": "2025-05-06T12:44:11.851451Z",
     "start_time": "2025-05-06T12:44:11.842375Z"
    }
   },
   "cell_type": "code",
   "source": [
    "def create_spark_session():\n",
    "    conf = (\n",
    "        pyspark.conf.SparkConf()\n",
    "        .setAppName(\"LetsTalk\")\n",
    "        .set(\n",
    "            \"spark.sql.catalog.spark_catalog\",\n",
    "            \"org.apache.spark.sql.delta.catalog.DeltaCatalog\",\n",
    "        )\n",
    "        .set(\"spark.sql.extensions\", \"io.delta.sql.DeltaSparkSessionExtension\")\n",
    "        .set(\"spark.hadoop.fs.gs.impl\", \"com.google.cloud.hadoop.fs.gcs.GoogleHadoopFileSystem\")\n",
    "        .set(\"spark.hadoop.google.cloud.auth.service.account.enable\", \"true\")\n",
    "        .set(\"spark.hadoop.google.cloud.auth.service.account.json.keyfile\", \"/Users/alfio/projects/upc/BDMP2/gcs.json\")\n",
    "        .set(\"spark.sql.shuffle.partitions\", \"4\")\n",
    "        .set(\"spark.jars\", \"../jars/gcs-connector-hadoop3-latest.jar\")\n",
    "        .setMaster(\n",
    "            \"local[*]\"\n",
    "        )\n",
    "    )\n",
    "\n",
    "    builder = pyspark.sql.SparkSession.builder.appName(\"LetsTalk\").config(conf=conf)\n",
    "    spark = configure_spark_with_delta_pip(builder).getOrCreate()\n",
    "    return spark\n",
    "\n"
   ],
   "id": "a0fed999dd78466a",
   "outputs": [],
   "execution_count": 70
  },
  {
   "metadata": {
    "ExecuteTime": {
     "end_time": "2025-05-06T12:44:12.849753Z",
     "start_time": "2025-05-06T12:44:12.818558Z"
    }
   },
   "cell_type": "code",
   "source": [
    "spark = create_spark_session()\n",
    "spark.conf.set('spark.sql.repl.eagerEval.enabled', True)"
   ],
   "id": "314d425a93c6dfe7",
   "outputs": [],
   "execution_count": 71
  },
  {
   "metadata": {
    "ExecuteTime": {
     "end_time": "2025-05-06T12:44:14.219855Z",
     "start_time": "2025-05-06T12:44:13.828864Z"
    }
   },
   "cell_type": "code",
   "source": [
    "absolute_path_to_landing = '/Users/alfio/projects/upc/BDMP2/data/letstalk_landing_zone_bdma'\n",
    "table_subpath = 'delta_news/entertainment'\n",
    "loader = IncrementalLoader(spark, absolute_path_to_landing, table_subpath)\n",
    "df = loader.get_new_data()\n",
    "df.head(5)"
   ],
   "id": "48958801fe4d1ecd",
   "outputs": [
    {
     "name": "stdout",
     "output_type": "stream",
     "text": [
      "Using CDF from version 14\n"
     ]
    },
    {
     "data": {
      "text/plain": [
       "[Row(author='Matt Webb Mitovich', content='The following contains spoilers from the Season 2 finale of NCIS: Sydney, which aired April 25 on CBS.\\r\\nThe NCIS: Sydney team eked out another lives-saving win in Season 2’s two-part finale — though … [+7754 chars]', description=\"'NCIS Sydney' showrunner Morgan O'Neill teases what's next for Mackey, JD and the team after events of Season 2 finale.\", publishedAt='2025-04-26T01:00:00Z', source=Row(id=None, name='TVLine'), title='NCIS: Sydney Boss Breaks Down (Sweaty!) Finale’s Fraught Closing Moments, Teases ‘Bigger’ Season 3 - TVLine', url='https://tvline.com/interviews/ncis-sydney-season-2-finale-mackey-jd-romance-blue-mystery-1235439603/', urlToImage='https://tvline.com/wp-content/uploads/2025/04/ncis-sydney-season-2-finale-recap.jpg?w=650'),\n",
       " Row(author=\"Anthony D'Alessandro\", content='There are many questions that Star Wars fans have about the George Lucas produced and co-written 1980 sequel The Empire Strikes Backwhich kicked off the 16th TCM Class Film Festival last night at the… [+1915 chars]', description=\"George Lucas the TCM Classic Film Festival opening night talked about why Yoda talked backwards in 'The Empire Strikes Back'.\", publishedAt='2025-04-25T22:08:00Z', source=Row(id=None, name='Deadline'), title='George Lucas On Why Yoda Spoke Backwards In ‘Empire Strikes Back’: “To Get People To Actually Listen” - Deadline', url='http://deadline.com/2025/04/george-lucas-empire-strikes-back-yoda-1236376717/', urlToImage='https://deadline.com/wp-content/uploads/2025/04/George-Lucas-2211847497.jpg?w=1024'),\n",
       " Row(author='Martin Holmes', content='The Conners wrapped up its seven-season run on Wednesday (April 23) with an emotional series finale that paid tribute to Roseanne Barr, the family matriarch and star on which the spinoff sitcom was b… [+2433 chars]', description='The show paid tribute to Barr in its final episode.', publishedAt='2025-04-25T13:50:27Z', source=Row(id=None, name='TVInsider'), title='Roseanne Barr Reacts to ‘The Conners’ Emotional Series Finale - TV Insider', url='https://www.tvinsider.com/1188551/roseanne-barr-the-conners-series-finale/', urlToImage='https://www.tvinsider.com/wp-content/uploads/2025/04/roseanne-barr-1014x570.jpg'),\n",
       " Row(author='Anthony Lund', content='The first time audiences met Christian Wolff, the autistic math savant capable of dismantling entire security teams, critics didnt quite know what to make of him. Gavin OConnors 2016 thriller The Acc… [+3770 chars]', description='Christian Wolff is back doing what he does best, and it seems that this time it is good enough to please critics.', publishedAt='2025-04-25T00:35:00Z', source=Row(id=None, name='MovieWeb'), title=\"Ben Affleck & Jon Bernthal's Explosive Action Sequel Tallies Up a Blistering Rotten Tomatoes Score - MovieWeb\", url='https://movieweb.com/the-accountant-2-ben-affleck-jon-bernthal-rotten-tomatoes-action-thriller/', urlToImage='https://static1.moviewebimages.com/wordpress/wp-content/uploads/2025/04/ben-affleck-and-jon-bernthal-in-the-accountant-2-1.jpg'),\n",
       " Row(author='Glenn Garner', content='The American Film Institute paid tribute to Francis Ford Coppola on Saturday with its 50th Life Achievement Award.\\r\\nPerformers like Elle Fanning and Andy Garcia; fellow filmmakers like Ron Howard, Sp… [+9300 chars]', description='Stars like Elle Fanning and directors like Ron Howard gathered to honor AFI Lifetime Achievement Award 2025 recipient Francis Ford Coppola.', publishedAt='2025-04-27T02:20:01Z', source=Row(id=None, name='Deadline'), title='AFI Life Achievement Award 2025 Red Carpet Photos - Deadline', url='https://deadline.com/gallery/afi-life-achievement-award-red-carpet-photos-francis-ford-coppola/', urlToImage='https://deadline.com/wp-content/uploads/2025/04/afi.jpg?w=1000')]"
      ]
     },
     "execution_count": 72,
     "metadata": {},
     "output_type": "execute_result"
    }
   ],
   "execution_count": 72
  },
  {
   "metadata": {
    "ExecuteTime": {
     "end_time": "2025-05-06T12:44:18.474680Z",
     "start_time": "2025-05-06T12:44:18.466037Z"
    }
   },
   "cell_type": "code",
   "source": "processor = NewsProcessor(spark, df)",
   "id": "eff4df97460bd4d8",
   "outputs": [],
   "execution_count": 73
  },
  {
   "metadata": {
    "ExecuteTime": {
     "end_time": "2025-05-06T12:44:33.032182Z",
     "start_time": "2025-05-06T12:44:32.607268Z"
    }
   },
   "cell_type": "code",
   "source": [
    "processor.ensure_schema()\n",
    "processor.remove_clear_duplicates()\n",
    "processor.name_to_id()\n",
    "processor.remove_hidden_duplicates(['url'], ['publishedAt'])\n",
    "processor.normalize_text(['Title', 'Description', 'Content'])\n",
    "processor.expand_source()\n",
    "processor.order_by('publishedAt', ascending=False)"
   ],
   "id": "8aa9bbdbf1e22dcd",
   "outputs": [
    {
     "name": "stdout",
     "output_type": "stream",
     "text": [
      "Removed 0 simple duplicate(s)\n",
      "Removed 0 hidden duplicate(s)\n"
     ]
    }
   ],
   "execution_count": 75
  },
  {
   "metadata": {
    "ExecuteTime": {
     "end_time": "2025-05-06T12:44:38.942856Z",
     "start_time": "2025-05-06T12:44:38.730342Z"
    }
   },
   "cell_type": "code",
   "source": "processor.df",
   "id": "9b9bf15ea09834a2",
   "outputs": [
    {
     "data": {
      "text/plain": [
       "+--------------------+--------------------+--------------------+--------------------+-------------------+------------------+--------------------+--------------------+\n",
       "|                 url|              author|             Content|         Description|        publishedAt|            source|               Title|          urlToImage|\n",
       "+--------------------+--------------------+--------------------+--------------------+-------------------+------------------+--------------------+--------------------+\n",
       "|http://deadline.c...|   Natalie Oganesyan|the rock  amp  ro...|the rock   roll h...|2025-04-28 03:33:00|          deadline|outkast  cyndi la...|https://deadline....|\n",
       "|http://www.vultur...|        Sara Holdren|the new musical r...| real women have ...|2025-04-28 03:30:23|           vulture|bright and bold i...|https://pyxis.nym...|\n",
       "|https://deadline....|        Glenn Garner|the american film...|stars like elle f...|2025-04-27 04:20:01|          deadline|afi life achievem...|https://deadline....|\n",
       "|https://www.yourt...|           Kate Rose|the love horoscop...|sunday s new moon...|2025-04-27 03:03:23|         yourtango|love horoscopes a...|https://www.yourt...|\n",
       "|https://www.count...|          Anna Logan|did you know gigi...|from hollywood to...|2025-04-26 15:17:46| countryliving.com|   celebrities se...|https://hips.hear...|\n",
       "|https://www.slash...|       Kieran Fisher|the original  sno...|how the heck did ...|2025-04-26 15:00:00|             /film|the rachel zegler...|https://www.slash...|\n",
       "|https://tvline.co...|  Matt Webb Mitovich|the following con...|fire country s xl...|2025-04-26 05:19:51|            tvline|fire country shoc...|https://tvline.co...|\n",
       "|https://tvline.co...|  Matt Webb Mitovich|the following con...| ncis sydney  sho...|2025-04-26 03:00:00|            tvline|ncis  sydney boss...|https://tvline.co...|\n",
       "|https://www.wwno....|         Joseph King|the first weekend...|lil wayne will cl...|2025-04-26 00:30:00|          wwno.org|lil wayne s new o...|https://npr.brigh...|\n",
       "|http://deadline.c...|Anthony D'Alessandro|there are many qu...|george lucas the ...|2025-04-26 00:08:00|          deadline|george lucas on w...|https://deadline....|\n",
       "|https://variety.c...|        Anna Tingley|megyn kelly didn ...|at the time    ga...|2025-04-25 17:07:00|           variety|megyn kelly says ...|https://variety.c...|\n",
       "|https://www.tvins...|       Martin Holmes|the conners wrapp...|the show paid tri...|2025-04-25 15:50:27|         tvinsider|roseanne barr rea...|https://www.tvins...|\n",
       "|https://www.usato...|        Anna Kaufman|lulu roman  a gos...|lulu roman  a gos...|2025-04-25 15:15:12|         usa-today|lulu roman  gospe...|https://www.usato...|\n",
       "|https://movieweb....|        Anthony Lund|the first time au...|christian wolff i...|2025-04-25 02:35:00|          movieweb|ben affleck   jon...|https://static1.m...|\n",
       "|http://www.thecut...| Claire Comstock-Gay|theres lots of pi...|every weekday  th...|2025-04-24 11:00:35|           the-cut|your daily horosc...|https://pyxis.nym...|\n",
       "|http://www.vultur...|     Jackson McHenry|the television fa...|amy sherman palla...|2025-04-23 20:07:32|           vulture|i can t believe  ...|https://pyxis.nym...|\n",
       "|https://www.f4won...|       Bryan Alvarez|the bryan  amp  v...|the bryan   vinny...|2025-04-23 06:58:04|figure-four-online|b v  wrestlemania...|https://cdn.f4won...|\n",
       "|http://deadline.c...|         Peter White|the kardashians a...|disney reality ch...|2025-04-23 02:09:00|          deadline|the kardashians t...|https://deadline....|\n",
       "|http://deadline.c...|      Katie Campione|the golden bachel...|the golden bachel...|2025-04-23 01:42:00|          deadline| the golden bache...|https://deadline....|\n",
       "|https://pagesix.c...|       Tamantha Ryan|the shade is real...|the  color purple...|2025-04-22 18:56:00|          page-six|oprah winfrey sla...|https://pagesix.c...|\n",
       "+--------------------+--------------------+--------------------+--------------------+-------------------+------------------+--------------------+--------------------+\n",
       "only showing top 20 rows"
      ],
      "text/html": [
       "<table border='1'>\n",
       "<tr><th>url</th><th>author</th><th>Content</th><th>Description</th><th>publishedAt</th><th>source</th><th>Title</th><th>urlToImage</th></tr>\n",
       "<tr><td>http://deadline.c...</td><td>Natalie Oganesyan</td><td>the rock  amp  ro...</td><td>the rock   roll h...</td><td>2025-04-28 03:33:00</td><td>deadline</td><td>outkast  cyndi la...</td><td>https://deadline....</td></tr>\n",
       "<tr><td>http://www.vultur...</td><td>Sara Holdren</td><td>the new musical r...</td><td> real women have ...</td><td>2025-04-28 03:30:23</td><td>vulture</td><td>bright and bold i...</td><td>https://pyxis.nym...</td></tr>\n",
       "<tr><td>https://deadline....</td><td>Glenn Garner</td><td>the american film...</td><td>stars like elle f...</td><td>2025-04-27 04:20:01</td><td>deadline</td><td>afi life achievem...</td><td>https://deadline....</td></tr>\n",
       "<tr><td>https://www.yourt...</td><td>Kate Rose</td><td>the love horoscop...</td><td>sunday s new moon...</td><td>2025-04-27 03:03:23</td><td>yourtango</td><td>love horoscopes a...</td><td>https://www.yourt...</td></tr>\n",
       "<tr><td>https://www.count...</td><td>Anna Logan</td><td>did you know gigi...</td><td>from hollywood to...</td><td>2025-04-26 15:17:46</td><td>countryliving.com</td><td>   celebrities se...</td><td>https://hips.hear...</td></tr>\n",
       "<tr><td>https://www.slash...</td><td>Kieran Fisher</td><td>the original  sno...</td><td>how the heck did ...</td><td>2025-04-26 15:00:00</td><td>/film</td><td>the rachel zegler...</td><td>https://www.slash...</td></tr>\n",
       "<tr><td>https://tvline.co...</td><td>Matt Webb Mitovich</td><td>the following con...</td><td>fire country s xl...</td><td>2025-04-26 05:19:51</td><td>tvline</td><td>fire country shoc...</td><td>https://tvline.co...</td></tr>\n",
       "<tr><td>https://tvline.co...</td><td>Matt Webb Mitovich</td><td>the following con...</td><td> ncis sydney  sho...</td><td>2025-04-26 03:00:00</td><td>tvline</td><td>ncis  sydney boss...</td><td>https://tvline.co...</td></tr>\n",
       "<tr><td>https://www.wwno....</td><td>Joseph King</td><td>the first weekend...</td><td>lil wayne will cl...</td><td>2025-04-26 00:30:00</td><td>wwno.org</td><td>lil wayne s new o...</td><td>https://npr.brigh...</td></tr>\n",
       "<tr><td>http://deadline.c...</td><td>Anthony D'Alessandro</td><td>there are many qu...</td><td>george lucas the ...</td><td>2025-04-26 00:08:00</td><td>deadline</td><td>george lucas on w...</td><td>https://deadline....</td></tr>\n",
       "<tr><td>https://variety.c...</td><td>Anna Tingley</td><td>megyn kelly didn ...</td><td>at the time    ga...</td><td>2025-04-25 17:07:00</td><td>variety</td><td>megyn kelly says ...</td><td>https://variety.c...</td></tr>\n",
       "<tr><td>https://www.tvins...</td><td>Martin Holmes</td><td>the conners wrapp...</td><td>the show paid tri...</td><td>2025-04-25 15:50:27</td><td>tvinsider</td><td>roseanne barr rea...</td><td>https://www.tvins...</td></tr>\n",
       "<tr><td>https://www.usato...</td><td>Anna Kaufman</td><td>lulu roman  a gos...</td><td>lulu roman  a gos...</td><td>2025-04-25 15:15:12</td><td>usa-today</td><td>lulu roman  gospe...</td><td>https://www.usato...</td></tr>\n",
       "<tr><td>https://movieweb....</td><td>Anthony Lund</td><td>the first time au...</td><td>christian wolff i...</td><td>2025-04-25 02:35:00</td><td>movieweb</td><td>ben affleck   jon...</td><td>https://static1.m...</td></tr>\n",
       "<tr><td>http://www.thecut...</td><td>Claire Comstock-Gay</td><td>theres lots of pi...</td><td>every weekday  th...</td><td>2025-04-24 11:00:35</td><td>the-cut</td><td>your daily horosc...</td><td>https://pyxis.nym...</td></tr>\n",
       "<tr><td>http://www.vultur...</td><td>Jackson McHenry</td><td>the television fa...</td><td>amy sherman palla...</td><td>2025-04-23 20:07:32</td><td>vulture</td><td>i can t believe  ...</td><td>https://pyxis.nym...</td></tr>\n",
       "<tr><td>https://www.f4won...</td><td>Bryan Alvarez</td><td>the bryan  amp  v...</td><td>the bryan   vinny...</td><td>2025-04-23 06:58:04</td><td>figure-four-online</td><td>b v  wrestlemania...</td><td>https://cdn.f4won...</td></tr>\n",
       "<tr><td>http://deadline.c...</td><td>Peter White</td><td>the kardashians a...</td><td>disney reality ch...</td><td>2025-04-23 02:09:00</td><td>deadline</td><td>the kardashians t...</td><td>https://deadline....</td></tr>\n",
       "<tr><td>http://deadline.c...</td><td>Katie Campione</td><td>the golden bachel...</td><td>the golden bachel...</td><td>2025-04-23 01:42:00</td><td>deadline</td><td> the golden bache...</td><td>https://deadline....</td></tr>\n",
       "<tr><td>https://pagesix.c...</td><td>Tamantha Ryan</td><td>the shade is real...</td><td>the  color purple...</td><td>2025-04-22 18:56:00</td><td>page-six</td><td>oprah winfrey sla...</td><td>https://pagesix.c...</td></tr>\n",
       "</table>\n",
       "only showing top 20 rows\n"
      ]
     },
     "execution_count": 76,
     "metadata": {},
     "output_type": "execute_result"
    }
   ],
   "execution_count": 76
  },
  {
   "metadata": {
    "ExecuteTime": {
     "end_time": "2025-05-06T13:19:25.008079Z",
     "start_time": "2025-05-06T13:19:24.992340Z"
    }
   },
   "cell_type": "code",
   "source": [
    "import os\n",
    "absolute_path_to_trusted = '/Users/alfio/projects/upc/BDMP2/data/letstalk_trusted_zone_bdma'\n",
    "save_path = os.path.join(absolute_path_to_trusted, table_subpath)\n",
    "\n",
    "processor.df = processor.df.withColumn(\n",
    "    \"url\",\n",
    "    when(col('author') == \"Sara Holdren\", \"https:test.com\").otherwise(col(\"url\"))\n",
    ")"
   ],
   "id": "4dde318e39b78a0e",
   "outputs": [],
   "execution_count": 82
  },
  {
   "metadata": {
    "ExecuteTime": {
     "end_time": "2025-05-06T13:19:47.238218Z",
     "start_time": "2025-05-06T13:19:45.383262Z"
    }
   },
   "cell_type": "code",
   "source": "processor.merge_with_trusted(save_path, ['url'])",
   "id": "98b358605e78fc5c",
   "outputs": [
    {
     "name": "stderr",
     "output_type": "stream",
     "text": [
      "INFO:root:Saving unique records from overlapping ones\n",
      "INFO:root:Added new 1 unique records\n",
      "INFO:root:Appending non overlapping records\n",
      "INFO:root:Adding new 0 records\n"
     ]
    }
   ],
   "execution_count": 84
  }
 ],
 "metadata": {
  "kernelspec": {
   "display_name": "Python 3",
   "language": "python",
   "name": "python3"
  },
  "language_info": {
   "codemirror_mode": {
    "name": "ipython",
    "version": 2
   },
   "file_extension": ".py",
   "mimetype": "text/x-python",
   "name": "python",
   "nbconvert_exporter": "python",
   "pygments_lexer": "ipython2",
   "version": "2.7.6"
  }
 },
 "nbformat": 4,
 "nbformat_minor": 5
}
