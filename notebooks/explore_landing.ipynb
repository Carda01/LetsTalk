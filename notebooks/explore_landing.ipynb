{
 "cells": [
  {
   "cell_type": "code",
   "id": "initial_id",
   "metadata": {
    "collapsed": true,
    "ExecuteTime": {
     "end_time": "2025-05-18T11:38:04.281106Z",
     "start_time": "2025-05-18T11:38:04.259354Z"
    }
   },
   "source": [
    "from pyspark.sql.types import *\n",
    "%load_ext autoreload\n",
    "%autoreload 2\n",
    "\n",
    "import pyspark\n",
    "from delta import *\n",
    "from dags.lib.IncrementalLoader import IncrementalLoader\n",
    "from dags.lib.processing_utils import merge_elements\n",
    "from dags.lib.Processer import *\n",
    "from pyspark.sql.functions import col, lit, max as spark_max, length, row_number, explode, unix_timestamp, from_unixtime"
   ],
   "outputs": [
    {
     "name": "stdout",
     "output_type": "stream",
     "text": [
      "The autoreload extension is already loaded. To reload it, use:\n",
      "  %reload_ext autoreload\n"
     ]
    }
   ],
   "execution_count": 53
  },
  {
   "metadata": {
    "ExecuteTime": {
     "end_time": "2025-05-17T16:28:22.732604Z",
     "start_time": "2025-05-17T16:28:22.724640Z"
    }
   },
   "cell_type": "code",
   "source": [
    "def create_spark_session():\n",
    "    conf = (\n",
    "        pyspark.conf.SparkConf()\n",
    "        .setAppName(\"LetsTalk\")\n",
    "        .set(\n",
    "            \"spark.sql.catalog.spark_catalog\",\n",
    "            \"org.apache.spark.sql.delta.catalog.DeltaCatalog\",\n",
    "        )\n",
    "        .set(\"spark.sql.extensions\", \"io.delta.sql.DeltaSparkSessionExtension\")\n",
    "        .set(\"spark.hadoop.fs.gs.impl\", \"com.google.cloud.hadoop.fs.gcs.GoogleHadoopFileSystem\")\n",
    "        .set(\"spark.hadoop.google.cloud.auth.service.account.enable\", \"true\")\n",
    "        .set(\"spark.hadoop.google.cloud.auth.service.account.json.keyfile\", \"/Users/alfio/projects/upc/BDMP2/gcs.json\")\n",
    "        .set(\"spark.sql.shuffle.partitions\", \"4\")\n",
    "        .set(\"spark.jars\", \"../jars/gcs-connector-hadoop3-latest.jar\")\n",
    "        .setMaster(\n",
    "            \"local[*]\"\n",
    "        )\n",
    "    )\n",
    "\n",
    "    builder = pyspark.sql.SparkSession.builder.appName(\"LetsTalk\").config(conf=conf)\n",
    "    spark = configure_spark_with_delta_pip(builder).getOrCreate()\n",
    "    return spark\n",
    "\n"
   ],
   "id": "a0fed999dd78466a",
   "outputs": [],
   "execution_count": 4
  },
  {
   "metadata": {
    "ExecuteTime": {
     "end_time": "2025-05-17T16:28:27.222341Z",
     "start_time": "2025-05-17T16:28:25.469147Z"
    }
   },
   "cell_type": "code",
   "source": [
    "spark = create_spark_session()\n",
    "spark.conf.set('spark.sql.repl.eagerEval.enabled', True)"
   ],
   "id": "314d425a93c6dfe7",
   "outputs": [
    {
     "name": "stdout",
     "output_type": "stream",
     "text": [
      ":: loading settings :: url = jar:file:/Users/alfio/python_venv/general/lib/python3.13/site-packages/pyspark/jars/ivy-2.5.1.jar!/org/apache/ivy/core/settings/ivysettings.xml\n"
     ]
    },
    {
     "name": "stderr",
     "output_type": "stream",
     "text": [
      "Ivy Default Cache set to: /Users/alfio/.ivy2/cache\n",
      "The jars for the packages stored in: /Users/alfio/.ivy2/jars\n",
      "io.delta#delta-spark_2.12 added as a dependency\n",
      ":: resolving dependencies :: org.apache.spark#spark-submit-parent-2d9d07dc-2b0e-4a38-9d37-10ac9f21550a;1.0\n",
      "\tconfs: [default]\n",
      "\tfound io.delta#delta-spark_2.12;3.3.0 in central\n",
      "\tfound io.delta#delta-storage;3.3.0 in central\n",
      "\tfound org.antlr#antlr4-runtime;4.9.3 in central\n",
      ":: resolution report :: resolve 67ms :: artifacts dl 3ms\n",
      "\t:: modules in use:\n",
      "\tio.delta#delta-spark_2.12;3.3.0 from central in [default]\n",
      "\tio.delta#delta-storage;3.3.0 from central in [default]\n",
      "\torg.antlr#antlr4-runtime;4.9.3 from central in [default]\n",
      "\t---------------------------------------------------------------------\n",
      "\t|                  |            modules            ||   artifacts   |\n",
      "\t|       conf       | number| search|dwnlded|evicted|| number|dwnlded|\n",
      "\t---------------------------------------------------------------------\n",
      "\t|      default     |   3   |   0   |   0   |   0   ||   3   |   0   |\n",
      "\t---------------------------------------------------------------------\n",
      ":: retrieving :: org.apache.spark#spark-submit-parent-2d9d07dc-2b0e-4a38-9d37-10ac9f21550a\n",
      "\tconfs: [default]\n",
      "\t0 artifacts copied, 3 already retrieved (0kB/2ms)\n",
      "25/05/17 18:28:26 WARN NativeCodeLoader: Unable to load native-hadoop library for your platform... using builtin-java classes where applicable\n",
      "Setting default log level to \"WARN\".\n",
      "To adjust logging level use sc.setLogLevel(newLevel). For SparkR, use setLogLevel(newLevel).\n"
     ]
    }
   ],
   "execution_count": 5
  },
  {
   "metadata": {
    "ExecuteTime": {
     "end_time": "2025-05-07T09:54:28.010280Z",
     "start_time": "2025-05-07T09:54:26.583509Z"
    }
   },
   "cell_type": "code",
   "source": [
    "absolute_path_to_landing = '/Users/alfio/projects/upc/BDMP2/data/letstalk_landing_zone_bdma'\n",
    "table_subpath = 'delta_tmdb/upcoming'\n",
    "loader = IncrementalLoader(spark, absolute_path_to_landing, table_subpath)\n",
    "df = loader.get_new_data()\n",
    "df"
   ],
   "id": "7c38357c553368a",
   "outputs": [
    {
     "name": "stdout",
     "output_type": "stream",
     "text": [
      "CDF not available — doing full load\n"
     ]
    },
    {
     "data": {
      "text/plain": [
       "+-----+--------------------+--------------------+-------+-----------------+--------------------+--------------------+----------+--------------------+------------+--------------------+-----+------------+----------+--------------------+----------+----------+\n",
       "|adult|       backdrop_path|           genre_ids|     id|original_language|      original_title|            overview|popularity|         poster_path|release_date|               title|video|vote_average|vote_count|      ingestion_time|begin_date|  end_date|\n",
       "+-----+--------------------+--------------------+-------+-----------------+--------------------+--------------------+----------+--------------------+------------+--------------------+-----+------------+----------+--------------------+----------+----------+\n",
       "|false|/op3qmNhvwEvyT7UF...|        [14, 12, 28]| 324544|               en|   In the Lost Lands|A queen sends the...|  727.9871|/iHf6bXPghWB6gT8k...|  2025-02-27|   In the Lost Lands|false|       6.358|       180|2025-04-17 16:59:...|2025-04-23|2025-05-14|\n",
       "|false|/2Nti3gYAX513wvhp...| [10751, 35, 12, 14]| 950387|               en|   A Minecraft Movie|Four misfits find...|  673.4901|/yFHHfHcUgGAxziP1...|  2025-03-31|   A Minecraft Movie|false|         6.1|       555|2025-04-17 16:59:...|2025-04-23|2025-05-14|\n",
       "|false|/3lEV4CoKoeT2cZ4f...|          [27, 9648]|1244944|               en|The Woman in the ...|In the aftermath ...|  172.9102|/n0WS2TsNcS6dtaZK...|  2025-03-27|The Woman in the ...|false|        6.27|        37|2025-04-17 16:59:...|2025-04-23|2025-05-14|\n",
       "|false|/wmqpE7p2dUCEgCno...|[27, 14, 53, 9648...|1353117|               en|Home Sweet Home: ...|When a city is ov...|  172.3625|/9rCBCm9cyI4JfLEh...|  2025-03-20|Home Sweet Home: ...|false|       7.096|        26|2025-04-17 16:59:...|2025-04-23|2025-05-14|\n",
       "|false|/6J259Zuq09Bt2PLU...|        [28, 35, 53]|1212855|               en|     Fight or Flight|A mercenary takes...|   99.8608|/x4nWnfgJvL045rcU...|  2025-04-03|     Fight or Flight|false|         5.2|        38|2025-04-17 16:59:...|2025-04-23|2025-05-14|\n",
       "|false|/hwlyY7LJdEFbCPaG...|            [28, 53]|1126166|               en|         Flight Risk|A U.S. Marshal es...|  107.5155|/q0bCG4NX32iIEsRF...|  2025-01-22|         Flight Risk|false|       6.104|       629|2025-04-17 16:59:...|2025-04-23|2025-05-14|\n",
       "|false|/jl2YIADk391yc6Qj...|        [16, 18, 35]|1064486|               en|   Memoir of a Snail|Forcibly separate...|   74.2626|/57AgZv1ITeBLShiN...|  2024-10-17|   Memoir of a Snail|false|       7.948|       374|2025-04-17 16:59:...|2025-04-23|2025-05-14|\n",
       "|false|/xkjWiRQtrenqGRWO...|                [27]|1388366|               en|Popeye the Slayer...|A curious group o...|   70.4043|/nVwu3mN7hr1yF467...|  2025-03-21|Popeye the Slayer...|false|       5.953|        75|2025-04-17 16:59:...|2025-04-23|2025-05-14|\n",
       "|false|/bA4Io3xv46oEyP4O...|            [28, 80]| 995926|               ko|            베테랑 2|The veteran detec...|   55.4906|/gAtP0usArK5gVOBO...|  2024-09-13|  I, the Executioner|false|       6.955|        55|2025-04-17 16:59:...|2025-04-23|2025-05-14|\n",
       "|false|/9ctmJLf3uUngYkwH...|      [18, 9648, 53]|1233575|               en|           Black Bag|When intelligence...|   45.8759|/hHPovtU4b96LHcoe...|  2025-03-12|           Black Bag|false|         6.3|       351|2025-04-17 16:59:...|2025-04-23|2025-05-14|\n",
       "|false|/qSOMdbZ6AOdHR999...|        [28, 80, 53]|1249289|               en|              Alarum|Two married spies...|   40.3406|/v313aUGmMNj6yNve...|  2025-01-16|              Alarum|false|        5.79|       248|2025-04-17 16:59:...|2025-04-23|2025-05-14|\n",
       "|false|/aGgr2Q07AcyiWPGO...|     [28, 35, 10749]|1226406|               en|          Love Hurts|A realtor is pull...|   38.4858|/skPPVeHoTTVVSJlb...|  2025-02-06|          Love Hurts|false|         5.9|       157|2025-04-17 16:59:...|2025-04-23|2025-05-14|\n",
       "|false|/mvPFffXgQzWFG2fZ...|            [18, 36]|1380415|               en|     The Last Supper|In the days leadi...|   32.3655|/fulEdvN5u6mIpwig...|  2025-03-14|     The Last Supper|false|         7.2|        13|2025-04-17 16:59:...|2025-04-23|2025-05-14|\n",
       "|false|/2CcMG34v4PCynvxw...|          [9648, 53]|1249213|               en|                Drop|Violet, a widowed...|   36.1399|/oK4FFNfFHQRyGc2p...|  2025-04-10|                Drop|false|         7.2|        46|2025-04-17 16:59:...|2025-04-23|2025-05-14|\n",
       "|false|/ag66gJCiZ06q1GSJ...|            [27, 53]|1138194|               en|             Heretic|Two young mission...|   34.9499|/fr96XzlzsONrQrGf...|  2024-10-31|             Heretic|false|       7.064|      1535|2025-04-17 16:59:...|2025-04-23|2025-05-14|\n",
       "|false|/8btfz81bOJ2lC7cu...|        [16, 14, 12]| 980477|               zh|      哪吒之魔童闹海|Following the Tri...|   37.3073|/5lUmWTGkEcYnXuji...|  2025-01-29|            Ne Zha 2|false|         7.8|       153|2025-04-17 16:59:...|2025-04-23|2025-05-14|\n",
       "|false|/cJvUJEEQ86LSjl4g...|         [10752, 28]|1241436|               en|             Warfare|A platoon of Navy...|   35.2878|/oXsDTDt1MqxJreRO...|  2025-04-09|             Warfare|false|         7.4|        30|2025-04-17 16:59:...|2025-04-23|2025-05-14|\n",
       "|false|/3kzw6Rw7TBujqtch...|      [27, 9648, 53]|1202479|               en|                Opus|A young writer is...|   31.8582|/m0du9dsiOVeb0Sgf...|  2025-03-13|                Opus|false|         5.4|        63|2025-04-17 16:59:...|2025-04-23|2025-05-14|\n",
       "|false|/suaEOtk1N1sgg2MT...|            [53, 80]|    680|               en|        Pulp Fiction|A burger-loving h...|   28.0472|/vQWk5YBFWF4bZaof...|  1994-09-10|        Pulp Fiction|false|        8.49|     28563|2025-04-17 16:59:...|2025-04-23|2025-05-14|\n",
       "|false|/abSLxmkkXb3W2TXk...|        [28, 27, 53]| 970450|               en|          Werewolves|A year after a su...|   29.1191|/otXBlMPbFBRs6o2X...|  2024-12-04|          Werewolves|false|       6.182|       348|2025-04-17 16:59:...|2025-04-23|2025-05-14|\n",
       "+-----+--------------------+--------------------+-------+-----------------+--------------------+--------------------+----------+--------------------+------------+--------------------+-----+------------+----------+--------------------+----------+----------+\n",
       "only showing top 20 rows"
      ],
      "text/html": [
       "<table border='1'>\n",
       "<tr><th>adult</th><th>backdrop_path</th><th>genre_ids</th><th>id</th><th>original_language</th><th>original_title</th><th>overview</th><th>popularity</th><th>poster_path</th><th>release_date</th><th>title</th><th>video</th><th>vote_average</th><th>vote_count</th><th>ingestion_time</th><th>begin_date</th><th>end_date</th></tr>\n",
       "<tr><td>false</td><td>/op3qmNhvwEvyT7UF...</td><td>[14, 12, 28]</td><td>324544</td><td>en</td><td>In the Lost Lands</td><td>A queen sends the...</td><td>727.9871</td><td>/iHf6bXPghWB6gT8k...</td><td>2025-02-27</td><td>In the Lost Lands</td><td>false</td><td>6.358</td><td>180</td><td>2025-04-17 16:59:...</td><td>2025-04-23</td><td>2025-05-14</td></tr>\n",
       "<tr><td>false</td><td>/2Nti3gYAX513wvhp...</td><td>[10751, 35, 12, 14]</td><td>950387</td><td>en</td><td>A Minecraft Movie</td><td>Four misfits find...</td><td>673.4901</td><td>/yFHHfHcUgGAxziP1...</td><td>2025-03-31</td><td>A Minecraft Movie</td><td>false</td><td>6.1</td><td>555</td><td>2025-04-17 16:59:...</td><td>2025-04-23</td><td>2025-05-14</td></tr>\n",
       "<tr><td>false</td><td>/3lEV4CoKoeT2cZ4f...</td><td>[27, 9648]</td><td>1244944</td><td>en</td><td>The Woman in the ...</td><td>In the aftermath ...</td><td>172.9102</td><td>/n0WS2TsNcS6dtaZK...</td><td>2025-03-27</td><td>The Woman in the ...</td><td>false</td><td>6.27</td><td>37</td><td>2025-04-17 16:59:...</td><td>2025-04-23</td><td>2025-05-14</td></tr>\n",
       "<tr><td>false</td><td>/wmqpE7p2dUCEgCno...</td><td>[27, 14, 53, 9648...</td><td>1353117</td><td>en</td><td>Home Sweet Home: ...</td><td>When a city is ov...</td><td>172.3625</td><td>/9rCBCm9cyI4JfLEh...</td><td>2025-03-20</td><td>Home Sweet Home: ...</td><td>false</td><td>7.096</td><td>26</td><td>2025-04-17 16:59:...</td><td>2025-04-23</td><td>2025-05-14</td></tr>\n",
       "<tr><td>false</td><td>/6J259Zuq09Bt2PLU...</td><td>[28, 35, 53]</td><td>1212855</td><td>en</td><td>Fight or Flight</td><td>A mercenary takes...</td><td>99.8608</td><td>/x4nWnfgJvL045rcU...</td><td>2025-04-03</td><td>Fight or Flight</td><td>false</td><td>5.2</td><td>38</td><td>2025-04-17 16:59:...</td><td>2025-04-23</td><td>2025-05-14</td></tr>\n",
       "<tr><td>false</td><td>/hwlyY7LJdEFbCPaG...</td><td>[28, 53]</td><td>1126166</td><td>en</td><td>Flight Risk</td><td>A U.S. Marshal es...</td><td>107.5155</td><td>/q0bCG4NX32iIEsRF...</td><td>2025-01-22</td><td>Flight Risk</td><td>false</td><td>6.104</td><td>629</td><td>2025-04-17 16:59:...</td><td>2025-04-23</td><td>2025-05-14</td></tr>\n",
       "<tr><td>false</td><td>/jl2YIADk391yc6Qj...</td><td>[16, 18, 35]</td><td>1064486</td><td>en</td><td>Memoir of a Snail</td><td>Forcibly separate...</td><td>74.2626</td><td>/57AgZv1ITeBLShiN...</td><td>2024-10-17</td><td>Memoir of a Snail</td><td>false</td><td>7.948</td><td>374</td><td>2025-04-17 16:59:...</td><td>2025-04-23</td><td>2025-05-14</td></tr>\n",
       "<tr><td>false</td><td>/xkjWiRQtrenqGRWO...</td><td>[27]</td><td>1388366</td><td>en</td><td>Popeye the Slayer...</td><td>A curious group o...</td><td>70.4043</td><td>/nVwu3mN7hr1yF467...</td><td>2025-03-21</td><td>Popeye the Slayer...</td><td>false</td><td>5.953</td><td>75</td><td>2025-04-17 16:59:...</td><td>2025-04-23</td><td>2025-05-14</td></tr>\n",
       "<tr><td>false</td><td>/bA4Io3xv46oEyP4O...</td><td>[28, 80]</td><td>995926</td><td>ko</td><td>베테랑 2</td><td>The veteran detec...</td><td>55.4906</td><td>/gAtP0usArK5gVOBO...</td><td>2024-09-13</td><td>I, the Executioner</td><td>false</td><td>6.955</td><td>55</td><td>2025-04-17 16:59:...</td><td>2025-04-23</td><td>2025-05-14</td></tr>\n",
       "<tr><td>false</td><td>/9ctmJLf3uUngYkwH...</td><td>[18, 9648, 53]</td><td>1233575</td><td>en</td><td>Black Bag</td><td>When intelligence...</td><td>45.8759</td><td>/hHPovtU4b96LHcoe...</td><td>2025-03-12</td><td>Black Bag</td><td>false</td><td>6.3</td><td>351</td><td>2025-04-17 16:59:...</td><td>2025-04-23</td><td>2025-05-14</td></tr>\n",
       "<tr><td>false</td><td>/qSOMdbZ6AOdHR999...</td><td>[28, 80, 53]</td><td>1249289</td><td>en</td><td>Alarum</td><td>Two married spies...</td><td>40.3406</td><td>/v313aUGmMNj6yNve...</td><td>2025-01-16</td><td>Alarum</td><td>false</td><td>5.79</td><td>248</td><td>2025-04-17 16:59:...</td><td>2025-04-23</td><td>2025-05-14</td></tr>\n",
       "<tr><td>false</td><td>/aGgr2Q07AcyiWPGO...</td><td>[28, 35, 10749]</td><td>1226406</td><td>en</td><td>Love Hurts</td><td>A realtor is pull...</td><td>38.4858</td><td>/skPPVeHoTTVVSJlb...</td><td>2025-02-06</td><td>Love Hurts</td><td>false</td><td>5.9</td><td>157</td><td>2025-04-17 16:59:...</td><td>2025-04-23</td><td>2025-05-14</td></tr>\n",
       "<tr><td>false</td><td>/mvPFffXgQzWFG2fZ...</td><td>[18, 36]</td><td>1380415</td><td>en</td><td>The Last Supper</td><td>In the days leadi...</td><td>32.3655</td><td>/fulEdvN5u6mIpwig...</td><td>2025-03-14</td><td>The Last Supper</td><td>false</td><td>7.2</td><td>13</td><td>2025-04-17 16:59:...</td><td>2025-04-23</td><td>2025-05-14</td></tr>\n",
       "<tr><td>false</td><td>/2CcMG34v4PCynvxw...</td><td>[9648, 53]</td><td>1249213</td><td>en</td><td>Drop</td><td>Violet, a widowed...</td><td>36.1399</td><td>/oK4FFNfFHQRyGc2p...</td><td>2025-04-10</td><td>Drop</td><td>false</td><td>7.2</td><td>46</td><td>2025-04-17 16:59:...</td><td>2025-04-23</td><td>2025-05-14</td></tr>\n",
       "<tr><td>false</td><td>/ag66gJCiZ06q1GSJ...</td><td>[27, 53]</td><td>1138194</td><td>en</td><td>Heretic</td><td>Two young mission...</td><td>34.9499</td><td>/fr96XzlzsONrQrGf...</td><td>2024-10-31</td><td>Heretic</td><td>false</td><td>7.064</td><td>1535</td><td>2025-04-17 16:59:...</td><td>2025-04-23</td><td>2025-05-14</td></tr>\n",
       "<tr><td>false</td><td>/8btfz81bOJ2lC7cu...</td><td>[16, 14, 12]</td><td>980477</td><td>zh</td><td>哪吒之魔童闹海</td><td>Following the Tri...</td><td>37.3073</td><td>/5lUmWTGkEcYnXuji...</td><td>2025-01-29</td><td>Ne Zha 2</td><td>false</td><td>7.8</td><td>153</td><td>2025-04-17 16:59:...</td><td>2025-04-23</td><td>2025-05-14</td></tr>\n",
       "<tr><td>false</td><td>/cJvUJEEQ86LSjl4g...</td><td>[10752, 28]</td><td>1241436</td><td>en</td><td>Warfare</td><td>A platoon of Navy...</td><td>35.2878</td><td>/oXsDTDt1MqxJreRO...</td><td>2025-04-09</td><td>Warfare</td><td>false</td><td>7.4</td><td>30</td><td>2025-04-17 16:59:...</td><td>2025-04-23</td><td>2025-05-14</td></tr>\n",
       "<tr><td>false</td><td>/3kzw6Rw7TBujqtch...</td><td>[27, 9648, 53]</td><td>1202479</td><td>en</td><td>Opus</td><td>A young writer is...</td><td>31.8582</td><td>/m0du9dsiOVeb0Sgf...</td><td>2025-03-13</td><td>Opus</td><td>false</td><td>5.4</td><td>63</td><td>2025-04-17 16:59:...</td><td>2025-04-23</td><td>2025-05-14</td></tr>\n",
       "<tr><td>false</td><td>/suaEOtk1N1sgg2MT...</td><td>[53, 80]</td><td>680</td><td>en</td><td>Pulp Fiction</td><td>A burger-loving h...</td><td>28.0472</td><td>/vQWk5YBFWF4bZaof...</td><td>1994-09-10</td><td>Pulp Fiction</td><td>false</td><td>8.49</td><td>28563</td><td>2025-04-17 16:59:...</td><td>2025-04-23</td><td>2025-05-14</td></tr>\n",
       "<tr><td>false</td><td>/abSLxmkkXb3W2TXk...</td><td>[28, 27, 53]</td><td>970450</td><td>en</td><td>Werewolves</td><td>A year after a su...</td><td>29.1191</td><td>/otXBlMPbFBRs6o2X...</td><td>2024-12-04</td><td>Werewolves</td><td>false</td><td>6.182</td><td>348</td><td>2025-04-17 16:59:...</td><td>2025-04-23</td><td>2025-05-14</td></tr>\n",
       "</table>\n",
       "only showing top 20 rows\n"
      ]
     },
     "execution_count": 8,
     "metadata": {},
     "output_type": "execute_result"
    }
   ],
   "execution_count": 8
  },
  {
   "metadata": {
    "ExecuteTime": {
     "end_time": "2025-05-07T08:36:38.690305Z",
     "start_time": "2025-05-07T08:36:38.684644Z"
    }
   },
   "cell_type": "code",
   "source": "processor = NewsProcessor(spark, df)",
   "id": "eff4df97460bd4d8",
   "outputs": [],
   "execution_count": 5
  },
  {
   "metadata": {
    "ExecuteTime": {
     "end_time": "2025-05-07T08:36:41.490275Z",
     "start_time": "2025-05-07T08:36:40.757071Z"
    }
   },
   "cell_type": "code",
   "source": [
    "processor.ensure_schema()\n",
    "processor.remove_clear_duplicates()\n",
    "processor.name_to_id()\n",
    "processor.remove_hidden_duplicates(['url'], ['publishedAt'])\n",
    "processor.normalize_text(['title', 'description', 'content'])\n",
    "processor.expand_source()\n",
    "processor.order_by('publishedAt', ascending=False)"
   ],
   "id": "8aa9bbdbf1e22dcd",
   "outputs": [
    {
     "name": "stderr",
     "output_type": "stream",
     "text": [
      "25/05/07 10:36:40 WARN DeltaHistoryManager: Found Delta commit 0 with a timestamp 1745921639145 which is greater than the next commit timestamp 1745921639145.\n",
      "25/05/07 10:36:40 WARN DeltaHistoryManager: Found Delta commit 2 with a timestamp 1745921639501 which is greater than the next commit timestamp 1745921639239.\n",
      "25/05/07 10:36:40 WARN DeltaHistoryManager: Found Delta commit 3 with a timestamp 1745921639502 which is greater than the next commit timestamp 1745921639185.\n",
      "25/05/07 10:36:40 WARN DeltaHistoryManager: Found Delta commit 5 with a timestamp 1745921639603 which is greater than the next commit timestamp 1745921639436.\n",
      "25/05/07 10:36:40 WARN DeltaHistoryManager: Found Delta commit 6 with a timestamp 1745921639604 which is greater than the next commit timestamp 1745921639330.\n",
      "25/05/07 10:36:40 WARN DeltaHistoryManager: Found Delta commit 7 with a timestamp 1745921639605 which is greater than the next commit timestamp 1745921639185.\n",
      "25/05/07 10:36:40 WARN DeltaHistoryManager: Found Delta commit 8 with a timestamp 1745921639606 which is greater than the next commit timestamp 1745921639294.\n",
      "25/05/07 10:36:40 WARN DeltaHistoryManager: Found Delta commit 9 with a timestamp 1745921639607 which is greater than the next commit timestamp 1745921639089.\n",
      "25/05/07 10:36:40 WARN DeltaHistoryManager: Found Delta commit 10 with a timestamp 1745921639608 which is greater than the next commit timestamp 1745921639185.\n",
      "25/05/07 10:36:40 WARN DeltaHistoryManager: Found Delta commit 11 with a timestamp 1745921639609 which is greater than the next commit timestamp 1745921639087.\n",
      "25/05/07 10:36:40 WARN DeltaHistoryManager: Found Delta commit 0 with a timestamp 1745921639145 which is greater than the next commit timestamp 1745921639145.\n",
      "25/05/07 10:36:40 WARN DeltaHistoryManager: Found Delta commit 2 with a timestamp 1745921639501 which is greater than the next commit timestamp 1745921639239.\n",
      "25/05/07 10:36:40 WARN DeltaHistoryManager: Found Delta commit 3 with a timestamp 1745921639502 which is greater than the next commit timestamp 1745921639185.\n",
      "25/05/07 10:36:40 WARN DeltaHistoryManager: Found Delta commit 5 with a timestamp 1745921639603 which is greater than the next commit timestamp 1745921639436.\n",
      "25/05/07 10:36:40 WARN DeltaHistoryManager: Found Delta commit 6 with a timestamp 1745921639604 which is greater than the next commit timestamp 1745921639330.\n",
      "25/05/07 10:36:40 WARN DeltaHistoryManager: Found Delta commit 7 with a timestamp 1745921639605 which is greater than the next commit timestamp 1745921639185.\n",
      "25/05/07 10:36:40 WARN DeltaHistoryManager: Found Delta commit 8 with a timestamp 1745921639606 which is greater than the next commit timestamp 1745921639294.\n",
      "25/05/07 10:36:40 WARN DeltaHistoryManager: Found Delta commit 9 with a timestamp 1745921639607 which is greater than the next commit timestamp 1745921639089.\n",
      "25/05/07 10:36:40 WARN DeltaHistoryManager: Found Delta commit 10 with a timestamp 1745921639608 which is greater than the next commit timestamp 1745921639185.\n",
      "25/05/07 10:36:40 WARN DeltaHistoryManager: Found Delta commit 11 with a timestamp 1745921639609 which is greater than the next commit timestamp 1745921639087.\n",
      "INFO:root:Removed 2 simple duplicate(s)\n",
      "25/05/07 10:36:41 WARN DeltaHistoryManager: Found Delta commit 0 with a timestamp 1745921639145 which is greater than the next commit timestamp 1745921639145.\n",
      "25/05/07 10:36:41 WARN DeltaHistoryManager: Found Delta commit 2 with a timestamp 1745921639501 which is greater than the next commit timestamp 1745921639239.\n",
      "25/05/07 10:36:41 WARN DeltaHistoryManager: Found Delta commit 3 with a timestamp 1745921639502 which is greater than the next commit timestamp 1745921639185.\n",
      "25/05/07 10:36:41 WARN DeltaHistoryManager: Found Delta commit 5 with a timestamp 1745921639603 which is greater than the next commit timestamp 1745921639436.\n",
      "25/05/07 10:36:41 WARN DeltaHistoryManager: Found Delta commit 6 with a timestamp 1745921639604 which is greater than the next commit timestamp 1745921639330.\n",
      "25/05/07 10:36:41 WARN DeltaHistoryManager: Found Delta commit 7 with a timestamp 1745921639605 which is greater than the next commit timestamp 1745921639185.\n",
      "25/05/07 10:36:41 WARN DeltaHistoryManager: Found Delta commit 8 with a timestamp 1745921639606 which is greater than the next commit timestamp 1745921639294.\n",
      "25/05/07 10:36:41 WARN DeltaHistoryManager: Found Delta commit 9 with a timestamp 1745921639607 which is greater than the next commit timestamp 1745921639089.\n",
      "25/05/07 10:36:41 WARN DeltaHistoryManager: Found Delta commit 10 with a timestamp 1745921639608 which is greater than the next commit timestamp 1745921639185.\n",
      "25/05/07 10:36:41 WARN DeltaHistoryManager: Found Delta commit 11 with a timestamp 1745921639609 which is greater than the next commit timestamp 1745921639087.\n",
      "25/05/07 10:36:41 WARN DeltaHistoryManager: Found Delta commit 0 with a timestamp 1745921639145 which is greater than the next commit timestamp 1745921639145.\n",
      "25/05/07 10:36:41 WARN DeltaHistoryManager: Found Delta commit 2 with a timestamp 1745921639501 which is greater than the next commit timestamp 1745921639239.\n",
      "25/05/07 10:36:41 WARN DeltaHistoryManager: Found Delta commit 3 with a timestamp 1745921639502 which is greater than the next commit timestamp 1745921639185.\n",
      "25/05/07 10:36:41 WARN DeltaHistoryManager: Found Delta commit 5 with a timestamp 1745921639603 which is greater than the next commit timestamp 1745921639436.\n",
      "25/05/07 10:36:41 WARN DeltaHistoryManager: Found Delta commit 6 with a timestamp 1745921639604 which is greater than the next commit timestamp 1745921639330.\n",
      "25/05/07 10:36:41 WARN DeltaHistoryManager: Found Delta commit 7 with a timestamp 1745921639605 which is greater than the next commit timestamp 1745921639185.\n",
      "25/05/07 10:36:41 WARN DeltaHistoryManager: Found Delta commit 8 with a timestamp 1745921639606 which is greater than the next commit timestamp 1745921639294.\n",
      "25/05/07 10:36:41 WARN DeltaHistoryManager: Found Delta commit 9 with a timestamp 1745921639607 which is greater than the next commit timestamp 1745921639089.\n",
      "25/05/07 10:36:41 WARN DeltaHistoryManager: Found Delta commit 10 with a timestamp 1745921639608 which is greater than the next commit timestamp 1745921639185.\n",
      "25/05/07 10:36:41 WARN DeltaHistoryManager: Found Delta commit 11 with a timestamp 1745921639609 which is greater than the next commit timestamp 1745921639087.\n",
      "INFO:root:Removed 0 hidden duplicate(s)\n"
     ]
    }
   ],
   "execution_count": 6
  },
  {
   "metadata": {
    "ExecuteTime": {
     "end_time": "2025-05-07T08:36:43.767049Z",
     "start_time": "2025-05-07T08:36:43.435637Z"
    }
   },
   "cell_type": "code",
   "source": "processor.df",
   "id": "9b9bf15ea09834a2",
   "outputs": [
    {
     "name": "stderr",
     "output_type": "stream",
     "text": [
      "25/05/07 10:36:43 WARN DeltaHistoryManager: Found Delta commit 0 with a timestamp 1745921639145 which is greater than the next commit timestamp 1745921639145.\n",
      "25/05/07 10:36:43 WARN DeltaHistoryManager: Found Delta commit 2 with a timestamp 1745921639501 which is greater than the next commit timestamp 1745921639239.\n",
      "25/05/07 10:36:43 WARN DeltaHistoryManager: Found Delta commit 3 with a timestamp 1745921639502 which is greater than the next commit timestamp 1745921639185.\n",
      "25/05/07 10:36:43 WARN DeltaHistoryManager: Found Delta commit 5 with a timestamp 1745921639603 which is greater than the next commit timestamp 1745921639436.\n",
      "25/05/07 10:36:43 WARN DeltaHistoryManager: Found Delta commit 6 with a timestamp 1745921639604 which is greater than the next commit timestamp 1745921639330.\n",
      "25/05/07 10:36:43 WARN DeltaHistoryManager: Found Delta commit 7 with a timestamp 1745921639605 which is greater than the next commit timestamp 1745921639185.\n",
      "25/05/07 10:36:43 WARN DeltaHistoryManager: Found Delta commit 8 with a timestamp 1745921639606 which is greater than the next commit timestamp 1745921639294.\n",
      "25/05/07 10:36:43 WARN DeltaHistoryManager: Found Delta commit 9 with a timestamp 1745921639607 which is greater than the next commit timestamp 1745921639089.\n",
      "25/05/07 10:36:43 WARN DeltaHistoryManager: Found Delta commit 10 with a timestamp 1745921639608 which is greater than the next commit timestamp 1745921639185.\n",
      "25/05/07 10:36:43 WARN DeltaHistoryManager: Found Delta commit 11 with a timestamp 1745921639609 which is greater than the next commit timestamp 1745921639087.\n",
      "25/05/07 10:36:43 WARN DeltaHistoryManager: Found Delta commit 0 with a timestamp 1745921639145 which is greater than the next commit timestamp 1745921639145.\n",
      "25/05/07 10:36:43 WARN DeltaHistoryManager: Found Delta commit 2 with a timestamp 1745921639501 which is greater than the next commit timestamp 1745921639239.\n",
      "25/05/07 10:36:43 WARN DeltaHistoryManager: Found Delta commit 3 with a timestamp 1745921639502 which is greater than the next commit timestamp 1745921639185.\n",
      "25/05/07 10:36:43 WARN DeltaHistoryManager: Found Delta commit 5 with a timestamp 1745921639603 which is greater than the next commit timestamp 1745921639436.\n",
      "25/05/07 10:36:43 WARN DeltaHistoryManager: Found Delta commit 6 with a timestamp 1745921639604 which is greater than the next commit timestamp 1745921639330.\n",
      "25/05/07 10:36:43 WARN DeltaHistoryManager: Found Delta commit 7 with a timestamp 1745921639605 which is greater than the next commit timestamp 1745921639185.\n",
      "25/05/07 10:36:43 WARN DeltaHistoryManager: Found Delta commit 8 with a timestamp 1745921639606 which is greater than the next commit timestamp 1745921639294.\n",
      "25/05/07 10:36:43 WARN DeltaHistoryManager: Found Delta commit 9 with a timestamp 1745921639607 which is greater than the next commit timestamp 1745921639089.\n",
      "25/05/07 10:36:43 WARN DeltaHistoryManager: Found Delta commit 10 with a timestamp 1745921639608 which is greater than the next commit timestamp 1745921639185.\n",
      "25/05/07 10:36:43 WARN DeltaHistoryManager: Found Delta commit 11 with a timestamp 1745921639609 which is greater than the next commit timestamp 1745921639087.\n"
     ]
    },
    {
     "data": {
      "text/plain": [
       "+--------------------+--------------------+--------------------+--------------------+-------------------+------------------+--------------------+--------------------+\n",
       "|                 url|              author|             content|         description|        publishedAt|            source|               title|          urlToImage|\n",
       "+--------------------+--------------------+--------------------+--------------------+-------------------+------------------+--------------------+--------------------+\n",
       "|http://deadline.c...|   Natalie Oganesyan|the rock  amp  ro...|the rock   roll h...|2025-04-28 03:33:00|          deadline|outkast  cyndi la...|https://deadline....|\n",
       "|http://www.vultur...|        Sara Holdren|the new musical r...| real women have ...|2025-04-28 03:30:23|           vulture|bright and bold i...|https://pyxis.nym...|\n",
       "|https://deadline....|        Glenn Garner|the american film...|stars like elle f...|2025-04-27 04:20:01|          deadline|afi life achievem...|https://deadline....|\n",
       "|https://www.yourt...|           Kate Rose|the love horoscop...|sunday s new moon...|2025-04-27 03:03:23|         yourtango|love horoscopes a...|https://www.yourt...|\n",
       "|https://www.count...|          Anna Logan|did you know gigi...|from hollywood to...|2025-04-26 15:17:46| countryliving.com|   celebrities se...|https://hips.hear...|\n",
       "|https://www.slash...|       Kieran Fisher|the original  sno...|how the heck did ...|2025-04-26 15:00:00|             /film|the rachel zegler...|https://www.slash...|\n",
       "|https://tvline.co...|  Matt Webb Mitovich|the following con...|fire country s xl...|2025-04-26 05:19:51|            tvline|fire country shoc...|https://tvline.co...|\n",
       "|https://tvline.co...|  Matt Webb Mitovich|the following con...| ncis sydney  sho...|2025-04-26 03:00:00|            tvline|ncis  sydney boss...|https://tvline.co...|\n",
       "|https://www.wwno....|         Joseph King|the first weekend...|lil wayne will cl...|2025-04-26 00:30:00|          wwno.org|lil wayne s new o...|https://npr.brigh...|\n",
       "|http://deadline.c...|Anthony D'Alessandro|there are many qu...|george lucas the ...|2025-04-26 00:08:00|          deadline|george lucas on w...|https://deadline....|\n",
       "|https://variety.c...|        Anna Tingley|megyn kelly didn ...|at the time    ga...|2025-04-25 17:07:00|           variety|megyn kelly says ...|https://variety.c...|\n",
       "|https://www.tvins...|       Martin Holmes|the conners wrapp...|the show paid tri...|2025-04-25 15:50:27|         tvinsider|roseanne barr rea...|https://www.tvins...|\n",
       "|https://www.usato...|        Anna Kaufman|lulu roman  a gos...|lulu roman  a gos...|2025-04-25 15:15:12|         usa-today|lulu roman  gospe...|https://www.usato...|\n",
       "|https://movieweb....|        Anthony Lund|the first time au...|christian wolff i...|2025-04-25 02:35:00|          movieweb|ben affleck   jon...|https://static1.m...|\n",
       "|http://www.thecut...| Claire Comstock-Gay|theres lots of pi...|every weekday  th...|2025-04-24 11:00:35|           the-cut|your daily horosc...|https://pyxis.nym...|\n",
       "|http://www.vultur...|     Jackson McHenry|the television fa...|amy sherman palla...|2025-04-23 20:07:32|           vulture|i can t believe  ...|https://pyxis.nym...|\n",
       "|https://www.f4won...|       Bryan Alvarez|the bryan  amp  v...|the bryan   vinny...|2025-04-23 06:58:04|figure-four-online|b v  wrestlemania...|https://cdn.f4won...|\n",
       "|http://deadline.c...|         Peter White|the kardashians a...|disney reality ch...|2025-04-23 02:09:00|          deadline|the kardashians t...|https://deadline....|\n",
       "|http://deadline.c...|      Katie Campione|the golden bachel...|the golden bachel...|2025-04-23 01:42:00|          deadline| the golden bache...|https://deadline....|\n",
       "|https://pagesix.c...|       Tamantha Ryan|the shade is real...|the  color purple...|2025-04-22 18:56:00|          page-six|oprah winfrey sla...|https://pagesix.c...|\n",
       "+--------------------+--------------------+--------------------+--------------------+-------------------+------------------+--------------------+--------------------+\n",
       "only showing top 20 rows"
      ],
      "text/html": [
       "<table border='1'>\n",
       "<tr><th>url</th><th>author</th><th>content</th><th>description</th><th>publishedAt</th><th>source</th><th>title</th><th>urlToImage</th></tr>\n",
       "<tr><td>http://deadline.c...</td><td>Natalie Oganesyan</td><td>the rock  amp  ro...</td><td>the rock   roll h...</td><td>2025-04-28 03:33:00</td><td>deadline</td><td>outkast  cyndi la...</td><td>https://deadline....</td></tr>\n",
       "<tr><td>http://www.vultur...</td><td>Sara Holdren</td><td>the new musical r...</td><td> real women have ...</td><td>2025-04-28 03:30:23</td><td>vulture</td><td>bright and bold i...</td><td>https://pyxis.nym...</td></tr>\n",
       "<tr><td>https://deadline....</td><td>Glenn Garner</td><td>the american film...</td><td>stars like elle f...</td><td>2025-04-27 04:20:01</td><td>deadline</td><td>afi life achievem...</td><td>https://deadline....</td></tr>\n",
       "<tr><td>https://www.yourt...</td><td>Kate Rose</td><td>the love horoscop...</td><td>sunday s new moon...</td><td>2025-04-27 03:03:23</td><td>yourtango</td><td>love horoscopes a...</td><td>https://www.yourt...</td></tr>\n",
       "<tr><td>https://www.count...</td><td>Anna Logan</td><td>did you know gigi...</td><td>from hollywood to...</td><td>2025-04-26 15:17:46</td><td>countryliving.com</td><td>   celebrities se...</td><td>https://hips.hear...</td></tr>\n",
       "<tr><td>https://www.slash...</td><td>Kieran Fisher</td><td>the original  sno...</td><td>how the heck did ...</td><td>2025-04-26 15:00:00</td><td>/film</td><td>the rachel zegler...</td><td>https://www.slash...</td></tr>\n",
       "<tr><td>https://tvline.co...</td><td>Matt Webb Mitovich</td><td>the following con...</td><td>fire country s xl...</td><td>2025-04-26 05:19:51</td><td>tvline</td><td>fire country shoc...</td><td>https://tvline.co...</td></tr>\n",
       "<tr><td>https://tvline.co...</td><td>Matt Webb Mitovich</td><td>the following con...</td><td> ncis sydney  sho...</td><td>2025-04-26 03:00:00</td><td>tvline</td><td>ncis  sydney boss...</td><td>https://tvline.co...</td></tr>\n",
       "<tr><td>https://www.wwno....</td><td>Joseph King</td><td>the first weekend...</td><td>lil wayne will cl...</td><td>2025-04-26 00:30:00</td><td>wwno.org</td><td>lil wayne s new o...</td><td>https://npr.brigh...</td></tr>\n",
       "<tr><td>http://deadline.c...</td><td>Anthony D'Alessandro</td><td>there are many qu...</td><td>george lucas the ...</td><td>2025-04-26 00:08:00</td><td>deadline</td><td>george lucas on w...</td><td>https://deadline....</td></tr>\n",
       "<tr><td>https://variety.c...</td><td>Anna Tingley</td><td>megyn kelly didn ...</td><td>at the time    ga...</td><td>2025-04-25 17:07:00</td><td>variety</td><td>megyn kelly says ...</td><td>https://variety.c...</td></tr>\n",
       "<tr><td>https://www.tvins...</td><td>Martin Holmes</td><td>the conners wrapp...</td><td>the show paid tri...</td><td>2025-04-25 15:50:27</td><td>tvinsider</td><td>roseanne barr rea...</td><td>https://www.tvins...</td></tr>\n",
       "<tr><td>https://www.usato...</td><td>Anna Kaufman</td><td>lulu roman  a gos...</td><td>lulu roman  a gos...</td><td>2025-04-25 15:15:12</td><td>usa-today</td><td>lulu roman  gospe...</td><td>https://www.usato...</td></tr>\n",
       "<tr><td>https://movieweb....</td><td>Anthony Lund</td><td>the first time au...</td><td>christian wolff i...</td><td>2025-04-25 02:35:00</td><td>movieweb</td><td>ben affleck   jon...</td><td>https://static1.m...</td></tr>\n",
       "<tr><td>http://www.thecut...</td><td>Claire Comstock-Gay</td><td>theres lots of pi...</td><td>every weekday  th...</td><td>2025-04-24 11:00:35</td><td>the-cut</td><td>your daily horosc...</td><td>https://pyxis.nym...</td></tr>\n",
       "<tr><td>http://www.vultur...</td><td>Jackson McHenry</td><td>the television fa...</td><td>amy sherman palla...</td><td>2025-04-23 20:07:32</td><td>vulture</td><td>i can t believe  ...</td><td>https://pyxis.nym...</td></tr>\n",
       "<tr><td>https://www.f4won...</td><td>Bryan Alvarez</td><td>the bryan  amp  v...</td><td>the bryan   vinny...</td><td>2025-04-23 06:58:04</td><td>figure-four-online</td><td>b v  wrestlemania...</td><td>https://cdn.f4won...</td></tr>\n",
       "<tr><td>http://deadline.c...</td><td>Peter White</td><td>the kardashians a...</td><td>disney reality ch...</td><td>2025-04-23 02:09:00</td><td>deadline</td><td>the kardashians t...</td><td>https://deadline....</td></tr>\n",
       "<tr><td>http://deadline.c...</td><td>Katie Campione</td><td>the golden bachel...</td><td>the golden bachel...</td><td>2025-04-23 01:42:00</td><td>deadline</td><td> the golden bache...</td><td>https://deadline....</td></tr>\n",
       "<tr><td>https://pagesix.c...</td><td>Tamantha Ryan</td><td>the shade is real...</td><td>the  color purple...</td><td>2025-04-22 18:56:00</td><td>page-six</td><td>oprah winfrey sla...</td><td>https://pagesix.c...</td></tr>\n",
       "</table>\n",
       "only showing top 20 rows\n"
      ]
     },
     "execution_count": 7,
     "metadata": {},
     "output_type": "execute_result"
    }
   ],
   "execution_count": 7
  },
  {
   "metadata": {
    "ExecuteTime": {
     "end_time": "2025-05-06T13:19:25.008079Z",
     "start_time": "2025-05-06T13:19:24.992340Z"
    }
   },
   "cell_type": "code",
   "outputs": [],
   "execution_count": 82,
   "source": [
    "import os\n",
    "absolute_path_to_trusted = '/Users/alfio/projects/upc/BDMP2/data/letstalk_trusted_zone_bdma'\n",
    "save_path = os.path.join(absolute_path_to_trusted, table_subpath)\n",
    "\n",
    "processor.df = processor.df.withColumn(\n",
    "    \"url\",\n",
    "    when(col('author') == \"Sara Holdren\", \"https:test.com\").otherwise(col(\"url\"))\n",
    ")"
   ],
   "id": "4dde318e39b78a0e"
  },
  {
   "metadata": {
    "ExecuteTime": {
     "end_time": "2025-05-06T13:19:47.238218Z",
     "start_time": "2025-05-06T13:19:45.383262Z"
    }
   },
   "cell_type": "code",
   "outputs": [
    {
     "name": "stderr",
     "output_type": "stream",
     "text": [
      "INFO:root:Saving unique records from overlapping ones\n",
      "INFO:root:Added new 1 unique records\n",
      "INFO:root:Appending non overlapping records\n",
      "INFO:root:Adding new 0 records\n"
     ]
    }
   ],
   "execution_count": 84,
   "source": "processor.merge_with_trusted(save_path, ['url'])",
   "id": "98b358605e78fc5c"
  },
  {
   "metadata": {
    "ExecuteTime": {
     "end_time": "2025-05-17T15:51:05.438356Z",
     "start_time": "2025-05-17T15:50:59.309503Z"
    }
   },
   "cell_type": "code",
   "source": [
    "absolute_path_to_landing = '/Users/alfio/projects/upc/BDMP2/data/letstalk_landing_zone_bdma'\n",
    "table_subpath = 'delta_sports/leagues'\n",
    "loader = IncrementalLoader(spark, absolute_path_to_landing, table_subpath)\n",
    "df = loader.get_new_data()\n",
    "df.head(5)"
   ],
   "id": "48958801fe4d1ecd",
   "outputs": [
    {
     "name": "stderr",
     "output_type": "stream",
     "text": [
      "25/05/17 17:51:01 WARN SparkStringUtils: Truncated the string representation of a plan since it was too large. This behavior can be adjusted by setting 'spark.sql.debug.maxToStringFields'.\n",
      "25/05/17 17:51:05 WARN DeltaHistoryManager: Found Delta commit 1 with a timestamp 1745921641125 which is greater than the next commit timestamp 1745921641094.\n",
      "25/05/17 17:51:05 WARN DeltaHistoryManager: Found Delta commit 2 with a timestamp 1745921641126 which is greater than the next commit timestamp 1745921641094.\n",
      "25/05/17 17:51:05 WARN DeltaHistoryManager: Found Delta commit 3 with a timestamp 1745921641127 which is greater than the next commit timestamp 1745921641094.\n",
      "25/05/17 17:51:05 WARN DeltaHistoryManager: Found Delta commit 4 with a timestamp 1745921641128 which is greater than the next commit timestamp 1745921641064.\n",
      "25/05/17 17:51:05 WARN DeltaHistoryManager: Found Delta commit 6 with a timestamp 1745921641244 which is greater than the next commit timestamp 1745921641214.\n",
      "25/05/17 17:51:05 WARN DeltaHistoryManager: Found Delta commit 7 with a timestamp 1745921641245 which is greater than the next commit timestamp 1745921641184.\n",
      "25/05/17 17:51:05 WARN DeltaHistoryManager: Found Delta commit 9 with a timestamp 1745921641274 which is greater than the next commit timestamp 1745921641181.\n",
      "25/05/17 17:51:05 WARN DeltaHistoryManager: Found Delta commit 10 with a timestamp 1745921641275 which is greater than the next commit timestamp 1745921641214.\n",
      "25/05/17 17:51:05 WARN DeltaHistoryManager: Found Delta commit 12 with a timestamp 1745921641304 which is greater than the next commit timestamp 1745921641304.\n",
      "25/05/17 17:51:05 WARN DeltaHistoryManager: Found Delta commit 13 with a timestamp 1745921641305 which is greater than the next commit timestamp 1745921641274.\n",
      "25/05/17 17:51:05 WARN DeltaHistoryManager: Found Delta commit 14 with a timestamp 1745921641306 which is greater than the next commit timestamp 1745921641304.\n",
      "25/05/17 17:51:05 WARN DeltaHistoryManager: Found Delta commit 16 with a timestamp 1745921641333 which is greater than the next commit timestamp 1745921641333.\n",
      "25/05/17 17:51:05 WARN DeltaHistoryManager: Found Delta commit 17 with a timestamp 1745921641334 which is greater than the next commit timestamp 1745921641333.\n",
      "25/05/17 17:51:05 WARN DeltaHistoryManager: Found Delta commit 19 with a timestamp 1745921641425 which is greater than the next commit timestamp 1745921641425.\n",
      "25/05/17 17:51:05 WARN DeltaHistoryManager: Found Delta commit 22 with a timestamp 1745921641535 which is greater than the next commit timestamp 1745921641535.\n",
      "25/05/17 17:51:05 WARN DeltaHistoryManager: Found Delta commit 23 with a timestamp 1745921641536 which is greater than the next commit timestamp 1745921641535.\n",
      "25/05/17 17:51:05 WARN DeltaHistoryManager: Found Delta commit 25 with a timestamp 1745921641675 which is greater than the next commit timestamp 1745921641634.\n",
      "25/05/17 17:51:05 WARN DeltaHistoryManager: Found Delta commit 26 with a timestamp 1745921641676 which is greater than the next commit timestamp 1745921641674.\n"
     ]
    },
    {
     "name": "stdout",
     "output_type": "stream",
     "text": [
      "CDF not available — doing full load\n"
     ]
    },
    {
     "data": {
      "text/plain": [
       "[Row(country=Row(code=None, flag=None, name='World'), league=Row(id=4, logo='https://media.api-sports.io/football/leagues/4.png', name='Euro Championship', type='Cup'), seasons=[Row(coverage=Row(fixtures=Row(events=True, lineups=True, statistics_fixtures=False, statistics_players=False), injuries=False, odds=False, players=True, predictions=True, standings=False, top_assists=True, top_cards=True, top_scorers=True), current=False, end='2008-06-29', start='2008-06-07', year=2008), Row(coverage=Row(fixtures=Row(events=True, lineups=True, statistics_fixtures=False, statistics_players=False), injuries=False, odds=False, players=True, predictions=True, standings=False, top_assists=True, top_cards=True, top_scorers=True), current=False, end='2012-07-01', start='2012-06-08', year=2012), Row(coverage=Row(fixtures=Row(events=True, lineups=True, statistics_fixtures=True, statistics_players=True), injuries=False, odds=False, players=True, predictions=True, standings=True, top_assists=True, top_cards=True, top_scorers=True), current=False, end='2016-07-10', start='2016-06-10', year=2016), Row(coverage=Row(fixtures=Row(events=True, lineups=True, statistics_fixtures=True, statistics_players=True), injuries=False, odds=False, players=True, predictions=True, standings=True, top_assists=True, top_cards=True, top_scorers=True), current=False, end='2021-07-11', start='2019-03-21', year=2020), Row(coverage=Row(fixtures=Row(events=True, lineups=True, statistics_fixtures=True, statistics_players=True), injuries=False, odds=False, players=True, predictions=True, standings=True, top_assists=True, top_cards=True, top_scorers=True), current=True, end='2024-07-14', start='2024-06-14', year=2024)]),\n",
       " Row(country=Row(code=None, flag=None, name='World'), league=Row(id=21, logo='https://media.api-sports.io/football/leagues/21.png', name='Confederations Cup', type='Cup'), seasons=[Row(coverage=Row(fixtures=Row(events=True, lineups=True, statistics_fixtures=False, statistics_players=False), injuries=False, odds=False, players=True, predictions=True, standings=False, top_assists=True, top_cards=True, top_scorers=True), current=False, end='2009-06-28', start='2009-06-14', year=2009), Row(coverage=Row(fixtures=Row(events=True, lineups=True, statistics_fixtures=False, statistics_players=False), injuries=False, odds=False, players=True, predictions=True, standings=False, top_assists=True, top_cards=True, top_scorers=True), current=False, end='2013-06-30', start='2013-06-15', year=2013), Row(coverage=Row(fixtures=Row(events=True, lineups=True, statistics_fixtures=True, statistics_players=False), injuries=False, odds=False, players=True, predictions=True, standings=False, top_assists=True, top_cards=True, top_scorers=True), current=True, end='2017-07-02', start='2017-06-17', year=2017)]),\n",
       " Row(country=Row(code='FR', flag='https://media.api-sports.io/flags/fr.svg', name='France'), league=Row(id=61, logo='https://media.api-sports.io/football/leagues/61.png', name='Ligue 1', type='League'), seasons=[Row(coverage=Row(fixtures=Row(events=True, lineups=True, statistics_fixtures=False, statistics_players=False), injuries=False, odds=False, players=True, predictions=True, standings=True, top_assists=True, top_cards=True, top_scorers=True), current=False, end='2011-05-29', start='2010-08-07', year=2010), Row(coverage=Row(fixtures=Row(events=True, lineups=True, statistics_fixtures=False, statistics_players=False), injuries=False, odds=False, players=True, predictions=True, standings=True, top_assists=True, top_cards=True, top_scorers=True), current=False, end='2012-05-20', start='2011-08-06', year=2011), Row(coverage=Row(fixtures=Row(events=True, lineups=True, statistics_fixtures=False, statistics_players=False), injuries=False, odds=False, players=True, predictions=True, standings=True, top_assists=True, top_cards=True, top_scorers=True), current=False, end='2013-05-26', start='2012-08-10', year=2012), Row(coverage=Row(fixtures=Row(events=True, lineups=True, statistics_fixtures=False, statistics_players=False), injuries=False, odds=False, players=True, predictions=True, standings=True, top_assists=True, top_cards=True, top_scorers=True), current=False, end='2014-05-17', start='2013-08-09', year=2013), Row(coverage=Row(fixtures=Row(events=True, lineups=True, statistics_fixtures=False, statistics_players=False), injuries=False, odds=False, players=True, predictions=True, standings=True, top_assists=True, top_cards=True, top_scorers=True), current=False, end='2015-05-23', start='2014-08-08', year=2014), Row(coverage=Row(fixtures=Row(events=True, lineups=True, statistics_fixtures=True, statistics_players=True), injuries=False, odds=False, players=True, predictions=True, standings=True, top_assists=True, top_cards=True, top_scorers=True), current=False, end='2016-05-14', start='2015-08-07', year=2015), Row(coverage=Row(fixtures=Row(events=True, lineups=True, statistics_fixtures=True, statistics_players=True), injuries=False, odds=False, players=True, predictions=True, standings=True, top_assists=True, top_cards=True, top_scorers=True), current=False, end='2017-05-20', start='2016-08-12', year=2016), Row(coverage=Row(fixtures=Row(events=True, lineups=True, statistics_fixtures=True, statistics_players=True), injuries=False, odds=False, players=True, predictions=True, standings=True, top_assists=True, top_cards=True, top_scorers=True), current=False, end='2018-05-19', start='2017-08-04', year=2017), Row(coverage=Row(fixtures=Row(events=True, lineups=True, statistics_fixtures=True, statistics_players=True), injuries=False, odds=False, players=True, predictions=True, standings=True, top_assists=True, top_cards=True, top_scorers=True), current=False, end='2019-05-24', start='2018-08-10', year=2018), Row(coverage=Row(fixtures=Row(events=True, lineups=True, statistics_fixtures=True, statistics_players=True), injuries=False, odds=False, players=True, predictions=True, standings=True, top_assists=True, top_cards=True, top_scorers=True), current=False, end='2020-05-23', start='2019-08-09', year=2019), Row(coverage=Row(fixtures=Row(events=True, lineups=True, statistics_fixtures=True, statistics_players=True), injuries=True, odds=False, players=True, predictions=True, standings=True, top_assists=True, top_cards=True, top_scorers=True), current=False, end='2021-05-30', start='2020-08-21', year=2020), Row(coverage=Row(fixtures=Row(events=True, lineups=True, statistics_fixtures=True, statistics_players=True), injuries=True, odds=False, players=True, predictions=True, standings=True, top_assists=True, top_cards=True, top_scorers=True), current=False, end='2022-05-29', start='2021-08-06', year=2021), Row(coverage=Row(fixtures=Row(events=True, lineups=True, statistics_fixtures=True, statistics_players=True), injuries=True, odds=False, players=True, predictions=True, standings=True, top_assists=True, top_cards=True, top_scorers=True), current=False, end='2023-06-03', start='2022-08-05', year=2022), Row(coverage=Row(fixtures=Row(events=True, lineups=True, statistics_fixtures=True, statistics_players=True), injuries=True, odds=False, players=True, predictions=True, standings=True, top_assists=True, top_cards=True, top_scorers=True), current=False, end='2024-06-02', start='2023-08-11', year=2023), Row(coverage=Row(fixtures=Row(events=True, lineups=True, statistics_fixtures=True, statistics_players=True), injuries=True, odds=True, players=True, predictions=True, standings=True, top_assists=True, top_cards=True, top_scorers=True), current=True, end='2025-05-18', start='2024-08-18', year=2024)]),\n",
       " Row(country=Row(code='BE', flag='https://media.api-sports.io/flags/be.svg', name='Belgium'), league=Row(id=144, logo='https://media.api-sports.io/football/leagues/144.png', name='Jupiler Pro League', type='League'), seasons=[Row(coverage=Row(fixtures=Row(events=True, lineups=True, statistics_fixtures=False, statistics_players=False), injuries=False, odds=False, players=True, predictions=True, standings=True, top_assists=True, top_cards=True, top_scorers=True), current=False, end='2011-05-16', start='2010-07-30', year=2010), Row(coverage=Row(fixtures=Row(events=True, lineups=True, statistics_fixtures=False, statistics_players=False), injuries=False, odds=False, players=True, predictions=True, standings=True, top_assists=True, top_cards=True, top_scorers=True), current=False, end='2012-05-20', start='2011-07-29', year=2011), Row(coverage=Row(fixtures=Row(events=True, lineups=True, statistics_fixtures=False, statistics_players=False), injuries=False, odds=False, players=True, predictions=True, standings=True, top_assists=True, top_cards=True, top_scorers=True), current=False, end='2013-05-26', start='2012-07-28', year=2012), Row(coverage=Row(fixtures=Row(events=True, lineups=True, statistics_fixtures=False, statistics_players=False), injuries=False, odds=False, players=True, predictions=True, standings=True, top_assists=True, top_cards=True, top_scorers=True), current=False, end='2014-05-18', start='2013-07-26', year=2013), Row(coverage=Row(fixtures=Row(events=True, lineups=True, statistics_fixtures=False, statistics_players=False), injuries=False, odds=False, players=True, predictions=True, standings=True, top_assists=True, top_cards=True, top_scorers=True), current=False, end='2015-05-31', start='2014-07-25', year=2014), Row(coverage=Row(fixtures=Row(events=True, lineups=True, statistics_fixtures=True, statistics_players=False), injuries=False, odds=False, players=True, predictions=True, standings=True, top_assists=True, top_cards=True, top_scorers=True), current=False, end='2016-05-29', start='2015-07-24', year=2015), Row(coverage=Row(fixtures=Row(events=True, lineups=True, statistics_fixtures=True, statistics_players=False), injuries=False, odds=False, players=True, predictions=True, standings=True, top_assists=True, top_cards=True, top_scorers=True), current=False, end='2017-05-21', start='2016-07-29', year=2016), Row(coverage=Row(fixtures=Row(events=True, lineups=True, statistics_fixtures=True, statistics_players=False), injuries=False, odds=False, players=True, predictions=True, standings=True, top_assists=True, top_cards=True, top_scorers=True), current=False, end='2018-05-20', start='2017-07-28', year=2017), Row(coverage=Row(fixtures=Row(events=True, lineups=True, statistics_fixtures=True, statistics_players=False), injuries=False, odds=False, players=True, predictions=True, standings=True, top_assists=True, top_cards=True, top_scorers=True), current=False, end='2019-05-19', start='2018-07-27', year=2018), Row(coverage=Row(fixtures=Row(events=True, lineups=True, statistics_fixtures=True, statistics_players=False), injuries=False, odds=False, players=True, predictions=True, standings=True, top_assists=True, top_cards=True, top_scorers=True), current=False, end='2020-03-15', start='2019-07-26', year=2019), Row(coverage=Row(fixtures=Row(events=True, lineups=True, statistics_fixtures=True, statistics_players=True), injuries=True, odds=False, players=True, predictions=True, standings=True, top_assists=True, top_cards=True, top_scorers=True), current=False, end='2021-05-23', start='2020-08-08', year=2020), Row(coverage=Row(fixtures=Row(events=True, lineups=True, statistics_fixtures=True, statistics_players=True), injuries=True, odds=False, players=True, predictions=True, standings=True, top_assists=True, top_cards=True, top_scorers=True), current=False, end='2022-05-29', start='2021-07-23', year=2021), Row(coverage=Row(fixtures=Row(events=True, lineups=True, statistics_fixtures=True, statistics_players=True), injuries=False, odds=False, players=True, predictions=True, standings=True, top_assists=True, top_cards=True, top_scorers=True), current=False, end='2023-06-04', start='2022-07-22', year=2022), Row(coverage=Row(fixtures=Row(events=True, lineups=True, statistics_fixtures=True, statistics_players=True), injuries=False, odds=False, players=True, predictions=True, standings=True, top_assists=True, top_cards=True, top_scorers=True), current=False, end='2024-06-02', start='2023-07-28', year=2023), Row(coverage=Row(fixtures=Row(events=True, lineups=True, statistics_fixtures=True, statistics_players=True), injuries=False, odds=True, players=True, predictions=True, standings=True, top_assists=True, top_cards=True, top_scorers=True), current=True, end='2025-05-25', start='2024-07-26', year=2024)]),\n",
       " Row(country=Row(code='BR', flag='https://media.api-sports.io/flags/br.svg', name='Brazil'), league=Row(id=71, logo='https://media.api-sports.io/football/leagues/71.png', name='Serie A', type='League'), seasons=[Row(coverage=Row(fixtures=Row(events=True, lineups=True, statistics_fixtures=False, statistics_players=False), injuries=False, odds=False, players=True, predictions=True, standings=True, top_assists=True, top_cards=True, top_scorers=True), current=False, end='2010-11-28', start='2010-05-08', year=2010), Row(coverage=Row(fixtures=Row(events=True, lineups=True, statistics_fixtures=False, statistics_players=False), injuries=False, odds=False, players=True, predictions=True, standings=True, top_assists=True, top_cards=True, top_scorers=True), current=False, end='2011-12-04', start='2011-05-21', year=2011), Row(coverage=Row(fixtures=Row(events=True, lineups=True, statistics_fixtures=False, statistics_players=False), injuries=False, odds=False, players=True, predictions=True, standings=True, top_assists=True, top_cards=True, top_scorers=True), current=False, end='2012-12-02', start='2012-05-19', year=2012), Row(coverage=Row(fixtures=Row(events=True, lineups=True, statistics_fixtures=False, statistics_players=False), injuries=False, odds=False, players=True, predictions=True, standings=True, top_assists=True, top_cards=True, top_scorers=True), current=False, end='2013-12-08', start='2013-05-25', year=2013), Row(coverage=Row(fixtures=Row(events=True, lineups=True, statistics_fixtures=False, statistics_players=False), injuries=False, odds=False, players=True, predictions=True, standings=True, top_assists=True, top_cards=True, top_scorers=True), current=False, end='2014-12-07', start='2014-04-19', year=2014), Row(coverage=Row(fixtures=Row(events=True, lineups=True, statistics_fixtures=True, statistics_players=True), injuries=False, odds=False, players=True, predictions=True, standings=True, top_assists=True, top_cards=True, top_scorers=True), current=False, end='2015-12-06', start='2015-05-09', year=2015), Row(coverage=Row(fixtures=Row(events=True, lineups=True, statistics_fixtures=True, statistics_players=True), injuries=False, odds=False, players=True, predictions=True, standings=True, top_assists=True, top_cards=True, top_scorers=True), current=False, end='2016-12-11', start='2016-05-14', year=2016), Row(coverage=Row(fixtures=Row(events=True, lineups=True, statistics_fixtures=True, statistics_players=True), injuries=False, odds=False, players=True, predictions=True, standings=True, top_assists=True, top_cards=True, top_scorers=True), current=False, end='2017-12-03', start='2017-05-13', year=2017), Row(coverage=Row(fixtures=Row(events=True, lineups=True, statistics_fixtures=True, statistics_players=True), injuries=False, odds=False, players=True, predictions=True, standings=True, top_assists=True, top_cards=True, top_scorers=True), current=False, end='2018-12-02', start='2018-04-14', year=2018), Row(coverage=Row(fixtures=Row(events=True, lineups=True, statistics_fixtures=True, statistics_players=True), injuries=False, odds=False, players=True, predictions=True, standings=True, top_assists=True, top_cards=True, top_scorers=True), current=False, end='2019-12-08', start='2019-04-27', year=2019), Row(coverage=Row(fixtures=Row(events=True, lineups=True, statistics_fixtures=True, statistics_players=True), injuries=False, odds=False, players=True, predictions=True, standings=True, top_assists=True, top_cards=True, top_scorers=True), current=False, end='2021-02-26', start='2020-08-08', year=2020), Row(coverage=Row(fixtures=Row(events=True, lineups=True, statistics_fixtures=True, statistics_players=True), injuries=False, odds=False, players=True, predictions=True, standings=True, top_assists=True, top_cards=True, top_scorers=True), current=False, end='2021-12-10', start='2021-05-29', year=2021), Row(coverage=Row(fixtures=Row(events=True, lineups=True, statistics_fixtures=True, statistics_players=True), injuries=False, odds=False, players=True, predictions=True, standings=True, top_assists=True, top_cards=True, top_scorers=True), current=False, end='2022-11-13', start='2022-04-10', year=2022), Row(coverage=Row(fixtures=Row(events=True, lineups=True, statistics_fixtures=True, statistics_players=True), injuries=False, odds=False, players=True, predictions=True, standings=True, top_assists=True, top_cards=True, top_scorers=True), current=False, end='2023-12-03', start='2023-04-15', year=2023), Row(coverage=Row(fixtures=Row(events=True, lineups=True, statistics_fixtures=True, statistics_players=True), injuries=True, odds=False, players=True, predictions=True, standings=True, top_assists=True, top_cards=True, top_scorers=True), current=False, end='2024-12-08', start='2024-04-13', year=2024), Row(coverage=Row(fixtures=Row(events=True, lineups=True, statistics_fixtures=True, statistics_players=True), injuries=True, odds=True, players=True, predictions=True, standings=True, top_assists=True, top_cards=True, top_scorers=True), current=True, end='2025-12-21', start='2025-03-29', year=2025)])]"
      ]
     },
     "execution_count": 4,
     "metadata": {},
     "output_type": "execute_result"
    }
   ],
   "execution_count": 4
  },
  {
   "metadata": {
    "ExecuteTime": {
     "end_time": "2025-05-17T15:51:06.325368Z",
     "start_time": "2025-05-17T15:51:05.443121Z"
    }
   },
   "cell_type": "code",
   "source": [
    "sporcessor = SportsLeagueProcessor(spark, df)\n",
    "countries = sporcessor.generate_countries()\n",
    "leagues = sporcessor.generate_leagues()\n",
    "sporcessor.expand()"
   ],
   "id": "1cd7de3e67fe1385",
   "outputs": [
    {
     "name": "stderr",
     "output_type": "stream",
     "text": [
      "WARNING:root:Some countries have the same code: ['ua']\n",
      " Changing code, but probably a manual check could be needed\n"
     ]
    }
   ],
   "execution_count": 5
  },
  {
   "metadata": {
    "ExecuteTime": {
     "end_time": "2025-05-17T15:51:14.079774Z",
     "start_time": "2025-05-17T15:51:13.778017Z"
    }
   },
   "cell_type": "code",
   "source": "sporcessor.df",
   "id": "28fcb9a8b92dc057",
   "outputs": [
    {
     "data": {
      "text/plain": [
       "+---------+-------------------+---------------+-----------------+----------------+-----------------+-------------+----------------+--------------------+------------------+--------------------+------------------+--------------------+--------------+---------------+---------------------------+--------------------------+\n",
       "|league_id|league-info_current|league-info_end|league-info_start|league-info_year|coverage_injuries|coverage_odds|coverage_players|coverage_predictions|coverage_standings|coverage_top_assists|coverage_top_cards|coverage_top_scorers|fixture_events|fixture_lineups|fixture_statistics_fixtures|fixture_statistics_players|\n",
       "+---------+-------------------+---------------+-----------------+----------------+-----------------+-------------+----------------+--------------------+------------------+--------------------+------------------+--------------------+--------------+---------------+---------------------------+--------------------------+\n",
       "|        4|              false|     2008-06-29|       2008-06-07|            2008|            false|        false|            true|                true|             false|                true|              true|                true|          true|           true|                      false|                     false|\n",
       "|        4|              false|     2012-07-01|       2012-06-08|            2012|            false|        false|            true|                true|             false|                true|              true|                true|          true|           true|                      false|                     false|\n",
       "|        4|              false|     2016-07-10|       2016-06-10|            2016|            false|        false|            true|                true|              true|                true|              true|                true|          true|           true|                       true|                      true|\n",
       "|        4|              false|     2021-07-11|       2019-03-21|            2020|            false|        false|            true|                true|              true|                true|              true|                true|          true|           true|                       true|                      true|\n",
       "|        4|               true|     2024-07-14|       2024-06-14|            2024|            false|        false|            true|                true|              true|                true|              true|                true|          true|           true|                       true|                      true|\n",
       "|       21|              false|     2009-06-28|       2009-06-14|            2009|            false|        false|            true|                true|             false|                true|              true|                true|          true|           true|                      false|                     false|\n",
       "|       21|              false|     2013-06-30|       2013-06-15|            2013|            false|        false|            true|                true|             false|                true|              true|                true|          true|           true|                      false|                     false|\n",
       "|       21|               true|     2017-07-02|       2017-06-17|            2017|            false|        false|            true|                true|             false|                true|              true|                true|          true|           true|                       true|                     false|\n",
       "|       61|              false|     2011-05-29|       2010-08-07|            2010|            false|        false|            true|                true|              true|                true|              true|                true|          true|           true|                      false|                     false|\n",
       "|       61|              false|     2012-05-20|       2011-08-06|            2011|            false|        false|            true|                true|              true|                true|              true|                true|          true|           true|                      false|                     false|\n",
       "|       61|              false|     2013-05-26|       2012-08-10|            2012|            false|        false|            true|                true|              true|                true|              true|                true|          true|           true|                      false|                     false|\n",
       "|       61|              false|     2014-05-17|       2013-08-09|            2013|            false|        false|            true|                true|              true|                true|              true|                true|          true|           true|                      false|                     false|\n",
       "|       61|              false|     2015-05-23|       2014-08-08|            2014|            false|        false|            true|                true|              true|                true|              true|                true|          true|           true|                      false|                     false|\n",
       "|       61|              false|     2016-05-14|       2015-08-07|            2015|            false|        false|            true|                true|              true|                true|              true|                true|          true|           true|                       true|                      true|\n",
       "|       61|              false|     2017-05-20|       2016-08-12|            2016|            false|        false|            true|                true|              true|                true|              true|                true|          true|           true|                       true|                      true|\n",
       "|       61|              false|     2018-05-19|       2017-08-04|            2017|            false|        false|            true|                true|              true|                true|              true|                true|          true|           true|                       true|                      true|\n",
       "|       61|              false|     2019-05-24|       2018-08-10|            2018|            false|        false|            true|                true|              true|                true|              true|                true|          true|           true|                       true|                      true|\n",
       "|       61|              false|     2020-05-23|       2019-08-09|            2019|            false|        false|            true|                true|              true|                true|              true|                true|          true|           true|                       true|                      true|\n",
       "|       61|              false|     2021-05-30|       2020-08-21|            2020|             true|        false|            true|                true|              true|                true|              true|                true|          true|           true|                       true|                      true|\n",
       "|       61|              false|     2022-05-29|       2021-08-06|            2021|             true|        false|            true|                true|              true|                true|              true|                true|          true|           true|                       true|                      true|\n",
       "+---------+-------------------+---------------+-----------------+----------------+-----------------+-------------+----------------+--------------------+------------------+--------------------+------------------+--------------------+--------------+---------------+---------------------------+--------------------------+\n",
       "only showing top 20 rows"
      ],
      "text/html": [
       "<table border='1'>\n",
       "<tr><th>league_id</th><th>league-info_current</th><th>league-info_end</th><th>league-info_start</th><th>league-info_year</th><th>coverage_injuries</th><th>coverage_odds</th><th>coverage_players</th><th>coverage_predictions</th><th>coverage_standings</th><th>coverage_top_assists</th><th>coverage_top_cards</th><th>coverage_top_scorers</th><th>fixture_events</th><th>fixture_lineups</th><th>fixture_statistics_fixtures</th><th>fixture_statistics_players</th></tr>\n",
       "<tr><td>4</td><td>false</td><td>2008-06-29</td><td>2008-06-07</td><td>2008</td><td>false</td><td>false</td><td>true</td><td>true</td><td>false</td><td>true</td><td>true</td><td>true</td><td>true</td><td>true</td><td>false</td><td>false</td></tr>\n",
       "<tr><td>4</td><td>false</td><td>2012-07-01</td><td>2012-06-08</td><td>2012</td><td>false</td><td>false</td><td>true</td><td>true</td><td>false</td><td>true</td><td>true</td><td>true</td><td>true</td><td>true</td><td>false</td><td>false</td></tr>\n",
       "<tr><td>4</td><td>false</td><td>2016-07-10</td><td>2016-06-10</td><td>2016</td><td>false</td><td>false</td><td>true</td><td>true</td><td>true</td><td>true</td><td>true</td><td>true</td><td>true</td><td>true</td><td>true</td><td>true</td></tr>\n",
       "<tr><td>4</td><td>false</td><td>2021-07-11</td><td>2019-03-21</td><td>2020</td><td>false</td><td>false</td><td>true</td><td>true</td><td>true</td><td>true</td><td>true</td><td>true</td><td>true</td><td>true</td><td>true</td><td>true</td></tr>\n",
       "<tr><td>4</td><td>true</td><td>2024-07-14</td><td>2024-06-14</td><td>2024</td><td>false</td><td>false</td><td>true</td><td>true</td><td>true</td><td>true</td><td>true</td><td>true</td><td>true</td><td>true</td><td>true</td><td>true</td></tr>\n",
       "<tr><td>21</td><td>false</td><td>2009-06-28</td><td>2009-06-14</td><td>2009</td><td>false</td><td>false</td><td>true</td><td>true</td><td>false</td><td>true</td><td>true</td><td>true</td><td>true</td><td>true</td><td>false</td><td>false</td></tr>\n",
       "<tr><td>21</td><td>false</td><td>2013-06-30</td><td>2013-06-15</td><td>2013</td><td>false</td><td>false</td><td>true</td><td>true</td><td>false</td><td>true</td><td>true</td><td>true</td><td>true</td><td>true</td><td>false</td><td>false</td></tr>\n",
       "<tr><td>21</td><td>true</td><td>2017-07-02</td><td>2017-06-17</td><td>2017</td><td>false</td><td>false</td><td>true</td><td>true</td><td>false</td><td>true</td><td>true</td><td>true</td><td>true</td><td>true</td><td>true</td><td>false</td></tr>\n",
       "<tr><td>61</td><td>false</td><td>2011-05-29</td><td>2010-08-07</td><td>2010</td><td>false</td><td>false</td><td>true</td><td>true</td><td>true</td><td>true</td><td>true</td><td>true</td><td>true</td><td>true</td><td>false</td><td>false</td></tr>\n",
       "<tr><td>61</td><td>false</td><td>2012-05-20</td><td>2011-08-06</td><td>2011</td><td>false</td><td>false</td><td>true</td><td>true</td><td>true</td><td>true</td><td>true</td><td>true</td><td>true</td><td>true</td><td>false</td><td>false</td></tr>\n",
       "<tr><td>61</td><td>false</td><td>2013-05-26</td><td>2012-08-10</td><td>2012</td><td>false</td><td>false</td><td>true</td><td>true</td><td>true</td><td>true</td><td>true</td><td>true</td><td>true</td><td>true</td><td>false</td><td>false</td></tr>\n",
       "<tr><td>61</td><td>false</td><td>2014-05-17</td><td>2013-08-09</td><td>2013</td><td>false</td><td>false</td><td>true</td><td>true</td><td>true</td><td>true</td><td>true</td><td>true</td><td>true</td><td>true</td><td>false</td><td>false</td></tr>\n",
       "<tr><td>61</td><td>false</td><td>2015-05-23</td><td>2014-08-08</td><td>2014</td><td>false</td><td>false</td><td>true</td><td>true</td><td>true</td><td>true</td><td>true</td><td>true</td><td>true</td><td>true</td><td>false</td><td>false</td></tr>\n",
       "<tr><td>61</td><td>false</td><td>2016-05-14</td><td>2015-08-07</td><td>2015</td><td>false</td><td>false</td><td>true</td><td>true</td><td>true</td><td>true</td><td>true</td><td>true</td><td>true</td><td>true</td><td>true</td><td>true</td></tr>\n",
       "<tr><td>61</td><td>false</td><td>2017-05-20</td><td>2016-08-12</td><td>2016</td><td>false</td><td>false</td><td>true</td><td>true</td><td>true</td><td>true</td><td>true</td><td>true</td><td>true</td><td>true</td><td>true</td><td>true</td></tr>\n",
       "<tr><td>61</td><td>false</td><td>2018-05-19</td><td>2017-08-04</td><td>2017</td><td>false</td><td>false</td><td>true</td><td>true</td><td>true</td><td>true</td><td>true</td><td>true</td><td>true</td><td>true</td><td>true</td><td>true</td></tr>\n",
       "<tr><td>61</td><td>false</td><td>2019-05-24</td><td>2018-08-10</td><td>2018</td><td>false</td><td>false</td><td>true</td><td>true</td><td>true</td><td>true</td><td>true</td><td>true</td><td>true</td><td>true</td><td>true</td><td>true</td></tr>\n",
       "<tr><td>61</td><td>false</td><td>2020-05-23</td><td>2019-08-09</td><td>2019</td><td>false</td><td>false</td><td>true</td><td>true</td><td>true</td><td>true</td><td>true</td><td>true</td><td>true</td><td>true</td><td>true</td><td>true</td></tr>\n",
       "<tr><td>61</td><td>false</td><td>2021-05-30</td><td>2020-08-21</td><td>2020</td><td>true</td><td>false</td><td>true</td><td>true</td><td>true</td><td>true</td><td>true</td><td>true</td><td>true</td><td>true</td><td>true</td><td>true</td></tr>\n",
       "<tr><td>61</td><td>false</td><td>2022-05-29</td><td>2021-08-06</td><td>2021</td><td>true</td><td>false</td><td>true</td><td>true</td><td>true</td><td>true</td><td>true</td><td>true</td><td>true</td><td>true</td><td>true</td><td>true</td></tr>\n",
       "</table>\n",
       "only showing top 20 rows\n"
      ]
     },
     "execution_count": 6,
     "metadata": {},
     "output_type": "execute_result"
    }
   ],
   "execution_count": 6
  },
  {
   "metadata": {
    "ExecuteTime": {
     "end_time": "2025-05-17T17:09:05.564728Z",
     "start_time": "2025-05-17T17:09:04.893414Z"
    }
   },
   "cell_type": "code",
   "source": [
    "absolute_path_to_landing = '/Users/alfio/projects/upc/BDMP2/data/letstalk_landing_zone_bdma'\n",
    "table_subpath = 'delta_sports/matches'\n",
    "loader = IncrementalLoader(spark, absolute_path_to_landing, table_subpath)\n",
    "df = loader.get_new_data()\n",
    "df.head(5)"
   ],
   "id": "1b0d264abe9e5705",
   "outputs": [
    {
     "name": "stderr",
     "output_type": "stream",
     "text": [
      "25/05/17 19:09:05 WARN DeltaHistoryManager: Found Delta commit 0 with a timestamp 1745921644516 which is greater than the next commit timestamp 1745921644042.\n",
      "25/05/17 19:09:05 WARN DeltaHistoryManager: Found Delta commit 1 with a timestamp 1745921644517 which is greater than the next commit timestamp 1745921643917.\n",
      "25/05/17 19:09:05 WARN DeltaHistoryManager: Found Delta commit 2 with a timestamp 1745921644518 which is greater than the next commit timestamp 1745921642587.\n",
      "25/05/17 19:09:05 WARN DeltaHistoryManager: Found Delta commit 3 with a timestamp 1745921644519 which is greater than the next commit timestamp 1745921644158.\n",
      "25/05/17 19:09:05 WARN DeltaHistoryManager: Found Delta commit 4 with a timestamp 1745921644520 which is greater than the next commit timestamp 1745921642587.\n",
      "25/05/17 19:09:05 WARN DeltaHistoryManager: Found Delta commit 5 with a timestamp 1745921644521 which is greater than the next commit timestamp 1745921642590.\n",
      "25/05/17 19:09:05 WARN DeltaHistoryManager: Found Delta commit 7 with a timestamp 1745921645204 which is greater than the next commit timestamp 1745921644679.\n",
      "25/05/17 19:09:05 WARN DeltaHistoryManager: Found Delta commit 8 with a timestamp 1745921645205 which is greater than the next commit timestamp 1745921645069.\n",
      "25/05/17 19:09:05 WARN DeltaHistoryManager: Found Delta commit 9 with a timestamp 1745921645206 which is greater than the next commit timestamp 1745921644428.\n",
      "25/05/17 19:09:05 WARN DeltaHistoryManager: Found Delta commit 10 with a timestamp 1745921645207 which is greater than the next commit timestamp 1745921644545.\n"
     ]
    },
    {
     "name": "stdout",
     "output_type": "stream",
     "text": [
      "CDF not available — doing full load\n"
     ]
    },
    {
     "data": {
      "text/plain": [
       "[Row(fixture=Row(date='2025-04-25T00:00:00+00:00', id=1345365, periods=Row(first=1745539200, second=1745542800), referee='R. Homik', status=Row(elapsed=90, extra=7, long='Match Finished', short='FT'), timestamp=1745539200, timezone='UTC', venue=Row(city='Commerce City, Colorado', id=None, name='Dick&amp;apos;s Sporting Goods Park')), goals=Row(away=2, home=0), league=Row(country='USA', flag='https://media.api-sports.io/flags/us.svg', id=909, logo='https://media.api-sports.io/football/leagues/909.png', name='MLS Next Pro', round='Regular Season - 8', season=2025, standings=True), score=Row(extratime=Row(away=None, home=None), fulltime=Row(away=2, home=0), halftime=Row(away=2, home=0), penalty=Row(away=None, home=None)), teams=Row(away=Row(id=18814, logo='https://media.api-sports.io/football/teams/18814.png', name='Minnesota United II', winner=True), home=Row(id=4102, logo='https://media.api-sports.io/football/teams/4102.png', name='Colorado Rapids II', winner=False))),\n",
       " Row(fixture=Row(date='2025-04-25T00:00:00+00:00', id=1354612, periods=Row(first=1745539200, second=1745542800), referee=None, status=Row(elapsed=90, extra=5, long='Match Finished', short='FT'), timestamp=1745539200, timezone='UTC', venue=Row(city='Guayaquil', id=466, name='Estadio Monumental Banco Pichincha')), goals=Row(away=1, home=1), league=Row(country='Ecuador', flag='https://media.api-sports.io/flags/ec.svg', id=243, logo='https://media.api-sports.io/football/leagues/243.png', name='Liga Pro Serie B', round='Regular Season - 6', season=2025, standings=True), score=Row(extratime=Row(away=None, home=None), fulltime=Row(away=1, home=1), halftime=Row(away=0, home=1), penalty=Row(away=None, home=None)), teams=Row(away=Row(id=1159, logo='https://media.api-sports.io/football/teams/1159.png', name='Guayaquil City FC', winner=None), home=Row(id=10112, logo='https://media.api-sports.io/football/teams/10112.png', name='Chacaritas', winner=None))),\n",
       " Row(fixture=Row(date='2025-04-25T00:00:00+00:00', id=1361899, periods=Row(first=1745539200, second=1745542800), referee='Mario Alberto Diaz de Vivar Bogado, Paraguay', status=Row(elapsed=90, extra=5, long='Match Finished', short='FT'), timestamp=1745539200, timezone='UTC', venue=Row(city='Salvador', id=None, name='Casa de Apostas Arena Fonte Nova')), goals=Row(away=0, home=1), league=Row(country='World', flag=None, id=13, logo='https://media.api-sports.io/football/leagues/13.png', name='CONMEBOL Libertadores', round='Group Stage - 3', season=2025, standings=True), score=Row(extratime=Row(away=None, home=None), fulltime=Row(away=0, home=1), halftime=Row(away=0, home=0), penalty=Row(away=None, home=None)), teams=Row(away=Row(id=1137, logo='https://media.api-sports.io/football/teams/1137.png', name='Atletico Nacional', winner=False), home=Row(id=118, logo='https://media.api-sports.io/football/teams/118.png', name='Bahia', winner=True))),\n",
       " Row(fixture=Row(date='2025-04-25T00:00:00+00:00', id=1372443, periods=Row(first=1745539200, second=1745542800), referee='M. López Sánchez', status=Row(elapsed=90, extra=8, long='Match Finished', short='FT'), timestamp=1745539200, timezone='UTC', venue=Row(city='Mérida', id=1844, name='Estadio Olímpico Carlos Iturralde Rivero')), goals=Row(away=0, home=2), league=Row(country='Mexico', flag='https://media.api-sports.io/flags/mx.svg', id=263, logo='https://media.api-sports.io/football/leagues/263.png', name='Liga de Expansión MX', round='Clausura - Quarter-finals', season=2024, standings=True), score=Row(extratime=Row(away=None, home=None), fulltime=Row(away=0, home=2), halftime=Row(away=0, home=1), penalty=Row(away=None, home=None)), teams=Row(away=Row(id=2299, logo='https://media.api-sports.io/football/teams/2299.png', name='Mineros de Zacatecas', winner=False), home=Row(id=2311, logo='https://media.api-sports.io/football/teams/2311.png', name='Venados FC', winner=True))),\n",
       " Row(fixture=Row(date='2025-04-25T00:30:00+00:00', id=1361901, periods=Row(first=1745541000, second=1745544600), referee='Esteban Ostojich, Uruguay', status=Row(elapsed=90, extra=5, long='Match Finished', short='FT'), timestamp=1745541000, timezone='UTC', venue=Row(city='Asuncion', id=None, name='Estadio ueno La Nueva Olla')), goals=Row(away=2, home=2), league=Row(country='World', flag=None, id=13, logo='https://media.api-sports.io/football/leagues/13.png', name='CONMEBOL Libertadores', round='Group Stage - 3', season=2025, standings=True), score=Row(extratime=Row(away=None, home=None), fulltime=Row(away=2, home=2), halftime=Row(away=1, home=2), penalty=Row(away=None, home=None)), teams=Row(away=Row(id=2546, logo='https://media.api-sports.io/football/teams/2546.png', name='Sporting Cristal', winner=None), home=Row(id=1176, logo='https://media.api-sports.io/football/teams/1176.png', name='Cerro Porteno', winner=None)))]"
      ]
     },
     "execution_count": 23,
     "metadata": {},
     "output_type": "execute_result"
    }
   ],
   "execution_count": 23
  },
  {
   "metadata": {
    "ExecuteTime": {
     "end_time": "2025-05-17T17:39:29.263005Z",
     "start_time": "2025-05-17T17:39:28.775705Z"
    }
   },
   "cell_type": "code",
   "source": [
    "sproc = SportsMatchesProcessor(spark, df)\n",
    "sproc.expand()\n",
    "sproc.normalize_text(['referee', 'venue_city', 'venue_name', 'team_away_name', 'team_home_name', 'status_long'])\n",
    "sproc.extract_teams()\n",
    "sproc.extract_venues()\n",
    "sproc.remove_useless_columns()\n",
    "sproc.ensure_schema()"
   ],
   "id": "919ab95efa9de8d1",
   "outputs": [],
   "execution_count": 51
  },
  {
   "metadata": {
    "ExecuteTime": {
     "end_time": "2025-05-17T17:39:30.411673Z",
     "start_time": "2025-05-17T17:39:29.934830Z"
    }
   },
   "cell_type": "code",
   "source": "sproc.df",
   "id": "6553470a7b846128",
   "outputs": [
    {
     "data": {
      "text/plain": [
       "+------+--------------------+----------+--------------------+--------------------+--------------------+--------------+------------+--------------+--------------------+--------------------+------------+------------+----------+----------+\n",
       "|league|        fixture_date|fixture_id|        period_first|       period_second|             referee|status_elapsed|status_extra|   status_long|           timestamp|            venue_id|team_away_id|team_home_id|goals_away|goals_home|\n",
       "+------+--------------------+----------+--------------------+--------------------+--------------------+--------------+------------+--------------+--------------------+--------------------+------------+------------+----------+----------+\n",
       "|   909|2025-04-25T00:00:...|   1345365|2025-04-25T02:00:...|2025-04-25T03:00:...|            r  homik|            90|           7|match finished|2025-04-25T02:00:...|dick_amp_apos_s_s...|       18814|        4102|         2|         0|\n",
       "|   243|2025-04-25T00:00:...|   1354612|2025-04-25T02:00:...|2025-04-25T03:00:...|                NULL|            90|           5|match finished|2025-04-25T02:00:...|estadio_monumenta...|        1159|       10112|         1|         1|\n",
       "|    13|2025-04-25T00:00:...|   1361899|2025-04-25T02:00:...|2025-04-25T03:00:...|mario alberto dia...|            90|           5|match finished|2025-04-25T02:00:...|casa_de_apostas_a...|        1137|         118|         0|         1|\n",
       "|   263|2025-04-25T00:00:...|   1372443|2025-04-25T02:00:...|2025-04-25T03:00:...|    m  l pez s nchez|            90|           8|match finished|2025-04-25T02:00:...|estadio_ol_mpico_...|        2299|        2311|         0|         2|\n",
       "|    13|2025-04-25T00:30:...|   1361901|2025-04-25T02:30:...|2025-04-25T03:30:...|esteban ostojich ...|            90|           5|match finished|2025-04-25T02:30:...|estadio_ueno_la_n...|        2546|        1176|         2|         2|\n",
       "|    11|2025-04-25T00:30:...|   1362132|2025-04-25T02:30:...|2025-04-25T03:30:...|mathias de armas ...|            90|        NULL|match finished|2025-04-25T02:30:...|estadio_bicentena...|         135|        2318|         1|         2|\n",
       "|    11|2025-04-25T00:30:...|   1362139|2025-04-25T02:30:...|2025-04-25T03:30:...|nicolas ramirez  ...|            90|          12|match finished|2025-04-25T02:30:...|estadio_tierra_de...|        2562|        2319|         2|         2|\n",
       "|    72|2025-04-25T00:35:...|   1353308|2025-04-25T02:35:...|2025-04-25T03:35:...|denis da silva ri...|            90|           5|match finished|2025-04-25T02:35:...|est_dio_dr__jorge...|         134|        7834|         1|         2|\n",
       "|   422|2025-04-25T01:00:...|   1337904|                NULL|                NULL|                NULL|          NULL|        NULL|   not started|2025-04-25T03:00:...|valerie_playing_f...|        8406|        8417|      NULL|      NULL|\n",
       "|   673|2025-04-25T01:00:...|   1372193|2025-04-25T03:00:...|2025-04-25T04:00:...|                NULL|            90|           8|match finished|2025-04-25T03:00:...|       estadio_akron|       14870|       14876|         0|         2|\n",
       "|   339|2025-04-25T02:00:...|   1334268|2025-04-25T04:00:...|2025-04-25T05:00:...|                NULL|            90|           3|match finished|2025-04-25T04:00:...|estadio_mario_cam...|        3657|        3667|         0|         2|\n",
       "|   957|2025-04-25T02:00:...|   1359205|                NULL|                NULL|                NULL|            90|        NULL|match finished|2025-04-25T04:00:...|      ferrymead_park|       20661|       20662|         2|         2|\n",
       "|   957|2025-04-25T02:00:...|   1359206|                NULL|                NULL|                NULL|          NULL|        NULL|   not started|2025-04-25T04:00:...| recreation_centre__|       20667|       24318|      NULL|      NULL|\n",
       "|    11|2025-04-25T02:00:...|   1362126|2025-04-25T04:00:...|2025-04-25T05:00:...|yender herrera  v...|            90|           6|match finished|2025-04-25T04:00:...|estadio_ol_mpico_...|         442|        1157|         1|         3|\n",
       "|  1127|2025-04-25T02:00:...|   1371208|                NULL|                NULL|                NULL|          NULL|        NULL|   not started|2025-04-25T04:00:...|       brains_park__|       24308|       24320|      NULL|      NULL|\n",
       "|  1127|2025-04-25T02:00:...|   1371210|                NULL|                NULL|                NULL|          NULL|        NULL|   not started|2025-04-25T04:00:...|         litt_park__|       17051|       24305|      NULL|      NULL|\n",
       "|  1127|2025-04-25T02:00:...|   1371211|                NULL|                NULL|                NULL|          NULL|        NULL|   not started|2025-04-25T04:00:...|michaels_avenue_r...|       24302|       24241|      NULL|      NULL|\n",
       "|  1127|2025-04-25T02:00:...|   1371213|                NULL|                NULL|                NULL|          NULL|        NULL|   not started|2025-04-25T04:00:...|     mclennan_park__|       24303|       24285|      NULL|      NULL|\n",
       "|  1127|2025-04-25T02:00:...|   1371214|                NULL|                NULL|                NULL|          NULL|        NULL|   not started|2025-04-25T04:00:...| otorohanga_domain__|       24254|       24279|      NULL|      NULL|\n",
       "|  1127|2025-04-25T02:00:...|   1371215|                NULL|                NULL|                NULL|          NULL|        NULL|   not started|2025-04-25T04:00:...|     rongomai_park__|       24242|       24295|      NULL|      NULL|\n",
       "+------+--------------------+----------+--------------------+--------------------+--------------------+--------------+------------+--------------+--------------------+--------------------+------------+------------+----------+----------+\n",
       "only showing top 20 rows"
      ],
      "text/html": [
       "<table border='1'>\n",
       "<tr><th>league</th><th>fixture_date</th><th>fixture_id</th><th>period_first</th><th>period_second</th><th>referee</th><th>status_elapsed</th><th>status_extra</th><th>status_long</th><th>timestamp</th><th>venue_id</th><th>team_away_id</th><th>team_home_id</th><th>goals_away</th><th>goals_home</th></tr>\n",
       "<tr><td>909</td><td>2025-04-25T00:00:...</td><td>1345365</td><td>2025-04-25T02:00:...</td><td>2025-04-25T03:00:...</td><td>r  homik</td><td>90</td><td>7</td><td>match finished</td><td>2025-04-25T02:00:...</td><td>dick_amp_apos_s_s...</td><td>18814</td><td>4102</td><td>2</td><td>0</td></tr>\n",
       "<tr><td>243</td><td>2025-04-25T00:00:...</td><td>1354612</td><td>2025-04-25T02:00:...</td><td>2025-04-25T03:00:...</td><td>NULL</td><td>90</td><td>5</td><td>match finished</td><td>2025-04-25T02:00:...</td><td>estadio_monumenta...</td><td>1159</td><td>10112</td><td>1</td><td>1</td></tr>\n",
       "<tr><td>13</td><td>2025-04-25T00:00:...</td><td>1361899</td><td>2025-04-25T02:00:...</td><td>2025-04-25T03:00:...</td><td>mario alberto dia...</td><td>90</td><td>5</td><td>match finished</td><td>2025-04-25T02:00:...</td><td>casa_de_apostas_a...</td><td>1137</td><td>118</td><td>0</td><td>1</td></tr>\n",
       "<tr><td>263</td><td>2025-04-25T00:00:...</td><td>1372443</td><td>2025-04-25T02:00:...</td><td>2025-04-25T03:00:...</td><td>m  l pez s nchez</td><td>90</td><td>8</td><td>match finished</td><td>2025-04-25T02:00:...</td><td>estadio_ol_mpico_...</td><td>2299</td><td>2311</td><td>0</td><td>2</td></tr>\n",
       "<tr><td>13</td><td>2025-04-25T00:30:...</td><td>1361901</td><td>2025-04-25T02:30:...</td><td>2025-04-25T03:30:...</td><td>esteban ostojich ...</td><td>90</td><td>5</td><td>match finished</td><td>2025-04-25T02:30:...</td><td>estadio_ueno_la_n...</td><td>2546</td><td>1176</td><td>2</td><td>2</td></tr>\n",
       "<tr><td>11</td><td>2025-04-25T00:30:...</td><td>1362132</td><td>2025-04-25T02:30:...</td><td>2025-04-25T03:30:...</td><td>mathias de armas ...</td><td>90</td><td>NULL</td><td>match finished</td><td>2025-04-25T02:30:...</td><td>estadio_bicentena...</td><td>135</td><td>2318</td><td>1</td><td>2</td></tr>\n",
       "<tr><td>11</td><td>2025-04-25T00:30:...</td><td>1362139</td><td>2025-04-25T02:30:...</td><td>2025-04-25T03:30:...</td><td>nicolas ramirez  ...</td><td>90</td><td>12</td><td>match finished</td><td>2025-04-25T02:30:...</td><td>estadio_tierra_de...</td><td>2562</td><td>2319</td><td>2</td><td>2</td></tr>\n",
       "<tr><td>72</td><td>2025-04-25T00:35:...</td><td>1353308</td><td>2025-04-25T02:35:...</td><td>2025-04-25T03:35:...</td><td>denis da silva ri...</td><td>90</td><td>5</td><td>match finished</td><td>2025-04-25T02:35:...</td><td>est_dio_dr__jorge...</td><td>134</td><td>7834</td><td>1</td><td>2</td></tr>\n",
       "<tr><td>422</td><td>2025-04-25T01:00:...</td><td>1337904</td><td>NULL</td><td>NULL</td><td>NULL</td><td>NULL</td><td>NULL</td><td>not started</td><td>2025-04-25T03:00:...</td><td>valerie_playing_f...</td><td>8406</td><td>8417</td><td>NULL</td><td>NULL</td></tr>\n",
       "<tr><td>673</td><td>2025-04-25T01:00:...</td><td>1372193</td><td>2025-04-25T03:00:...</td><td>2025-04-25T04:00:...</td><td>NULL</td><td>90</td><td>8</td><td>match finished</td><td>2025-04-25T03:00:...</td><td>estadio_akron</td><td>14870</td><td>14876</td><td>0</td><td>2</td></tr>\n",
       "<tr><td>339</td><td>2025-04-25T02:00:...</td><td>1334268</td><td>2025-04-25T04:00:...</td><td>2025-04-25T05:00:...</td><td>NULL</td><td>90</td><td>3</td><td>match finished</td><td>2025-04-25T04:00:...</td><td>estadio_mario_cam...</td><td>3657</td><td>3667</td><td>0</td><td>2</td></tr>\n",
       "<tr><td>957</td><td>2025-04-25T02:00:...</td><td>1359205</td><td>NULL</td><td>NULL</td><td>NULL</td><td>90</td><td>NULL</td><td>match finished</td><td>2025-04-25T04:00:...</td><td>ferrymead_park</td><td>20661</td><td>20662</td><td>2</td><td>2</td></tr>\n",
       "<tr><td>957</td><td>2025-04-25T02:00:...</td><td>1359206</td><td>NULL</td><td>NULL</td><td>NULL</td><td>NULL</td><td>NULL</td><td>not started</td><td>2025-04-25T04:00:...</td><td>recreation_centre__</td><td>20667</td><td>24318</td><td>NULL</td><td>NULL</td></tr>\n",
       "<tr><td>11</td><td>2025-04-25T02:00:...</td><td>1362126</td><td>2025-04-25T04:00:...</td><td>2025-04-25T05:00:...</td><td>yender herrera  v...</td><td>90</td><td>6</td><td>match finished</td><td>2025-04-25T04:00:...</td><td>estadio_ol_mpico_...</td><td>442</td><td>1157</td><td>1</td><td>3</td></tr>\n",
       "<tr><td>1127</td><td>2025-04-25T02:00:...</td><td>1371208</td><td>NULL</td><td>NULL</td><td>NULL</td><td>NULL</td><td>NULL</td><td>not started</td><td>2025-04-25T04:00:...</td><td>brains_park__</td><td>24308</td><td>24320</td><td>NULL</td><td>NULL</td></tr>\n",
       "<tr><td>1127</td><td>2025-04-25T02:00:...</td><td>1371210</td><td>NULL</td><td>NULL</td><td>NULL</td><td>NULL</td><td>NULL</td><td>not started</td><td>2025-04-25T04:00:...</td><td>litt_park__</td><td>17051</td><td>24305</td><td>NULL</td><td>NULL</td></tr>\n",
       "<tr><td>1127</td><td>2025-04-25T02:00:...</td><td>1371211</td><td>NULL</td><td>NULL</td><td>NULL</td><td>NULL</td><td>NULL</td><td>not started</td><td>2025-04-25T04:00:...</td><td>michaels_avenue_r...</td><td>24302</td><td>24241</td><td>NULL</td><td>NULL</td></tr>\n",
       "<tr><td>1127</td><td>2025-04-25T02:00:...</td><td>1371213</td><td>NULL</td><td>NULL</td><td>NULL</td><td>NULL</td><td>NULL</td><td>not started</td><td>2025-04-25T04:00:...</td><td>mclennan_park__</td><td>24303</td><td>24285</td><td>NULL</td><td>NULL</td></tr>\n",
       "<tr><td>1127</td><td>2025-04-25T02:00:...</td><td>1371214</td><td>NULL</td><td>NULL</td><td>NULL</td><td>NULL</td><td>NULL</td><td>not started</td><td>2025-04-25T04:00:...</td><td>otorohanga_domain__</td><td>24254</td><td>24279</td><td>NULL</td><td>NULL</td></tr>\n",
       "<tr><td>1127</td><td>2025-04-25T02:00:...</td><td>1371215</td><td>NULL</td><td>NULL</td><td>NULL</td><td>NULL</td><td>NULL</td><td>not started</td><td>2025-04-25T04:00:...</td><td>rongomai_park__</td><td>24242</td><td>24295</td><td>NULL</td><td>NULL</td></tr>\n",
       "</table>\n",
       "only showing top 20 rows\n"
      ]
     },
     "execution_count": 52,
     "metadata": {},
     "output_type": "execute_result"
    }
   ],
   "execution_count": 52
  },
  {
   "metadata": {
    "ExecuteTime": {
     "end_time": "2025-05-17T16:01:06.770843Z",
     "start_time": "2025-05-17T16:01:06.314768Z"
    }
   },
   "cell_type": "code",
   "outputs": [
    {
     "name": "stdout",
     "output_type": "stream",
     "text": [
      "0\n",
      "0\n"
     ]
    }
   ],
   "execution_count": 40,
   "source": [
    "print(df_ex.filter(col('team_home_winner') == True).filter(col('goals_away') > col('goals_home')).count())\n",
    "print(df_ex.filter(col('team_away_winner') == True).filter(col('goals_home') > col('goals_away')).count())"
   ],
   "id": "b7394eae5a4f2da5"
  },
  {
   "metadata": {
    "ExecuteTime": {
     "end_time": "2025-05-17T14:10:54.906344Z",
     "start_time": "2025-05-17T14:10:54.723313Z"
    }
   },
   "cell_type": "code",
   "source": "df_ex.filter(col('teams.away.name').startswith('Juventus')).head()",
   "id": "fef647482c144722",
   "outputs": [
    {
     "data": {
      "text/plain": [
       "Row(goals=Row(away=1, home=3), league=139, teams=Row(away=Row(id=1886, logo='https://media.api-sports.io/football/teams/1886.png', name='Juventus W', winner=False), home=Row(id=1880, logo='https://media.api-sports.io/football/teams/1880.png', name='Fiorentina W', winner=True)), fixture_date='2025-04-25T10:30:00+00:00', fixture_id=1351012, period_first=1745577000, period_second=1745580600, referee=None, status_elapsed=90, status_extra=5, status_long='Match Finished', status_short='FT', timestamp=1745577000, timezone='UTC', venue_city='Bagno a Ripoli', venue_id=21168, venue_name='Stadio Curva Fiesole - Viola Park')"
      ]
     },
     "execution_count": 29,
     "metadata": {},
     "output_type": "execute_result"
    }
   ],
   "execution_count": 29
  }
 ],
 "metadata": {
  "kernelspec": {
   "display_name": "Python 3",
   "language": "python",
   "name": "python3"
  },
  "language_info": {
   "codemirror_mode": {
    "name": "ipython",
    "version": 2
   },
   "file_extension": ".py",
   "mimetype": "text/x-python",
   "name": "python",
   "nbconvert_exporter": "python",
   "pygments_lexer": "ipython2",
   "version": "2.7.6"
  }
 },
 "nbformat": 4,
 "nbformat_minor": 5
}
