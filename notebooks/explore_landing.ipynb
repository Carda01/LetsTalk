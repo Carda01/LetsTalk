{
 "cells": [
  {
   "cell_type": "code",
   "id": "initial_id",
   "metadata": {
    "collapsed": true,
    "ExecuteTime": {
     "end_time": "2025-04-29T10:25:11.108859Z",
     "start_time": "2025-04-29T10:25:11.047844Z"
    }
   },
   "source": [
    "import pyspark\n",
    "from pyspark.sql.functions import current_timestamp\n",
    "from delta import *"
   ],
   "outputs": [],
   "execution_count": 1
  },
  {
   "metadata": {
    "ExecuteTime": {
     "end_time": "2025-04-29T10:25:11.116088Z",
     "start_time": "2025-04-29T10:25:11.114112Z"
    }
   },
   "cell_type": "code",
   "source": [
    "def create_spark_session():\n",
    "    conf = (\n",
    "        pyspark.conf.SparkConf()\n",
    "        .setAppName(\"LetsTalk\")\n",
    "        .set(\n",
    "            \"spark.sql.catalog.spark_catalog\",\n",
    "            \"org.apache.spark.sql.delta.catalog.DeltaCatalog\",\n",
    "        )\n",
    "        .set(\"spark.sql.extensions\", \"io.delta.sql.DeltaSparkSessionExtension\")\n",
    "        .set(\"spark.hadoop.fs.gs.impl\", \"com.google.cloud.hadoop.fs.gcs.GoogleHadoopFileSystem\")\n",
    "        .set(\"spark.hadoop.google.cloud.auth.service.account.enable\", \"true\")\n",
    "        .set(\"spark.hadoop.google.cloud.auth.service.account.json.keyfile\", \"/Users/alfio/projects/upc/LetsTalkBDM/gcs.json\")\n",
    "        .set(\"spark.sql.shuffle.partitions\", \"4\")\n",
    "        .set(\"spark.jars\", \"../jars/gcs-connector-hadoop3-latest.jar\")\n",
    "        .setMaster(\n",
    "            \"local[*]\"\n",
    "        )\n",
    "    )\n",
    "\n",
    "    builder = pyspark.sql.SparkSession.builder.appName(\"LetsTalk\").config(conf=conf)\n",
    "    spark = configure_spark_with_delta_pip(builder).getOrCreate()\n",
    "    return spark\n",
    "\n"
   ],
   "id": "a0fed999dd78466a",
   "outputs": [],
   "execution_count": 2
  },
  {
   "metadata": {
    "ExecuteTime": {
     "end_time": "2025-04-29T10:58:23.740175Z",
     "start_time": "2025-04-29T10:58:23.712821Z"
    }
   },
   "cell_type": "code",
   "source": [
    "spark = create_spark_session()\n",
    "spark.conf.set('spark.sql.repl.eagerEval.enabled', True)"
   ],
   "id": "314d425a93c6dfe7",
   "outputs": [],
   "execution_count": 11
  },
  {
   "metadata": {
    "ExecuteTime": {
     "end_time": "2025-04-29T10:25:16.423323Z",
     "start_time": "2025-04-29T10:25:15.684797Z"
    }
   },
   "cell_type": "code",
   "source": [
    "deltaTable = DeltaTable.forPath(spark, \"../data/letstalk_landing_zone_bdma/delta_news/entertainment\")\n",
    "df = deltaTable.toDF()"
   ],
   "id": "16a0124018012ce5",
   "outputs": [],
   "execution_count": 4
  },
  {
   "metadata": {
    "ExecuteTime": {
     "end_time": "2025-04-29T11:02:31.248063Z",
     "start_time": "2025-04-29T11:02:31.110880Z"
    }
   },
   "cell_type": "code",
   "source": "df.groupBy('publishedAt').count().orderBy('count', ascending=False).show()",
   "id": "fcb0ac2df2bcacd5",
   "outputs": [
    {
     "name": "stdout",
     "output_type": "stream",
     "text": [
      "+--------------------+-----+\n",
      "|         publishedAt|count|\n",
      "+--------------------+-----+\n",
      "|2025-04-25T02:00:00Z|    3|\n",
      "|2025-04-22T00:45:04Z|    3|\n",
      "|2025-04-25T20:38:00Z|    2|\n",
      "|2025-04-25T23:01:39Z|    2|\n",
      "|2025-04-26T01:01:00Z|    2|\n",
      "|2025-04-17T02:47:45Z|    2|\n",
      "|2025-04-16T14:00:00Z|    2|\n",
      "|2025-04-25T20:57:06Z|    2|\n",
      "|2025-04-17T07:01:36Z|    2|\n",
      "|2025-04-24T20:31:40Z|    2|\n",
      "|2025-04-17T04:01:00Z|    2|\n",
      "|2025-04-25T02:58:00Z|    2|\n",
      "|2025-04-17T02:29:12Z|    2|\n",
      "|2025-04-25T22:30:00Z|    2|\n",
      "|2025-04-23T13:00:00Z|    2|\n",
      "|2025-04-26T00:17:00Z|    2|\n",
      "|2025-04-16T19:00:00Z|    2|\n",
      "|2025-04-22T00:55:31Z|    2|\n",
      "|2025-04-27T11:00:00Z|    2|\n",
      "|2025-04-22T00:02:58Z|    2|\n",
      "+--------------------+-----+\n",
      "only showing top 20 rows\n",
      "\n"
     ]
    }
   ],
   "execution_count": 16
  }
 ],
 "metadata": {
  "kernelspec": {
   "display_name": "Python 3",
   "language": "python",
   "name": "python3"
  },
  "language_info": {
   "codemirror_mode": {
    "name": "ipython",
    "version": 2
   },
   "file_extension": ".py",
   "mimetype": "text/x-python",
   "name": "python",
   "nbconvert_exporter": "python",
   "pygments_lexer": "ipython2",
   "version": "2.7.6"
  }
 },
 "nbformat": 4,
 "nbformat_minor": 5
}
