{
 "cells": [
  {
   "cell_type": "code",
   "id": "initial_id",
   "metadata": {
    "collapsed": true,
    "ExecuteTime": {
     "end_time": "2025-05-02T17:12:30.877094Z",
     "start_time": "2025-05-02T17:12:30.657682Z"
    }
   },
   "source": [
    "%load_ext autoreload\n",
    "%autoreload 2\n",
    "\n",
    "import pyspark\n",
    "from delta import *\n",
    "from dags.lib.IncrementalLoader import IncrementalLoader\n",
    "from dags.lib.Processer import *"
   ],
   "outputs": [],
   "execution_count": 1
  },
  {
   "metadata": {
    "ExecuteTime": {
     "end_time": "2025-05-02T17:12:30.884907Z",
     "start_time": "2025-05-02T17:12:30.879196Z"
    }
   },
   "cell_type": "code",
   "source": [
    "def create_spark_session():\n",
    "    conf = (\n",
    "        pyspark.conf.SparkConf()\n",
    "        .setAppName(\"LetsTalk\")\n",
    "        .set(\n",
    "            \"spark.sql.catalog.spark_catalog\",\n",
    "            \"org.apache.spark.sql.delta.catalog.DeltaCatalog\",\n",
    "        )\n",
    "        .set(\"spark.sql.extensions\", \"io.delta.sql.DeltaSparkSessionExtension\")\n",
    "        .set(\"spark.hadoop.fs.gs.impl\", \"com.google.cloud.hadoop.fs.gcs.GoogleHadoopFileSystem\")\n",
    "        .set(\"spark.hadoop.google.cloud.auth.service.account.enable\", \"true\")\n",
    "        .set(\"spark.hadoop.google.cloud.auth.service.account.json.keyfile\", \"/Users/alfio/projects/upc/BDMP2/gcs.json\")\n",
    "        .set(\"spark.sql.shuffle.partitions\", \"4\")\n",
    "        .set(\"spark.jars\", \"../jars/gcs-connector-hadoop3-latest.jar\")\n",
    "        .setMaster(\n",
    "            \"local[*]\"\n",
    "        )\n",
    "    )\n",
    "\n",
    "    builder = pyspark.sql.SparkSession.builder.appName(\"LetsTalk\").config(conf=conf)\n",
    "    spark = configure_spark_with_delta_pip(builder).getOrCreate()\n",
    "    return spark\n",
    "\n"
   ],
   "id": "a0fed999dd78466a",
   "outputs": [],
   "execution_count": 2
  },
  {
   "metadata": {
    "ExecuteTime": {
     "end_time": "2025-05-02T17:12:32.703022Z",
     "start_time": "2025-05-02T17:12:30.952162Z"
    }
   },
   "cell_type": "code",
   "source": [
    "spark = create_spark_session()\n",
    "spark.conf.set('spark.sql.repl.eagerEval.enabled', True)"
   ],
   "id": "314d425a93c6dfe7",
   "outputs": [
    {
     "name": "stdout",
     "output_type": "stream",
     "text": [
      ":: loading settings :: url = jar:file:/Users/alfio/python_venv/general/lib/python3.13/site-packages/pyspark/jars/ivy-2.5.1.jar!/org/apache/ivy/core/settings/ivysettings.xml\n"
     ]
    },
    {
     "name": "stderr",
     "output_type": "stream",
     "text": [
      "Ivy Default Cache set to: /Users/alfio/.ivy2/cache\n",
      "The jars for the packages stored in: /Users/alfio/.ivy2/jars\n",
      "io.delta#delta-spark_2.12 added as a dependency\n",
      ":: resolving dependencies :: org.apache.spark#spark-submit-parent-c39df9f1-d43c-4c89-b4ef-54d33d333177;1.0\n",
      "\tconfs: [default]\n",
      "\tfound io.delta#delta-spark_2.12;3.3.0 in central\n",
      "\tfound io.delta#delta-storage;3.3.0 in central\n",
      "\tfound org.antlr#antlr4-runtime;4.9.3 in central\n",
      ":: resolution report :: resolve 66ms :: artifacts dl 2ms\n",
      "\t:: modules in use:\n",
      "\tio.delta#delta-spark_2.12;3.3.0 from central in [default]\n",
      "\tio.delta#delta-storage;3.3.0 from central in [default]\n",
      "\torg.antlr#antlr4-runtime;4.9.3 from central in [default]\n",
      "\t---------------------------------------------------------------------\n",
      "\t|                  |            modules            ||   artifacts   |\n",
      "\t|       conf       | number| search|dwnlded|evicted|| number|dwnlded|\n",
      "\t---------------------------------------------------------------------\n",
      "\t|      default     |   3   |   0   |   0   |   0   ||   3   |   0   |\n",
      "\t---------------------------------------------------------------------\n",
      ":: retrieving :: org.apache.spark#spark-submit-parent-c39df9f1-d43c-4c89-b4ef-54d33d333177\n",
      "\tconfs: [default]\n",
      "\t0 artifacts copied, 3 already retrieved (0kB/2ms)\n",
      "25/05/02 19:12:31 WARN NativeCodeLoader: Unable to load native-hadoop library for your platform... using builtin-java classes where applicable\n",
      "Setting default log level to \"WARN\".\n",
      "To adjust logging level use sc.setLogLevel(newLevel). For SparkR, use setLogLevel(newLevel).\n"
     ]
    }
   ],
   "execution_count": 3
  },
  {
   "metadata": {
    "ExecuteTime": {
     "end_time": "2025-05-02T17:20:03.737694Z",
     "start_time": "2025-05-02T17:20:03.387349Z"
    }
   },
   "cell_type": "code",
   "source": [
    "loader = IncrementalLoader(spark, '/Users/alfio/projects/upc/BDMP2/data/letstalk_landing_zone_bdma', 'delta_news/entertainment')\n",
    "df = loader.get_new_data()"
   ],
   "id": "48958801fe4d1ecd",
   "outputs": [
    {
     "name": "stdout",
     "output_type": "stream",
     "text": [
      "CDF not available — doing full load\n"
     ]
    },
    {
     "name": "stderr",
     "output_type": "stream",
     "text": [
      "25/05/02 19:20:03 WARN DeltaHistoryManager: Found Delta commit 0 with a timestamp 1745921639145 which is greater than the next commit timestamp 1745921639145.\n",
      "25/05/02 19:20:03 WARN DeltaHistoryManager: Found Delta commit 2 with a timestamp 1745921639501 which is greater than the next commit timestamp 1745921639239.\n",
      "25/05/02 19:20:03 WARN DeltaHistoryManager: Found Delta commit 3 with a timestamp 1745921639502 which is greater than the next commit timestamp 1745921639185.\n",
      "25/05/02 19:20:03 WARN DeltaHistoryManager: Found Delta commit 5 with a timestamp 1745921639603 which is greater than the next commit timestamp 1745921639436.\n",
      "25/05/02 19:20:03 WARN DeltaHistoryManager: Found Delta commit 6 with a timestamp 1745921639604 which is greater than the next commit timestamp 1745921639330.\n",
      "25/05/02 19:20:03 WARN DeltaHistoryManager: Found Delta commit 7 with a timestamp 1745921639605 which is greater than the next commit timestamp 1745921639185.\n",
      "25/05/02 19:20:03 WARN DeltaHistoryManager: Found Delta commit 8 with a timestamp 1745921639606 which is greater than the next commit timestamp 1745921639294.\n",
      "25/05/02 19:20:03 WARN DeltaHistoryManager: Found Delta commit 9 with a timestamp 1745921639607 which is greater than the next commit timestamp 1745921639089.\n",
      "25/05/02 19:20:03 WARN DeltaHistoryManager: Found Delta commit 10 with a timestamp 1745921639608 which is greater than the next commit timestamp 1745921639185.\n",
      "25/05/02 19:20:03 WARN DeltaHistoryManager: Found Delta commit 11 with a timestamp 1745921639609 which is greater than the next commit timestamp 1745921639087.\n"
     ]
    }
   ],
   "execution_count": 20
  },
  {
   "metadata": {
    "ExecuteTime": {
     "end_time": "2025-05-02T17:26:54.029084Z",
     "start_time": "2025-05-02T17:26:54.017976Z"
    }
   },
   "cell_type": "code",
   "source": "processor = NewsProcessor(spark, df)",
   "id": "eff4df97460bd4d8",
   "outputs": [],
   "execution_count": 37
  },
  {
   "metadata": {
    "ExecuteTime": {
     "end_time": "2025-05-02T17:26:55.532772Z",
     "start_time": "2025-05-02T17:26:55.186624Z"
    }
   },
   "cell_type": "code",
   "source": [
    "processor.ensure_schema()\n",
    "processor.remove_clear_duplicates()\n",
    "processor.name_to_id()\n",
    "processor.remove_hidden_duplicates(['url'], ['publishedAt'])\n",
    "processor.normalize_text(['Title', 'Description', 'Content'])\n",
    "processor.expand_source()\n",
    "processor.order_by('publishedAt', ascending=False)"
   ],
   "id": "8aa9bbdbf1e22dcd",
   "outputs": [
    {
     "name": "stdout",
     "output_type": "stream",
     "text": [
      "Removed 40 simple duplicate(s)\n",
      "Removed 3 hidden duplicate(s)\n"
     ]
    }
   ],
   "execution_count": 38
  },
  {
   "metadata": {
    "ExecuteTime": {
     "end_time": "2025-05-02T17:26:56.971042Z",
     "start_time": "2025-05-02T17:26:56.700169Z"
    }
   },
   "cell_type": "code",
   "source": "processor.df",
   "id": "4dde318e39b78a0e",
   "outputs": [
    {
     "data": {
      "text/plain": [
       "+--------------------+--------------------+--------------------+--------------------+-------------------+------------------+--------------------+--------------------+\n",
       "|                 url|              author|             Content|         Description|        publishedAt|            source|               Title|          urlToImage|\n",
       "+--------------------+--------------------+--------------------+--------------------+-------------------+------------------+--------------------+--------------------+\n",
       "|http://www.hollyw...|       James Hibberd|bella ramsey s el...|bella ramsey brea...|2025-04-28 04:11:45|hollywood-reporter| the last of us  ...|https://www.holly...|\n",
       "|http://www.vultur...|        Keith Phipps|though most of th...|the jackson commu...|2025-04-28 04:00:03|           vulture| the last of us  ...|https://pyxis.nym...|\n",
       "|http://deadline.c...|   Natalie Oganesyan|the rock  amp  ro...|the rock   roll h...|2025-04-28 03:33:00|          deadline|outkast  cyndi la...|https://deadline....|\n",
       "|http://www.vultur...|        Sara Holdren|the new musical r...| real women have ...|2025-04-28 03:30:23|           vulture|bright and bold i...|https://pyxis.nym...|\n",
       "|https://www.eonli...|      Corinne Heller|originally appear...|new details about...|2025-04-28 02:25:00|       eonline.com|gene hackman s fi...|https://media.zen...|\n",
       "|https://www.foxne...|        Tracy Wright|katy perry fans w...|social media user...|2025-04-28 01:51:00|          fox-news|katy perry ridicu...|https://static.fo...|\n",
       "|https://wdwnt.com...|       Jamie Rowland|according to the ...|a daily updated r...|2025-04-28 01:44:03|         wdwnt.com|new york mom suin...|https://media.wdw...|\n",
       "|https://www.buzzf...|       Hannah Marder|                NULL| wouldn t it be f...|2025-04-28 01:31:02|          buzzfeed| it s always fat ...|https://img.buzzf...|\n",
       "|https://www.justj...|                NULL|rupert grint and ...|    congratulations |2025-04-28 01:28:20|        just-jared|rupert grint   lo...|https://cdn01.jus...|\n",
       "|https://www.cbsne...|   Kiki  Intarasuwan|jiggly caliente  ...|bianca castro ara...|2025-04-28 00:19:00|          cbs-news|jiggly caliente  ...|https://assets1.c...|\n",
       "|https://www.cinem...|        Nick Venable|as impossible a c...|an improvised mom...|2025-04-27 23:47:42|       cinemablend|the conners ep re...|https://cdn.mos.c...|\n",
       "|https://variety.c...|         Frank Rizzo|unlike the mobile...|the new musical f...|2025-04-27 23:00:00|           variety| dead outlaw  rev...|https://variety.c...|\n",
       "|https://www.empir...|                NULL|just days after n...|ryan coogler s si...|2025-04-27 22:48:55|            empire|box office booms ...|https://images.ba...|\n",
       "|http://www.hollyw...|        Georg Szalai|baby reindeer  sl...| bad sisters   ri...|2025-04-27 22:12:42|hollywood-reporter|bafta tv craft aw...|https://www.holly...|\n",
       "|https://www.insty...|https://www.faceb...|meghan markle has...|meghan markle sha...|2025-04-27 21:32:16|           instyle|meghan markle sha...|https://www.insty...|\n",
       "|https://www.bbc.c...|                NULL|laura gozzi\\r\\nth...|suspects who are ...|2025-04-27 21:26:56|          bbc-news| grandpa robbers ...|https://ichef.bbc...|\n",
       "|http://deadline.c...|Glenn Garner, Ant...|as francis ford c...|as francis ford c...|2025-04-27 21:11:00|          deadline|adam driver prais...|https://deadline....|\n",
       "|http://www.rollin...|        Daniel Kreps|kehlani responded...|kehlani responded...|2025-04-27 19:53:58|     rolling-stone|kehlani responds ...|https://www.rolli...|\n",
       "|https://variety.c...|       Rebecca Rubin| sinners  towered...| sinners  towered...|2025-04-27 17:29:00|           variety|box office   sinn...|https://variety.c...|\n",
       "|https://www.cages...|  Manolo Has Pizzazz|it wasnt buck hun...|a familiar name w...|2025-04-27 16:30:00|    cageside-seats|swerve strickland...|https://cdn.vox-c...|\n",
       "+--------------------+--------------------+--------------------+--------------------+-------------------+------------------+--------------------+--------------------+\n",
       "only showing top 20 rows"
      ],
      "text/html": [
       "<table border='1'>\n",
       "<tr><th>url</th><th>author</th><th>Content</th><th>Description</th><th>publishedAt</th><th>source</th><th>Title</th><th>urlToImage</th></tr>\n",
       "<tr><td>http://www.hollyw...</td><td>James Hibberd</td><td>bella ramsey s el...</td><td>bella ramsey brea...</td><td>2025-04-28 04:11:45</td><td>hollywood-reporter</td><td> the last of us  ...</td><td>https://www.holly...</td></tr>\n",
       "<tr><td>http://www.vultur...</td><td>Keith Phipps</td><td>though most of th...</td><td>the jackson commu...</td><td>2025-04-28 04:00:03</td><td>vulture</td><td> the last of us  ...</td><td>https://pyxis.nym...</td></tr>\n",
       "<tr><td>http://deadline.c...</td><td>Natalie Oganesyan</td><td>the rock  amp  ro...</td><td>the rock   roll h...</td><td>2025-04-28 03:33:00</td><td>deadline</td><td>outkast  cyndi la...</td><td>https://deadline....</td></tr>\n",
       "<tr><td>http://www.vultur...</td><td>Sara Holdren</td><td>the new musical r...</td><td> real women have ...</td><td>2025-04-28 03:30:23</td><td>vulture</td><td>bright and bold i...</td><td>https://pyxis.nym...</td></tr>\n",
       "<tr><td>https://www.eonli...</td><td>Corinne Heller</td><td>originally appear...</td><td>new details about...</td><td>2025-04-28 02:25:00</td><td>eonline.com</td><td>gene hackman s fi...</td><td>https://media.zen...</td></tr>\n",
       "<tr><td>https://www.foxne...</td><td>Tracy Wright</td><td>katy perry fans w...</td><td>social media user...</td><td>2025-04-28 01:51:00</td><td>fox-news</td><td>katy perry ridicu...</td><td>https://static.fo...</td></tr>\n",
       "<tr><td>https://wdwnt.com...</td><td>Jamie Rowland</td><td>according to the ...</td><td>a daily updated r...</td><td>2025-04-28 01:44:03</td><td>wdwnt.com</td><td>new york mom suin...</td><td>https://media.wdw...</td></tr>\n",
       "<tr><td>https://www.buzzf...</td><td>Hannah Marder</td><td>NULL</td><td> wouldn t it be f...</td><td>2025-04-28 01:31:02</td><td>buzzfeed</td><td> it s always fat ...</td><td>https://img.buzzf...</td></tr>\n",
       "<tr><td>https://www.justj...</td><td>NULL</td><td>rupert grint and ...</td><td>congratulations </td><td>2025-04-28 01:28:20</td><td>just-jared</td><td>rupert grint   lo...</td><td>https://cdn01.jus...</td></tr>\n",
       "<tr><td>https://www.cbsne...</td><td>Kiki  Intarasuwan</td><td>jiggly caliente  ...</td><td>bianca castro ara...</td><td>2025-04-28 00:19:00</td><td>cbs-news</td><td>jiggly caliente  ...</td><td>https://assets1.c...</td></tr>\n",
       "<tr><td>https://www.cinem...</td><td>Nick Venable</td><td>as impossible a c...</td><td>an improvised mom...</td><td>2025-04-27 23:47:42</td><td>cinemablend</td><td>the conners ep re...</td><td>https://cdn.mos.c...</td></tr>\n",
       "<tr><td>https://variety.c...</td><td>Frank Rizzo</td><td>unlike the mobile...</td><td>the new musical f...</td><td>2025-04-27 23:00:00</td><td>variety</td><td> dead outlaw  rev...</td><td>https://variety.c...</td></tr>\n",
       "<tr><td>https://www.empir...</td><td>NULL</td><td>just days after n...</td><td>ryan coogler s si...</td><td>2025-04-27 22:48:55</td><td>empire</td><td>box office booms ...</td><td>https://images.ba...</td></tr>\n",
       "<tr><td>http://www.hollyw...</td><td>Georg Szalai</td><td>baby reindeer  sl...</td><td> bad sisters   ri...</td><td>2025-04-27 22:12:42</td><td>hollywood-reporter</td><td>bafta tv craft aw...</td><td>https://www.holly...</td></tr>\n",
       "<tr><td>https://www.insty...</td><td>https://www.faceb...</td><td>meghan markle has...</td><td>meghan markle sha...</td><td>2025-04-27 21:32:16</td><td>instyle</td><td>meghan markle sha...</td><td>https://www.insty...</td></tr>\n",
       "<tr><td>https://www.bbc.c...</td><td>NULL</td><td>laura gozzi\\r\\nth...</td><td>suspects who are ...</td><td>2025-04-27 21:26:56</td><td>bbc-news</td><td> grandpa robbers ...</td><td>https://ichef.bbc...</td></tr>\n",
       "<tr><td>http://deadline.c...</td><td>Glenn Garner, Ant...</td><td>as francis ford c...</td><td>as francis ford c...</td><td>2025-04-27 21:11:00</td><td>deadline</td><td>adam driver prais...</td><td>https://deadline....</td></tr>\n",
       "<tr><td>http://www.rollin...</td><td>Daniel Kreps</td><td>kehlani responded...</td><td>kehlani responded...</td><td>2025-04-27 19:53:58</td><td>rolling-stone</td><td>kehlani responds ...</td><td>https://www.rolli...</td></tr>\n",
       "<tr><td>https://variety.c...</td><td>Rebecca Rubin</td><td> sinners  towered...</td><td> sinners  towered...</td><td>2025-04-27 17:29:00</td><td>variety</td><td>box office   sinn...</td><td>https://variety.c...</td></tr>\n",
       "<tr><td>https://www.cages...</td><td>Manolo Has Pizzazz</td><td>it wasnt buck hun...</td><td>a familiar name w...</td><td>2025-04-27 16:30:00</td><td>cageside-seats</td><td>swerve strickland...</td><td>https://cdn.vox-c...</td></tr>\n",
       "</table>\n",
       "only showing top 20 rows\n"
      ]
     },
     "execution_count": 39,
     "metadata": {},
     "output_type": "execute_result"
    }
   ],
   "execution_count": 39
  }
 ],
 "metadata": {
  "kernelspec": {
   "display_name": "Python 3",
   "language": "python",
   "name": "python3"
  },
  "language_info": {
   "codemirror_mode": {
    "name": "ipython",
    "version": 2
   },
   "file_extension": ".py",
   "mimetype": "text/x-python",
   "name": "python",
   "nbconvert_exporter": "python",
   "pygments_lexer": "ipython2",
   "version": "2.7.6"
  }
 },
 "nbformat": 4,
 "nbformat_minor": 5
}
