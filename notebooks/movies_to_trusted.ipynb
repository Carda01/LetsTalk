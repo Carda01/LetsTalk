{
 "cells": [
  {
   "cell_type": "code",
   "execution_count": 21,
   "id": "e743debb",
   "metadata": {},
   "outputs": [
    {
     "name": "stdout",
     "output_type": "stream",
     "text": [
      "The autoreload extension is already loaded. To reload it, use:\n",
      "  %reload_ext autoreload\n"
     ]
    },
    {
     "name": "stderr",
     "output_type": "stream",
     "text": [
      "[autoreload of dags.lib.IncrementalLoader failed: Traceback (most recent call last):\n",
      "  File \"c:\\Users\\josub\\.conda\\envs\\spark311\\Lib\\site-packages\\IPython\\extensions\\autoreload.py\", line 283, in check\n",
      "    superreload(m, reload, self.old_objects)\n",
      "  File \"c:\\Users\\josub\\.conda\\envs\\spark311\\Lib\\site-packages\\IPython\\extensions\\autoreload.py\", line 483, in superreload\n",
      "    module = reload(module)\n",
      "             ^^^^^^^^^^^^^^\n",
      "  File \"c:\\Users\\josub\\.conda\\envs\\spark311\\Lib\\importlib\\__init__.py\", line 169, in reload\n",
      "    _bootstrap._exec(spec, module)\n",
      "  File \"<frozen importlib._bootstrap>\", line 621, in _exec\n",
      "  File \"<frozen importlib._bootstrap_external>\", line 940, in exec_module\n",
      "  File \"<frozen importlib._bootstrap>\", line 241, in _call_with_frames_removed\n",
      "  File \"c:\\Users\\josub\\Desktop\\BDMA\\Barcelona\\Big_Data_Management\\SmallProject\\LetsTalk\\notebooks\\..\\dags\\lib\\IncrementalLoader.py\", line 7, in <module>\n",
      "    from lib.pt_utils import get_logger, gcs_path_exists\n",
      "ModuleNotFoundError: No module named 'lib.pt_utils'\n",
      "]\n"
     ]
    }
   ],
   "source": [
    "from pyspark.sql.types import IntegerType\n",
    "%load_ext autoreload\n",
    "%autoreload 2\n",
    "\n",
    "import pyspark\n",
    "from delta import *\n",
    "import copy\n",
    "import sys\n",
    "\n",
    "sys.path.append(\"..\")  # Adjust path if needed\n",
    "from dags.lib.IncrementalLoader import IncrementalLoader\n",
    "from dags.lib.Processer import *\n",
    "from dags.lib.pt_utils import *\n",
    "from pyspark.sql.utils import AnalysisException\n",
    "from pyspark.sql.functions import col, lit, max as spark_max, length, row_number, explode\n",
    "\n",
    "def create_spark_local_session():\n",
    "    builder = pyspark.sql.SparkSession.builder.appName(\"LetsTalk\") \\\n",
    "        .config(\"spark.sql.extensions\", \"io.delta.sql.DeltaSparkSessionExtension\") \\\n",
    "        .config(\"spark.sql.catalog.spark_catalog\", \"org.apache.spark.sql.delta.catalog.DeltaCatalog\")\n",
    "\n",
    "    spark = configure_spark_with_delta_pip(builder).getOrCreate()\n",
    "    return spark\n",
    "\n"
   ]
  },
  {
   "cell_type": "code",
   "execution_count": 13,
   "id": "41fd6ae4",
   "metadata": {},
   "outputs": [],
   "source": [
    "spark = create_spark_local_session()\n",
    "spark.conf.set('spark.sql.repl.eagerEval.enabled', True)"
   ]
  },
  {
   "cell_type": "code",
   "execution_count": null,
   "id": "00a92045",
   "metadata": {},
   "outputs": [
    {
     "name": "stdout",
     "output_type": "stream",
     "text": [
      "INFO:dags.lib.pt_utils:False\n",
      "INFO:dags.lib.pt_utils:False\n",
      "..\\data\\letstalk_trusted_zone_bdma\\control_table\n",
      "Delta table exists.\n"
     ]
    }
   ],
   "source": [
    "is_gcs_enabled= \"False\"\n",
    "if is_gcs_enabled.lower() == 'true':\n",
    "    is_gcs_enabled = True\n",
    "else:\n",
    "    is_gcs_enabled = False\n",
    "\n",
    "spark, base_path = get_spark_and_path(is_gcs_enabled)\n",
    "\n",
    "landing_path = '..\\data\\letstalk_landing_zone_bdma' #get_landing_path(base_path)\n",
    "trusted_path ='..\\data\\letstalk_trusted_zone_bdma'\n",
    "\n",
    "path= '..\\data\\letstalk_trusted_zone_bdma\\control_table'\n",
    "\n",
    "try:\n",
    "    delta_table = DeltaTable.forPath(spark, path)\n",
    "    print(\"Delta table exists.\")\n",
    "except AnalysisException:\n",
    "    print(\"Delta table does not exist. Starting initialization\")\n",
    "    movies_subpath = r'delta_tmdb\\database\\movie'\n",
    "    genre_subpath  = r'delta_tmdb\\database\\genre'\n",
    "    movies_genre_subpath = r'delta_tmdb\\database\\movie_genre'\n",
    "\n",
    "    loader = IncrementalLoader(spark, landing_path, movies_subpath)\n",
    "    df = loader.get_new_data()\n",
    "    loader_genre = IncrementalLoader(spark, landing_path, genre_subpath)\n",
    "    df_genre= loader_genre.get_new_data()\n",
    "    loader_mov_gen = IncrementalLoader(spark, landing_path, movies_genre_subpath)\n",
    "    df_mov_gen= loader_mov_gen.get_new_data()\n",
    "\n",
    "    processor = TMDBProcessor(spark, df)\n",
    "\n",
    "    processor.ensure_schema()\n",
    "    processor.normalize_text(['overview'])\n",
    "    processor.remove_clear_duplicates()\n",
    "    processor.remove_hidden_duplicates(['film_id'], ['ingestion_time'], True)\n",
    "\n",
    "    processor.set_genre_df(df_genre)\n",
    "    processor.ensure_schema_genres()\n",
    "\n",
    "    processor.genre_df = processor.genre_df.withColumn(\"genre\", lower(col(\"genre\")))\n",
    "    processor.genre_df = processor.genre_df.withColumn(\"genre\", regexp_replace(col(\"genre\"), r\"http\\S+|www\\.\\S+\", \" \"))\n",
    "    processor.genre_df = processor.genre_df.withColumn(\"genre\", regexp_replace(col(\"genre\"), r\"[^a-zA-Z\\s]\", \" \"))\n",
    "    processor.genre_df.dropDuplicates()\n",
    "    window = Window.partitionBy(*[\"genre\"]).orderBy(*[\"genre_id\"])\n",
    "    processor.genre_df= (\n",
    "            processor.genre_df.withColumn(\"row_num\", F.row_number().over(window)).filter(F.col(\"row_num\") == 1).drop(\"row_num\")\n",
    "            )\n",
    "\n",
    "    processor.set_movie_genre_df(df_mov_gen)\n",
    "    processor.ensure_schema_movie_genres()\n",
    "    processor.movie_genre_df.dropDuplicates()\n",
    "\n",
    "    processor.static_dump(trusted_path)"
   ]
  },
  {
   "cell_type": "code",
   "execution_count": 16,
   "id": "39d00aa5",
   "metadata": {},
   "outputs": [
    {
     "name": "stdout",
     "output_type": "stream",
     "text": [
      "CDF not available — doing full load\n",
      "CDF not available — doing full load\n",
      "CDF not available — doing full load\n"
     ]
    },
    {
     "name": "stderr",
     "output_type": "stream",
     "text": [
      "INFO:root:Removed 0 simple duplicate(s)\n",
      "INFO:root:Removed 0 hidden duplicate(s)\n"
     ]
    },
    {
     "name": "stdout",
     "output_type": "stream",
     "text": [
      "+-------+--------------------+---------------------------+-----------------+--------------------+------------+----------+---------+-------+-----+----------+------------+----------+--------------------+\n",
      "|film_id|               title|             original_title|original_language|            overview|release_date|   revenue|   budget|runtime|adult|popularity|vote_average|vote_count|      ingestion_time|\n",
      "+-------+--------------------+---------------------------+-----------------+--------------------+------------+----------+---------+-------+-----+----------+------------+----------+--------------------+\n",
      "|     19|          Metropolis|                 Metropolis|               de|in a futuristic c...|  1927-03-06|    650422|  1300000|  149.0|false|    17.498|         8.2|      1598|2025-05-14 08:35:...|\n",
      "|     22|Pirates of the Ca...|       Pirates of the Ca...|               en|jack sparrow  a f...|  2003-07-09| 655011224|140000000|  143.0|false|    56.942|         7.7|     15060|2025-05-14 08:35:...|\n",
      "|     26|       Walk on Water|         LaLehet Al HaMayim|               he|eyal  an israeli ...|  2004-02-05|         0|  1400000|  103.0|false|     3.733|         7.0|        47|2025-05-14 08:35:...|\n",
      "|     65|              8 Mile|                     8 Mile|               en|the setting is de...|  2002-11-08| 242875078| 41000000|  110.0|false|    27.133|         7.1|      4796|2025-05-14 08:35:...|\n",
      "|     77|             Memento|                    Memento|               en|leonard shelby is...|  2000-10-11|  39723096|  9000000|  113.0|false|    24.402|         8.2|     10079|2025-05-14 08:35:...|\n",
      "|     94|          Kunstgriff|                 Kunstgriff|               en|kunstgriff is a b...|  2002-01-01|         0|        0|    6.0|false|      0.84|        10.0|         1|2025-05-14 08:35:...|\n",
      "|    110|   Three Colors: Red|       Trois couleurs : ...|               fr|part time model v...|  1994-05-27|         0|        0|  100.0|false|    10.761|         8.0|       752|2025-05-14 08:35:...|\n",
      "|    112|Italian for Begin...|       Italiensk for beg...|               da|a group of strang...|  2000-12-07|         0|        0|   95.0|false|     5.798|         6.5|        80|2025-05-14 08:35:...|\n",
      "|    113|Spring, Summer, F...|봄 여름 가을 겨울 그리고 봄|               ko|an isolated lake ...|  2003-09-19|   6502364|        0|  103.0|false|     8.214|         7.8|       619|2025-05-14 08:35:...|\n",
      "|    126|   Short Working Day|         Krótki dzień pracy|               pl|kie lowski s stud...|  1981-06-27|         0|        0|   73.0|false|     3.359|         7.3|         3|2025-05-14 08:35:...|\n",
      "|    136|              Freaks|                     Freaks|               en|a circus  beautif...|  1932-02-12|         0|   310607|   62.0|false|     9.102|         7.8|       645|2025-05-14 08:35:...|\n",
      "|    144|     Wings of Desire|       Der Himmel über B...|               de|two angels  damie...|  1987-05-17|   3210139|  2500000|  128.0|false|     9.975|         7.8|       715|2025-05-14 08:35:...|\n",
      "|    149|               Akira|                     アキラ|               ja|a secret military...|  1988-07-16|         0| 10000000|  124.0|false|     29.69|         7.9|      2343|2025-05-14 08:35:...|\n",
      "|    155|     The Dark Knight|            The Dark Knight|               en|batman raises the...|  2008-07-16|1004558444|185000000|  152.0|false|    65.354|         8.5|     23458|2025-05-14 08:35:...|\n",
      "|    167|               K-PAX|                      K-PAX|               en|prot is a patient...|  2001-10-22|  50315140| 48000000|  120.0|false|    17.793|         7.2|      1510|2025-05-14 08:35:...|\n",
      "|    184|        Jackie Brown|               Jackie Brown|               en|jackie brown is a...|  1997-04-10|  39673162| 12000000|  154.0|false|    18.546|         7.3|      4244|2025-05-14 08:35:...|\n",
      "|    191|   The State I Am In|       Die innere Sicher...|               de|with     s german...|  2000-09-01|         0|  3000000|  106.0|false|     3.024|         7.2|        19|2025-05-14 08:35:...|\n",
      "|    196|Back to the Futur...|       Back to the Futur...|               en|the final install...|  1990-05-25| 244527583| 40000000|  119.0|false|    26.061|         7.4|      7110|2025-05-14 08:35:...|\n",
      "|    198|  To Be or Not to Be|         To Be or Not to Be|               en|during the nazi o...|  1942-03-05|         0|        0|   99.0|false|     6.811|         7.9|       363|2025-05-14 08:35:...|\n",
      "|    222|Berlin: Symphony ...|       Berlin: Die Sinfo...|               de|a train speeds th...|  1927-09-23|         0|        0|   69.0|false|     3.192|         7.8|        53|2025-05-14 08:35:...|\n",
      "+-------+--------------------+---------------------------+-----------------+--------------------+------------+----------+---------+-------+-----+----------+------------+----------+--------------------+\n",
      "only showing top 20 rows\n",
      "\n",
      "+--------+---------------+\n",
      "|genre_id|          genre|\n",
      "+--------+---------------+\n",
      "|      28|         action|\n",
      "|      12|      adventure|\n",
      "|      16|      animation|\n",
      "|      35|         comedy|\n",
      "|      80|          crime|\n",
      "|      99|    documentary|\n",
      "|      18|          drama|\n",
      "|   10751|         family|\n",
      "|      14|        fantasy|\n",
      "|      36|        history|\n",
      "|      27|         horror|\n",
      "|   10402|          music|\n",
      "|    9648|        mystery|\n",
      "|   10749|        romance|\n",
      "|     878|science fiction|\n",
      "|      53|       thriller|\n",
      "|   10770|       tv movie|\n",
      "|   10752|            war|\n",
      "|      37|        western|\n",
      "+--------+---------------+\n",
      "\n",
      "+-------+--------+--------------------+\n",
      "|film_id|genre_id|      ingestion_time|\n",
      "+-------+--------+--------------------+\n",
      "| 741067|      28|2025-05-14 08:35:...|\n",
      "| 741067|      18|2025-05-14 08:35:...|\n",
      "| 741067|      53|2025-05-14 08:35:...|\n",
      "| 497582|      80|2025-05-14 08:35:...|\n",
      "| 497582|      18|2025-05-14 08:35:...|\n",
      "| 497582|    9648|2025-05-14 08:35:...|\n",
      "| 749544|      53|2025-05-14 08:35:...|\n",
      "| 528085|     878|2025-05-14 08:35:...|\n",
      "| 528085|      53|2025-05-14 08:35:...|\n",
      "| 660982|      35|2025-05-14 08:35:...|\n",
      "| 748680|   10749|2025-05-14 08:35:...|\n",
      "| 748680|      18|2025-05-14 08:35:...|\n",
      "| 337401|      28|2025-05-14 08:35:...|\n",
      "| 337401|      12|2025-05-14 08:35:...|\n",
      "| 337401|      18|2025-05-14 08:35:...|\n",
      "| 337401|      14|2025-05-14 08:35:...|\n",
      "| 724989|      28|2025-05-14 08:35:...|\n",
      "| 724989|      53|2025-05-14 08:35:...|\n",
      "| 694919|      28|2025-05-14 08:35:...|\n",
      "| 539885|      28|2025-05-14 08:35:...|\n",
      "+-------+--------+--------------------+\n",
      "only showing top 20 rows\n",
      "\n"
     ]
    }
   ],
   "source": [
    "#static dataset to trusted  - one time operation\n",
    "absolute_path_to_landing = r'C:\\Users\\josub\\Desktop\\BDMA\\Barcelona\\Big_Data_Management\\SmallProject\\LetsTalk\\data\\letstalk_landing_zone_bdma'\n",
    "absolute_path_to_trusted = r'C:\\Users\\josub\\Desktop\\BDMA\\Barcelona\\Big_Data_Management\\SmallProject\\LetsTalk\\data\\letstalk_trusted_zone_bdma'\n",
    "movies_subpath = r'delta_tmdb\\database\\movie'\n",
    "genre_subpath  = r'delta_tmdb\\database\\genre'\n",
    "movies_genre_subpath = r'delta_tmdb\\database\\movie_genre'\n",
    "\n",
    "loader = IncrementalLoader(spark, absolute_path_to_landing, movies_subpath)\n",
    "df = loader.get_new_data()\n",
    "loader_genre = IncrementalLoader(spark, absolute_path_to_landing, genre_subpath)\n",
    "df_genre= loader_genre.get_new_data()\n",
    "loader_mov_gen = IncrementalLoader(spark, absolute_path_to_landing, movies_genre_subpath)\n",
    "df_mov_gen= loader_mov_gen.get_new_data()\n",
    "\n",
    "processor = TMDBProcessor(spark, df)\n",
    "\n",
    "processor.ensure_schema()\n",
    "processor.normalize_text(['overview'])\n",
    "processor.remove_clear_duplicates()\n",
    "processor.remove_hidden_duplicates(['film_id'], ['ingestion_time'], True)\n",
    "\n",
    "processor.set_genre_df(df_genre)\n",
    "processor.ensure_schema_genres()\n",
    "\n",
    "processor.genre_df = processor.genre_df.withColumn(\"genre\", lower(col(\"genre\")))\n",
    "processor.genre_df = processor.genre_df.withColumn(\"genre\", regexp_replace(col(\"genre\"), r\"http\\S+|www\\.\\S+\", \" \"))\n",
    "processor.genre_df = processor.genre_df.withColumn(\"genre\", regexp_replace(col(\"genre\"), r\"[^a-zA-Z\\s]\", \" \"))\n",
    "processor.genre_df.dropDuplicates()\n",
    "window = Window.partitionBy(*[\"genre\"]).orderBy(*[\"genre_id\"])\n",
    "processor.genre_df= (\n",
    "         processor.genre_df.withColumn(\"row_num\", F.row_number().over(window)).filter(F.col(\"row_num\") == 1).drop(\"row_num\")\n",
    "        )\n",
    "\n",
    "processor.set_movie_genre_df(df_mov_gen)\n",
    "processor.ensure_schema_movie_genres()\n",
    "processor.movie_genre_df.dropDuplicates()\n",
    "\n",
    "processor.static_dump(absolute_path_to_trusted)\n",
    "\n",
    "print(processor.df)\n",
    "print(processor.genre_df)\n",
    "print(processor.movie_genre_df)\n"
   ]
  },
  {
   "cell_type": "code",
   "execution_count": null,
   "id": "b0a61945",
   "metadata": {},
   "outputs": [
    {
     "name": "stdout",
     "output_type": "stream",
     "text": [
      "CDF not available — doing full load\n",
      "CDF not available — doing full load\n"
     ]
    },
    {
     "name": "stderr",
     "output_type": "stream",
     "text": [
      "INFO:root:Processor -  df:100 records | movie_genre:270\n",
      "INFO:root:Processor -  df:140 records | movie_genre:377\n",
      "INFO:root:Merged -  df:240 records | movie_genre:647\n"
     ]
    },
    {
     "name": "stdout",
     "output_type": "stream",
     "text": [
      "CDF not available — doing full load\n"
     ]
    },
    {
     "name": "stderr",
     "output_type": "stream",
     "text": [
      "INFO:root:Processor -  df:240 records | movie_genre:647\n",
      "INFO:root:Processor -  df:100 records | movie_genre:264\n",
      "INFO:root:Merged -  df:340 records | movie_genre:911\n",
      "INFO:root:Removed 0 simple duplicate(s)\n",
      "INFO:root:Removed 264 hidden duplicate(s)\n"
     ]
    }
   ],
   "source": [
    "#api dataset to trusted  - to be repeated\n",
    "absolute_path_to_landing = r'C:\\Users\\josub\\Desktop\\BDMA\\Barcelona\\Big_Data_Management\\SmallProject\\LetsTalk\\data\\letstalk_landing_zone_bdma'\n",
    "table_subpaths = [r'delta_tmdb\\now_playing',r'delta_tmdb\\trending',r'delta_tmdb\\upcoming']\n",
    "absolute_path_to_trusted = r'C:\\Users\\josub\\Desktop\\BDMA\\Barcelona\\Big_Data_Management\\SmallProject\\LetsTalk\\data\\letstalk_trusted_zone_bdma'\n",
    "\n",
    "for i in range(len(table_subpaths)):\n",
    "    loader = IncrementalLoader(spark, absolute_path_to_landing, table_subpaths[i])\n",
    "    df = loader.get_new_data()\n",
    "    if i==0:\n",
    "        processor= TMDBProcessor(spark, df)\n",
    "\n",
    "        processor.ensure_schema()\n",
    "        processor.normalize_text(['overview'])\n",
    "        processor.ensure_schema_movie_genres()\n",
    "    \n",
    "    else:\n",
    "        processor1= TMDBProcessor(spark, df)\n",
    "\n",
    "        processor1.ensure_schema()\n",
    "        processor1.normalize_text(['overview'])\n",
    "        processor1.ensure_schema_movie_genres()\n",
    "        processor.combine_dfs(processor1)\n",
    "    \n",
    "processor.merge_with_trusted(absolute_path_to_trusted)\n"
   ]
  },
  {
   "cell_type": "code",
   "execution_count": 31,
   "id": "d1190947",
   "metadata": {},
   "outputs": [
    {
     "name": "stdout",
     "output_type": "stream",
     "text": [
      "+-------+--------------------+--------------------+-----------------+--------------------+------------+---------+--------+-------+-----+----------+------------+----------+--------------------+\n",
      "|film_id|               title|      original_title|original_language|            overview|release_date|  revenue|  budget|runtime|adult|popularity|vote_average|vote_count|      ingestion_time|\n",
      "+-------+--------------------+--------------------+-----------------+--------------------+------------+---------+--------+-------+-----+----------+------------+----------+--------------------+\n",
      "|      5|          Four Rooms|          Four Rooms|               en|it s ted the bell...|  1995-12-09|  4257354| 4000000|   98.0|false|    16.877|         5.8|      1753|2025-05-14 08:34:...|\n",
      "|     17|            The Dark|            The Dark|               en|ad le and her dau...|  2005-09-28|        0|       0|   87.0|false|     8.127|         5.9|       177|2025-05-14 08:34:...|\n",
      "|     27|             9 Songs|             9 Songs|               en|matt  a young gla...|  2004-05-16|  1574623| 1000000|   66.0|false|     19.09|         5.0|       230|2025-05-14 08:34:...|\n",
      "|     28|      Apocalypse Now|      Apocalypse Now|               en|at the height of ...|  1979-08-15|150000000|31500000|  147.0|false|    27.746|         8.3|      5237|2025-05-14 08:34:...|\n",
      "|     33|          Unforgiven|          Unforgiven|               en|william munny is ...|  1992-08-07|159157447|14000000|  131.0|false|    21.353|         7.9|      2584|2025-05-14 08:34:...|\n",
      "|     63|      Twelve Monkeys|      Twelve Monkeys|               en|in the year      ...|  1995-12-29|168840000|29500000|  129.0|false|    25.176|         7.6|      5515|2025-05-14 08:34:...|\n",
      "|     79|                Hero|                英雄|               zh|one man defeated ...|  2002-07-22|177394432|31000000|   99.0|false|     22.01|         7.5|      1413|2025-05-14 08:34:...|\n",
      "|     88|       Dirty Dancing|       Dirty Dancing|               en|expecting the usu...|  1987-08-21|213893795| 6000000|  100.0|false|    24.466|         7.4|      4206|2025-05-14 08:34:...|\n",
      "|     96|Beverly Hills Cop II|Beverly Hills Cop II|               en|axel heads for th...|  1987-05-18|299965036|28000000|  103.0|false|    12.551|         6.4|      1445|2025-05-14 08:34:...|\n",
      "|    103|         Taxi Driver|         Taxi Driver|               en|a mentally unstab...|  1976-02-09| 28262574| 1300000|  114.0|false|     30.25|         8.2|      7355|2025-05-14 08:34:...|\n",
      "+-------+--------------------+--------------------+-----------------+--------------------+------------+---------+--------+-------+-----+----------+------------+----------+--------------------+\n",
      "only showing top 10 rows\n",
      "\n",
      "None\n"
     ]
    }
   ],
   "source": [
    "absolute_path_to_trusted = r'C:\\Users\\josub\\Desktop\\BDMA\\Barcelona\\Big_Data_Management\\SmallProject\\LetsTalk\\data\\letstalk_trusted_zone_bdma'\n",
    "table_subpath = r'\\movie'\n",
    "df = spark.read.format(\"delta\").load(absolute_path_to_trusted+table_subpath)\n",
    "\n",
    "print(df.show(10))"
   ]
  }
 ],
 "metadata": {
  "kernelspec": {
   "display_name": "Python 3",
   "language": "python",
   "name": "python3"
  },
  "language_info": {
   "codemirror_mode": {
    "name": "ipython",
    "version": 3
   },
   "file_extension": ".py",
   "mimetype": "text/x-python",
   "name": "python",
   "nbconvert_exporter": "python",
   "pygments_lexer": "ipython3",
   "version": "3.11.11"
  }
 },
 "nbformat": 4,
 "nbformat_minor": 5
}
