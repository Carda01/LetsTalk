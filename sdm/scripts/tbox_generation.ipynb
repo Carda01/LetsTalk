{
 "cells": [
  {
   "cell_type": "markdown",
   "id": "a2c1fc5c",
   "metadata": {},
   "source": [
    "# TBOX Generation"
   ]
  },
  {
   "cell_type": "code",
   "execution_count": 1,
   "id": "fa41cb7d",
   "metadata": {},
   "outputs": [],
   "source": [
    "#import rdflib\n",
    "from rdflib import Graph, Namespace, URIRef, Literal\n",
    "from rdflib.namespace import DC, RDF, FOAF, RDFS, XSD #import already in RDFlib integrated namespaces \n",
    "#for visualization\n",
    "from IPython.display import display, Image\n",
    "from rdflib.tools.rdf2dot import rdf2dot\n",
    "from rdflib import Graph, Namespace, RDF, RDFS, URIRef"
   ]
  },
  {
   "cell_type": "markdown",
   "id": "5970781d",
   "metadata": {},
   "source": [
    "We define the namespaces and create the graph:"
   ]
  },
  {
   "cell_type": "code",
   "execution_count": 2,
   "id": "f2a301a1",
   "metadata": {},
   "outputs": [],
   "source": [
    "# For Classes and properties \n",
    "DBO = Namespace(\"http://sdm_upc.org/ontology/\")\n",
    "\n",
    "g = Graph()"
   ]
  },
  {
   "cell_type": "code",
   "execution_count": null,
   "id": "e6fa0cfe",
   "metadata": {},
   "outputs": [
    {
     "data": {
      "text/plain": [
       "<Graph identifier=N8495882c8e874c118a3df56e11098c56 (<class 'rdflib.graph.Graph'>)>"
      ]
     },
     "execution_count": 3,
     "metadata": {},
     "output_type": "execute_result"
    }
   ],
   "source": [
    "g.add((DBO.likes_movie, RDFS.domain, DBO.User))\n",
    "g.add((DBO.likes_movie, RDFS.range, DBO.Movie))\n",
    "\n",
    "g.add((DBO.user_name, RDFS.domain, DBO.User))\n",
    "g.add((DBO.user_name, RDFS.range, XSD.string))\n",
    "\n",
    "g.add((DBO.user_country, RDFS.domain, DBO.User))\n",
    "g.add((DBO.user_country, RDFS.range, DBO.Country))\n",
    "\n",
    "g.add((DBO.country_name, RDFS.domain, DBO.Country))\n",
    "g.add((DBO.country_name, RDFS.range, XSD.string))\n",
    "\n",
    "g.add((DBO.competition_country, RDFS.domain, DBO.Competition))\n",
    "g.add((DBO.competition_country, RDFS.range, DBO.Country))\n",
    "\n",
    "g.add((DBO.competition_name, RDFS.domain, DBO.Competition))\n",
    "g.add((DBO.competition_name, RDFS.range, XSD.string))\n",
    "\n",
    "g.add((DBO.movie_title, RDFS.domain, DBO.Movie))\n",
    "g.add((DBO.movie_title, RDFS.range, XSD.string))\n",
    "\n",
    "g.add((DBO.movie_language, RDFS.domain, DBO.Movie))\n",
    "g.add((DBO.movie_language, RDFS.range, XSD.string))\n",
    "\n",
    "g.add((DBO.movie_release_date, RDFS.domain, DBO.Movie))\n",
    "g.add((DBO.movie_release_date, RDFS.range, XSD.date))\n",
    "\n",
    "g.add((DBO.movie_revenue, RDFS.domain, DBO.Movie))\n",
    "g.add((DBO.movie_revenue, RDFS.range, XSD.integer))\n",
    "\n",
    "g.add((DBO.movie_budget, RDFS.domain, DBO.Movie))\n",
    "g.add((DBO.movie_budget, RDFS.range, XSD.integer))\n",
    "\n",
    "g.add((DBO.movie_runtime, RDFS.domain, DBO.Movie))\n",
    "g.add((DBO.movie_runtime, RDFS.range, XSD.integer))\n",
    "\n",
    "g.add((DBO.movie_adult, RDFS.domain, DBO.Movie))\n",
    "g.add((DBO.movie_adult, RDFS.range, XSD.boolean))\n",
    "\n",
    "g.add((DBO.movie_popularity, RDFS.domain, DBO.Movie))\n",
    "g.add((DBO.movie_popularity, RDFS.range, XSD.long))\n",
    "\n",
    "g.add((DBO.movie_vote_avg, RDFS.domain, DBO.Movie))\n",
    "g.add((DBO.movie_vote_avg, RDFS.range, XSD.long))\n",
    "\n",
    "g.add((DBO.movie_vote_cnt, RDFS.domain, DBO.Movie))\n",
    "g.add((DBO.movie_vote_cnt, RDFS.range, XSD.integer))\n",
    "\n",
    "g.add((DBO.upcoming_movie, RDFS.domain, DBO.Movie))\n",
    "g.add((DBO.upcoming_movie, RDFS.range, XSD.boolean))\n",
    "\n",
    "g.add((DBO.trending_movie, RDFS.domain, DBO.Movie))\n",
    "g.add((DBO.trending_movie, RDFS.range, XSD.boolean))\n",
    "\n",
    "g.add((DBO.now_playing_movie, RDFS.domain, DBO.Movie))\n",
    "g.add((DBO.now_playing_movie, RDFS.range, XSD.boolean))\n",
    "\n",
    "g.add((DBO.has_genre, RDFS.range, DBO.Movie))\n",
    "g.add((DBO.has_genre, RDFS.domain, DBO.Genre))\n",
    "\n",
    "g.add((DBO.genre_name, RDFS.domain, DBO.Genre))\n",
    "g.add((DBO.genre_name, RDFS.range, XSD.string))\n",
    "\n",
    "g.add((DBO.written_by, RDFS.domain, DBO.News))\n",
    "g.add((DBO.written_by, RDFS.range, DBO.Author))\n",
    "\n",
    "g.add((DBO.related_keyword, RDFS.domain, DBO.News))\n",
    "g.add((DBO.related_keyword, RDFS.range, DBO.Keyword))\n",
    "\n",
    "g.add((DBO.keyword_text, RDFS.domain, DBO.Keyword))\n",
    "g.add((DBO.keyword_text, RDFS.range, XSD.string))\n",
    "\n",
    "g.add((DBO.author_name, RDFS.domain, DBO.Author))\n",
    "g.add((DBO.author_name, RDFS.range, XSD.string))\n",
    "\n",
    "g.add((DBO.published_at, RDFS.domain, DBO.News))\n",
    "g.add((DBO.published_at, RDFS.range, DBO.Source))\n",
    "\n",
    "g.add((DBO.source_name, RDFS.domain, DBO.Source))\n",
    "g.add((DBO.source_name, RDFS.range, XSD.string))\n",
    "\n",
    "g.add((DBO.news_title, RDFS.domain, DBO.News))\n",
    "g.add((DBO.news_title, RDFS.range, XSD.string))\n",
    "\n",
    "g.add((DBO.news_date, RDFS.domain, DBO.News))\n",
    "g.add((DBO.news_date, RDFS.range, XSD.dateTime))\n",
    "\n",
    "g.add((DBO.Entertainment_News, RDFS.subClassOf, DBO.News))\n",
    "g.add((DBO.Sports_News, RDFS.subClassOf, DBO.News))\n",
    "g.add((DBO.Tech_News, RDFS.subClassOf, DBO.News))\n",
    "\n",
    "\n",
    "g.add((DBO.User, RDFS.subClassOf, FOAF.Person))\n",
    "g.add((DBO.Author, RDFS.subClassOf, FOAF.Person))\n",
    "g.add((DBO.user_name, RDFS.subPropertyOf, FOAF.name))\n",
    "g.add((DBO.author_name, RDFS.subPropertyOf, FOAF.name))\n",
    "g.add((DBO.League, RDFS.subClassOf, DBO.Competition))\n",
    "g.add((DBO.Cup, RDFS.subClassOf, DBO.Competition))\n",
    "\n",
    "\n",
    "\n",
    "g.serialize(\"../docker-import/tbox.ttl\", format=\"turtle\")\n"
   ]
  }
 ],
 "metadata": {
  "kernelspec": {
   "display_name": "Python 3",
   "language": "python",
   "name": "python3"
  },
  "language_info": {
   "codemirror_mode": {
    "name": "ipython",
    "version": 3
   },
   "file_extension": ".py",
   "mimetype": "text/x-python",
   "name": "python",
   "nbconvert_exporter": "python",
   "pygments_lexer": "ipython3",
   "version": "3.11.11"
  }
 },
 "nbformat": 4,
 "nbformat_minor": 5
}
