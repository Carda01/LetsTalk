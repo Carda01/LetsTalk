{
 "cells": [
  {
   "cell_type": "code",
   "execution_count": 12,
   "id": "b27a3d6d",
   "metadata": {},
   "outputs": [
    {
     "name": "stdout",
     "output_type": "stream",
     "text": [
      "Data imported successfully!\n"
     ]
    }
   ],
   "source": [
    "import requests\n",
    "from pathlib import Path\n",
    "import os\n",
    "import traceback\n",
    "\n",
    "def import_to_graphdb():\n",
    "    try:\n",
    "        # Configuration\n",
    "        GRAPHDB_SERVER = \"http://localhost:7200\"\n",
    "        REPOSITORY_ID = \"letstalk\"\n",
    "        CREDENTIALS = (\"admin\", \"root\")\n",
    "        FILE_FORMAT = \"text/turtle\"\n",
    "\n",
    "        # File path resolution (works in both notebooks and scripts)\n",
    "        current_dir = Path(os.getcwd())  \n",
    "        file_path = current_dir / \"docker-import\" / \"tbox.ttl\"\n",
    "        \n",
    "        # Verify file\n",
    "        if not file_path.exists():\n",
    "            raise FileNotFoundError(f\"File not found at {file_path}\")\n",
    "        if not file_path.is_file():\n",
    "            raise ValueError(f\"Path {file_path} is not a file\")\n",
    "        if file_path.stat().st_size == 0:\n",
    "            raise ValueError(\"File is empty\")\n",
    "\n",
    "        # Read and send\n",
    "        with open(file_path, 'rb') as file:\n",
    "            response = requests.post(\n",
    "                f\"{GRAPHDB_SERVER}/repositories/{REPOSITORY_ID}/statements\",\n",
    "                headers={\"Content-Type\": FILE_FORMAT},\n",
    "                data=file,\n",
    "                auth=CREDENTIALS,\n",
    "                timeout=60\n",
    "            )\n",
    "\n",
    "        if response.status_code == 204:\n",
    "            return \"Data imported successfully!\"\n",
    "        else:\n",
    "            return f\"Error {response.status_code}: {response.text}\"\n",
    "\n",
    "    except Exception as e:\n",
    "        error_msg = [\n",
    "            f\"Error: {type(e).__name__}\",\n",
    "            f\"Message: {str(e)}\",\n",
    "            \"\\nTroubleshooting:\"\n",
    "        ]\n",
    "        \n",
    "        if isinstance(e, FileNotFoundError):\n",
    "            error_msg.extend([\n",
    "                f\"- Check file exists at: {file_path}\",\n",
    "                f\"- Current working directory: {os.getcwd()}\",\n",
    "                \"- For Docker: verify volume mount exists\",\n",
    "                \"- Try running this in a terminal:\",\n",
    "                f\"  ls -l {file_path}\"\n",
    "            ])\n",
    "        elif isinstance(e, requests.exceptions.RequestException):\n",
    "            error_msg.extend([\n",
    "                f\"- Check GraphDB is running at {GRAPHDB_SERVER}\",\n",
    "                \"- For Docker: ensure ports are properly mapped (7200:7200)\",\n",
    "                \"- Try this test:\",\n",
    "                f\"  curl -v http://localhost:7200/rest/repositories\"\n",
    "            ])\n",
    "        \n",
    "        error_msg.append(\"\\nStack trace:\\n\" + traceback.format_exc())\n",
    "        return \"\\n\".join(error_msg)\n",
    "\n",
    "# Run the function\n",
    "print(import_to_graphdb())"
   ]
  }
 ],
 "metadata": {
  "kernelspec": {
   "display_name": "Python 3",
   "language": "python",
   "name": "python3"
  },
  "language_info": {
   "codemirror_mode": {
    "name": "ipython",
    "version": 3
   },
   "file_extension": ".py",
   "mimetype": "text/x-python",
   "name": "python",
   "nbconvert_exporter": "python",
   "pygments_lexer": "ipython3",
   "version": "3.11.11"
  }
 },
 "nbformat": 4,
 "nbformat_minor": 5
}
