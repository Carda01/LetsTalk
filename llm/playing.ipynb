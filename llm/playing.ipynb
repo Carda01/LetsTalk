{
 "cells": [
  {
   "cell_type": "code",
   "id": "14229425",
   "metadata": {
    "ExecuteTime": {
     "end_time": "2025-06-07T17:16:39.790373Z",
     "start_time": "2025-06-07T17:16:30.780655Z"
    }
   },
   "source": [
    "from dotenv import load_dotenv\n",
    "load_dotenv()\n",
    "from transformers import AutoModelForCausalLM, AutoTokenizer\n",
    "import torch\n",
    "\n",
    "model_name = \"TinyLlama/TinyLlama-1.1B-Chat-v1.0\"\n",
    "\n",
    "tokenizer = AutoTokenizer.from_pretrained(model_name)\n",
    "model = AutoModelForCausalLM.from_pretrained(\n",
    "    model_name,\n",
    "    torch_dtype=torch.float16\n",
    ").to(\"cuda\" if torch.cuda.is_available() else \"cpu\")\n"
   ],
   "outputs": [
    {
     "name": "stderr",
     "output_type": "stream",
     "text": [
      "/Users/alfio/python_venv/general/lib/python3.13/site-packages/tqdm/auto.py:21: TqdmWarning: IProgress not found. Please update jupyter and ipywidgets. See https://ipywidgets.readthedocs.io/en/stable/user_install.html\n",
      "  from .autonotebook import tqdm as notebook_tqdm\n"
     ]
    }
   ],
   "execution_count": 1
  },
  {
   "metadata": {
    "ExecuteTime": {
     "end_time": "2025-06-07T17:16:41.957602Z",
     "start_time": "2025-06-07T17:16:39.798529Z"
    }
   },
   "cell_type": "code",
   "source": [
    "from dags.lib.PineconeManager import PineconeManager\n",
    "import os\n",
    "pinecone_key = os.getenv(\"PINECONE_API\")\n",
    "index_name = \"letstalkvector\"\n",
    "namespace = \"letstalk-ns\"\n",
    "\n",
    "pi = PineconeManager(index_name, namespace, pinecone_key)"
   ],
   "id": "45c107cb885f3ed6",
   "outputs": [],
   "execution_count": 2
  },
  {
   "metadata": {
    "ExecuteTime": {
     "end_time": "2025-06-07T17:16:43.436983Z",
     "start_time": "2025-06-07T17:16:42.043289Z"
    }
   },
   "cell_type": "code",
   "source": [
    "interest = \"Apple\"\n",
    "\n",
    "response = pi.query(interest, num_results=1)"
   ],
   "id": "70e2292d351ac2fb",
   "outputs": [],
   "execution_count": 3
  },
  {
   "metadata": {
    "ExecuteTime": {
     "end_time": "2025-06-07T17:17:16.779575Z",
     "start_time": "2025-06-07T17:17:16.777502Z"
    }
   },
   "cell_type": "code",
   "source": "result = response.get(\"result\").get('hits')[0].get('fields').get('text_to_embed')",
   "id": "498035cf317881e4",
   "outputs": [
    {
     "data": {
      "text/plain": [
       "'apple  aapl  usually can count on a positive news cycle around its annual worldwide developers conference  but expectations this year are subdued  and that sentiment is reflected in apple stock actio         chars'"
      ]
     },
     "execution_count": 7,
     "metadata": {},
     "output_type": "execute_result"
    }
   ],
   "execution_count": 7
  },
  {
   "cell_type": "code",
   "id": "63b07216",
   "metadata": {
    "ExecuteTime": {
     "end_time": "2025-05-31T11:29:33.354836Z",
     "start_time": "2025-05-31T11:29:27.962311Z"
    }
   },
   "source": [
    "input_text = f\"\"\"Generate exactly ONE question about the following topic. Do NOT answer it. Make it FUN and INFORMAL. Do not refer directly to what I'm passing you as the user can't see it.\n",
    "Topic: {result}\n",
    "Question:\"\"\"\n",
    "\n",
    "inputs = tokenizer(input_text, return_tensors=\"pt\").to(model.device)\n",
    "\n",
    "outputs = model.generate(\n",
    "    **inputs,\n",
    "    max_new_tokens=40,\n",
    "    do_sample=True,\n",
    "    temperature=0.7,\n",
    "    top_k=40,\n",
    "    top_p=0.9,\n",
    "    num_return_sequences=3,\n",
    "    eos_token_id=tokenizer.eos_token_id,\n",
    "    pad_token_id=tokenizer.eos_token_id,\n",
    "    repetition_penalty=1.2\n",
    ")\n",
    "\n",
    "for i, out in enumerate(outputs):\n",
    "    full_text = tokenizer.decode(out, skip_special_tokens=True)\n",
    "    question = full_text.split(\"Question:\")[-1].split(\"\\n\")[0].split(\"?\")[0].strip()\n",
    "    print(f\"Option {i+1}: {question}?\")"
   ],
   "outputs": [
    {
     "name": "stdout",
     "output_type": "stream",
     "text": [
      "Option 1: Can you summarize the current sentiment towards Apple ahead of their Worldwide Developers Conference?\n",
      "Option 2: Can you summarize the article about Apple's upcoming Worldwide Developers Conference?\n",
      "Option 3: How did Apple's Worldwide Developers Conference (WWDC) perform during last year?\n"
     ]
    }
   ],
   "execution_count": 64
  },
  {
   "metadata": {
    "ExecuteTime": {
     "end_time": "2025-05-31T11:29:34.156963Z",
     "start_time": "2025-05-31T11:29:34.153458Z"
    }
   },
   "cell_type": "code",
   "source": "response",
   "id": "d92e22b8f26f11ee",
   "outputs": [
    {
     "data": {
      "text/plain": [
       "{'result': {'hits': [{'_id': 'https://www.investors.com/news/technology/apple-stock-wwdc-2025-expectations-low/',\n",
       "                      '_score': 0.34259694814682007,\n",
       "                      'fields': {'author': \"PATRICK SEITZ, Investor's Business \"\n",
       "                                           'Daily',\n",
       "                                 'content': 'apple  aapl  usually can count on '\n",
       "                                            'a positive news cycle around its '\n",
       "                                            'annual worldwide developers '\n",
       "                                            'conference  but expectations this '\n",
       "                                            'year are subdued  and that '\n",
       "                                            'sentiment is reflected in apple '\n",
       "                                            'stock actio         chars',\n",
       "                                 'data_source': 'delta_news/technology',\n",
       "                                 'description': 'expectations for apple s '\n",
       "                                                'worldwide developers '\n",
       "                                                'conference are subdued this '\n",
       "                                                'year  and that sentiment is '\n",
       "                                                'reflected in apple stock',\n",
       "                                 'source': \"investor's-business-daily\",\n",
       "                                 'text_to_embed': 'apple  aapl  usually can '\n",
       "                                                  'count on a positive news '\n",
       "                                                  'cycle around its annual '\n",
       "                                                  'worldwide developers '\n",
       "                                                  'conference  but '\n",
       "                                                  'expectations this year are '\n",
       "                                                  'subdued  and that sentiment '\n",
       "                                                  'is reflected in apple stock '\n",
       "                                                  'actio         chars',\n",
       "                                 'title': 'expectations for apple s wwdc '\n",
       "                                          'couldn t be lower   investor s '\n",
       "                                          'business daily',\n",
       "                                 'urlToImage': 'https://www.investors.com/wp-content/uploads/2025/05/Stock-Apple-WWDC24event-01-company.jpg'}}]},\n",
       " 'usage': {'embed_total_tokens': 4, 'read_units': 6}}"
      ]
     },
     "execution_count": 65,
     "metadata": {},
     "output_type": "execute_result"
    }
   ],
   "execution_count": 65
  }
 ],
 "metadata": {
  "kernelspec": {
   "display_name": "base",
   "language": "python",
   "name": "python3"
  },
  "language_info": {
   "codemirror_mode": {
    "name": "ipython",
    "version": 3
   },
   "file_extension": ".py",
   "mimetype": "text/x-python",
   "name": "python",
   "nbconvert_exporter": "python",
   "pygments_lexer": "ipython3",
   "version": "3.12.7"
  }
 },
 "nbformat": 4,
 "nbformat_minor": 5
}
