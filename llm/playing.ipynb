{
 "cells": [
  {
   "cell_type": "code",
   "id": "14229425",
   "metadata": {
    "ExecuteTime": {
     "end_time": "2025-05-31T11:00:58.589783Z",
     "start_time": "2025-05-31T11:00:55.053509Z"
    }
   },
   "source": [
    "from dotenv import load_dotenv\n",
    "load_dotenv()\n",
    "from transformers import AutoModelForCausalLM, AutoTokenizer\n",
    "import torch\n",
    "\n",
    "model_name = \"TinyLlama/TinyLlama-1.1B-Chat-v1.0\"\n",
    "\n",
    "tokenizer = AutoTokenizer.from_pretrained(model_name)\n",
    "model = AutoModelForCausalLM.from_pretrained(\n",
    "    model_name,\n",
    "    torch_dtype=torch.float16\n",
    ").to(\"cuda\" if torch.cuda.is_available() else \"cpu\")\n"
   ],
   "outputs": [],
   "execution_count": 8
  },
  {
   "metadata": {
    "ExecuteTime": {
     "end_time": "2025-05-31T11:01:03.734037Z",
     "start_time": "2025-05-31T11:01:01.267237Z"
    }
   },
   "cell_type": "code",
   "source": [
    "from dags.lib.PineconeManager import PineconeManager\n",
    "import os\n",
    "pinecone_key = os.getenv(\"PINECONE_API\")\n",
    "index_name = \"letstalkvector\"\n",
    "namespace = \"letstalk-ns\"\n",
    "\n",
    "pi = PineconeManager(index_name, namespace, pinecone_key)"
   ],
   "id": "45c107cb885f3ed6",
   "outputs": [],
   "execution_count": 9
  },
  {
   "metadata": {
    "ExecuteTime": {
     "end_time": "2025-05-31T11:11:45.005290Z",
     "start_time": "2025-05-31T11:11:44.617190Z"
    }
   },
   "cell_type": "code",
   "source": [
    "interest = \"\"\n",
    "\n",
    "response = pi.query(interest, num_results=5)"
   ],
   "id": "70e2292d351ac2fb",
   "outputs": [],
   "execution_count": 40
  },
  {
   "cell_type": "code",
   "id": "63b07216",
   "metadata": {
    "ExecuteTime": {
     "end_time": "2025-05-31T11:12:12.743732Z",
     "start_time": "2025-05-31T11:11:49.479761Z"
    }
   },
   "source": [
    "result = response.get('result').get('hits')\n",
    "input_text = f\"\"\"Generate exactly ONE question about the following topic. Do NOT answer it. Make it FUN and INFORMAL.\n",
    "Topic: {result}\n",
    "Question:\"\"\"\n",
    "\n",
    "inputs = tokenizer(input_text, return_tensors=\"pt\").to(model.device)\n",
    "\n",
    "outputs = model.generate(\n",
    "    **inputs,\n",
    "    max_new_tokens=40,\n",
    "    do_sample=True,\n",
    "    temperature=0.7,\n",
    "    top_k=40,\n",
    "    top_p=0.9,\n",
    "    num_return_sequences=3,\n",
    "    eos_token_id=tokenizer.eos_token_id,\n",
    "    pad_token_id=tokenizer.eos_token_id,\n",
    "    repetition_penalty=1.2\n",
    ")\n",
    "\n",
    "for i, out in enumerate(outputs):\n",
    "    full_text = tokenizer.decode(out, skip_special_tokens=True)\n",
    "    question = full_text.split(\"Question:\")[-1].split(\"\\n\")[0].split(\"?\")[0].strip()\n",
    "    print(f\"Option {i+1}: {question}?\")"
   ],
   "outputs": [
    {
     "name": "stdout",
     "output_type": "stream",
     "text": [
      "Option 1: How many questions are there for each topic?\n",
      "Option 2: What does \"Fakiren fra Bilbao\" refer to?\n",
      "Option 3: What was Baia Arena's revenue?\n"
     ]
    }
   ],
   "execution_count": 41
  },
  {
   "metadata": {
    "ExecuteTime": {
     "end_time": "2025-05-31T11:09:40.803372Z",
     "start_time": "2025-05-31T11:09:40.794336Z"
    }
   },
   "cell_type": "code",
   "source": "response",
   "id": "287ee12f8aa1718",
   "outputs": [
    {
     "data": {
      "text/plain": [
       "{'result': {'hits': [{'_id': '73539',\n",
       "                      '_score': 0.24178464710712433,\n",
       "                      'fields': {'adult': False,\n",
       "                                 'budget': 0.0,\n",
       "                                 'genres': 'music',\n",
       "                                 'original_language': 'en',\n",
       "                                 'overview': 'baionarena is a live album and '\n",
       "                                             'dvd release in 2009 by manu chao '\n",
       "                                             'and radio bemba  it was recorded '\n",
       "                                             'during summer 2008 in the arena '\n",
       "                                             'of bayonne during the f tes de '\n",
       "                                             'bayonne  hence the name '\n",
       "                                             'baionarena which also happens to '\n",
       "                                             'mean the one that belongs to '\n",
       "                                             'bayonne in basque',\n",
       "                                 'release_date': '2009-12-07',\n",
       "                                 'revenue': 0.0,\n",
       "                                 'runtime': 143.0,\n",
       "                                 'text_to_embed': 'manu chao   radio bemba  '\n",
       "                                                  'baionarena baionarena is a '\n",
       "                                                  'live album and dvd release '\n",
       "                                                  'in 2009 by manu chao and '\n",
       "                                                  'radio bemba  it was '\n",
       "                                                  'recorded during summer 2008 '\n",
       "                                                  'in the arena of bayonne '\n",
       "                                                  'during the f tes de '\n",
       "                                                  'bayonne  hence the name '\n",
       "                                                  'baionarena which also '\n",
       "                                                  'happens to mean the one '\n",
       "                                                  'that belongs to bayonne in '\n",
       "                                                  'basque music',\n",
       "                                 'title': 'manu chao   radio bemba  baionarena',\n",
       "                                 'vote_average': 4.0,\n",
       "                                 'vote_count': 2.0}}]},\n",
       " 'usage': {'embed_total_tokens': 5, 'read_units': 6}}"
      ]
     },
     "execution_count": 36,
     "metadata": {},
     "output_type": "execute_result"
    }
   ],
   "execution_count": 36
  }
 ],
 "metadata": {
  "kernelspec": {
   "display_name": "base",
   "language": "python",
   "name": "python3"
  },
  "language_info": {
   "codemirror_mode": {
    "name": "ipython",
    "version": 3
   },
   "file_extension": ".py",
   "mimetype": "text/x-python",
   "name": "python",
   "nbconvert_exporter": "python",
   "pygments_lexer": "ipython3",
   "version": "3.12.7"
  }
 },
 "nbformat": 4,
 "nbformat_minor": 5
}
