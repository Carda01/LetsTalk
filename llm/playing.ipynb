{
 "cells": [
  {
   "metadata": {
    "ExecuteTime": {
     "end_time": "2025-06-07T17:25:13.444045Z",
     "start_time": "2025-06-07T17:25:06.282137Z"
    }
   },
   "cell_type": "code",
   "source": [
    "from question_gen import generate_question\n",
    "\n",
    "generate_question([\"Apple\", \"Titanic\"])"
   ],
   "id": "95f3be2329b003c2",
   "outputs": [
    {
     "data": {
      "text/plain": [
       "['Is there any chance for an Apple-related news story to break during WWDC',\n",
       " 'do you think the company will make significant announcements during this week',\n",
       " 'how do expectations for apple’s developer conference compare with previous years',\n",
       " 'how did the tragic events leading up to the disaster unfold',\n",
       " 'Can you provide me with more information about the International Expedition Team that comprises the Titanic Dive Expedition',\n",
       " 'Who were some of the surviving passengers who witnessed the disaster']"
      ]
     },
     "execution_count": 11,
     "metadata": {},
     "output_type": "execute_result"
    }
   ],
   "execution_count": 11
  }
 ],
 "metadata": {
  "kernelspec": {
   "display_name": "base",
   "language": "python",
   "name": "python3"
  },
  "language_info": {
   "codemirror_mode": {
    "name": "ipython",
    "version": 3
   },
   "file_extension": ".py",
   "mimetype": "text/x-python",
   "name": "python",
   "nbconvert_exporter": "python",
   "pygments_lexer": "ipython3",
   "version": "3.12.7"
  }
 },
 "nbformat": 4,
 "nbformat_minor": 5
}
