{
 "cells": [
  {
   "cell_type": "code",
   "execution_count": 26,
   "id": "14229425",
   "metadata": {},
   "outputs": [],
   "source": [
    "from transformers import AutoModelForCausalLM, AutoTokenizer\n",
    "import torch\n",
    "\n",
    "model_name = \"TinyLlama/TinyLlama-1.1B-Chat-v1.0\"  # or \"distilgpt2\"\n",
    "\n",
    "# Load model without device_map\n",
    "tokenizer = AutoTokenizer.from_pretrained(model_name)\n",
    "model = AutoModelForCausalLM.from_pretrained(\n",
    "    model_name,\n",
    "    torch_dtype=torch.float16  # Still keeps 2x speed boost\n",
    ").to(\"cuda\" if torch.cuda.is_available() else \"cpu\")  # Manual device placement\n",
    "\n",
    "\n"
   ]
  },
  {
   "cell_type": "code",
   "execution_count": null,
   "id": "63b07216",
   "metadata": {},
   "outputs": [
    {
     "name": "stdout",
     "output_type": "stream",
     "text": [
      "Option 1: What was the final score?\n",
      "Option 2: \"What did the Manchester fan say after watching their team beat Athletic 3-1 in the second leg?\n",
      "Option 3: What was the score of the match?\n"
     ]
    }
   ],
   "source": [
    "# Input with STRICT instructions\n",
    "input_text = \"\"\"Generate exactly ONE question about the following topic. Do NOT answer it. Make it FUN and INFORMAL.\n",
    "Topic: The person loves soccer, yesterday Manchester won to Athletic Club on the Europa League semifinals.\n",
    "Question:\"\"\"\n",
    "\n",
    "inputs = tokenizer(input_text, return_tensors=\"pt\").to(model.device)\n",
    "\n",
    "# Generate with tight constraints\n",
    "outputs = model.generate(\n",
    "    **inputs,\n",
    "    max_new_tokens=40,  # Strict limit to prevent rambling\n",
    "    do_sample=True,\n",
    "    temperature=0.7,    # Balanced creativity\n",
    "    top_k=40,\n",
    "    top_p=0.9,\n",
    "    num_return_sequences=3,\n",
    "    eos_token_id=tokenizer.eos_token_id,\n",
    "    pad_token_id=tokenizer.eos_token_id,\n",
    "    repetition_penalty=1.2\n",
    ")\n",
    "\n",
    "# Extract JUST the question\n",
    "for i, out in enumerate(outputs):\n",
    "    full_text = tokenizer.decode(out, skip_special_tokens=True)\n",
    "    # Isolate text AFTER \"Question:\" and before any new line\n",
    "    question = full_text.split(\"Question:\")[-1].split(\"\\n\")[0].split(\"?\")[0].strip()\n",
    "    print(f\"Option {i+1}: {question}?\")"
   ]
  }
 ],
 "metadata": {
  "kernelspec": {
   "display_name": "base",
   "language": "python",
   "name": "python3"
  },
  "language_info": {
   "codemirror_mode": {
    "name": "ipython",
    "version": 3
   },
   "file_extension": ".py",
   "mimetype": "text/x-python",
   "name": "python",
   "nbconvert_exporter": "python",
   "pygments_lexer": "ipython3",
   "version": "3.12.7"
  }
 },
 "nbformat": 4,
 "nbformat_minor": 5
}
