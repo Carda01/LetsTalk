{
 "cells": [
  {
   "cell_type": "code",
   "id": "14229425",
   "metadata": {
    "ExecuteTime": {
     "end_time": "2025-05-31T11:00:58.589783Z",
     "start_time": "2025-05-31T11:00:55.053509Z"
    }
   },
   "source": [
    "from dotenv import load_dotenv\n",
    "load_dotenv()\n",
    "from transformers import AutoModelForCausalLM, AutoTokenizer\n",
    "import torch\n",
    "\n",
    "model_name = \"TinyLlama/TinyLlama-1.1B-Chat-v1.0\"\n",
    "\n",
    "tokenizer = AutoTokenizer.from_pretrained(model_name)\n",
    "model = AutoModelForCausalLM.from_pretrained(\n",
    "    model_name,\n",
    "    torch_dtype=torch.float16\n",
    ").to(\"cuda\" if torch.cuda.is_available() else \"cpu\")\n"
   ],
   "outputs": [],
   "execution_count": 8
  },
  {
   "metadata": {
    "ExecuteTime": {
     "end_time": "2025-05-31T11:01:03.734037Z",
     "start_time": "2025-05-31T11:01:01.267237Z"
    }
   },
   "cell_type": "code",
   "source": [
    "from dags.lib.PineconeManager import PineconeManager\n",
    "import os\n",
    "pinecone_key = os.getenv(\"PINECONE_API\")\n",
    "index_name = \"letstalkvector\"\n",
    "namespace = \"letstalk-ns\"\n",
    "\n",
    "pi = PineconeManager(index_name, namespace, pinecone_key)"
   ],
   "id": "45c107cb885f3ed6",
   "outputs": [],
   "execution_count": 9
  },
  {
   "metadata": {
    "ExecuteTime": {
     "end_time": "2025-05-31T11:17:31.686231Z",
     "start_time": "2025-05-31T11:17:31.002038Z"
    }
   },
   "cell_type": "code",
   "source": [
    "interest = \"Catania\"\n",
    "\n",
    "response = pi.query(interest, num_results=1)"
   ],
   "id": "70e2292d351ac2fb",
   "outputs": [],
   "execution_count": 45
  },
  {
   "cell_type": "code",
   "id": "63b07216",
   "metadata": {
    "ExecuteTime": {
     "end_time": "2025-05-31T11:17:37.672209Z",
     "start_time": "2025-05-31T11:17:32.156850Z"
    }
   },
   "source": [
    "result = response.get('result').get('hits')[0].get('fields')\n",
    "input_text = f\"\"\"Generate exactly ONE question about the following topic. Do NOT answer it. Make it FUN and INFORMAL.\n",
    "Topic: {result}\n",
    "Question:\"\"\"\n",
    "\n",
    "inputs = tokenizer(input_text, return_tensors=\"pt\").to(model.device)\n",
    "\n",
    "outputs = model.generate(\n",
    "    **inputs,\n",
    "    max_new_tokens=40,\n",
    "    do_sample=True,\n",
    "    temperature=0.7,\n",
    "    top_k=40,\n",
    "    top_p=0.9,\n",
    "    num_return_sequences=3,\n",
    "    eos_token_id=tokenizer.eos_token_id,\n",
    "    pad_token_id=tokenizer.eos_token_id,\n",
    "    repetition_penalty=1.2\n",
    ")\n",
    "\n",
    "for i, out in enumerate(outputs):\n",
    "    full_text = tokenizer.decode(out, skip_special_tokens=True)\n",
    "    question = full_text.split(\"Question:\")[-1].split(\"\\n\")[0].split(\"?\")[0].strip()\n",
    "    print(f\"Option {i+1}: {question}?\")"
   ],
   "outputs": [
    {
     "name": "stdout",
     "output_type": "stream",
     "text": [
      "Option 1: Can you summarize the plot for Seduction?\n",
      "Option 2: What is the overview for \"Seduction\" according to the text material?\n",
      "Option 3: How does Giuseppes' reunion with Caterina affect their romantic relationship?\n"
     ]
    }
   ],
   "execution_count": 46
  }
 ],
 "metadata": {
  "kernelspec": {
   "display_name": "base",
   "language": "python",
   "name": "python3"
  },
  "language_info": {
   "codemirror_mode": {
    "name": "ipython",
    "version": 3
   },
   "file_extension": ".py",
   "mimetype": "text/x-python",
   "name": "python",
   "nbconvert_exporter": "python",
   "pygments_lexer": "ipython3",
   "version": "3.12.7"
  }
 },
 "nbformat": 4,
 "nbformat_minor": 5
}
